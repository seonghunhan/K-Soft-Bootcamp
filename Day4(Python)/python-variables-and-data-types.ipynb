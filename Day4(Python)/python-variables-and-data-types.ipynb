{
 "cells": [
  {
   "cell_type": "markdown",
   "metadata": {},
   "source": [
    "# Python의 변수 및 자료형 요약\n",
    "![](https://i.imgur.com/6cg2E9Q.png)\n",
    "\n",
    "## Part 2: Python을 사용한 데이터 분석: 0부터 Pandas까지\n",
    "\n",
    "본 튜토리얼 시리즈는 초보자를 위한 Python을 이용한 프로그래밍과 데이터 분석을 소개합니다.   \n",
    "이 튜토리얼은 실용적이고 코딩 중심적인 접근으로 진행됩니다.\n",
    "본 튜토리얼을 효율적으로 학습하는 가장 좋은 방법은 코드를 실행하고 직접 사용해 보는 것입니다.\n"
   ]
  },
  {
   "cell_type": "markdown",
   "metadata": {},
   "source": [
    "해당 튜토리얼에서는 다음 주제를 다룹니다.:\n",
    "\n",
    "- 변수를 사용한 값의 저장\n",
    "- Python에서의 기본 자료형: Integer, Float, Boolean, None and String\n",
    "- Python에서의 기본 자료구조: List, Tuple and Dictionary\n",
    "- 기본 자료형에서 지원되는 메서드 및 연산자"
   ]
  },
  {
   "cell_type": "markdown",
   "metadata": {},
   "source": [
    "## <span style='color:black; background-color:#fff5b1;'>변수를 이용한 정보 저장</span>\n",
    "\n",
    "* 컴퓨터의 2가지 목적에서 유용합니다: 우리가 흔히 데이터라 부르는 정보의 저장과 저장된 데이터를 가지고 연산을 진행하는 것입니다.  \n",
    "* Python과 같은 프로그래밍 언어를 사용할 때, 데이터는 변수들에 저장되어 있습니다. 변수는 데이터를 저장하는 컨테이너라고 생각할 수 있습니다. 변수에 저장되어 있는 데이터를 값이라고 부릅니다.  \n",
    "* 우리가 이전 튜토리얼에서 봤다시피 Python에서 변수를 만드는 것은 매우 간단합니다.\n"
   ]
  },
  {
   "cell_type": "code",
   "execution_count": null,
   "metadata": {},
   "outputs": [],
   "source": [
    "my_favorite_color = \"blue\""
   ]
  },
  {
   "cell_type": "code",
   "execution_count": null,
   "metadata": {},
   "outputs": [],
   "source": [
    "my_favorite_color"
   ]
  },
  {
   "cell_type": "markdown",
   "metadata": {},
   "source": [
    "변수는 할당문을 사용해서 생성할 수 있습니다.  \n",
    "변수 이름, 할당 연산자 '='로 시작하고, 변수 내에 저장될 값을 차례대로 지정합니다.  \n",
    "이 때, 할당 연산자 '='는 동등 비교 연산자 '=='와 다름을 기억해야 합니다.\n",
    "\n",
    "변수 이름과 값을 쉼표로 구분하여 단일 문에서 여러 변수에 값을 할당할 수도 있습니다.\n"
   ]
  },
  {
   "cell_type": "code",
   "execution_count": null,
   "metadata": {},
   "outputs": [],
   "source": [
    "color1, color2, color3 = \"red\", \"green\", \"blue\""
   ]
  },
  {
   "cell_type": "code",
   "execution_count": null,
   "metadata": {},
   "outputs": [],
   "source": [
    "color1"
   ]
  },
  {
   "cell_type": "code",
   "execution_count": null,
   "metadata": {},
   "outputs": [],
   "source": [
    "color2"
   ]
  },
  {
   "cell_type": "code",
   "execution_count": null,
   "metadata": {},
   "outputs": [],
   "source": [
    "color3"
   ]
  },
  {
   "cell_type": "markdown",
   "metadata": {},
   "source": [
    "한번에 여러 연산자를 연결하여, 동일한 값을 여러 변수에 할당 할 수 있습니다."
   ]
  },
  {
   "cell_type": "code",
   "execution_count": null,
   "metadata": {},
   "outputs": [],
   "source": [
    "color4 = color5 = color6 = \"magenta\""
   ]
  },
  {
   "cell_type": "code",
   "execution_count": null,
   "metadata": {},
   "outputs": [],
   "source": [
    "color4"
   ]
  },
  {
   "cell_type": "code",
   "execution_count": null,
   "metadata": {},
   "outputs": [],
   "source": [
    "color5"
   ]
  },
  {
   "cell_type": "code",
   "execution_count": null,
   "metadata": {},
   "outputs": [],
   "source": [
    "color6"
   ]
  },
  {
   "cell_type": "markdown",
   "metadata": {},
   "source": [
    "할당문을 사용하여 기존 변수에 저장된 값을 변경 할 수 있습니다. 변수에 새로운 값을 할당하면 이전 값은 손실되므료 변수값을 변경할 때는 조심해야 합니다."
   ]
  },
  {
   "cell_type": "code",
   "execution_count": null,
   "metadata": {},
   "outputs": [],
   "source": [
    "my_favorite_color = \"red\" # 위쪽 코드 셀에서 my_favorite_color 변수에 \"blue\"를 할당했었음."
   ]
  },
  {
   "cell_type": "code",
   "execution_count": null,
   "metadata": {},
   "outputs": [],
   "source": [
    "my_favorite_color"
   ]
  },
  {
   "cell_type": "markdown",
   "metadata": {},
   "source": [
    "변수에 새로운 값을 다시 할당할 때, 변수에 이미 저장된 값을 사용하여 새로운 값을 계산할 수 있습니다.  \n",
    "아래 예제를 보면 쉽게 이해할 수 있습니다."
   ]
  },
  {
   "cell_type": "code",
   "execution_count": null,
   "metadata": {},
   "outputs": [],
   "source": [
    "counter = 10"
   ]
  },
  {
   "cell_type": "code",
   "execution_count": null,
   "metadata": {},
   "outputs": [],
   "source": [
    "counter = counter + 1"
   ]
  },
  {
   "cell_type": "code",
   "execution_count": null,
   "metadata": {},
   "outputs": [],
   "source": [
    "counter"
   ]
  },
  {
   "cell_type": "markdown",
   "metadata": {},
   "source": [
    "일반적으로 기존에 저장된 값의 연산을 진행하여 값을 변경할 때 `var = var op something` ( `op`는 `+`, `-`, `*`, `/` 와 같은 산술 연산자를 의미합니다.) 와 같은 형식이 일반적이므로  \n",
    "이것을 간편하게 하기위하여, Python에서는 대입연산자라는 것을 제공합니다."
   ]
  },
  {
   "cell_type": "code",
   "execution_count": null,
   "metadata": {},
   "outputs": [],
   "source": [
    "counter = 10"
   ]
  },
  {
   "cell_type": "code",
   "execution_count": null,
   "metadata": {},
   "outputs": [],
   "source": [
    "# Same as `counter = counter + 4`\n",
    "counter += 4"
   ]
  },
  {
   "cell_type": "code",
   "execution_count": null,
   "metadata": {},
   "outputs": [],
   "source": [
    "counter"
   ]
  },
  {
   "cell_type": "markdown",
   "metadata": {},
   "source": [
    "변수의 이름은 짧거나(`a`, `x`, `y`), 서술적( `my_favorite_color`, `profit_margin`, `the_3_musketeers`)일 수 있지만, Python 변수명을 정할 때는 아래의 반드시 규칙을 따라야 합니다.\n",
    "\n",
    "* 변수명은 무조건 문자 혹은 `_`로 시작해야합니다. 숫자로 시작할 수 없습니다.\n",
    "* 변수명은 반드시 소문자,대문자, 숫자, `_` 만 가질 수 있습니다. (`a`-`z`, `A`-`Z`, `0`-`9`, and `_`).\n",
    "* 변수명은 대소문자가 구별됩니다. `a_variable`, `A_Variable`, and `A_VARIABLE` 이 3가지 모두 다른 변수입니다.\n",
    "\n",
    "아래는 유효한 이름의 변수명 입니다."
   ]
  },
  {
   "cell_type": "code",
   "execution_count": null,
   "metadata": {},
   "outputs": [],
   "source": [
    "a_variable = 23\n",
    "is_today_Saturday = False\n",
    "my_favorite_car = \"Delorean\"\n",
    "the_3_musketeers = [\"Athos\", \"Porthos\", \"Aramis\"] "
   ]
  },
  {
   "cell_type": "markdown",
   "metadata": {},
   "source": [
    "다음은 적합하지 않은 변수명이다. 만약 변수명이 적합하지 않을 경우, Python 에서 syntax error를 출력 할 것 이다. \n",
    "\n",
    "> **Syntax**: 프로그래밍 언어의 구문은 유효한 명령 또는 문법이 있습니다. 문법이 잘못 된 경우 Python은 실행을 중단하고 *sytax error*를 출력합니다. "
   ]
  },
  {
   "cell_type": "code",
   "execution_count": null,
   "metadata": {},
   "outputs": [],
   "source": [
    "a variable = 23"
   ]
  },
  {
   "cell_type": "code",
   "execution_count": null,
   "metadata": {},
   "outputs": [],
   "source": [
    "is_today_$aturday = False"
   ]
  },
  {
   "cell_type": "code",
   "execution_count": null,
   "metadata": {},
   "outputs": [],
   "source": [
    "my-favorite-car = \"Delorean\""
   ]
  },
  {
   "cell_type": "code",
   "execution_count": null,
   "metadata": {},
   "outputs": [],
   "source": [
    "3_musketeers = [\"Athos\", \"Porthos\", \"Aramis\"]"
   ]
  },
  {
   "cell_type": "markdown",
   "metadata": {},
   "source": [
    "## <span style='color:black; background-color:#fff5b1;'>Python의 기본 자료형</span>\n",
    "\n",
    "\n",
    "모든 Python 변수들은 자료형을 가집니다. 당신은 변수의 저장된 데이터의 자료형을 `type` 메서드를 통하여 알 수 있습니다. "
   ]
  },
  {
   "cell_type": "code",
   "execution_count": null,
   "metadata": {},
   "outputs": [],
   "source": [
    "a_variable"
   ]
  },
  {
   "cell_type": "code",
   "execution_count": null,
   "metadata": {},
   "outputs": [],
   "source": [
    "type(a_variable)"
   ]
  },
  {
   "cell_type": "code",
   "execution_count": null,
   "metadata": {},
   "outputs": [],
   "source": [
    "is_today_Saturday"
   ]
  },
  {
   "cell_type": "code",
   "execution_count": null,
   "metadata": {},
   "outputs": [],
   "source": [
    "type(is_today_Saturday)"
   ]
  },
  {
   "cell_type": "code",
   "execution_count": null,
   "metadata": {},
   "outputs": [],
   "source": [
    "my_favorite_car"
   ]
  },
  {
   "cell_type": "code",
   "execution_count": null,
   "metadata": {},
   "outputs": [],
   "source": [
    "type(my_favorite_car)"
   ]
  },
  {
   "cell_type": "code",
   "execution_count": null,
   "metadata": {},
   "outputs": [],
   "source": [
    "the_3_musketeers"
   ]
  },
  {
   "cell_type": "code",
   "execution_count": null,
   "metadata": {},
   "outputs": [],
   "source": [
    "type(the_3_musketeers)"
   ]
  },
  {
   "cell_type": "markdown",
   "metadata": {},
   "source": [
    "Python은 서로 다른 종류의 데이터를 변수에 저장하는 기본 자료형이 있습니다. 다음은 자주 사용되는 자료형들입니다.\n",
    "\n",
    "1. Integer\n",
    "2. Float\n",
    "3. Boolean\n",
    "4. None\n",
    "5. String\n",
    "6. List\n",
    "7. Tuple\n",
    "8. Dictionary\n",
    "\n",
    "Integer, float, boolean, None,string 같이 단일 데이터를 저장하는 자료형을 *primitive data types* 라고 합니다.  \n",
    "list, tuple, and dictionary 와 같이 여러개의 데이터를 저장할 수 있는 자료형들을 *data structure* 혹은 *container* 라고 부릅니다."
   ]
  },
  {
   "cell_type": "markdown",
   "metadata": {},
   "source": [
    "### <span style='color:black; background-color:#dcffe4;'>Integer</span>\n",
    "\n",
    "Integer는 -inf(음의 무한대)에서 +inf(무한대) 영역에서의 양의 정수와 음의 정수를 의미합니다.  \n",
    "정수에는 소수점이 포함되지 않아야 하며, Integer는 `int` 타입을 가집니다.\n"
   ]
  },
  {
   "cell_type": "code",
   "execution_count": null,
   "metadata": {},
   "outputs": [],
   "source": [
    "current_year = 2020"
   ]
  },
  {
   "cell_type": "code",
   "execution_count": null,
   "metadata": {},
   "outputs": [],
   "source": [
    "current_year"
   ]
  },
  {
   "cell_type": "code",
   "execution_count": null,
   "metadata": {},
   "outputs": [],
   "source": [
    "type(current_year)"
   ]
  },
  {
   "cell_type": "markdown",
   "metadata": {},
   "source": [
    " 다른 프로그래밍 언어와 다르게, Python에서 integer형이 `int`한개 뿐이고 값의 상한선이 없어 임의로 커지거나 작아질 수 있습니다.  \n",
    "\n",
    " (C/C++/Java는 `short`, `int`, `long`, `long long`, `unsigned int` 같이 여러개의 실수형을 가집니다.)"
   ]
  },
  {
   "cell_type": "code",
   "execution_count": null,
   "metadata": {},
   "outputs": [],
   "source": [
    "a_large_negative_number = -23374038374832934334234317348343"
   ]
  },
  {
   "cell_type": "code",
   "execution_count": null,
   "metadata": {},
   "outputs": [],
   "source": [
    "a_large_negative_number"
   ]
  },
  {
   "cell_type": "code",
   "execution_count": null,
   "metadata": {},
   "outputs": [],
   "source": [
    "type(a_large_negative_number)"
   ]
  },
  {
   "cell_type": "markdown",
   "metadata": {},
   "source": [
    "### <span style='color:black; background-color:#dcffe4;'>Float</span>\n",
    "\n",
    "Floats (부동소수점 수)소수점이 있는 수를 나타냅니다. 소수점 위,아래로 제한이 없으며, 부동소수점 수는 `float`타입을 가집니다."
   ]
  },
  {
   "cell_type": "code",
   "execution_count": null,
   "metadata": {},
   "outputs": [],
   "source": [
    "pi = 3.141592653589793238"
   ]
  },
  {
   "cell_type": "code",
   "execution_count": null,
   "metadata": {},
   "outputs": [],
   "source": [
    "pi"
   ]
  },
  {
   "cell_type": "code",
   "execution_count": null,
   "metadata": {},
   "outputs": [],
   "source": [
    "type(pi)"
   ]
  },
  {
   "cell_type": "markdown",
   "metadata": {},
   "source": [
    "숫자의 소수점 부분이 0인 경우에도, 소수점을 적을 경우 정수는 float로 처리됩니다.  \n",
    "아래 예시를 보면 잘 이해할 수 있을 것입니다."
   ]
  },
  {
   "cell_type": "code",
   "execution_count": null,
   "metadata": {},
   "outputs": [],
   "source": [
    "a_number = 3.0"
   ]
  },
  {
   "cell_type": "code",
   "execution_count": null,
   "metadata": {},
   "outputs": [],
   "source": [
    "a_number"
   ]
  },
  {
   "cell_type": "code",
   "execution_count": null,
   "metadata": {},
   "outputs": [],
   "source": [
    "type(a_number)"
   ]
  },
  {
   "cell_type": "code",
   "execution_count": null,
   "metadata": {},
   "outputs": [],
   "source": [
    "another_number = 4."
   ]
  },
  {
   "cell_type": "code",
   "execution_count": null,
   "metadata": {},
   "outputs": [],
   "source": [
    "another_number"
   ]
  },
  {
   "cell_type": "code",
   "execution_count": null,
   "metadata": {},
   "outputs": [],
   "source": [
    "type(another_number)"
   ]
  },
  {
   "cell_type": "markdown",
   "metadata": {},
   "source": [
    "부동소수점 수는 10의 거듭제곱을 나타내기 위헤 \"e\"와 함께 과학적 표기법을 사용하여 쓸 수도 있습니다.\n"
   ]
  },
  {
   "cell_type": "code",
   "execution_count": null,
   "metadata": {},
   "outputs": [],
   "source": [
    "one_hundredth = 1e-2"
   ]
  },
  {
   "cell_type": "code",
   "execution_count": null,
   "metadata": {},
   "outputs": [],
   "source": [
    "one_hundredth"
   ]
  },
  {
   "cell_type": "code",
   "execution_count": null,
   "metadata": {},
   "outputs": [],
   "source": [
    "type(one_hundredth)"
   ]
  },
  {
   "cell_type": "code",
   "execution_count": null,
   "metadata": {},
   "outputs": [],
   "source": [
    "avogadro_number = 6.02214076e23"
   ]
  },
  {
   "cell_type": "code",
   "execution_count": null,
   "metadata": {},
   "outputs": [],
   "source": [
    "avogadro_number"
   ]
  },
  {
   "cell_type": "code",
   "execution_count": null,
   "metadata": {},
   "outputs": [],
   "source": [
    "type(avogadro_number)"
   ]
  },
  {
   "cell_type": "markdown",
   "metadata": {},
   "source": [
    "아래와 같이 float에서 integer 혹은 그 역으로 자료형(데이터 타입)을 바꿀 수 있습니다. 이러한 과정을 **형변환(Casting)** 이라고 합니다."
   ]
  },
  {
   "cell_type": "code",
   "execution_count": null,
   "metadata": {},
   "outputs": [],
   "source": [
    "float(current_year)"
   ]
  },
  {
   "cell_type": "code",
   "execution_count": null,
   "metadata": {},
   "outputs": [],
   "source": [
    "float(a_large_negative_number)"
   ]
  },
  {
   "cell_type": "code",
   "execution_count": null,
   "metadata": {},
   "outputs": [],
   "source": [
    "int(pi)"
   ]
  },
  {
   "cell_type": "code",
   "execution_count": null,
   "metadata": {},
   "outputs": [],
   "source": [
    "int(avogadro_number)"
   ]
  },
  {
   "cell_type": "markdown",
   "metadata": {},
   "source": [
    "산술 연산을 수행하는 동안, 피연산자가 부동소수일 경우 즉, 'float'일 경우 정수는 자동으로 'float'로 변환됩니다.  \n",
    "또한 나눗셈 연산자 '/'는 두 피연산자가 모두 정수일지라도 항상 'float'를 반환합니다.  \n",
    "나눗셈 결과, 즉 반환값을 'int'로 만드려면, '//' 연산자를 사용하여 몫을 취하면 됩니다.\n"
   ]
  },
  {
   "cell_type": "code",
   "execution_count": null,
   "metadata": {},
   "outputs": [],
   "source": [
    "type(45 * 3.0)"
   ]
  },
  {
   "cell_type": "code",
   "execution_count": null,
   "metadata": {},
   "outputs": [],
   "source": [
    "type(45 * 3)"
   ]
  },
  {
   "cell_type": "code",
   "execution_count": null,
   "metadata": {},
   "outputs": [],
   "source": [
    "type(10/3)"
   ]
  },
  {
   "cell_type": "code",
   "execution_count": null,
   "metadata": {},
   "outputs": [],
   "source": [
    "type(10/2)"
   ]
  },
  {
   "cell_type": "code",
   "execution_count": null,
   "metadata": {},
   "outputs": [],
   "source": [
    "type(10//2)"
   ]
  },
  {
   "cell_type": "markdown",
   "metadata": {},
   "source": [
    "### <span style='color:black; background-color:#dcffe4;'>Boolean</span>\n",
    "\n",
    "Boolean는  `True` 와 `False` 2가지 값만 가진다. Boolean은 `bool`타입을 가진다."
   ]
  },
  {
   "cell_type": "code",
   "execution_count": null,
   "metadata": {},
   "outputs": [],
   "source": [
    "is_today_Sunday = True"
   ]
  },
  {
   "cell_type": "code",
   "execution_count": null,
   "metadata": {},
   "outputs": [],
   "source": [
    "is_today_Sunday"
   ]
  },
  {
   "cell_type": "code",
   "execution_count": null,
   "metadata": {},
   "outputs": [],
   "source": [
    "type(is_today_Saturday)"
   ]
  },
  {
   "cell_type": "markdown",
   "metadata": {},
   "source": [
    "Boolean은 일반적으로 비교연산자의 결과로 사용됩니다. (`==`, `>=` 등)"
   ]
  },
  {
   "cell_type": "code",
   "execution_count": null,
   "metadata": {},
   "outputs": [],
   "source": [
    "cost_of_ice_bag = 1.25\n",
    "is_ice_bag_expensive = cost_of_ice_bag >= 10"
   ]
  },
  {
   "cell_type": "code",
   "execution_count": null,
   "metadata": {},
   "outputs": [],
   "source": [
    "is_ice_bag_expensive"
   ]
  },
  {
   "cell_type": "code",
   "execution_count": null,
   "metadata": {},
   "outputs": [],
   "source": [
    "type(is_ice_bag_expensive)"
   ]
  },
  {
   "cell_type": "markdown",
   "metadata": {},
   "source": [
    "Boolean은 산술연산에 사용될 때, 자동으로 `int`형으로 변환됩니다. `True`는 1, `False`는 0 으로 변환됩니다."
   ]
  },
  {
   "cell_type": "code",
   "execution_count": null,
   "metadata": {},
   "outputs": [],
   "source": [
    "5 + False"
   ]
  },
  {
   "cell_type": "code",
   "execution_count": null,
   "metadata": {},
   "outputs": [],
   "source": [
    "3. + True"
   ]
  },
  {
   "cell_type": "markdown",
   "metadata": {},
   "source": [
    "\n",
    "`bool` 메서드를 통해 Python에서 모든 값들은 Boolean으로 변환될 수 있습니다.\n",
    "\n",
    "다음은 `False`로 변환되는 값들이다. (*falsy* 값이라고 불린다.):\n",
    "\n",
    "1. `False` \n",
    "2. integer `0`\n",
    "3. float `0.0`\n",
    "4. 빈 값 `None`\n",
    "5. 빈 문자열 `\"\"`\n",
    "6. 빈 리스트 `[]`\n",
    "7. 빈 튜플 `()`\n",
    "8. 빈 딕셔너리 `{}`\n",
    "9. 빈 셋 `set()`\n",
    "10. 범위 0 `range(0)`\n",
    "\n",
    "나머지는 `True`로 표현된다.(이런식으로 `True` 표현되는 값들을 *truthy* 값이라고 한다.)"
   ]
  },
  {
   "cell_type": "code",
   "execution_count": null,
   "metadata": {},
   "outputs": [],
   "source": [
    "bool(False)"
   ]
  },
  {
   "cell_type": "code",
   "execution_count": null,
   "metadata": {},
   "outputs": [],
   "source": [
    "bool(0)"
   ]
  },
  {
   "cell_type": "code",
   "execution_count": null,
   "metadata": {},
   "outputs": [],
   "source": [
    "bool(0.0)"
   ]
  },
  {
   "cell_type": "code",
   "execution_count": null,
   "metadata": {},
   "outputs": [],
   "source": [
    "bool(None)"
   ]
  },
  {
   "cell_type": "code",
   "execution_count": null,
   "metadata": {},
   "outputs": [],
   "source": [
    "bool(\"\")"
   ]
  },
  {
   "cell_type": "code",
   "execution_count": null,
   "metadata": {},
   "outputs": [],
   "source": [
    "bool([])"
   ]
  },
  {
   "cell_type": "code",
   "execution_count": null,
   "metadata": {},
   "outputs": [],
   "source": [
    "bool(())"
   ]
  },
  {
   "cell_type": "code",
   "execution_count": null,
   "metadata": {},
   "outputs": [],
   "source": [
    "bool({})"
   ]
  },
  {
   "cell_type": "code",
   "execution_count": null,
   "metadata": {},
   "outputs": [],
   "source": [
    "bool(set())"
   ]
  },
  {
   "cell_type": "code",
   "execution_count": null,
   "metadata": {},
   "outputs": [],
   "source": [
    "bool(range(0))"
   ]
  },
  {
   "cell_type": "code",
   "execution_count": null,
   "metadata": {},
   "outputs": [],
   "source": [
    "bool(True), bool(1), bool(2.0), bool(\"hello\"), bool([1,2]), bool((2,3)), bool(range(10))"
   ]
  },
  {
   "cell_type": "markdown",
   "metadata": {},
   "source": [
    "### <span style='color:black; background-color:#dcffe4;'>None</span>\n",
    "\n",
    "<!--The None type includes a single value `None`, used to indicate the absence of a value. `None` has the type `NoneType`. It is often used to declare a variable whose value may be assigned later.-->\n",
    "\n",
    "비어있는 값을 의미하는 `None`값만을 단일로 가진 변수의 타입을 None 타입이라고 합니다. 나중에 값을 할당할 수 있는 변수를 미리 선언할때 자주 사용됩니다."
   ]
  },
  {
   "cell_type": "code",
   "execution_count": null,
   "metadata": {},
   "outputs": [],
   "source": [
    "nothing = None"
   ]
  },
  {
   "cell_type": "code",
   "execution_count": null,
   "metadata": {},
   "outputs": [],
   "source": [
    "type(nothing)"
   ]
  },
  {
   "cell_type": "markdown",
   "metadata": {},
   "source": [
    "### <span style='color:black; background-color:#dcffe4;'>String</span>\n",
    "String은 텍스트를 표현할 때 사용됩니다. String `'` 혹은 `\"`으로 감싸져있습니다. String은 `string` 타입을 가집니다.\n"
   ]
  },
  {
   "cell_type": "code",
   "execution_count": null,
   "metadata": {},
   "outputs": [],
   "source": [
    "today = \"Saturday\""
   ]
  },
  {
   "cell_type": "code",
   "execution_count": null,
   "metadata": {},
   "outputs": [],
   "source": [
    "today"
   ]
  },
  {
   "cell_type": "code",
   "execution_count": null,
   "metadata": {},
   "outputs": [],
   "source": [
    "type(today)"
   ]
  },
  {
   "cell_type": "markdown",
   "metadata": {},
   "source": [
    "`\"\"` 안에  `''`을 포함시킬 수 있습니다."
   ]
  },
  {
   "cell_type": "code",
   "execution_count": null,
   "metadata": {},
   "outputs": [],
   "source": [
    "my_favorite_movie = \"One Flew over the Cuckoo's Nest\" "
   ]
  },
  {
   "cell_type": "code",
   "execution_count": null,
   "metadata": {},
   "outputs": [],
   "source": [
    "my_favorite_movie"
   ]
  },
  {
   "cell_type": "code",
   "execution_count": null,
   "metadata": {},
   "outputs": [],
   "source": [
    "my_favorite_pun = 'Thanks for explaining the word \"many\" to me, it means a lot.'"
   ]
  },
  {
   "cell_type": "code",
   "execution_count": null,
   "metadata": {},
   "outputs": [],
   "source": [
    "my_favorite_pun"
   ]
  },
  {
   "cell_type": "markdown",
   "metadata": {},
   "source": [
    " `\\`을 사용하여 `\"\"`안에서 `\"\"`을 표현할 수 있습니다."
   ]
  },
  {
   "cell_type": "code",
   "execution_count": null,
   "metadata": {},
   "outputs": [],
   "source": [
    "another_pun = \"The first time I got a universal remote control, I thought to myself \\\"This changes everything\\\".\""
   ]
  },
  {
   "cell_type": "code",
   "execution_count": null,
   "metadata": {},
   "outputs": [],
   "source": [
    "another_pun"
   ]
  },
  {
   "cell_type": "markdown",
   "metadata": {},
   "source": [
    "\n",
    " `'''` 혹은 `\"\"\"` 을 이용하여, 단일 라인이 아닌 다중 라인에 걸쳐 문자열을 받을 수 있습니다."
   ]
  },
  {
   "cell_type": "code",
   "execution_count": null,
   "metadata": {},
   "outputs": [],
   "source": [
    "yet_another_pun = '''Son: \"Dad, can you tell me what a solar eclipse is?\" \n",
    "Dad: \"No sun.\"'''"
   ]
  },
  {
   "cell_type": "code",
   "execution_count": null,
   "metadata": {},
   "outputs": [],
   "source": [
    "yet_another_pun"
   ]
  },
  {
   "cell_type": "markdown",
   "metadata": {},
   "source": [
    "다중 라인의 문자열 `print`함수를 사용할 때 유용합니다."
   ]
  },
  {
   "cell_type": "code",
   "execution_count": null,
   "metadata": {},
   "outputs": [],
   "source": [
    "print(yet_another_pun)"
   ]
  },
  {
   "cell_type": "code",
   "execution_count": null,
   "metadata": {},
   "outputs": [],
   "source": [
    "a_music_pun = \"\"\"\n",
    "Two windmills are standing in a field and one asks the other, \n",
    "\"What kind of music do you like?\"  \n",
    "\n",
    "The other says, \n",
    "\"I'm a big metal fan.\"\n",
    "\"\"\""
   ]
  },
  {
   "cell_type": "code",
   "execution_count": null,
   "metadata": {},
   "outputs": [],
   "source": [
    "print(a_music_pun)"
   ]
  },
  {
   "cell_type": "markdown",
   "metadata": {},
   "source": [
    "`len` 함수를 통하여 문자열의 길이를 알 수 있다."
   ]
  },
  {
   "cell_type": "code",
   "execution_count": null,
   "metadata": {},
   "outputs": [],
   "source": [
    "len(my_favorite_movie)"
   ]
  },
  {
   "cell_type": "markdown",
   "metadata": {},
   "source": [
    "`\\n`(줄바꿈)을 하여 길이가 2인 문자열로 보일지라도. 한개의 1개의 char형입니다."
   ]
  },
  {
   "cell_type": "code",
   "execution_count": null,
   "metadata": {},
   "outputs": [],
   "source": [
    "multiline_string = \"\"\"a\n",
    "b\"\"\"\n",
    "multiline_string"
   ]
  },
  {
   "cell_type": "code",
   "execution_count": null,
   "metadata": {},
   "outputs": [],
   "source": [
    "len(multiline_string)"
   ]
  },
  {
   "cell_type": "markdown",
   "metadata": {},
   "source": [
    "\n",
    "문자열은 `list` 메서드를 사용하여 문자 목록으로 변환할 수 있습니다."
   ]
  },
  {
   "cell_type": "code",
   "execution_count": null,
   "metadata": {},
   "outputs": [],
   "source": [
    "list(multiline_string)"
   ]
  },
  {
   "cell_type": "markdown",
   "metadata": {},
   "source": [
    "문자열은 다음 섹션에서 설명하는 여러가지 작업을 지원합니다.\n",
    "`[]` 를 사용하여 문자열 내의 개별문자에 접근할 수 있습니다. 접근할수 있는 값은 `0`~`n-1`로 여기서 `n`은 문자열의 길이를 의미합니다.  \n",
    "\n",
    "참고로 접근할 수 있는 값에 대해 부연설명 하자면, Index는 1이 아닌 0부터 시작하므로 0~n-1의 값이 도출된 것입니다.\n",
    "\n",
    "예시로 길이가 3인 문자열인 abc가 있다고 가정했을 때,  \n",
    "[0] a  \n",
    "[1] b  \n",
    "[2] c  \n",
    "처럼 저장되어 길이는 3이지만 접근할 수 있는 값은 0~2인 것으로 이해하면 쉬울 것입니다. \n"
   ]
  },
  {
   "cell_type": "code",
   "execution_count": null,
   "metadata": {},
   "outputs": [],
   "source": [
    "today = \"Saturday\""
   ]
  },
  {
   "cell_type": "code",
   "execution_count": null,
   "metadata": {},
   "outputs": [],
   "source": [
    "today[0]"
   ]
  },
  {
   "cell_type": "code",
   "execution_count": null,
   "metadata": {},
   "outputs": [],
   "source": [
    "today[3]"
   ]
  },
  {
   "cell_type": "code",
   "execution_count": null,
   "metadata": {},
   "outputs": [],
   "source": [
    "today[7]"
   ]
  },
  {
   "cell_type": "markdown",
   "metadata": {},
   "source": [
    "`[]` 에서 단일 인덱스 대신 `start:end` 범위값을 넣어 문자열의 일부에 접근할 수 있습니다.  \n",
    "이 때, start 인덱스 값은 포함되지만, end 인덱스 값은 포함되지 않으므로 5:8로 지정하면 5~7 인덱스의 값이 선택됩니다.  \n",
    "아래 예제에서 확인할 수 있습니다."
   ]
  },
  {
   "cell_type": "code",
   "execution_count": null,
   "metadata": {},
   "outputs": [],
   "source": [
    "today[5:8]"
   ]
  },
  {
   "cell_type": "markdown",
   "metadata": {},
   "source": [
    "`in` 연산자를 사용하여 문자열에 특정 문자열이 포함되어 있는 여부를 확인 할 수 있습니다."
   ]
  },
  {
   "cell_type": "code",
   "execution_count": null,
   "metadata": {},
   "outputs": [],
   "source": [
    "'day' in today"
   ]
  },
  {
   "cell_type": "code",
   "execution_count": null,
   "metadata": {},
   "outputs": [],
   "source": [
    "'Sun' in today"
   ]
  },
  {
   "cell_type": "markdown",
   "metadata": {},
   "source": [
    "`+` 연산자를 사용하여 복수의 문자열을 결합할 수 있습니다. 문자열을 연결할 때 주의점은 단어 사이에 공백문자를 `\" \"`를 추가 해야 할 수 있습니다."
   ]
  },
  {
   "cell_type": "code",
   "execution_count": null,
   "metadata": {},
   "outputs": [],
   "source": [
    "full_name = \"Derek O'Brien\""
   ]
  },
  {
   "cell_type": "code",
   "execution_count": null,
   "metadata": {},
   "outputs": [],
   "source": [
    "greeting = \"Hello\""
   ]
  },
  {
   "cell_type": "code",
   "execution_count": null,
   "metadata": {},
   "outputs": [],
   "source": [
    "greeting + full_name"
   ]
  },
  {
   "cell_type": "code",
   "execution_count": null,
   "metadata": {},
   "outputs": [],
   "source": [
    "greeting + \" \" + full_name + \"!\" # 공백 추가"
   ]
  },
  {
   "cell_type": "markdown",
   "metadata": {},
   "source": [
    "\n",
    "Python 문자열에는 문자열 조작에 사용되는 **Methods(메서드)** 가 내장되어 있습니다. 일반적인 문자열 메서드 몇 가지를 사용해 보겠습니다.\n",
    "\n",
    "> **Methods**: 데이터 유형과 관련된 함수이며, `.`을 이용하여 `variable_name.method()` 혹은 `\"a string\".method()` 같은 표기법을 통해 접근할 수 있다. \n",
    "\n",
    "`.lower()`, `.upper()` , `.capitalize()` 메서드는 문자의 대/소문자를 변경하는데 사용됩니다."
   ]
  },
  {
   "cell_type": "code",
   "execution_count": null,
   "metadata": {},
   "outputs": [],
   "source": [
    "today.lower()"
   ]
  },
  {
   "cell_type": "code",
   "execution_count": null,
   "metadata": {},
   "outputs": [],
   "source": [
    "\"saturday\".upper() # today.upper()도 가능"
   ]
  },
  {
   "cell_type": "code",
   "execution_count": null,
   "metadata": {},
   "outputs": [],
   "source": [
    "\"monday\".capitalize() # 첫 번째 문자를 대문자로 변경"
   ]
  },
  {
   "cell_type": "markdown",
   "metadata": {},
   "source": [
    "`.replace`메서드는 문자열의 일부를 다른 문자열로 대체합니다. 대체될 문자열과 대체할 문자열을 **input** 또는 **args** 로 사용합니다."
   ]
  },
  {
   "cell_type": "code",
   "execution_count": null,
   "metadata": {},
   "outputs": [],
   "source": [
    "another_day = today.replace(\"Satur\", \"Wednes\") # replace(\"대체될 문자열\",\"대체할 문자열\")"
   ]
  },
  {
   "cell_type": "code",
   "execution_count": null,
   "metadata": {},
   "outputs": [],
   "source": [
    "another_day"
   ]
  },
  {
   "cell_type": "markdown",
   "metadata": {},
   "source": [
    "`replace`는 새 문자열을 반환하며 원래 문자열은 수정되지 않습니다."
   ]
  },
  {
   "cell_type": "code",
   "execution_count": null,
   "metadata": {},
   "outputs": [],
   "source": [
    "today"
   ]
  },
  {
   "cell_type": "markdown",
   "metadata": {},
   "source": [
    "`.split` 메서드는 지정한 문자가 읽힐 때마다 문자열을 문자열 list 로 분할합니다.  \n",
    "아래의 경우, \",\"가 읽히는 것이 주어진 규칙입니다. 주어진 규칙에 따라 문자열을 쪼개서 list로 만들어주는 역할이라고 이해하면 쉬울 것입니다."
   ]
  },
  {
   "cell_type": "code",
   "execution_count": null,
   "metadata": {},
   "outputs": [],
   "source": [
    "\"Sun,Mon,Tue,Wed,Thu,Fri,Sat\".split(\",\")"
   ]
  },
  {
   "cell_type": "markdown",
   "metadata": {},
   "source": [
    "`.strip` 메서드는 문자열의 양 끝의 공백문자를 제거합니다."
   ]
  },
  {
   "cell_type": "code",
   "execution_count": null,
   "metadata": {},
   "outputs": [],
   "source": [
    "a_long_line = \"       This is a long line with some space before, after,     and some space in the middle..    \""
   ]
  },
  {
   "cell_type": "code",
   "execution_count": null,
   "metadata": {},
   "outputs": [],
   "source": [
    "a_long_line_stripped = a_long_line.strip()"
   ]
  },
  {
   "cell_type": "code",
   "execution_count": null,
   "metadata": {},
   "outputs": [],
   "source": [
    "a_long_line"
   ]
  },
  {
   "cell_type": "code",
   "execution_count": null,
   "metadata": {},
   "outputs": [],
   "source": [
    "a_long_line_stripped"
   ]
  },
  {
   "cell_type": "markdown",
   "metadata": {},
   "source": [
    "`.format` 메서드는 integer, float, boolean, list등 과 같은 다른 데이터 유형의 값을 문자열과 결합합니다. 출력 메세지를 표시하기 위해 `.format`을 사용할 수 있습니다."
   ]
  },
  {
   "cell_type": "code",
   "execution_count": null,
   "metadata": {},
   "outputs": [],
   "source": [
    "# 입력 변수\n",
    "cost_of_ice_bag = 1.25\n",
    "profit_margin = .2\n",
    "number_of_bags = 500\n",
    "\n",
    "# 출력 메시지 템플릿\n",
    "output_template = \"\"\"If a grocery store sells ice bags at $ {} per bag, with a profit margin of {} %, \n",
    "then the total profit it makes by selling {} ice bags is $ {}.\"\"\"\n",
    "\n",
    "print(output_template)"
   ]
  },
  {
   "cell_type": "code",
   "execution_count": null,
   "metadata": {},
   "outputs": [],
   "source": [
    "# 문자열에 값 삽입\n",
    "total_profit = cost_of_ice_bag * profit_margin * number_of_bags\n",
    "output_message = output_template.format(cost_of_ice_bag, profit_margin*100, number_of_bags, total_profit)\n",
    "\n",
    "print(output_message)"
   ]
  },
  {
   "cell_type": "markdown",
   "metadata": {},
   "source": [
    "문자열 연결 연산자 `+`를 사용하여 문자열을 다른 값과 결합할 수도 있습니다. 그러나 먼저 str 메서드를 사용하여 문자열로 변환해야 합니다."
   ]
  },
  {
   "cell_type": "code",
   "execution_count": null,
   "metadata": {},
   "outputs": [],
   "source": [
    "\"If a grocery store sells ice bags at $ \" + cost_of_ice_bag + \", with a profit margin of \" + profit_margin"
   ]
  },
  {
   "cell_type": "code",
   "execution_count": null,
   "metadata": {},
   "outputs": [],
   "source": [
    "\"If a grocery store sells ice bags at $ \" + str(cost_of_ice_bag) + \", with a profit margin of \" + str(profit_margin)"
   ]
  },
  {
   "cell_type": "markdown",
   "metadata": {},
   "source": [
    "### <span style='color:black; background-color:#f5f0ff;'>C 스타일 형식 문자열을 str.format과 쓰기 보다는 f-string을 통한 interpolation을 사용하라.</span>\n",
    "`f-string`은 Python 3.6부터 사용할 수 있는 기능입니다.\n",
    "`f-string`의 모양은 f와 {}만 알면 됩니다. 문자열 맨 앞에 f를 붙여주고, 중괄호 안에 직접 변수 이름이나 출력하고 싶은 것을 넣으면 됩니다.  \n",
    "아래 예제를 보면 쉽게 이해할 수 있을 것입니다."
   ]
  },
  {
   "cell_type": "code",
   "execution_count": null,
   "metadata": {},
   "outputs": [],
   "source": [
    "s = 'K-SW BootCamp'\n",
    "n = 30\n",
    "result = f'{s}에는 전체 {n}명의 학우가 참가하고 있습니다.'\n",
    "print(result)"
   ]
  },
  {
   "cell_type": "markdown",
   "metadata": {},
   "source": [
    "`str`메서드를 사용하여, 모든 타입을 string 타입으로 바꿀 수 있습니다. "
   ]
  },
  {
   "cell_type": "code",
   "execution_count": null,
   "metadata": {},
   "outputs": [],
   "source": [
    "str(23)"
   ]
  },
  {
   "cell_type": "code",
   "execution_count": null,
   "metadata": {},
   "outputs": [],
   "source": [
    "str(23.432)"
   ]
  },
  {
   "cell_type": "code",
   "execution_count": null,
   "metadata": {},
   "outputs": [],
   "source": [
    "str(True)"
   ]
  },
  {
   "cell_type": "code",
   "execution_count": null,
   "metadata": {},
   "outputs": [],
   "source": [
    "the_3_musketeers = [\"Athos\", \"Porthos\", \"Aramis\"]\n",
    "the_3_musketeers"
   ]
  },
  {
   "cell_type": "markdown",
   "metadata": {},
   "source": [
    "`str` 함수를 사용하지 않은 위의 경우와 사용한 아래의 경우를 비교해보십시오."
   ]
  },
  {
   "cell_type": "code",
   "execution_count": null,
   "metadata": {},
   "outputs": [],
   "source": [
    "str(the_3_musketeers)"
   ]
  },
  {
   "cell_type": "markdown",
   "metadata": {},
   "source": [
    "모든 문자열 메서드는 새 값을 반환하며 기존 문자열은 변경하지 마십시오. 문자열 메서드의 전체 목록은 https://www.w3schools.com/python/python_ref_string.asp 에서 확인할 수 있습니다."
   ]
  },
  {
   "cell_type": "markdown",
   "metadata": {},
   "source": [
    "문자열은 비교 연산자 `==`와 `!=`도 지원합니다. 두 문자열이 동일한지 여부를 확인합니다."
   ]
  },
  {
   "cell_type": "code",
   "execution_count": null,
   "metadata": {},
   "outputs": [],
   "source": [
    "first_name = \"John\""
   ]
  },
  {
   "cell_type": "code",
   "execution_count": null,
   "metadata": {},
   "outputs": [],
   "source": [
    "first_name == \"Doe\""
   ]
  },
  {
   "cell_type": "code",
   "execution_count": null,
   "metadata": {},
   "outputs": [],
   "source": [
    "first_name == \"John\""
   ]
  },
  {
   "cell_type": "code",
   "execution_count": null,
   "metadata": {},
   "outputs": [],
   "source": [
    "first_name != \"Jane\""
   ]
  },
  {
   "cell_type": "markdown",
   "metadata": {},
   "source": [
    "### <span style='color:black; background-color:#dcffe4;'>List</span>\n",
    "\n",
    "Python의 목록은 순서대로 정렬된 값의 모음입니다. 목록에는 서로 다른 데이터 유형의 값이 포함될 수 있으며 값을 추가, 제거 및 변경하는 작업을 지원할 수 있습니다. 목록에는 `list` 유형이 있습니다.\n",
    "\n",
    "목록을 생성하려면 값의 시퀀스를 쉼표로 구분된 대괄호 `[` 및 `]` 안에 묶으십시오."
   ]
  },
  {
   "cell_type": "code",
   "execution_count": null,
   "metadata": {},
   "outputs": [],
   "source": [
    "fruits = ['apple', 'banana', 'cherry']"
   ]
  },
  {
   "cell_type": "code",
   "execution_count": null,
   "metadata": {},
   "outputs": [],
   "source": [
    "fruits"
   ]
  },
  {
   "cell_type": "code",
   "execution_count": null,
   "metadata": {},
   "outputs": [],
   "source": [
    "type(fruits)"
   ]
  },
  {
   "cell_type": "code",
   "execution_count": null,
   "metadata": {},
   "outputs": [],
   "source": [
    "fruits[1]='blueberry'"
   ]
  },
  {
   "cell_type": "code",
   "execution_count": null,
   "metadata": {},
   "outputs": [],
   "source": [
    "fruits"
   ]
  },
  {
   "cell_type": "markdown",
   "metadata": {},
   "source": [
    "다른 목록을 포함하여 다양한 데이터 유형의 값이 포함된 목록을 만들어 보겠습니다."
   ]
  },
  {
   "cell_type": "code",
   "execution_count": null,
   "metadata": {},
   "outputs": [],
   "source": [
    "a_list = [23, 'hello', None, 3.14, fruits, 3 <= 5]"
   ]
  },
  {
   "cell_type": "code",
   "execution_count": null,
   "metadata": {},
   "outputs": [],
   "source": [
    "a_list"
   ]
  },
  {
   "cell_type": "code",
   "execution_count": null,
   "metadata": {},
   "outputs": [],
   "source": [
    "empty_list = []"
   ]
  },
  {
   "cell_type": "code",
   "execution_count": null,
   "metadata": {},
   "outputs": [],
   "source": [
    "empty_list"
   ]
  },
  {
   "cell_type": "markdown",
   "metadata": {},
   "source": [
    "List의 원소 개수를 확인하려면 `len` 함수를 사용합니다. `len`을 사용하여 다른 여러 데이터 유형의 원소 개수를 확인할 수 있습니다."
   ]
  },
  {
   "cell_type": "code",
   "execution_count": null,
   "metadata": {},
   "outputs": [],
   "source": [
    "len(fruits)"
   ]
  },
  {
   "cell_type": "code",
   "execution_count": null,
   "metadata": {},
   "outputs": [],
   "source": [
    "print(\"Number of fruits:\", len(fruits))"
   ]
  },
  {
   "cell_type": "code",
   "execution_count": null,
   "metadata": {},
   "outputs": [],
   "source": [
    "len(a_list)"
   ]
  },
  {
   "cell_type": "code",
   "execution_count": null,
   "metadata": {},
   "outputs": [],
   "source": [
    "len(empty_list)"
   ]
  },
  {
   "cell_type": "markdown",
   "metadata": {},
   "source": [
    "**index**를 사용하여 List에서 원소에 액세스할 수 있습니다. 예를 들어, `fruits[2]`는 List 내 두 번째 인덱스에 있는 원소를 반환합니다. List의 시작 인덱스는 0입니다."
   ]
  },
  {
   "cell_type": "code",
   "execution_count": null,
   "metadata": {},
   "outputs": [],
   "source": [
    "fruits[0]"
   ]
  },
  {
   "cell_type": "code",
   "execution_count": null,
   "metadata": {},
   "outputs": [],
   "source": [
    "fruits[1]"
   ]
  },
  {
   "cell_type": "code",
   "execution_count": null,
   "metadata": {},
   "outputs": [],
   "source": [
    "fruits[2]"
   ]
  },
  {
   "cell_type": "markdown",
   "metadata": {},
   "source": [
    "List 길이 이상의 인덱스에 액세스하려고 하면 Python은 `IndexError`를 반환합니다."
   ]
  },
  {
   "cell_type": "code",
   "execution_count": null,
   "metadata": {},
   "outputs": [],
   "source": [
    "fruits[3]"
   ]
  },
  {
   "cell_type": "code",
   "execution_count": null,
   "metadata": {},
   "outputs": [],
   "source": [
    "fruits[4]"
   ]
  },
  {
   "cell_type": "markdown",
   "metadata": {},
   "source": [
    "음수 인덱스를 사용하여 목록의 끝에 있는 원소에 접근할 수 있습니다. 예를 들어, `fruits[-1]`는 마지막 원소를 반환하고, `fruits[-2]`는 두 번째 마지막 원소를 반환하는 등의 작업을 수행합니다."
   ]
  },
  {
   "cell_type": "code",
   "execution_count": null,
   "metadata": {},
   "outputs": [],
   "source": [
    "fruits[-1]"
   ]
  },
  {
   "cell_type": "code",
   "execution_count": null,
   "metadata": {},
   "outputs": [],
   "source": [
    "fruits[-2]"
   ]
  },
  {
   "cell_type": "code",
   "execution_count": null,
   "metadata": {},
   "outputs": [],
   "source": [
    "fruits[-3]"
   ]
  },
  {
   "cell_type": "code",
   "execution_count": null,
   "metadata": {},
   "outputs": [],
   "source": [
    "fruits[-4]"
   ]
  },
  {
   "cell_type": "markdown",
   "metadata": {},
   "source": [
    "List에서 값의 범위에도 액세스할 수 있습니다. 결과는 그 자체로 List입니다. 이를 **슬라이싱**이라고 합니다. 슬라이싱에 대해서는 튜플 이후에 자세히 배워보겠습니다.\n",
    "***"
   ]
  },
  {
   "cell_type": "markdown",
   "metadata": {},
   "source": [
    "List 끝에 `append` 메서드를 사용하여 새 값을 추가할 수 있습니다."
   ]
  },
  {
   "cell_type": "code",
   "execution_count": null,
   "metadata": {},
   "outputs": [],
   "source": [
    "fruits.append('dates')"
   ]
  },
  {
   "cell_type": "code",
   "execution_count": null,
   "metadata": {},
   "outputs": [],
   "source": [
    "fruits"
   ]
  },
  {
   "cell_type": "markdown",
   "metadata": {},
   "source": [
    "`insert`메서드를 사용하여 특정 인덱스에 새 값을 삽입할 수도 있습니다."
   ]
  },
  {
   "cell_type": "code",
   "execution_count": null,
   "metadata": {},
   "outputs": [],
   "source": [
    "fruits.insert(1, 'banana')"
   ]
  },
  {
   "cell_type": "code",
   "execution_count": null,
   "metadata": {},
   "outputs": [],
   "source": [
    "fruits"
   ]
  },
  {
   "cell_type": "markdown",
   "metadata": {},
   "source": [
    "list에서 `remove` 메서드를 사용하여 값을 제거할 수 있습니다."
   ]
  },
  {
   "cell_type": "code",
   "execution_count": null,
   "metadata": {},
   "outputs": [],
   "source": [
    "fruits.remove('blueberry')"
   ]
  },
  {
   "cell_type": "code",
   "execution_count": null,
   "metadata": {},
   "outputs": [],
   "source": [
    "fruits"
   ]
  },
  {
   "cell_type": "markdown",
   "metadata": {},
   "source": [
    "### <span style = \"color:pink\">Quiz</span>\n",
    "\n",
    "list에 `.remove`에 전달된 값의 인스턴스가 여러 개 있는 경우 어떻게 됩니까? 한 번 해보세요."
   ]
  },
  {
   "cell_type": "code",
   "execution_count": 4,
   "metadata": {},
   "outputs": [
    {
     "ename": "TypeError",
     "evalue": "remove() takes exactly one argument (2 given)",
     "output_type": "error",
     "traceback": [
      "\u001b[1;31m---------------------------------------------------------------------------\u001b[0m",
      "\u001b[1;31mTypeError\u001b[0m                                 Traceback (most recent call last)",
      "\u001b[1;32m~\\AppData\\Local\\Temp\\ipykernel_7588\\2052290636.py\u001b[0m in \u001b[0;36m<module>\u001b[1;34m\u001b[0m\n\u001b[0;32m      2\u001b[0m \u001b[1;33m\u001b[0m\u001b[0m\n\u001b[0;32m      3\u001b[0m \u001b[0marr\u001b[0m \u001b[1;33m=\u001b[0m \u001b[1;33m[\u001b[0m\u001b[1;36m1\u001b[0m\u001b[1;33m,\u001b[0m\u001b[1;36m2\u001b[0m\u001b[1;33m,\u001b[0m\u001b[1;36m3\u001b[0m\u001b[1;33m,\u001b[0m\u001b[1;36m4\u001b[0m\u001b[1;33m,\u001b[0m\u001b[1;36m5\u001b[0m\u001b[1;33m]\u001b[0m\u001b[1;33m\u001b[0m\u001b[1;33m\u001b[0m\u001b[0m\n\u001b[1;32m----> 4\u001b[1;33m \u001b[0marr\u001b[0m\u001b[1;33m.\u001b[0m\u001b[0mremove\u001b[0m\u001b[1;33m(\u001b[0m\u001b[1;36m3\u001b[0m\u001b[1;33m,\u001b[0m\u001b[1;36m4\u001b[0m\u001b[1;33m)\u001b[0m\u001b[1;33m\u001b[0m\u001b[1;33m\u001b[0m\u001b[0m\n\u001b[0m\u001b[0;32m      5\u001b[0m \u001b[0mprint\u001b[0m\u001b[1;33m(\u001b[0m\u001b[0marr\u001b[0m\u001b[1;33m)\u001b[0m\u001b[1;33m\u001b[0m\u001b[1;33m\u001b[0m\u001b[0m\n",
      "\u001b[1;31mTypeError\u001b[0m: remove() takes exactly one argument (2 given)"
     ]
    }
   ],
   "source": [
    "# 실습 코드 작성\n",
    "\n",
    "arr = [1,2,3,4,5]\n",
    "arr.remove(3,4)\n",
    "print(arr)"
   ]
  },
  {
   "cell_type": "code",
   "execution_count": null,
   "metadata": {},
   "outputs": [],
   "source": [
    "# 실습 코드 작성"
   ]
  },
  {
   "cell_type": "markdown",
   "metadata": {},
   "source": [
    "특정 인덱스에서 요소를 제거하려면 `pop` 메서드을 사용합니다. 메서드는 제거된 요소를 반환합니다."
   ]
  },
  {
   "cell_type": "code",
   "execution_count": null,
   "metadata": {},
   "outputs": [],
   "source": [
    "fruits"
   ]
  },
  {
   "cell_type": "code",
   "execution_count": null,
   "metadata": {},
   "outputs": [],
   "source": [
    "fruits.pop(1)"
   ]
  },
  {
   "cell_type": "code",
   "execution_count": null,
   "metadata": {},
   "outputs": [],
   "source": [
    "fruits"
   ]
  },
  {
   "cell_type": "markdown",
   "metadata": {},
   "source": [
    "인덱스를 지정하지 않으면, `pop`메서드가 list의 마지막 요소를 제거합니다."
   ]
  },
  {
   "cell_type": "code",
   "execution_count": null,
   "metadata": {},
   "outputs": [],
   "source": [
    "fruits.pop()"
   ]
  },
  {
   "cell_type": "code",
   "execution_count": null,
   "metadata": {},
   "outputs": [],
   "source": [
    "fruits"
   ]
  },
  {
   "cell_type": "markdown",
   "metadata": {},
   "source": [
    "`in` 연산자를 사용하여 list에 값이 포함되어 있는지의 여부를 확인 할 수 있습니다."
   ]
  },
  {
   "cell_type": "code",
   "execution_count": null,
   "metadata": {},
   "outputs": [],
   "source": [
    "'pineapple' in fruits"
   ]
  },
  {
   "cell_type": "code",
   "execution_count": null,
   "metadata": {},
   "outputs": [],
   "source": [
    "'cherry' in fruits"
   ]
  },
  {
   "cell_type": "markdown",
   "metadata": {},
   "source": [
    "`+` 연산자를 통해 list들을 결합할 수 있습니다. 해당 연산자를 *concatenation* 라고 합니다."
   ]
  },
  {
   "cell_type": "code",
   "execution_count": null,
   "metadata": {},
   "outputs": [],
   "source": [
    "fruits"
   ]
  },
  {
   "cell_type": "code",
   "execution_count": null,
   "metadata": {},
   "outputs": [],
   "source": [
    "more_fruits = fruits + ['pineapple', 'tomato', 'guava'] + ['dates', 'banana']"
   ]
  },
  {
   "cell_type": "code",
   "execution_count": null,
   "metadata": {},
   "outputs": [],
   "source": [
    "more_fruits"
   ]
  },
  {
   "cell_type": "markdown",
   "metadata": {},
   "source": [
    "`copy` 메서드를 통하여 list를 복사본을 만들 수 있는데, 복사본은 원본에 영향을 주지 않습니다."
   ]
  },
  {
   "cell_type": "code",
   "execution_count": null,
   "metadata": {},
   "outputs": [],
   "source": [
    "more_fruits_copy = more_fruits.copy()"
   ]
  },
  {
   "cell_type": "code",
   "execution_count": null,
   "metadata": {},
   "outputs": [],
   "source": [
    "more_fruits_copy"
   ]
  },
  {
   "cell_type": "code",
   "execution_count": null,
   "metadata": {},
   "outputs": [],
   "source": [
    "# Modify the copy\n",
    "more_fruits_copy.remove('pineapple')\n",
    "more_fruits_copy.pop()\n",
    "more_fruits_copy"
   ]
  },
  {
   "cell_type": "code",
   "execution_count": null,
   "metadata": {},
   "outputs": [],
   "source": [
    "# Original list remains unchanged\n",
    "more_fruits"
   ]
  },
  {
   "cell_type": "markdown",
   "metadata": {},
   "source": [
    "대입 연산자 `=`를 사용하여 새 변수를 생성하는 것만으로는 목록의 복사본을 만들 수 없습니다.  \n",
    "새 변수는 동일한 list를 가리키며, 두 변수 중 하나를 사용하여 수행된 수정 작업은 다른 변수에 영향을 미칩니다."
   ]
  },
  {
   "cell_type": "code",
   "execution_count": null,
   "metadata": {},
   "outputs": [],
   "source": [
    "more_fruits"
   ]
  },
  {
   "cell_type": "code",
   "execution_count": null,
   "metadata": {},
   "outputs": [],
   "source": [
    "more_fruits_not_a_copy = more_fruits"
   ]
  },
  {
   "cell_type": "code",
   "execution_count": null,
   "metadata": {},
   "outputs": [],
   "source": [
    "more_fruits_not_a_copy.remove('pineapple')\n",
    "more_fruits_not_a_copy.pop()"
   ]
  },
  {
   "cell_type": "code",
   "execution_count": null,
   "metadata": {},
   "outputs": [],
   "source": [
    "more_fruits_not_a_copy"
   ]
  },
  {
   "cell_type": "code",
   "execution_count": null,
   "metadata": {},
   "outputs": [],
   "source": [
    "more_fruits"
   ]
  },
  {
   "cell_type": "markdown",
   "metadata": {},
   "source": [
    "`sort`메서드를 이용하여 정렬할 수 있습니다.  \n",
    "Python에서는 안정적인 정렬 알고리즘을 제공하며, 리스트 타입의 sort 메서드는 key 함수가 반환하는 값이 서로 같은 경우 리스트에 들어있던 원래 순서를 그대로 유지해줍니다.  \n",
    "이는 같은 리스트에 대해 서로 다른 기준으로 `sort`를 여러 번 호출해도 된다는 뜻입니다.  \n",
    "아래 코드는 내림차순, 오름차순 정렬을 `sort`를 두 번 호출하는 방식으로 정렬을 수행합니다."
   ]
  },
  {
   "cell_type": "code",
   "execution_count": null,
   "metadata": {},
   "outputs": [],
   "source": [
    "class Tool:\n",
    "    def __init__(self, name, weight):\n",
    "        self.name = name\n",
    "        self.weight = weight\n",
    "\n",
    "    def __repr__(self):\n",
    "        return f'Tool({self.name!r}, {self.weight})'"
   ]
  },
  {
   "cell_type": "code",
   "execution_count": null,
   "metadata": {},
   "outputs": [],
   "source": [
    "power_tools = [\n",
    "    Tool('드릴', 4),\n",
    "    Tool('원형 톱', 5),\n",
    "    Tool('착암기', 40),\n",
    "    Tool('연마기', 4),\n",
    "]"
   ]
  },
  {
   "cell_type": "code",
   "execution_count": null,
   "metadata": {},
   "outputs": [],
   "source": [
    "power_tools.sort(key=lambda x: x.name)\n",
    "print(power_tools)"
   ]
  },
  {
   "cell_type": "code",
   "execution_count": null,
   "metadata": {},
   "outputs": [],
   "source": [
    "power_tools.sort(key=lambda x: x.weight,\n",
    "                 reverse=True)\n",
    "print(power_tools)\n"
   ]
  },
  {
   "cell_type": "markdown",
   "metadata": {},
   "source": [
    "**위와 같이, `sort` 메서드의 `key` 파라미터를 사용하면 리스트의 각 원소 대신 비교에 사용할 객체를 반환하는 도우미 함수를 제공할 수 있습니다.**"
   ]
  },
  {
   "cell_type": "markdown",
   "metadata": {},
   "source": [
    "* * *"
   ]
  },
  {
   "cell_type": "markdown",
   "metadata": {},
   "source": [
    "### <span style = \"color:pink\">Quiz</span>\n",
    "\n",
    "문자열과 마찬가지로 list를 조작할 수 있는 몇 가지 기본 제공 방법이 있습니다.   \n",
    "그러나 문자열과 달리 대부분의 list 메서드는 새 list를 반환하는 대신 기존의 원본 list을 수정합니다.  \n",
    "list 연산자는 해당 사이트에서 확인할 수 있습니다. https://www.w3schools.com/python/python_ref_list.asp \n",
    "\n",
    "\n",
    "예제를 따라해보고 list 메서드를 사용해봅시다. (아래 빈 셀을 사용하세요):\n",
    "\n",
    "* list의 요소 순서를 반대로 지정합니다.\n",
    "* 다른 list 끝에 또 다른 list의 요소 추가\n",
    "* 문자열 list를 사전순으로 정렬합니다.\n",
    "* 숫자 list를 내림차순으로 정렬합니다."
   ]
  },
  {
   "cell_type": "code",
   "execution_count": null,
   "metadata": {},
   "outputs": [],
   "source": [
    "# 실습 코드 작성"
   ]
  },
  {
   "cell_type": "code",
   "execution_count": null,
   "metadata": {},
   "outputs": [],
   "source": [
    "# 실습 코드 작성"
   ]
  },
  {
   "cell_type": "code",
   "execution_count": null,
   "metadata": {},
   "outputs": [],
   "source": [
    "# 실습 코드 작성"
   ]
  },
  {
   "cell_type": "code",
   "execution_count": null,
   "metadata": {},
   "outputs": [],
   "source": [
    "# 실습 코드 작성"
   ]
  },
  {
   "cell_type": "markdown",
   "metadata": {},
   "source": [
    "### <span style='color:black; background-color:#dcffe4;'>Tuple</span>\n",
    "\n",
    "* tuple은 list과 유사하게 순서대로 정렬된 값의 모음입니다. 그러나 tuple에서는 값을 추가, 제거 또는 수정할 수 없습니다. tuple은 값을 쉼표로 구분된 괄호`( ` ` )` 안에 넣어 생성합니다.\n",
    "\n",
    ">  생성 후 수정할 수 없는 데이터 구조를 *immutable*이라고 합니다. tuple은 immutable list로 생각 할 수 있습니다.\n"
   ]
  },
  {
   "cell_type": "code",
   "execution_count": null,
   "metadata": {},
   "outputs": [],
   "source": [
    "fruits = ('apple', 'cherry', 'dates')"
   ]
  },
  {
   "cell_type": "code",
   "execution_count": null,
   "metadata": {},
   "outputs": [],
   "source": [
    "# fruits tuple의 원소 수 확인\n",
    "len(fruits)"
   ]
  },
  {
   "cell_type": "code",
   "execution_count": null,
   "metadata": {},
   "outputs": [],
   "source": [
    "# 원소 가져오기 (양수 index)\n",
    "fruits[0]"
   ]
  },
  {
   "cell_type": "code",
   "execution_count": null,
   "metadata": {},
   "outputs": [],
   "source": [
    "# 원소 가져오기 (음수 index)\n",
    "fruits[-2]"
   ]
  },
  {
   "cell_type": "code",
   "execution_count": null,
   "metadata": {},
   "outputs": [],
   "source": [
    "# 원소가 들어있는지 확인(T/F)\n",
    "'dates' in fruits"
   ]
  },
  {
   "cell_type": "code",
   "execution_count": null,
   "metadata": {},
   "outputs": [],
   "source": [
    "# 원소 변경 시도\n",
    "fruits[0] = 'avocado'"
   ]
  },
  {
   "cell_type": "code",
   "execution_count": null,
   "metadata": {},
   "outputs": [],
   "source": [
    "# 원소 추가 시도\n",
    "fruits.append('blueberry')"
   ]
  },
  {
   "cell_type": "code",
   "execution_count": null,
   "metadata": {},
   "outputs": [],
   "source": [
    "# 원소 제거 시도\n",
    "fruits.remove('apple')"
   ]
  },
  {
   "cell_type": "markdown",
   "metadata": {},
   "source": [
    "tuple을 생성할 때 괄호 `(`  `)`를 생략할 수도 있습니다. Python은 자동으로 쉼표로 구분된 값을 tuple로 변환합니다."
   ]
  },
  {
   "cell_type": "code",
   "execution_count": null,
   "metadata": {},
   "outputs": [],
   "source": [
    "the_3_musketeers = 'Athos', 'Porthos', 'Aramis'"
   ]
  },
  {
   "cell_type": "code",
   "execution_count": null,
   "metadata": {},
   "outputs": [],
   "source": [
    "the_3_musketeers"
   ]
  },
  {
   "cell_type": "markdown",
   "metadata": {},
   "source": [
    "원소 뒤에 쉼표를 입력하여 원소가 하나만 있는 tuple을 생성할 수도 있습니다.  \n",
    "괄호 `()`만 입력하면 tuple이 되지 않는 것을 확인할 수 있습니다. (not_a_tuple 변수)"
   ]
  },
  {
   "cell_type": "code",
   "execution_count": null,
   "metadata": {},
   "outputs": [],
   "source": [
    "single_element_tuple = 4,\n",
    "print(single_element_tuple)"
   ]
  },
  {
   "cell_type": "code",
   "execution_count": null,
   "metadata": {},
   "outputs": [],
   "source": [
    "type(single_element_tuple)"
   ]
  },
  {
   "cell_type": "code",
   "execution_count": null,
   "metadata": {},
   "outputs": [],
   "source": [
    "another_single_element_tuple = (4,)\n",
    "print(single_element_tuple)"
   ]
  },
  {
   "cell_type": "code",
   "execution_count": null,
   "metadata": {},
   "outputs": [],
   "source": [
    "type(another_single_element_tuple)"
   ]
  },
  {
   "cell_type": "code",
   "execution_count": null,
   "metadata": {},
   "outputs": [],
   "source": [
    "not_a_tuple = (4)\n",
    "print(not_a_tuple)"
   ]
  },
  {
   "cell_type": "code",
   "execution_count": null,
   "metadata": {},
   "outputs": [],
   "source": [
    "type(not_a_tuple)"
   ]
  },
  {
   "cell_type": "markdown",
   "metadata": {},
   "source": [
    "Tuple은 종종 한 라인에서 여러개의 변수를 선언할 때 사용됩니다."
   ]
  },
  {
   "cell_type": "code",
   "execution_count": null,
   "metadata": {},
   "outputs": [],
   "source": [
    "point = (3, 4)"
   ]
  },
  {
   "cell_type": "code",
   "execution_count": null,
   "metadata": {},
   "outputs": [],
   "source": [
    "point_x, point_y = point"
   ]
  },
  {
   "cell_type": "code",
   "execution_count": null,
   "metadata": {},
   "outputs": [],
   "source": [
    "point_x"
   ]
  },
  {
   "cell_type": "code",
   "execution_count": null,
   "metadata": {},
   "outputs": [],
   "source": [
    "point_y"
   ]
  },
  {
   "cell_type": "markdown",
   "metadata": {},
   "source": [
    "`tuple` 메서드를 사용하여 list를 tuple로 변환하거나, `list` 메서드를 사용하여 list를 tuple로 변환할 수 있습니다."
   ]
  },
  {
   "cell_type": "code",
   "execution_count": null,
   "metadata": {},
   "outputs": [],
   "source": [
    "tuple(['one', 'two', 'three'])"
   ]
  },
  {
   "cell_type": "code",
   "execution_count": null,
   "metadata": {},
   "outputs": [],
   "source": [
    "list(('Athos', 'Porthos', 'Aramis'))"
   ]
  },
  {
   "cell_type": "markdown",
   "metadata": {},
   "source": [
    "Tuple에는 `count`와 `index`의 두 가지 기본 메서드가 있습니다. 이러한 메서드들은, `help`를 사용하여 사용법과 같은 설명서를 확인할 수 있습니다."
   ]
  },
  {
   "cell_type": "code",
   "execution_count": null,
   "metadata": {},
   "outputs": [],
   "source": [
    "a_tuple = 23, \"hello\", False, None, 23, 37, \"hello\""
   ]
  },
  {
   "cell_type": "code",
   "execution_count": null,
   "metadata": {},
   "outputs": [],
   "source": [
    "help(a_tuple.count)"
   ]
  },
  {
   "cell_type": "markdown",
   "metadata": {},
   "source": [
    "Jupyter notebook에서 `?`로 코드셀을 시작하고 함수나 메서드의 이름을 입력할 수 있습니다. 이 셀을 실행하면 팝업창에 기능/메서드의 설명서가 표시됩니다."
   ]
  },
  {
   "cell_type": "code",
   "execution_count": null,
   "metadata": {},
   "outputs": [],
   "source": [
    "?a_tuple.index"
   ]
  },
  {
   "cell_type": "markdown",
   "metadata": {},
   "source": [
    "`count` 와 `index` 를 `a_tuple`에 적용해 보자."
   ]
  },
  {
   "cell_type": "code",
   "execution_count": null,
   "metadata": {},
   "outputs": [],
   "source": [
    "# 실습 코드 작성    "
   ]
  },
  {
   "cell_type": "code",
   "execution_count": null,
   "metadata": {},
   "outputs": [],
   "source": [
    "# 실습 코드 작성"
   ]
  },
  {
   "cell_type": "markdown",
   "metadata": {},
   "source": [
    "### <span style='color:black; background-color:#f5f0ff;'>시퀀스를 슬라이싱하는 방법을 익혀라</span>\n",
    "* list, tuple, range, 문자열 등은 값이 연속적으로 이어져 있습니다.\n",
    "  \n",
    "* 이러한 자료형을 시퀀스 자료형(sequence types)이라고 합니다.\n",
    "  \n",
    "* 시퀀스 자료형들은 여러 조각(slice)으로 나눠질 수 있으며, 이 자료형들을 나누는 것을 슬라이싱(slicing) 이라고 합니다.\n",
    "  \n",
    "* 슬라이싱을 이용하여 시퀀스 자료형 안의 데이터를 효과적으로 가져올 수 있습니다.\n",
    "  \n",
    "* 슬라이싱의 기본적인 구조 형태는 `시퀀스[시작:끝]` 입니다.\n",
    "  \n",
    "* 시작 시퀀스의 원소는 포함되지만 끝 시퀀스의 원소는 포함되지 않습니다.\n",
    "* 시퀀스의 시작부터 슬라이싱을 하고 싶으면 시작 인덱스를 적지 않아도 되고, 끝까지 슬라이싱을 하고 싶으면 끝 인덱스를 적지 않으면 됩니다.\n",
    "* 특정한 간격을 두고 시퀀스를 슬라이싱 하고 싶으면 슬라이싱에 스트라이드(stride)를 추가하면 됩니다. 예를 들어, 시퀀스의 2부터 9까지 2 간격으로 슬라이싱 하고 싶으면 `시퀀스[2:10:2]` 입니다."
   ]
  },
  {
   "cell_type": "code",
   "execution_count": null,
   "metadata": {},
   "outputs": [],
   "source": [
    "sequence_list = [0, 1, 2, 3, 4, 5, 6, 7, 8]"
   ]
  },
  {
   "cell_type": "markdown",
   "metadata": {},
   "source": [
    "위 'sequence_list' 에서 인덱스 2부터 6까지를 가져오고 싶다면"
   ]
  },
  {
   "cell_type": "code",
   "execution_count": null,
   "metadata": {},
   "outputs": [],
   "source": [
    "sequence_list[2:7]  #끝 인덱스의 원소는 포함되지 않습니다"
   ]
  },
  {
   "cell_type": "markdown",
   "metadata": {},
   "source": [
    "시작 인덱스인 2에 해당되는 원소인 '2'는 슬라이싱 리스트에 포함되지만, 끝 인덱스인 7에 해당되는 원소인 '7'은 슬라이싱 리스트에 포함되지 않습니다.\n",
    "\n",
    "추가적으로 마지막 원소를 제외한 나머지 원소를 가지고 오고 싶다면 아래와 같이 슬라이싱을 진행하면 됩니다."
   ]
  },
  {
   "cell_type": "code",
   "execution_count": null,
   "metadata": {},
   "outputs": [],
   "source": [
    "sequence_list[0:8]"
   ]
  },
  {
   "cell_type": "markdown",
   "metadata": {},
   "source": [
    "첫 인덱스부터 특정 인덱스까지의 값을 불러오고 싶다면, 슬라이싱의 첫 인덱스 부분을 비우면 되고\n",
    "특정 인덱스 부터 마지막 인덱스까지의 값을 불러오고 싶다면, 슬라이싱의 마지막 인덱스 부분을 비우면 됩니다."
   ]
  },
  {
   "cell_type": "code",
   "execution_count": null,
   "metadata": {},
   "outputs": [],
   "source": [
    "print(sequence_list[:4]) # 첫 인덱스부터 인덱스 3까지의 값을 슬라이싱\n",
    "print(sequence_list[5:]) # 5번째 인덱스부터 마지막 인덱스까지의 값을 슬라이싱"
   ]
  },
  {
   "cell_type": "markdown",
   "metadata": {},
   "source": [
    "슬라이싱의 모든 인덱스 값을 비우면 본래 시퀀스를 복사하는 것과 같은 값을 가지게 됩니다."
   ]
  },
  {
   "cell_type": "code",
   "execution_count": null,
   "metadata": {},
   "outputs": [],
   "source": [
    "sequence_list[:]"
   ]
  },
  {
   "cell_type": "markdown",
   "metadata": {},
   "source": [
    "슬라이싱을 하면서 매 n 번째 원소만 가지고 오고 싶을 경우 스트라이드(stride)를 추가하면 됩니다.\n",
    "\n",
    "기본적인 슬라이싱 구조에서 마지막에 스트라이드를 추가하면 됩니다. `시퀀스[시작:끝:스트라이드]`\n",
    "\n",
    "스트라이드는 기본적으로 양수를 쓰지만, 음수를 이용하여 순서를 바꿔 슬라이싱을 할수도 있습니다."
   ]
  },
  {
   "cell_type": "code",
   "execution_count": null,
   "metadata": {},
   "outputs": [],
   "source": [
    "sequence_list = [0, 1, 2, 3, 4, 5, 6, 7, 8]"
   ]
  },
  {
   "cell_type": "markdown",
   "metadata": {},
   "source": [
    "`sequence_list`에서 stride를 이용하여 짝수 인덱스만 슬라이싱을 해보겠습니다."
   ]
  },
  {
   "cell_type": "code",
   "execution_count": null,
   "metadata": {},
   "outputs": [],
   "source": [
    "sequence_list[::2]"
   ]
  },
  {
   "cell_type": "markdown",
   "metadata": {},
   "source": [
    "반대로 홀수 인덱스만 슬라이싱 하고자 하면, 시작 인덱스를 홀수 인덱스로 설정하면 됩니다."
   ]
  },
  {
   "cell_type": "code",
   "execution_count": null,
   "metadata": {},
   "outputs": [],
   "source": [
    "sequence_list[1::2]"
   ]
  },
  {
   "cell_type": "markdown",
   "metadata": {},
   "source": [
    "stride에는 음수를 넣을 수 있습니다. 음수는 본래의 시퀀스의 순서인 `왼쪽에서 오른쪽`과는 반대로 `오른쪽에서 왼쪽` 즉, 거꾸로 슬라이싱을 진행합니다"
   ]
  },
  {
   "cell_type": "code",
   "execution_count": null,
   "metadata": {},
   "outputs": [],
   "source": [
    "sequence_list[::-1] # 본래의 리스트를 뒤집어 출력"
   ]
  },
  {
   "cell_type": "code",
   "execution_count": null,
   "metadata": {},
   "outputs": [],
   "source": [
    "sequence_list[::-2] # 홀수 인덱스의 값을 뒤집어 출력"
   ]
  },
  {
   "cell_type": "markdown",
   "metadata": {},
   "source": [
    "#### TIP\n",
    "\n",
    "코드의 가독성을 위해서 슬라이싱을 한 뒤 stride를 하는 것이 좋다"
   ]
  },
  {
   "cell_type": "code",
   "execution_count": null,
   "metadata": {},
   "outputs": [],
   "source": [
    "print(sequence_list[2:7:2])\n",
    "\n",
    "###############################\n",
    "\n",
    "slicing = sequence_list[2:7]\n",
    "slicing = slicing[::2]\n",
    "\n",
    "print(slicing)"
   ]
  },
  {
   "cell_type": "markdown",
   "metadata": {},
   "source": [
    "### <span style='color:black; background-color:#dcffe4;'>Dictionary</span>\n",
    "* Dictionary는 순서가 정해져있지 않은 항목들의 집합입니다.  \n",
    "* Dictionary에 저장된 각 항목에는 Key와 Value(값)이 있으며, Key를 사용하여 Dictionary에서 해당 Value를 검색할 수 있습니다.  \n",
    "* Dictionary에는 `dict`라는 자료형이 있습니다.\n",
    "\n",
    "* Dictionary는 종종 한 사람에 대한 세부사항과 같은 많은 정보를 단일 변수에 저장하는 데 사용되며, Key-Value 쌍을 괄호 `()` 또는 중괄호 `{}` 안에 넣어 만들 수 있습니다.  \n",
    "자세한 사항은 아래 코드에서 확인할 수 있습니다.\n"
   ]
  },
  {
   "cell_type": "code",
   "execution_count": 8,
   "metadata": {},
   "outputs": [],
   "source": [
    "person1 = {\n",
    "    'name': 'John Doe',\n",
    "    'sex': 'Male',\n",
    "    'age': 32,\n",
    "    'married': True\n",
    "}"
   ]
  },
  {
   "cell_type": "code",
   "execution_count": 9,
   "metadata": {},
   "outputs": [
    {
     "data": {
      "text/plain": [
       "{'name': 'John Doe', 'sex': 'Male', 'age': 32, 'married': True}"
      ]
     },
     "execution_count": 9,
     "metadata": {},
     "output_type": "execute_result"
    }
   ],
   "source": [
    "person1"
   ]
  },
  {
   "cell_type": "markdown",
   "metadata": {},
   "source": [
    "Dictionary은 `dict` 메서드를 통해 만들 수 있습니다."
   ]
  },
  {
   "cell_type": "code",
   "execution_count": 10,
   "metadata": {},
   "outputs": [],
   "source": [
    "person2 = dict(name='Jane Judy', sex='Female', age=28, married=False)"
   ]
  },
  {
   "cell_type": "code",
   "execution_count": 11,
   "metadata": {},
   "outputs": [
    {
     "data": {
      "text/plain": [
       "{'name': 'Jane Judy', 'sex': 'Female', 'age': 28, 'married': False}"
      ]
     },
     "execution_count": 11,
     "metadata": {},
     "output_type": "execute_result"
    }
   ],
   "source": [
    "person2"
   ]
  },
  {
   "cell_type": "code",
   "execution_count": 12,
   "metadata": {},
   "outputs": [
    {
     "data": {
      "text/plain": [
       "dict"
      ]
     },
     "execution_count": 12,
     "metadata": {},
     "output_type": "execute_result"
    }
   ],
   "source": [
    "type(person1)"
   ]
  },
  {
   "cell_type": "markdown",
   "metadata": {},
   "source": [
    "\n",
    "`[`  `]` 사이에 키값을 넣어줌으로써 값에 접근할 수 있다."
   ]
  },
  {
   "cell_type": "code",
   "execution_count": 13,
   "metadata": {},
   "outputs": [
    {
     "data": {
      "text/plain": [
       "'John Doe'"
      ]
     },
     "execution_count": 13,
     "metadata": {},
     "output_type": "execute_result"
    }
   ],
   "source": [
    "person1['name']"
   ]
  },
  {
   "cell_type": "code",
   "execution_count": 14,
   "metadata": {},
   "outputs": [
    {
     "data": {
      "text/plain": [
       "True"
      ]
     },
     "execution_count": 14,
     "metadata": {},
     "output_type": "execute_result"
    }
   ],
   "source": [
    "person1['married']"
   ]
  },
  {
   "cell_type": "code",
   "execution_count": 15,
   "metadata": {},
   "outputs": [
    {
     "data": {
      "text/plain": [
       "'Jane Judy'"
      ]
     },
     "execution_count": 15,
     "metadata": {},
     "output_type": "execute_result"
    }
   ],
   "source": [
    "person2['name']"
   ]
  },
  {
   "cell_type": "markdown",
   "metadata": {},
   "source": [
    "Dictionary에 없는 Key(키)값을 주었을 경우,  `KeyError` 가 발생합니다."
   ]
  },
  {
   "cell_type": "code",
   "execution_count": 16,
   "metadata": {},
   "outputs": [
    {
     "ename": "KeyError",
     "evalue": "'address'",
     "output_type": "error",
     "traceback": [
      "\u001b[1;31m---------------------------------------------------------------------------\u001b[0m",
      "\u001b[1;31mKeyError\u001b[0m                                  Traceback (most recent call last)",
      "\u001b[1;32m~\\AppData\\Local\\Temp\\ipykernel_7588\\786906807.py\u001b[0m in \u001b[0;36m<module>\u001b[1;34m\u001b[0m\n\u001b[1;32m----> 1\u001b[1;33m \u001b[0mperson1\u001b[0m\u001b[1;33m[\u001b[0m\u001b[1;34m'address'\u001b[0m\u001b[1;33m]\u001b[0m\u001b[1;33m\u001b[0m\u001b[1;33m\u001b[0m\u001b[0m\n\u001b[0m",
      "\u001b[1;31mKeyError\u001b[0m: 'address'"
     ]
    }
   ],
   "source": [
    "person1['address']"
   ]
  },
  {
   "cell_type": "markdown",
   "metadata": {},
   "source": [
    "`get`메서드를 사용하여 Key(키)값에 해당하는 값(Value)에 접근할 수 있습니다."
   ]
  },
  {
   "cell_type": "code",
   "execution_count": 17,
   "metadata": {},
   "outputs": [
    {
     "data": {
      "text/plain": [
       "'Jane Judy'"
      ]
     },
     "execution_count": 17,
     "metadata": {},
     "output_type": "execute_result"
    }
   ],
   "source": [
    "person2.get(\"name\")"
   ]
  },
  {
   "cell_type": "markdown",
   "metadata": {},
   "source": [
    "`get`메서드도 Dictionary에 Key(키)가 없으면 초기값(None)을 반환합니다."
   ]
  },
  {
   "cell_type": "code",
   "execution_count": 18,
   "metadata": {},
   "outputs": [
    {
     "name": "stdout",
     "output_type": "stream",
     "text": [
      "Unknown\n"
     ]
    }
   ],
   "source": [
    "person2.get(\"address\", \"Unknown\") # Key 값에 해당하는 Value가 없으면 Unknown을 반환\n",
    "print(person2.get(\"address\",\"Unknown\"))"
   ]
  },
  {
   "cell_type": "markdown",
   "metadata": {},
   "source": [
    "`in` 연산자를 사용하여, 해당 키값의 존재여부를 판단할 수 있습니다."
   ]
  },
  {
   "cell_type": "code",
   "execution_count": 19,
   "metadata": {},
   "outputs": [
    {
     "data": {
      "text/plain": [
       "True"
      ]
     },
     "execution_count": 19,
     "metadata": {},
     "output_type": "execute_result"
    }
   ],
   "source": [
    "'name' in person1"
   ]
  },
  {
   "cell_type": "code",
   "execution_count": 20,
   "metadata": {},
   "outputs": [
    {
     "data": {
      "text/plain": [
       "False"
      ]
     },
     "execution_count": 20,
     "metadata": {},
     "output_type": "execute_result"
    }
   ],
   "source": [
    "'address' in person1"
   ]
  },
  {
   "cell_type": "markdown",
   "metadata": {},
   "source": [
    "### <span style='color:black; background-color:#f5f0ff;'>in을 사용하고 Dictionary key가 없을 때 KeyError를 처리하기보다는 get을 사용하라</span>\n",
    "\n",
    "Dictionary와 상호작용하는 세 가지 기본 연산은 키나 키에 연관된 값에 접근하고, 대입하고, 삭제하는 것입니다.  \n",
    "Dictionary의 내용은 동적이므로 어떤 키에 접근하거나 키를 삭제할 때 그 키가 Dictionary에 없을 수도 있고, 이런 일이 자주 일어납니다.  \n",
    "\n",
    "아래 예제에서 보다 자세히 설명하겠습니다. \n",
    "\n",
    "우선, 사람들이 각각의 빵에 얼마나 투표했는지 저장한 딕셔너리를 정의할 수 있습니다."
   ]
  },
  {
   "cell_type": "code",
   "execution_count": 21,
   "metadata": {},
   "outputs": [],
   "source": [
    "counters = {\n",
    "    '품퍼니켈': 2,\n",
    "    '사워도우': 1,\n",
    "}"
   ]
  },
  {
   "cell_type": "markdown",
   "metadata": {},
   "source": [
    "투표가 일어날 때 카운터를 증가시키려면, 먼저 키가 딕셔너리에 존재하는지 살펴봐야 합니다.  \n",
    "키가 없으면 디폴트 카운터 값인 0을 딕셔너리에 넣고, 그 카운터를 증가시킵니다.  \n",
    "이렇게 처리하려면 딕셔너리에서 키를 두 번 읽고, 키에 대한 값을 한 번 대입해야 합니다.\n",
    "\n",
    "아래는 이러한 과정을 처리하는 코드의 예시입니다."
   ]
  },
  {
   "cell_type": "code",
   "execution_count": 22,
   "metadata": {},
   "outputs": [],
   "source": [
    "# if문과 키가 존재할 때 참을 반환하는 in을 활용하는 방법\n",
    "key = '밀'\n",
    "\n",
    "if key in counters:\n",
    "    count = counters[key]\n",
    "else:\n",
    "    count = 0\n",
    "\n",
    "counters[key] = count + 1"
   ]
  },
  {
   "cell_type": "code",
   "execution_count": 28,
   "metadata": {},
   "outputs": [
    {
     "name": "stdout",
     "output_type": "stream",
     "text": [
      "ddd\n"
     ]
    }
   ],
   "source": [
    "person = {\n",
    "    'name': ['John Doe','hun','woo']\n",
    "}\n",
    "keyy = 'hun'\n",
    "if keyy in person:\n",
    "    print(\"asd\")\n",
    "else :\n",
    "    print(\"ddd\")"
   ]
  },
  {
   "cell_type": "markdown",
   "metadata": {},
   "source": [
    "존재하지 않는 키에 접근할 때 발생시키는 KeyError를 활용하는 방법입니다.  \n",
    "키를 한 번만 읽고, 값을 한 번만 대입하면 되므로 더 효율적입니다."
   ]
  },
  {
   "cell_type": "markdown",
   "metadata": {},
   "source": [
    "`get`의 두 번째 인자는 첫 번째 인자인 키가 딕셔너리에 들어있지 않을 때 돌려줄 디폴트 값인데, 이 방식도 키를 한 번만 읽고 값을 한 번만 대입하지만 <span style = \"color:yellow\">KeyError를 사용하는 예보다 코드가 훨씬 짧다는 장점이 있습니다.</span>"
   ]
  },
  {
   "cell_type": "code",
   "execution_count": 38,
   "metadata": {},
   "outputs": [
    {
     "name": "stdout",
     "output_type": "stream",
     "text": [
      "{'name': ['John Doe', 'hun', 'woo'], 'age': [11, 22, 33]}\n",
      "0\n",
      "[11, 22, 33]\n"
     ]
    }
   ],
   "source": [
    "test = {\n",
    "    'name': ['John Doe','hun','woo'],\n",
    "    'age' : [11,22,33]\n",
    "}\n",
    "\n",
    "first_key = 'dd'\n",
    "second_key = 'age'\n",
    "test_first = test.get(first_key, 0)\n",
    "test_second = test.get(second_key, 0)\n",
    "\n",
    "print(test)\n",
    "print(test_first)\n",
    "print(test_second)"
   ]
  },
  {
   "cell_type": "markdown",
   "metadata": {},
   "source": []
  },
  {
   "cell_type": "code",
   "execution_count": null,
   "metadata": {},
   "outputs": [],
   "source": [
    "# KeyError를 활용하는 방법\n",
    "try:\n",
    "    count = counters[key]\n",
    "except KeyError:\n",
    "    count = 0\n",
    "\n",
    "counters[key] = count + 1"
   ]
  },
  {
   "cell_type": "markdown",
   "metadata": {},
   "source": [
    "또한 딕셔너리에서는 키가 존재하면 그 값을 가져오고 존재하지 않으면 디폴트 값을 반환하는 흐름이 꽤 자주 일어납니다.  \n",
    "그래서 `dict` 내장 타입에는 이런 작업을 수행하는 `get` 메서드가 들어있습니다.  \n",
    "`get`의 두 번째 인자는 첫 번째 인자인 키가 딕셔너리에 들어있지 않을 때 돌려줄 디폴트 값인데, 이 방식도 키를 한 번만 읽고 값을 한 번만 대입하지만 <span style = \"color:yellow\">KeyError를 사용하는 예보다 코드가 훨씬 짧다는 장점이 있습니다.</span>"
   ]
  },
  {
   "cell_type": "code",
   "execution_count": null,
   "metadata": {},
   "outputs": [],
   "source": [
    "# get 메서드를 활용하는 방법\n",
    "count = counters.get(key, 0)\n",
    "counters[key] = count + 1"
   ]
  },
  {
   "cell_type": "markdown",
   "metadata": {},
   "source": [
    "`in`과 `KeyError`를 사용하는 방식을 여러 방법으로 더 짧게 쓸 수도 있지만, 어떤 방법을 써도 대입을 중복 사용해야 하므로 코드 가독성이 떨어져 사용하지 않는 편이 좋습니다. "
   ]
  },
  {
   "cell_type": "code",
   "execution_count": null,
   "metadata": {},
   "outputs": [],
   "source": [
    "if key not in counters:\n",
    "    counters[key] = 0\n",
    "\n",
    "counters[key] += 1\n",
    "\n",
    "if key in counters:\n",
    "    counters[key] += 1\n",
    "else:\n",
    "    counters[key] = 1\n",
    "\n",
    "try:\n",
    "    counters[key] += 1\n",
    "except KeyError:\n",
    "    counters[key] = 1\n"
   ]
  },
  {
   "cell_type": "markdown",
   "metadata": {},
   "source": [
    "따라서 간단한 타입의 값이 들어있는 딕셔너리의 경우 `get` 메서드를 사용하는 방법이 가장 코드가 짧고 깔끔합니다."
   ]
  },
  {
   "cell_type": "markdown",
   "metadata": {},
   "source": [
    "**하지만**, 딕셔너리에 저장된 값이 리스트처럼 더 복잡한 값이라면 어떻게 해야 할까요?  \n",
    "예를 들어 득표수만 세는 것이 아니라 어떤 사람이 어떤 유형의 빵에 투표했는지도 알고싶다고 가정해봅시다.  \n",
    "이런 경우에는 각 키마다 이름이 들어있는 리스트를 연관시킬 수 있습니다."
   ]
  },
  {
   "cell_type": "code",
   "execution_count": 33,
   "metadata": {},
   "outputs": [],
   "source": [
    "votes = {\n",
    "    '바게트': ['철수', '순이'],\n",
    "    '치아바타': ['하니', '유리'],\n",
    "}\n",
    "key = '부트캠프'\n",
    "who = '베이'"
   ]
  },
  {
   "cell_type": "code",
   "execution_count": 30,
   "metadata": {},
   "outputs": [
    {
     "name": "stdout",
     "output_type": "stream",
     "text": [
      "{'바게트': ['철수', '순이'], '치아바타': ['하니', '유리'], '브리오슈': ['단이']}\n"
     ]
    }
   ],
   "source": [
    "if key in votes:\n",
    "    names = votes[key]\n",
    "else:\n",
    "    votes[key] = names = []\n",
    "\n",
    "names.append(who)\n",
    "print(votes)"
   ]
  },
  {
   "cell_type": "markdown",
   "metadata": {},
   "source": [
    "`in`을 사용하면 키가 있는 경우에는 키를 두 번 읽어야 하고, 키가 없는 경우에는 값을 한 번 대입해야 합니다.  \n",
    "이 예제는 키가 존재하지 않을 때 맹목적으로 빈 리스트를 디폴트 값으로 대입할 수 있기 때문에 카운터 예제와는 다릅니다.  \n",
    "이중 대입문인 `votes[key] = names = []`는 키 대입을 두 줄이 아니라 한 줄로 처리합니다.  \n",
    "\n",
    "디폴트 값으로 빈 리스트를 딕셔너리에 넣고 나면 참조를 통해 리스트 내용을 변경할 수 있으므로, `append`를 호출한 다음 리스트를 다시 딕셔너리에 대입할 필요는 없습니다.  \n",
    "딕셔너리 값이 리스트인 경우 KeyError 예외가 발생한다는 사실에 의존할 수도 있습니다.  \n",
    "이 접근 방법을 사용하면 키가 있을 때는 키를 한 번만 읽으면 되고, 키가 없을 때는 키를 한 번 읽고 값을 한 번 대입하면 됩니다.  \n",
    "\n",
    "이 방법은 `in` 조건문을 사용하는 경우보다 더 효율적입니다."
   ]
  },
  {
   "cell_type": "code",
   "execution_count": 34,
   "metadata": {},
   "outputs": [
    {
     "name": "stdout",
     "output_type": "stream",
     "text": [
      "{'바게트': ['철수', '순이'], '치아바타': ['하니', '유리'], '부트캠프': ['베이']}\n"
     ]
    }
   ],
   "source": [
    "try:\n",
    "    names = votes[key]\n",
    "except KeyError:\n",
    "    votes[key] = names = []\n",
    "\n",
    "names.append(who)\n",
    "print(votes)"
   ]
  },
  {
   "cell_type": "markdown",
   "metadata": {},
   "source": [
    "마찬가지로, 키가 있을 때는 리스트 값을 가져오기 위해 `get` 메서드를 사용하고 키가 없을 때는 키를 한 번 읽고 대입을 한 번 사용할 수도 있습니다."
   ]
  },
  {
   "cell_type": "code",
   "execution_count": null,
   "metadata": {},
   "outputs": [],
   "source": [
    "names = votes.get(key)\n",
    "if names is None:\n",
    "    votes[key] = names = []\n",
    "\n",
    "names.append(who)"
   ]
  },
  {
   "cell_type": "markdown",
   "metadata": {},
   "source": [
    "`get`을 사용해 리스트 값을 가져오는 이 방식은 `if`문 안에 대입식을 사용하면 더 짧게 쓸 수 있어 가독성이 더 좋아집니다."
   ]
  },
  {
   "cell_type": "code",
   "execution_count": null,
   "metadata": {},
   "outputs": [],
   "source": [
    "if (names := votes.get(key)) is None:\n",
    "    votes[key] = names = []\n",
    "\n",
    "names.append(who)"
   ]
  },
  {
   "cell_type": "markdown",
   "metadata": {},
   "source": [
    "`dict` 타입은 이 패턴을 더 간단히 사용할 수 있게 해주는 `setdefault` 메서드를 제공합니다.  \n",
    "`setdefault`는 딕셔너리에서 키를 사용해 값을 가져오려고 시도합니다. 이 메서드는 키가 없으면 제공받은 디폴트 값을 키에 연관시켜 딕셔너리에 대입한 다음, 키에 연관된 값을 반환합니다.  \n",
    "이 값은 새로 저장된 디폴트 값일 수도 이쏙, 이미 딕셔너리에 있던 키에 해당하는 값일 수도 있습니다.  \n",
    "위에서 본 `get`과 똑같은 로직을 `setdefault`를 사용해 더 개선한 코드는 아래와 같습니다."
   ]
  },
  {
   "cell_type": "code",
   "execution_count": null,
   "metadata": {},
   "outputs": [],
   "source": [
    "names = votes.setdefault(key, [])\n",
    "names.append(who)"
   ]
  },
  {
   "cell_type": "markdown",
   "metadata": {},
   "source": [
    "`get`과 대입식을 사용하는 것보다 더 짧지만, 위의 예제는 두 가지 단점이 있습니다.  \n",
    "- 메서드 이름인 `setdefault`는 이 메서드의 동작을 직접적으로 분명히 드러내지 못하고 있어 `setdefault`라는 이름이 함수 자신의 역할을 제대로 설명하고 있지 못합니다.\n",
    "- 키가 없으면 `setdefault`에 전달된 디폴트 값이 별도로 복사되지 않고 딕셔너리에 직접 대입됩니다.\n",
    "\n",
    "아래는 값이 리스트인 경우 위와 같은 동작으로 인해 벌어지는 상황을 보여줍니다."
   ]
  },
  {
   "cell_type": "code",
   "execution_count": null,
   "metadata": {},
   "outputs": [],
   "source": [
    "data = {}\n",
    "key = 'foo'\n",
    "value = []\n",
    "data.setdefault(key, value)\n",
    "print('이전:', data)\n",
    "value.append('hello')\n",
    "print('이후: ', data)"
   ]
  },
  {
   "cell_type": "markdown",
   "metadata": {},
   "source": [
    "이는 키에 해당하는 디폴트 값을 `setdefault`에 전달할 때마다 그 값을 새로 만들어야 한다는 뜻입니다.  \n",
    "즉, 호출할 때마다 리스트를 만들어야 하므로 성능이 크게 저하될 수 있습니다.  \n",
    "만약 가독성과 효율성을 향상시키고자 디폴트 값에 사용하는 객체를 재활용한다면 이상한 동작을 하게되고, 버그가 발생할 것입니다.  \n",
    "\n",
    "누가 투표를 했는지 저장하는 리스트 대신 카운터를 사용하는 최초 예제로 돌아가 `setdefault`를 사용해 구현한 예제를 살펴보겠습니다."
   ]
  },
  {
   "cell_type": "code",
   "execution_count": null,
   "metadata": {},
   "outputs": [],
   "source": [
    "count = counters.setdefault(key, 0)\n",
    "counters[key] = count + 1"
   ]
  },
  {
   "cell_type": "markdown",
   "metadata": {},
   "source": [
    "위 예제의 문제점은 `setdefault`를 굳이 호출할 필요가 없다는 점입니다.  \n",
    "카운터를 증가시키고 나면 그 값을 항상 딕셔너리에 저장해야하기 때문에, `setdefault`가 수행하는 디폴트 값 대입은 불필요합니다.  \n",
    "처음에 본 `get`을 사용하는 접근 방법은 키가 없을 때 키를 한 번 읽고 한 번 대입해서 카운터를 증가시킬 수 있지만, `setdefault`를 사용하면 키를 한 번 읽고 대입을 두 번 수행합니다.  \n",
    "\n",
    "`setdefault`를 사용하는 것이 딕셔너리 키를 처리하는 지름길인 경우는 드뭅니다.  \n",
    "예를 들어 디폴트 값을 만들어내기 쉽거나, 디폴트 값이 변경 가능한 값이거나, 리스트 인스턴스처럼 값을 만들어낼 때 예외가 발생할 가능성이 없는 경우 `setdefault`를 사용할 수 있습니다.  \n",
    "이런 구체적인 경우에는 `get`을 사용해 여러 줄로 로직을 기술하는 것보다 `setdefault`라는 혼동을 야기할 수 있는 이름을 받아들이는 편이 더 나아보입니다.  \n",
    "\n",
    "**하지만 이런 상황에서도 실제로는 `defaultdict`를 사용하는 것으로 충분할 수도 있습니다.**  \n",
    "해결하려는 문제에 `dict`의 `setdefault` 메서드를 사용하는 방법이 가장 적합해 보인다면, `setdefault` 대신 `defaultdict`를 사용할지 고려해보십시오.\n",
    "* * *"
   ]
  },
  {
   "cell_type": "markdown",
   "metadata": {},
   "source": [
    "### <span style='color:black; background-color:#f5f0ff;'>내부 상태에서 원소가 없는 경우를 처리할 때는 setdefault 보다 defaultdict를 사용하라</span>\n",
    "\n"
   ]
  },
  {
   "cell_type": "markdown",
   "metadata": {},
   "source": [
    "* * *"
   ]
  },
  {
   "cell_type": "markdown",
   "metadata": {},
   "source": [
    "대입연산자(=)를 통하여 키값에 해당하는 값을 변경 할 수 있습니다."
   ]
  },
  {
   "cell_type": "code",
   "execution_count": null,
   "metadata": {},
   "outputs": [],
   "source": [
    "person2['married'] "
   ]
  },
  {
   "cell_type": "code",
   "execution_count": null,
   "metadata": {},
   "outputs": [],
   "source": [
    "person2['married'] = True"
   ]
  },
  {
   "cell_type": "code",
   "execution_count": null,
   "metadata": {},
   "outputs": [],
   "source": [
    "person2['married']"
   ]
  },
  {
   "cell_type": "markdown",
   "metadata": {},
   "source": [
    "Dictionary에서 대입연산자를 통해 `새로운 Key-Value` 쌍을 삽입할 수 있습니다."
   ]
  },
  {
   "cell_type": "code",
   "execution_count": null,
   "metadata": {},
   "outputs": [],
   "source": [
    "person1"
   ]
  },
  {
   "cell_type": "code",
   "execution_count": null,
   "metadata": {},
   "outputs": [],
   "source": [
    "person1['address'] = '1, Penny Lane'"
   ]
  },
  {
   "cell_type": "code",
   "execution_count": null,
   "metadata": {},
   "outputs": [],
   "source": [
    "person1"
   ]
  },
  {
   "cell_type": "markdown",
   "metadata": {},
   "source": [
    "`pop` 메서드를 사용하여 Key(키)값과 해당 Value값을 제거할 수 있습니다."
   ]
  },
  {
   "cell_type": "code",
   "execution_count": null,
   "metadata": {},
   "outputs": [],
   "source": [
    "person1.pop('address')"
   ]
  },
  {
   "cell_type": "code",
   "execution_count": null,
   "metadata": {},
   "outputs": [],
   "source": [
    "person1"
   ]
  },
  {
   "cell_type": "markdown",
   "metadata": {},
   "source": [
    "\n",
    "Dictionary 에서는 Key, Value , Key-Value 쌍의 list을 출력해주는 메서드를 제공합니다.\n"
   ]
  },
  {
   "cell_type": "code",
   "execution_count": null,
   "metadata": {},
   "outputs": [],
   "source": [
    "person1.keys()"
   ]
  },
  {
   "cell_type": "code",
   "execution_count": null,
   "metadata": {},
   "outputs": [],
   "source": [
    "person1.values()"
   ]
  },
  {
   "cell_type": "code",
   "execution_count": null,
   "metadata": {},
   "outputs": [],
   "source": [
    "person1.items()"
   ]
  },
  {
   "cell_type": "code",
   "execution_count": null,
   "metadata": {},
   "outputs": [],
   "source": [
    "person1.items()[1]"
   ]
  },
  {
   "cell_type": "markdown",
   "metadata": {},
   "source": [
    "### <span style = \"color:pink\">Quiz</span>\n",
    "위 결과와 같이,  \n",
    "`keys`,`values`,`items` 결과는 list형으로 보입니다. 하지만, 인덱싱 연산자 `[]`를 지원하지는 않습니다.\n",
    "\n",
    "위 함수의 결과에서 특정 인덱스의 요소에 접근하는 방법은 무엇일까요?       **hint** : 'list' 메서드 사용\n",
    "\n",
    "Dictionary 는 다양한 메서드를 제공합니다. 추가적으로 더 관심이 있으시면 다음 사이트를 참고하세요.: https://www.w3schools.com/python/python_ref_dictionary.asp ."
   ]
  },
  {
   "cell_type": "code",
   "execution_count": null,
   "metadata": {},
   "outputs": [],
   "source": [
    "# 실습 코드 작성"
   ]
  },
  {
   "cell_type": "code",
   "execution_count": null,
   "metadata": {},
   "outputs": [],
   "source": [
    "# 실습 코드 작성"
   ]
  },
  {
   "cell_type": "markdown",
   "metadata": {},
   "source": [
    "### <span style='color:black; background-color:#f5f0ff;'>정확도가 매우 중요한 경우에는 decimal을 사용하라</span>\n",
    "Python은 수치 데이터를 처리하는 코드를 작성하기에 매우 좋은 언어입니다.  \n",
    "python 정수 타입은 실용적으로 어떤 크기의 정수든 표현할 수 있고, 허수(imaginary)값을 포함하는 표준 복소수 타입도 제공합니다.  \n",
    "**하지만, 이런 타입들만으로는 충분하지 않은 경우가 있습니다.**  \n",
    "\n",
    "예를 들어, 국제 전화 고객에게 부과할 통화료를 계산하는 경우를 생각해보십시오.  \n",
    "고객이 통화한 시간을 분과 초 단위로 알고있으며, 미국과 남극 사이의 도수(분) 당 통화료가 1.45달러/분 이라고 했을 때, 전체 통화료는 얼마일까요?"
   ]
  },
  {
   "cell_type": "code",
   "execution_count": null,
   "metadata": {},
   "outputs": [],
   "source": [
    "rate = 1.45\n",
    "seconds = 3*60 + 42\n",
    "cost = rate * seconds / 60\n",
    "print(cost)"
   ]
  },
  {
   "cell_type": "markdown",
   "metadata": {},
   "source": [
    "위처럼 부동소수점 수를 사용한 계산 결과는 어느 정도 타당해보입니다.  \n",
    "float보다 2배 높은 정밀도를 가진 2배 정밀도 부동 소수점은 IEEE 754 표준을 따르는데, 이 IEEE 754 부동소수점 수의 내부(이진) 표현법으로 인해 결과는 올바른 값 (5.365)보다  \n",
    "0.00000000000001만큼 더 작습니다. 물론 이 값을 센트 단위로 반올림해서 고객에게 5.37 달러를 적절히 부과하자고 생각할 수도 있습니다.  \n",
    "\n",
    "하지만, 부동소수점 수의 오류로 인해 이 값을 가장 가까운 센트(0.01달러) 단위로 반올림하면, 최종 요금이 늘어나지 않고 아래와 같이 줄어들게 됩니다.  \n",
    "5.364가 5.36으로 버려졌음을 확인할 수 있습니다."
   ]
  },
  {
   "cell_type": "code",
   "execution_count": null,
   "metadata": {},
   "outputs": [],
   "source": [
    "print(round(cost, 2))"
   ]
  },
  {
   "cell_type": "markdown",
   "metadata": {},
   "source": [
    "이 문제에 대한 해결 방법은 `decimal` 내장 모듈에 들어있는 `Decimal` 클래스를 사용하는 것입니다.  \n",
    "`Decimal` 클래스는 디폴트로 소수점 이하 28번째 자리까지 고정소수점 수 연산을 제공하고, 심지어 자릿수를 더 늘릴 수도 있습니다.  \n",
    "이 기능을 활용하면 IEEE 754 부동소수점 수에 존재하는 문제를 우회할 수 있고, `Decimal`을 사용하면 반올림 처리도 원하는대로 더 정확히 할 수 있습니다.\n",
    "\n",
    "예를 들어, 이전 문제의 통화료 문제를 `Decimal`을 사용해 처리하면 근사치가 아니라 정확한 요금을 구할 수 있습니다."
   ]
  },
  {
   "cell_type": "code",
   "execution_count": null,
   "metadata": {},
   "outputs": [],
   "source": [
    "from decimal import Decimal\n",
    "\n",
    "rate = Decimal('1.45')\n",
    "seconds = Decimal(3*60 + 42)\n",
    "cost = rate * seconds / Decimal(60)\n",
    "print(cost)"
   ]
  },
  {
   "cell_type": "markdown",
   "metadata": {},
   "source": [
    "`Decimal` 인스턴스에 값을 지정하는 방법은 두 가지가 있습니다.  \n",
    "- 숫자가 들어있는 `str`을 `Decimal` 생성자에 전달하는 방법  \n",
    "이렇게 하면 Python 부동소수점 수의 근본적인 특성으로 인해 발생하는 정밀도 손실을 막을 수 있다.\n",
    "- `int`나 `float` 인스턴스를 생성자에 전달하는 방법"
   ]
  },
  {
   "cell_type": "code",
   "execution_count": null,
   "metadata": {},
   "outputs": [],
   "source": [
    "print(Decimal('1.45'))\n",
    "print(Decimal(1.45))"
   ]
  },
  {
   "cell_type": "markdown",
   "metadata": {},
   "source": [
    "`Decimal` 생성자에 정수를 넘기는 경우에는 이런 문제가 발생하지 않습니다.  \n",
    "\n",
    "만약 정확한 답이 필요하다면, 좀 더 주의를 기울여서 `Decimal` 타입 생성자에 `str`을 사용하십시오.  \n",
    "다시 통화료 예제로 돌아가서 연결 비용이 훨씬 저렴한 지역 사이의 아주 짧은 통화도 지원하고 싶다고 가정해봅시다.  \n",
    "예를 들어 통화 시간은 5초, 통화료는 분당 0.05원입니다.\n"
   ]
  },
  {
   "cell_type": "code",
   "execution_count": null,
   "metadata": {},
   "outputs": [],
   "source": [
    "rate = Decimal('0.05')\n",
    "seconds = Decimal('5')\n",
    "small_cost = rate * seconds / Decimal(60)\n",
    "print(small_cost)"
   ]
  },
  {
   "cell_type": "markdown",
   "metadata": {},
   "source": [
    "이 경우, 계산한 값이 너무 작아서 센트 단위로 반올림하면 0이 나옵니다.  \n",
    "이런 일은 발생하면 안되겠죠?"
   ]
  },
  {
   "cell_type": "code",
   "execution_count": null,
   "metadata": {},
   "outputs": [],
   "source": [
    "print(round(small_cost, 2))"
   ]
  },
  {
   "cell_type": "markdown",
   "metadata": {},
   "source": [
    "다행히도, `Decimal` 클래스에는 원하는 소수점 이하 자리까지 원하는 방식으로 근삿값을 계산하는 `quantize`라는 내장 함수가 들어있습니다.  \n",
    "이 방식은 앞에서 다뤘던 비싼 통화료의 경우에도 잘 작동합니다.  "
   ]
  },
  {
   "cell_type": "code",
   "execution_count": null,
   "metadata": {},
   "outputs": [],
   "source": [
    "from decimal import ROUND_UP\n",
    "rounded = cost.quantize(Decimal('0.01'), rounding=ROUND_UP)\n",
    "print(f'반올림 전: {cost} 반올림 후: {rounded}')"
   ]
  },
  {
   "cell_type": "markdown",
   "metadata": {},
   "source": [
    "`quantize` 메서드를 이런 방식으로 사용하면 통화 시간이 짧고 요금이 저렴한 통화료도 제대로 처리할 수 있습니다."
   ]
  },
  {
   "cell_type": "code",
   "execution_count": null,
   "metadata": {},
   "outputs": [],
   "source": [
    "rounded = small_cost.quantize(Decimal('0.01'),\n",
    "                              rounding=ROUND_UP)\n",
    "print(f'반올림 전: {small_cost} 반올림 후: {rounded}')"
   ]
  },
  {
   "cell_type": "markdown",
   "metadata": {},
   "source": [
    "위의 내용을 정리하면, 아래와 같습니다.:\n",
    "- Python은 실질적으로 모든 유형의 숫자 값을 표현할 수 있는 내장 타입과 클래스를 제공한다.\n",
    "- 돈과 관련된 계산 등과 같이 높은 정밀도가 필요하거나 근삿값 계산을 원하는 대로 제어해야 할 때는 `Decimal` 클래스가 이상적이다.\n",
    "- 부동소수점 수로 계산한 근삿값이 아니라 정확한 답을 계산해야 한다면 `Decimal` 생성자에 `float` 인스턴스 대신 `str` 인스턴스를 넘겨라."
   ]
  },
  {
   "cell_type": "markdown",
   "metadata": {},
   "source": [
    "* * *"
   ]
  },
  {
   "cell_type": "markdown",
   "metadata": {},
   "source": [
    "### <span style = \"color:pink\">Quiz</span>\n",
    "\n",
    "* 만약에 동일한 dictionary를 선언할 때, 동일한 키값을 여러번 선언한다면 어떻게 될까?\n",
    "* dictionary를 복사하려면 어떻게 해야 할까?(수정하여도 원본에는 영향이 가지 않는다.)\n",
    "* 키 자체와 관련된 값이 dictionary가 될 수 있는가?\n",
    "* dictionary의 키-값 쌍을 다른 dictionary의 추가를 어떻게 해야 할까? Hint:  `update` 메서드 참조.\n",
    "* 키값이 문자열이 아니어도 되는가,  숫자, boolean, list, 등.?"
   ]
  },
  {
   "cell_type": "code",
   "execution_count": null,
   "metadata": {},
   "outputs": [],
   "source": [
    "# 실습 코드 작성"
   ]
  },
  {
   "cell_type": "code",
   "execution_count": null,
   "metadata": {},
   "outputs": [],
   "source": [
    "# 실습 코드 작성"
   ]
  },
  {
   "cell_type": "code",
   "execution_count": null,
   "metadata": {},
   "outputs": [],
   "source": [
    "# 실습 코드 작성"
   ]
  },
  {
   "cell_type": "code",
   "execution_count": null,
   "metadata": {},
   "outputs": [],
   "source": [
    "# 실습 코드 작성"
   ]
  },
  {
   "cell_type": "code",
   "execution_count": null,
   "metadata": {},
   "outputs": [],
   "source": [
    "# 실습 코드 작성"
   ]
  },
  {
   "cell_type": "markdown",
   "metadata": {},
   "source": [
    "## Further Reading\n",
    "\n",
    "이제 Python에서 변수와 공통 데이터 유형에 대한 탐색을 완료했습니다. 다음은 Python의 데이터 유형에 대해 자세히 알아보기 위한 몇 가지 리소스입니다.:\n",
    "\n",
    "* Python official documentation: https://docs.python.org/3/tutorial/index.html\n",
    "* Python Tutorial at W3Schools: https://www.w3schools.com/python/\n",
    "* Practical Python Programming: https://dabeaz-course.github.io/practical-python/Notes/Contents.html"
   ]
  }
 ],
 "metadata": {
  "interpreter": {
   "hash": "ecb7e032ea62903431d7aa566e61206a52e075194918ba5f5cb9487571a67931"
  },
  "kernelspec": {
   "display_name": "Python 3.7.13 64-bit ('test': conda)",
   "name": "python3"
  },
  "language_info": {
   "codemirror_mode": {
    "name": "ipython",
    "version": 3
   },
   "file_extension": ".py",
   "mimetype": "text/x-python",
   "name": "python",
   "nbconvert_exporter": "python",
   "pygments_lexer": "ipython3",
   "version": "3.7.13"
  },
  "vscode": {
   "interpreter": {
    "hash": "cfe99ec1b02e5c008e5a6d5009e34d19dadc45b4a9f31d7dbbcfde9b74a6f07d"
   }
  }
 },
 "nbformat": 4,
 "nbformat_minor": 4
}
