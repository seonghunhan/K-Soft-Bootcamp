{
 "cells": [
  {
   "cell_type": "markdown",
   "metadata": {},
   "source": [
    "# Python에서 조건문 및 루프를 사용한 분기\n",
    "![](https://i.imgur.com/7RfcHV0.png)\n",
    "\n",
    "## Part 3: Python을 사용한 데이터 분석: 0부터 Pandas까지\n",
    "\n",
    "본 튜토리얼 시리즈는 초보자를 위한 Python을 이용한 프로그래밍과 데이터 분석을 소개합니다.   \n",
    "이 튜토리얼은 실용적이고 코딩 중심적인 접근으로 진행됩니다.\n",
    "본 튜토리얼을 효율적으로 학습하는 가장 좋은 방법은 코드를 실행하고 직접 사용해 보는 것입니다.\n",
    "\n"
   ]
  },
  {
   "cell_type": "markdown",
   "metadata": {},
   "source": [
    "해당 튜토리얼에서는 다음 주제를 다룹니다.:\n",
    "\n",
    "- `if`, `else`, `elif` 을 이용한 분기\n",
    "- 중첩 조건문과 `if` 표현식\n",
    "- `while` 반복문\n",
    "-  `for` 반복문\n",
    "- 중첩 반복문, `break` 과 `continue` 설명"
   ]
  },
  {
   "cell_type": "markdown",
   "metadata": {},
   "source": [
    "## `if`, `else` ,`elif` 이란\n",
    "\n",
    "프로그래밍 언어의 가장 강력한 기능 중 하나이자, 하나 이상의 조건이 참인지 거짓인지의 여부에 따라 의사 결정을 내리고 문장을 실행하는 기능인 *분기*입니다.\n",
    "\n",
    "### The `if` statement\n",
    "\n",
    "Python 에서는 `if`문을 사용하여 분기를 구현합니다.\n",
    "\n",
    "```\n",
    "if condition:\n",
    "    statement1\n",
    "    statement2\n",
    "```\n",
    "\n",
    "`조건`은 값, 변수, 표현식이 될 수 있습니다. 조건이 `True`로 평가되면 **if 구문**내에서 코드가 실행됩니다.  \n",
    "`statement1` ,`statement2`처럼 보통 앞에 4개의 공백을 두어 구성합니다. 2개 또는 4개의 공백을 사용하지만, 일반적으로는 4개가 사용됩니다.  \n",
    "위의 코드에서 알 수 있듯이, Python 에서 공백은 어떤 구문에 포함되는지를 표현하는 방법입니다.  \n",
    "공백을 추가하여 코드를 구성하는 이 기술을 **Indentation(인덴테이션)** 이라고 합니다.\n",
    "\n",
    "> **Indentation**: Python 은 코드 구조를 정의하기 위해 **Indentation**에 크게 의존합니다. 따라서 Python 코드를 쉽게 읽고 이해할 수 있습니다.  \n",
    "만약, Indent를 제대로 사용하지 않으면 문제가 발생할 수 있습니다. 줄의 시작 부분에 커서를 놓고 'Tab' 키를 한 번 눌러 4개의 공백을 추가하여 코드를 입력하세요.  \n",
    "Tab을 다시 누르면 코드가 4칸 더 들어가고 Shift+Tab을 누르면 4칸 더 들어갑니다.\n",
    "\n",
    "\n",
    "예를 들어, 특정 숫자가 짝수이면 메시지를 확인하고 인쇄하기 위한 코드를 작성하겠습니다."
   ]
  },
  {
   "cell_type": "code",
   "execution_count": 1,
   "metadata": {},
   "outputs": [],
   "source": [
    "a_number = 34"
   ]
  },
  {
   "cell_type": "code",
   "execution_count": 2,
   "metadata": {},
   "outputs": [
    {
     "name": "stdout",
     "output_type": "stream",
     "text": [
      "We're inside an if block\n",
      "The given number 34 is even.\n"
     ]
    }
   ],
   "source": [
    "if a_number % 2 == 0:\n",
    "    print(\"We're inside an if block\")\n",
    "    print('The given number {} is even.'.format(a_number))"
   ]
  },
  {
   "cell_type": "markdown",
   "metadata": {},
   "source": [
    "`a_number`를 2로 나눈 나머지를 계산하려면 계수 연산자 `%`를 사용합니다. 그럼 다음 나머지가 0인지를 비교 연산자 `==`를 사용하여 비교하고, 짝수인지 여부를 판단합니다.\n",
    "\n",
    "`34`는 2로 나누어 떨어지기 때문에 `a_number % 2 == 0`이라는 표현은 `True` 평가되므로 `if`문 내부가 코드가 실행됩니다.  \n",
    "또한 문자열 `format`메서드를 사용하여 print될 메시지에 숫자를 포함합니다.\n",
    "\n",
    "위의 내용을 홀수로 다시 한 번 시도해 봅시다."
   ]
  },
  {
   "cell_type": "code",
   "execution_count": 5,
   "metadata": {},
   "outputs": [],
   "source": [
    "another_number = 33"
   ]
  },
  {
   "cell_type": "code",
   "execution_count": 6,
   "metadata": {},
   "outputs": [],
   "source": [
    "if another_number % 2 == 0:\n",
    "    print('The given number {} is even.'.format(a_number))"
   ]
  },
  {
   "cell_type": "markdown",
   "metadata": {},
   "source": [
    "'another_number %2 == 0' 조건이 'False'로 평가되므로 메시지가 출력되지 않습니다.\n",
    "\n",
    "### `else` 문\n",
    "\n",
    "위 예의 조건을 만족하지 않는 경우, 다른 메시지를 출력할 수 있습니다. 이것은 `else` 문을 통해 구현할 수 있습니다.:\n",
    "\n",
    "```\n",
    "if condition:\n",
    "    statement1\n",
    "    statement2\n",
    "else:\n",
    "    statement4\n",
    "    statement5\n",
    "\n",
    "```\n",
    "\n",
    "`조건`이 `True`가 되면, `if` 내부 코드가 실행되고, `False`가 될 경우, `else`문이 실행된다."
   ]
  },
  {
   "cell_type": "code",
   "execution_count": 3,
   "metadata": {},
   "outputs": [],
   "source": [
    "a_number = 34"
   ]
  },
  {
   "cell_type": "code",
   "execution_count": 4,
   "metadata": {},
   "outputs": [
    {
     "name": "stdout",
     "output_type": "stream",
     "text": [
      "The given number 34 is even.\n"
     ]
    }
   ],
   "source": [
    "if a_number % 2 == 0:\n",
    "    print('The given number {} is even.'.format(a_number))\n",
    "else:\n",
    "    print('The given number {} is odd.'.format(a_number))"
   ]
  },
  {
   "cell_type": "code",
   "execution_count": 5,
   "metadata": {},
   "outputs": [],
   "source": [
    "another_number = 33"
   ]
  },
  {
   "cell_type": "code",
   "execution_count": 6,
   "metadata": {},
   "outputs": [
    {
     "name": "stdout",
     "output_type": "stream",
     "text": [
      "The given number 33 is odd.\n"
     ]
    }
   ],
   "source": [
    "if another_number % 2 == 0:\n",
    "    print('The given number {} is even.'.format(another_number))\n",
    "else:\n",
    "    print('The given number {} is odd.'.format(another_number))"
   ]
  },
  {
   "cell_type": "markdown",
   "metadata": {},
   "source": [
    "아래는 `in` 연산자를 사용하여 tuple의 값들을 확인하는 예제 코드 입니다."
   ]
  },
  {
   "cell_type": "code",
   "execution_count": 9,
   "metadata": {},
   "outputs": [],
   "source": [
    "the_3_musketeers = ('Athos', 'Porthos', 'Aramis')"
   ]
  },
  {
   "cell_type": "code",
   "execution_count": 10,
   "metadata": {},
   "outputs": [],
   "source": [
    "a_candidate = \"D'Artagnan\""
   ]
  },
  {
   "cell_type": "code",
   "execution_count": 11,
   "metadata": {},
   "outputs": [
    {
     "name": "stdout",
     "output_type": "stream",
     "text": [
      "D'Artagnan is not a musketeer\n"
     ]
    }
   ],
   "source": [
    "if a_candidate in the_3_musketeers:\n",
    "    print(\"{} is a musketeer\".format(a_candidate))\n",
    "else:\n",
    "    print(\"{} is not a musketeer\".format(a_candidate))"
   ]
  },
  {
   "cell_type": "markdown",
   "metadata": {},
   "source": [
    "### `elif`문\n",
    "Python은 연속 조건문 사용을 위해  `elif`문을 제공합니다. 이 때, 조건은 하나씩 차례대로 비교(평가) 됩니다.  \n",
    "첫번째 조건은 `True`이면 해당 조건문은 실행되지만, 나머지 조건문은 실행되지 않습니다.  \n",
    "`if`,`elif`,`elif` ... 연쇄적으로 있는 상황에서 조건이 `True`가 되는 첫번째 조건문만 실행됩니다."
   ]
  },
  {
   "cell_type": "code",
   "execution_count": 12,
   "metadata": {},
   "outputs": [],
   "source": [
    "today = 'Wednesday'"
   ]
  },
  {
   "cell_type": "code",
   "execution_count": 13,
   "metadata": {},
   "outputs": [
    {
     "name": "stdout",
     "output_type": "stream",
     "text": [
      "Today is the day of Odin, the supreme diety.\n"
     ]
    }
   ],
   "source": [
    "if today == 'Sunday':\n",
    "    print(\"Today is the day of the sun.\")\n",
    "elif today == 'Monday':\n",
    "    print(\"Today is the day of the moon.\")\n",
    "elif today == 'Tuesday':\n",
    "    print(\"Today is the day of Tyr, the god of war.\")\n",
    "elif today == 'Wednesday':\n",
    "    print(\"Today is the day of Odin, the supreme diety.\")\n",
    "elif today == 'Thursday':\n",
    "    print(\"Today is the day of Thor, the god of thunder.\")\n",
    "elif today == 'Friday':\n",
    "    print(\"Today is the day of Frigga, the goddess of beauty.\")\n",
    "elif today == 'Saturday':\n",
    "    print(\"Today is the day of Saturn, the god of fun and feasting.\")"
   ]
  },
  {
   "cell_type": "markdown",
   "metadata": {},
   "source": [
    "위의 예제에서는 처음 3개의 조건이 `False`로 메세지가 출력되지 않습니다. 4번째 조건은 `True`가 되어 해당 조건문에 해당되는 메세지가 실행되고, 남은 조건문은 무시됩니다.   \n",
    "실제로 나머지 조건들이 무시되는지 확인하기 위하여 다른 예들을 살펴봅시다."
   ]
  },
  {
   "cell_type": "code",
   "execution_count": 14,
   "metadata": {},
   "outputs": [],
   "source": [
    "a_number = 15"
   ]
  },
  {
   "cell_type": "code",
   "execution_count": 15,
   "metadata": {},
   "outputs": [
    {
     "name": "stdout",
     "output_type": "stream",
     "text": [
      "15 is divisible by 3\n"
     ]
    }
   ],
   "source": [
    "if a_number % 2 == 0:\n",
    "    print('{} is divisible by 2'.format(a_number))\n",
    "elif a_number % 3 == 0:\n",
    "    print('{} is divisible by 3'.format(a_number))\n",
    "elif a_number % 5 == 0:\n",
    "    print('{} is divisible by 5'.format(a_number))\n",
    "elif a_number % 7 == 0:\n",
    "    print('{} is divisible by 7'.format(a_number))"
   ]
  },
  {
   "cell_type": "markdown",
   "metadata": {},
   "source": [
    " 이전 `a_number % 3 == 0` 조건이 참이되어 `a_number % 5 == 0` 조건이 무시되고 이로인해  `15 is divisible by 5` 는 출력되지 않습니다.  \n",
    " `if`문만 사용했을 때, 각 조건이 독립적으로 평가되는 것과 달리 `if` ,`elif`문에서는 선행 조건이 뒤 조건을 판정할지 영향을 주는 것을 확인할 수 있습니다."
   ]
  },
  {
   "cell_type": "code",
   "execution_count": 16,
   "metadata": {},
   "outputs": [
    {
     "name": "stdout",
     "output_type": "stream",
     "text": [
      "15 is divisible by 3\n",
      "15 is divisible by 5\n"
     ]
    }
   ],
   "source": [
    "if a_number % 2 == 0:\n",
    "    print('{} is divisible by 2'.format(a_number))\n",
    "if a_number % 3 == 0:\n",
    "    print('{} is divisible by 3'.format(a_number))\n",
    "if a_number % 5 == 0:\n",
    "    print('{} is divisible by 5'.format(a_number))\n",
    "if a_number % 7 == 0:\n",
    "    print('{} is divisible by 7'.format(a_number))"
   ]
  },
  {
   "cell_type": "markdown",
   "metadata": {},
   "source": [
    "### `if`, `elif`, 그리고 `else` 같이 사용하기\n",
    "\n",
    "`else`문은 `if` , `elif`...문의 마지막에 사용됩니다. `else` 블럭은 선행조건문에서 `True` 판정이 없을 때 실행됩니다.  \n"
   ]
  },
  {
   "cell_type": "code",
   "execution_count": 17,
   "metadata": {},
   "outputs": [],
   "source": [
    "a_number = 49"
   ]
  },
  {
   "cell_type": "code",
   "execution_count": 18,
   "metadata": {},
   "outputs": [
    {
     "name": "stdout",
     "output_type": "stream",
     "text": [
      "All checks failed!\n",
      "49 is not divisible by 2, 3 or 5\n"
     ]
    }
   ],
   "source": [
    "if a_number % 2 == 0:\n",
    "    print('{} is divisible by 2'.format(a_number))\n",
    "elif a_number % 3 == 0:\n",
    "    print('{} is divisible by 3'.format(a_number))\n",
    "elif a_number % 5 == 0:\n",
    "    print('{} is divisible by 5'.format(a_number))\n",
    "else:\n",
    "    print('All checks failed!')\n",
    "    print('{} is not divisible by 2, 3 or 5'.format(a_number))"
   ]
  },
  {
   "cell_type": "markdown",
   "metadata": {},
   "source": [
    "조건은 논리 연산자 `and`, `or` , `not` 와 같이 결합될 수 있습니다. 논리 연산자에 대한 설명은 다음을 참조하시기 바랍니다. [first tutorial](https://jovian.ml/aakashns/first-steps-with-python/v/4#C49)."
   ]
  },
  {
   "cell_type": "code",
   "execution_count": 19,
   "metadata": {},
   "outputs": [],
   "source": [
    "a_number = 12"
   ]
  },
  {
   "cell_type": "code",
   "execution_count": 20,
   "metadata": {},
   "outputs": [
    {
     "name": "stdout",
     "output_type": "stream",
     "text": [
      "The number 12 is not divisible by 5\n"
     ]
    }
   ],
   "source": [
    "if a_number % 3 == 0 and a_number % 5 == 0:\n",
    "    print(\"The number {} is divisible by 3 and 5\".format(a_number))\n",
    "elif not a_number % 5 == 0:\n",
    "    print(\"The number {} is not divisible by 5\".format(a_number))"
   ]
  },
  {
   "cell_type": "markdown",
   "metadata": {},
   "source": [
    "\n",
    "### Boolean이 아닌 조건\n",
    "조건이 꼭 boolean형일 필요는 없습니다. 실제로, 어떤 값이든 조건이 될 수 있습니다.  \n",
    "조건은 `bool`함수를 통해 자동으로 boolean 타입으로 변환됩니다. **falsy** 값인 `0`,`0`, `''`, `{}`, `[]`,`False` 는 `False`로, 나머지는 `True`가 됩니다."
   ]
  },
  {
   "cell_type": "code",
   "execution_count": 7,
   "metadata": {},
   "outputs": [
    {
     "name": "stdout",
     "output_type": "stream",
     "text": [
      "The condition evaluted to False\n"
     ]
    }
   ],
   "source": [
    "if '':\n",
    "    print('The condition evaluted to True')\n",
    "else:\n",
    "    print('The condition evaluted to False')"
   ]
  },
  {
   "cell_type": "code",
   "execution_count": 8,
   "metadata": {},
   "outputs": [
    {
     "name": "stdout",
     "output_type": "stream",
     "text": [
      "The condition evaluted to True\n"
     ]
    }
   ],
   "source": [
    "if 'Hello':\n",
    "    print('The condition evaluted to True')\n",
    "else:\n",
    "    print('The condition evaluted to False')"
   ]
  },
  {
   "cell_type": "code",
   "execution_count": 9,
   "metadata": {},
   "outputs": [
    {
     "name": "stdout",
     "output_type": "stream",
     "text": [
      "The condition evaluted to True\n"
     ]
    }
   ],
   "source": [
    "if { 'a': 34 }:\n",
    "    print('The condition evaluted to True')\n",
    "else:\n",
    "    print('The condition evaluted to False')"
   ]
  },
  {
   "cell_type": "code",
   "execution_count": 10,
   "metadata": {},
   "outputs": [
    {
     "name": "stdout",
     "output_type": "stream",
     "text": [
      "The condition evaluted to False\n"
     ]
    }
   ],
   "source": [
    "if None:\n",
    "    print('The condition evaluted to True')\n",
    "else:\n",
    "    print('The condition evaluted to False')"
   ]
  },
  {
   "cell_type": "markdown",
   "metadata": {},
   "source": [
    "### 중첩 조건문\n",
    "\n",
    "\n",
    "`if` 문 안에 다시 `if`문이 포함될 수 있습니다. 이러한 방식을 `nesting` 이라고 부르며, 특정 조건이 `True`인 상황에서 조건을 확인하기 위하여 사용됩니다."
   ]
  },
  {
   "cell_type": "code",
   "execution_count": 11,
   "metadata": {},
   "outputs": [],
   "source": [
    "a_number = 15"
   ]
  },
  {
   "cell_type": "code",
   "execution_count": 12,
   "metadata": {},
   "outputs": [
    {
     "name": "stdout",
     "output_type": "stream",
     "text": [
      "15 is odd\n",
      "15 is also divisible by 5\n"
     ]
    }
   ],
   "source": [
    "if a_number % 2 == 0:\n",
    "    print(\"{} is even\".format(a_number))\n",
    "    if a_number % 3 == 0:\n",
    "        print(\"{} is also divisible by 3\".format(a_number))\n",
    "    else:\n",
    "        print(\"{} is not divisibule by 3\".format(a_number))\n",
    "else:\n",
    "    print(\"{} is odd\".format(a_number))\n",
    "    if a_number % 5 == 0:\n",
    "        print(\"{} is also divisible by 5\".format(a_number))\n",
    "    else:\n",
    "        print(\"{} is not divisibule by 5\".format(a_number))"
   ]
  },
  {
   "cell_type": "markdown",
   "metadata": {},
   "source": [
    "> `if`,`else` 문 중첩은 종종 사람들에게 혼란을 주므로. 가능한한 중첩을 피하고 1~2단계정도만 제한하는 것이 좋습니다."
   ]
  },
  {
   "cell_type": "markdown",
   "metadata": {},
   "source": [
    "## 조건식 `if`의 축약\n",
    "<!--### Shorthand `if` conditional expression-->\n",
    "\n",
    "`if` 문은 조건을 확인하고 조건에 따라 변수값을 설정하는데 자주 사용됩니다\\. "
   ]
  },
  {
   "cell_type": "code",
   "execution_count": 13,
   "metadata": {},
   "outputs": [
    {
     "name": "stdout",
     "output_type": "stream",
     "text": [
      "The number 13 is odd.\n"
     ]
    }
   ],
   "source": [
    "a_number = 13\n",
    "\n",
    "if a_number % 2 == 0:\n",
    "    parity = 'even'\n",
    "else:\n",
    "    parity = 'odd'\n",
    "\n",
    "print('The number {} is {}.'.format(a_number, parity))"
   ]
  },
  {
   "cell_type": "markdown",
   "metadata": {},
   "source": [
    "Python 은 한줄에 조건을 작성하기 위하여, 축약형을 제공합니다. 이것을  **조건표현식**이라고 하며, 이를 위한 **삼항 조건 연산자** 조건표현식은 아래 문법을 따릅니다.\n",
    "\n",
    "```\n",
    "x = true_value if condition else false_value\n",
    "```\n",
    "이것을 `if` - `else`로 구현하면 다음과 같습니다.\n",
    "\n",
    "```\n",
    "if condition:\n",
    "    x = true_value\n",
    "else:\n",
    "    x = false_value\n",
    "```"
   ]
  },
  {
   "cell_type": "code",
   "execution_count": 28,
   "metadata": {},
   "outputs": [],
   "source": [
    "parity = 'even' if a_number % 2 == 0 else 'odd'"
   ]
  },
  {
   "cell_type": "code",
   "execution_count": 29,
   "metadata": {},
   "outputs": [
    {
     "name": "stdout",
     "output_type": "stream",
     "text": [
      "The number 13 is odd.\n"
     ]
    }
   ],
   "source": [
    "print('The number {} is {}.'.format(a_number, parity))"
   ]
  },
  {
   "cell_type": "markdown",
   "metadata": {},
   "source": [
    "### `pass` 문\n",
    "\n",
    "`if`문은 빈값이 들어갈 수 없고 최소한 하나 이상의 명령문이 들어가야 합니다. `pass`문을 사용하여 어떠한 명령도 수행하지 않고도 오류가 발생하지 않게 할 수 있습니다."
   ]
  },
  {
   "cell_type": "code",
   "execution_count": 32,
   "metadata": {},
   "outputs": [],
   "source": [
    "a_number = 9"
   ]
  },
  {
   "cell_type": "code",
   "execution_count": 33,
   "metadata": {},
   "outputs": [
    {
     "ename": "IndentationError",
     "evalue": "expected an indented block (<ipython-input-33-77268dd66617>, line 2)",
     "output_type": "error",
     "traceback": [
      "\u001b[0;36m  File \u001b[0;32m\"<ipython-input-33-77268dd66617>\"\u001b[0;36m, line \u001b[0;32m2\u001b[0m\n\u001b[0;31m    elif a_number % 3 == 0:\u001b[0m\n\u001b[0m    ^\u001b[0m\n\u001b[0;31mIndentationError\u001b[0m\u001b[0;31m:\u001b[0m expected an indented block\n"
     ]
    }
   ],
   "source": [
    "if a_number % 2 == 0:\n",
    "elif a_number % 3 == 0:\n",
    "    print('{} is divisible by 3 but not divisible by 2')"
   ]
  },
  {
   "cell_type": "code",
   "execution_count": 34,
   "metadata": {},
   "outputs": [
    {
     "name": "stdout",
     "output_type": "stream",
     "text": [
      "9 is divisible by 3 but not divisible by 2\n"
     ]
    }
   ],
   "source": [
    "if a_number % 2 == 0:\n",
    "    pass\n",
    "elif a_number % 3 == 0:\n",
    "    print('{} is divisible by 3 but not divisible by 2'.format(a_number))"
   ]
  },
  {
   "cell_type": "markdown",
   "metadata": {},
   "source": [
    "## While 루프를 사용한 반복\n",
    "\n",
    "\n",
    "조건문이 사용가능한 프로그래밍 언어들의 큰 강점은 하나 이상의 명령문을 여러 번 실행시킬 수 있다는 것입니다.    \n",
    "이러한 특징을 **반복문** 이라고 하며, Python에서는 `while` 반복문과 `for` 반복문이 있습니다.\n",
    "\n",
    "`while`반복문에 사용법은 아래와 같습니다:\n",
    "\n",
    "```\n",
    "while condition:\n",
    "    statement(s)\n",
    "```\n",
    "`while`문 안에 명령은 반복문의 `조건`이 `True`인해 반복해서 실행됩니다. 또한 일반적으로, `while`문 안에는 특정 반복횟수에 도달하면 조건상태를 `False`로 만드는 명령문이 존재합니다.  \n",
    "\n",
    "`while`문을 이용해서 100 팩토리얼을 구해봅시다."
   ]
  },
  {
   "cell_type": "code",
   "execution_count": 1,
   "metadata": {},
   "outputs": [
    {
     "name": "stdout",
     "output_type": "stream",
     "text": [
      "The factorial of 100 is: 93326215443944152681699238856266700490715968264381621468592963895217599993229915608941463976156518286253697920827223758251185210916864000000000000000000000000\n"
     ]
    }
   ],
   "source": [
    "result = 1\n",
    "i = 1\n",
    "\n",
    "while i <= 100:\n",
    "    result = result * i\n",
    "    i = i+1\n",
    "\n",
    "print('The factorial of 100 is: {}'.format(result))"
   ]
  },
  {
   "cell_type": "markdown",
   "metadata": {},
   "source": [
    "위 코드의 작동 방식은 다음과 같습니다.<br>\n",
    "\n",
    "* 두 변수인 `result`와 `i`를 초기화합니다. `result`에는 최종 계산 결과값이 들어갑니다. `i`는 다음 숫자에 `result`를 곱할 때 사용됩니다.\n",
    "\n",
    "* 조건 `i <= 100`은 `True` 입니다. (`i`의 초기값이 `1` 이므로) 그러므로 `while`문 내부 코드가 실행됩니다.\n",
    "\n",
    "* `result`는 `result * i`로 업데이트 되고, `i` 값은 1이 증가하여 `2`가 됩니다.\n",
    "\n",
    "* 이 시점에서, 조건 `i <= 100`가 판단됩니다. 조건은 `True` 상태이므로, `result`값은 `result * i`값으로 업데이트 되고 , `i`는 1이 증가하여 `3`이 됩니다.\n",
    "\n",
    "* 이러한 과정이 `i`가 `101`이 되어 조건이 `False`가 될 떼 까지 반복됩니다. 반복문이 끝나면 `print` 명령문이 실행됩니다.\n",
    "\n",
    "* `result`가 왜 마지막에 100의 요인 값을 포함하는지 알겠습니까?\n",
    "\n",
    "셀 상단에 *command '%%time'을 추가하여 셀 실행 시간을 확인할 수 있습니다. `100`, `1000`, `10000`, `10000` 등의 요인을 계산하는 데 얼마나 걸리는지 확인해 보십시오."
   ]
  },
  {
   "cell_type": "code",
   "execution_count": 2,
   "metadata": {},
   "outputs": [
    {
     "name": "stdout",
     "output_type": "stream",
     "text": [
      "402387260077093773543702433923003985719374864210714632543799910429938512398629020592044208486969404800479988610197196058631666872994808558901323829669944590997424504087073759918823627727188732519779505950995276120874975462497043601418278094646496291056393887437886487337119181045825783647849977012476632889835955735432513185323958463075557409114262417474349347553428646576611667797396668820291207379143853719588249808126867838374559731746136085379534524221586593201928090878297308431392844403281231558611036976801357304216168747609675871348312025478589320767169132448426236131412508780208000261683151027341827977704784635868170164365024153691398281264810213092761244896359928705114964975419909342221566832572080821333186116811553615836546984046708975602900950537616475847728421889679646244945160765353408198901385442487984959953319101723355556602139450399736280750137837615307127761926849034352625200015888535147331611702103968175921510907788019393178114194545257223865541461062892187960223838971476088506276862967146674697562911234082439208160153780889893964518263243671616762179168909779911903754031274622289988005195444414282012187361745992642956581746628302955570299024324153181617210465832036786906117260158783520751516284225540265170483304226143974286933061690897968482590125458327168226458066526769958652682272807075781391858178889652208164348344825993266043367660176999612831860788386150279465955131156552036093988180612138558600301435694527224206344631797460594682573103790084024432438465657245014402821885252470935190620929023136493273497565513958720559654228749774011413346962715422845862377387538230483865688976461927383814900140767310446640259899490222221765904339901886018566526485061799702356193897017860040811889729918311021171229845901641921068884387121855646124960798722908519296819372388642614839657382291123125024186649353143970137428531926649875337218940694281434118520158014123344828015051399694290153483077644569099073152433278288269864602789864321139083506217095002597389863554277196742822248757586765752344220207573630569498825087968928162753848863396909959826280956121450994871701244516461260379029309120889086942028510640182154399457156805941872748998094254742173582401063677404595741785160829230135358081840096996372524230560855903700624271243416909004153690105933983835777939410970027753472000000000000000000000000000000000000000000000000000000000000000000000000000000000000000000000000000000000000000000000000000000000000000000000000000000000000000000000000000000000000000000000000000000000000000000000000000000000000000000000000000000000\n",
      "CPU times: total: 0 ns\n",
      "Wall time: 1e+03 µs\n"
     ]
    }
   ],
   "source": [
    "%%time\n",
    "\n",
    "result = 1\n",
    "i = 1\n",
    "\n",
    "while i <= 1000:\n",
    "    result *= i # same as result = result * i\n",
    "    i += 1 # same as i = i+1\n",
    "\n",
    "print(result)"
   ]
  },
  {
   "cell_type": "markdown",
   "metadata": {},
   "source": [
    "`while` 문을 사용한 예제"
   ]
  },
  {
   "cell_type": "code",
   "execution_count": 8,
   "metadata": {},
   "outputs": [
    {
     "name": "stdout",
     "output_type": "stream",
     "text": [
      "*\n",
      "**\n",
      "***\n",
      "****\n",
      "*****\n",
      "******\n",
      "*******\n",
      "********\n",
      "*********\n",
      "**********\n",
      "***********\n",
      "**********\n",
      "*********\n",
      "********\n",
      "*******\n",
      "******\n",
      "*****\n",
      "****\n",
      "***\n",
      "**\n",
      "*\n"
     ]
    }
   ],
   "source": [
    "line = '*'\n",
    "max_length = 10\n",
    "\n",
    "while len(line) <= max_length:\n",
    "    print(line)\n",
    "    line += \"*\"\n",
    "    \n",
    "while len(line) > 0:\n",
    "    print(line)\n",
    "    line = line[:-1]"
   ]
  },
  {
   "cell_type": "markdown",
   "metadata": {},
   "source": [
    "연습 삼아 잠시 동안 `while` 루프를 사용하여 다음 패턴을 인쇄해 보십시오:  \n",
    "\n",
    "```\n",
    "          *\n",
    "         **\n",
    "        ***\n",
    "       ****\n",
    "      *****\n",
    "     ******\n",
    "      *****\n",
    "       ****\n",
    "        ***\n",
    "         **\n",
    "          *\n",
    "```\n",
    "\n",
    "여기 또 하나가 있는데, 둘을 합치면 아래와 같습니다:  \n",
    "\n",
    "\n",
    "```\n",
    "          *\n",
    "         ***\n",
    "        *****\n",
    "       *******\n",
    "      *********\n",
    "     ***********\n",
    "      *********\n",
    "       *******\n",
    "        *****\n",
    "         ***\n",
    "          *\n",
    "```"
   ]
  },
  {
   "cell_type": "code",
   "execution_count": null,
   "metadata": {},
   "outputs": [],
   "source": [
    "# 실습 코드 작성"
   ]
  },
  {
   "cell_type": "code",
   "execution_count": null,
   "metadata": {},
   "outputs": [],
   "source": [
    "# 실습 코드 작성"
   ]
  },
  {
   "cell_type": "markdown",
   "metadata": {},
   "source": [
    "<!--### Infinite Loops-->\n",
    "### 무한루프\n",
    "\n",
    "`while` 루프의 조건이 항상 `True`일 경우, 루프가 무한히 반복되어 코드가 완료되지 않습니다. 이것을 `무한루프` 라고 합니다.  \n",
    "앞서 설명한 while 루프 안에 특정 반복 횟수에 도달하면 조건문을 False로 만드는 조건이 포함되는 것도, 대개 이러한 무한루프 현상을 방지하기 위함입니다.\n",
    "\n",
    "코드가 무한루프에 빠진경우, 도구 모음의 `stop` 버튼을 누르거나 메뉴 모음에서 `Kernel > Interrupt` 를 선택하여 코드 실행을 중단할 수 있습니다."
   ]
  },
  {
   "cell_type": "code",
   "execution_count": 41,
   "metadata": {},
   "outputs": [
    {
     "ename": "KeyboardInterrupt",
     "evalue": "",
     "output_type": "error",
     "traceback": [
      "\u001b[0;31m---------------------------------------------------------------------------\u001b[0m",
      "\u001b[0;31mKeyboardInterrupt\u001b[0m                         Traceback (most recent call last)",
      "\u001b[0;32m<ipython-input-41-5234d8c241fc>\u001b[0m in \u001b[0;36m<module>\u001b[0;34m\u001b[0m\n\u001b[1;32m      5\u001b[0m \u001b[0;34m\u001b[0m\u001b[0m\n\u001b[1;32m      6\u001b[0m \u001b[0;32mwhile\u001b[0m \u001b[0mi\u001b[0m \u001b[0;34m<=\u001b[0m \u001b[0;36m100\u001b[0m\u001b[0;34m:\u001b[0m\u001b[0;34m\u001b[0m\u001b[0;34m\u001b[0m\u001b[0m\n\u001b[0;32m----> 7\u001b[0;31m     \u001b[0mresult\u001b[0m \u001b[0;34m=\u001b[0m \u001b[0mresult\u001b[0m \u001b[0;34m*\u001b[0m \u001b[0mi\u001b[0m\u001b[0;34m\u001b[0m\u001b[0;34m\u001b[0m\u001b[0m\n\u001b[0m\u001b[1;32m      8\u001b[0m     \u001b[0;31m# forgot to increment i\u001b[0m\u001b[0;34m\u001b[0m\u001b[0;34m\u001b[0m\u001b[0;34m\u001b[0m\u001b[0m\n",
      "\u001b[0;31mKeyboardInterrupt\u001b[0m: "
     ]
    }
   ],
   "source": [
    "# INFINITE LOOP - INTERRUPT THIS CELL\n",
    "\n",
    "result = 1\n",
    "i = 1\n",
    "\n",
    "while i <= 100:\n",
    "    result = result * i\n",
    "    # forgot to increment i"
   ]
  },
  {
   "cell_type": "code",
   "execution_count": 42,
   "metadata": {},
   "outputs": [
    {
     "ename": "KeyboardInterrupt",
     "evalue": "",
     "output_type": "error",
     "traceback": [
      "\u001b[0;31m---------------------------------------------------------------------------\u001b[0m",
      "\u001b[0;31mKeyboardInterrupt\u001b[0m                         Traceback (most recent call last)",
      "\u001b[0;32m<ipython-input-42-c4abf72fce4d>\u001b[0m in \u001b[0;36m<module>\u001b[0;34m\u001b[0m\n\u001b[1;32m      5\u001b[0m \u001b[0;34m\u001b[0m\u001b[0m\n\u001b[1;32m      6\u001b[0m \u001b[0;32mwhile\u001b[0m \u001b[0mi\u001b[0m \u001b[0;34m>\u001b[0m \u001b[0;36m0\u001b[0m \u001b[0;34m:\u001b[0m \u001b[0;31m# wrong condition\u001b[0m\u001b[0;34m\u001b[0m\u001b[0;34m\u001b[0m\u001b[0m\n\u001b[0;32m----> 7\u001b[0;31m     \u001b[0mresult\u001b[0m \u001b[0;34m*=\u001b[0m \u001b[0mi\u001b[0m\u001b[0;34m\u001b[0m\u001b[0;34m\u001b[0m\u001b[0m\n\u001b[0m\u001b[1;32m      8\u001b[0m     \u001b[0mi\u001b[0m \u001b[0;34m+=\u001b[0m \u001b[0;36m1\u001b[0m\u001b[0;34m\u001b[0m\u001b[0;34m\u001b[0m\u001b[0m\n",
      "\u001b[0;31mKeyboardInterrupt\u001b[0m: "
     ]
    }
   ],
   "source": [
    "# INFINITE LOOP - INTERRUPT THIS CELL\n",
    "\n",
    "result = 1\n",
    "i = 1\n",
    "\n",
    "while i > 0 : # wrong condition\n",
    "    result *= i\n",
    "    i += 1"
   ]
  },
  {
   "cell_type": "markdown",
   "metadata": {},
   "source": [
    "### `break` , `continue` 명령문\n",
    "\n",
    "반복문 안에 `break`명렴문을 사용하여 반복문을 강제로 탈출할 수 있습니다. "
   ]
  },
  {
   "cell_type": "code",
   "execution_count": 43,
   "metadata": {},
   "outputs": [
    {
     "name": "stdout",
     "output_type": "stream",
     "text": [
      "Magic number 42 reached! Stopping execution..\n",
      "i: 42\n",
      "result: 1405006117752879898543142606244511569936384000000000\n"
     ]
    }
   ],
   "source": [
    "i = 1\n",
    "result = 1\n",
    "\n",
    "while i <= 100:\n",
    "    result *= i\n",
    "    if i == 42:\n",
    "        print('Magic number 42 reached! Stopping execution..')\n",
    "        break\n",
    "    i += 1\n",
    "    \n",
    "print('i:', i)\n",
    "print('result:', result)"
   ]
  },
  {
   "cell_type": "markdown",
   "metadata": {},
   "source": [
    "\n",
    "`continue`명령문을 통하여 현재 루프를 건너뛰고, 바로 다음 루프로 넘어갈 수 있습니다."
   ]
  },
  {
   "cell_type": "code",
   "execution_count": 44,
   "metadata": {},
   "outputs": [
    {
     "name": "stdout",
     "output_type": "stream",
     "text": [
      "Skipping 2\n",
      "Multiplying with 3\n",
      "Skipping 4\n",
      "Multiplying with 5\n",
      "Skipping 6\n",
      "Multiplying with 7\n",
      "Skipping 8\n",
      "Multiplying with 9\n",
      "Skipping 10\n",
      "Multiplying with 11\n",
      "Skipping 12\n",
      "Multiplying with 13\n",
      "Skipping 14\n",
      "Multiplying with 15\n",
      "Skipping 16\n",
      "Multiplying with 17\n",
      "Skipping 18\n",
      "Multiplying with 19\n",
      "Skipping 20\n",
      "i: 20\n",
      "result: 654729075\n"
     ]
    }
   ],
   "source": [
    "i = 1\n",
    "result = 1\n",
    "\n",
    "while i < 20:\n",
    "    i += 1\n",
    "    if i % 2 == 0:\n",
    "        print('Skipping {}'.format(i))\n",
    "        continue\n",
    "    print('Multiplying with {}'.format(i))\n",
    "    result = result * i\n",
    "    \n",
    "print('i:', i)\n",
    "print('result:', result)"
   ]
  },
  {
   "cell_type": "markdown",
   "metadata": {},
   "source": [
    "\n",
    "> **Logging**: 코드 안에 `print`문을 추가하여 단계의 변화에 따른 변수값을 검사하는 과정을 **Loagging** 이라고 합니다."
   ]
  },
  {
   "cell_type": "markdown",
   "metadata": {},
   "source": [
    "##  `for` 문을 통한 반복문\n",
    "`for` 문은 순차적 자료형(list,tuples,dictionaries,string 등)을 반복하는데 주로 사용됩니다.  \n",
    "예제는 다음과 같습니다:  \n",
    "\n",
    "```\n",
    "for value in sequence:\n",
    "    statement(s)\n",
    "```\n",
    "\n",
    "반복문 안의 구문은 순차적 자료형의 각 원소에 대해 한번 씩 수행됩니다. "
   ]
  },
  {
   "cell_type": "code",
   "execution_count": 46,
   "metadata": {},
   "outputs": [
    {
     "name": "stdout",
     "output_type": "stream",
     "text": [
      "Monday\n",
      "Tuesday\n",
      "Wednesday\n",
      "Thursday\n",
      "Friday\n"
     ]
    }
   ],
   "source": [
    "days = ['Monday', 'Tuesday', 'Wednesday', 'Thursday', 'Friday']\n",
    "\n",
    "for day in days:\n",
    "    print(day)"
   ]
  },
  {
   "cell_type": "markdown",
   "metadata": {},
   "source": [
    "다른 예제를 예로 들겠습니다.  "
   ]
  },
  {
   "cell_type": "code",
   "execution_count": 47,
   "metadata": {},
   "outputs": [
    {
     "name": "stdout",
     "output_type": "stream",
     "text": [
      "M\n",
      "o\n",
      "n\n",
      "d\n",
      "a\n",
      "y\n"
     ]
    }
   ],
   "source": [
    "# Looping over a string\n",
    "for char in 'Monday':\n",
    "    print(char)"
   ]
  },
  {
   "cell_type": "code",
   "execution_count": 48,
   "metadata": {},
   "outputs": [
    {
     "name": "stdout",
     "output_type": "stream",
     "text": [
      "Here's a fruit: Apple\n",
      "Here's a fruit: Banana\n",
      "Here's a fruit: Guava\n"
     ]
    }
   ],
   "source": [
    "# Looping over a tuple\n",
    "for fruit in ['Apple', 'Banana', 'Guava']:\n",
    "    print(\"Here's a fruit:\", fruit)"
   ]
  },
  {
   "cell_type": "code",
   "execution_count": 49,
   "metadata": {},
   "outputs": [
    {
     "name": "stdout",
     "output_type": "stream",
     "text": [
      "Key: name , Value: John Doe\n",
      "Key: sex , Value: Male\n",
      "Key: age , Value: 32\n",
      "Key: married , Value: True\n"
     ]
    }
   ],
   "source": [
    "# Looping over a dictionary\n",
    "person = {\n",
    "    'name': 'John Doe',\n",
    "    'sex': 'Male',\n",
    "    'age': 32,\n",
    "    'married': True\n",
    "}\n",
    "\n",
    "for key in person:\n",
    "    print(\"Key:\", key, \",\", \"Value:\", person[key])"
   ]
  },
  {
   "cell_type": "markdown",
   "metadata": {},
   "source": [
    " Dictionary의 경우 `for`반복문에서 Key에 대한 반복이 발생합니다.   \n",
    " `.values` 메서드를 사용하여, Value 값에 직접 접근할 수 있으며,\n",
    "`.items` 메서드를 사용하여 Key-Value에 대해 직접 반복할 수 있습니다."
   ]
  },
  {
   "cell_type": "code",
   "execution_count": 50,
   "metadata": {},
   "outputs": [
    {
     "name": "stdout",
     "output_type": "stream",
     "text": [
      "John Doe\n",
      "Male\n",
      "32\n",
      "True\n"
     ]
    }
   ],
   "source": [
    "for value in person.values():\n",
    "    print(value)"
   ]
  },
  {
   "cell_type": "code",
   "execution_count": 51,
   "metadata": {},
   "outputs": [
    {
     "name": "stdout",
     "output_type": "stream",
     "text": [
      "('name', 'John Doe')\n",
      "('sex', 'Male')\n",
      "('age', 32)\n",
      "('married', True)\n"
     ]
    }
   ],
   "source": [
    "for key_value_pair in person.items():\n",
    "    print(key_value_pair)"
   ]
  },
  {
   "cell_type": "markdown",
   "metadata": {},
   "source": [
    "tuple은 Key-Value 쌍으로 되어 있으므로, Key와 Value를 분리해서 변수로 가져올 수 있습니다. "
   ]
  },
  {
   "cell_type": "code",
   "execution_count": 52,
   "metadata": {},
   "outputs": [
    {
     "name": "stdout",
     "output_type": "stream",
     "text": [
      "Key: name , Value: John Doe\n",
      "Key: sex , Value: Male\n",
      "Key: age , Value: 32\n",
      "Key: married , Value: True\n"
     ]
    }
   ],
   "source": [
    "for key, value in person.items():\n",
    "    print(\"Key:\", key, \",\", \"Value:\", value)"
   ]
  },
  {
   "cell_type": "markdown",
   "metadata": {},
   "source": [
    "<!--### Iterating using `range` and `enumerate`-->\n",
    "### `range`와 `enumerate`를 사용한 반복\n",
    "\n",
    "`range` 함수는 `for`문에서 연속적인 수를 생성하는데 사용됩니다.  \n",
    "해당 함수는 3가지 방식으로 사용 될 수 있습니다 :\n",
    " \n",
    "* `range(n)` -  `0` 부터 `n-1` 를 생성합니다.\n",
    "* `range(a, b)` - `a` to `b-1` 를 생성합니다.\n",
    "* `range(a, b, step)` -  `a` 부터 `b-1` 까지  `step`만큼 건너뛰며 생성합니다."
   ]
  },
  {
   "cell_type": "code",
   "execution_count": 53,
   "metadata": {},
   "outputs": [
    {
     "name": "stdout",
     "output_type": "stream",
     "text": [
      "0\n",
      "1\n",
      "2\n",
      "3\n",
      "4\n",
      "5\n",
      "6\n"
     ]
    }
   ],
   "source": [
    "for i in range(7):\n",
    "    print(i)"
   ]
  },
  {
   "cell_type": "code",
   "execution_count": 54,
   "metadata": {},
   "outputs": [
    {
     "name": "stdout",
     "output_type": "stream",
     "text": [
      "3\n",
      "4\n",
      "5\n",
      "6\n",
      "7\n",
      "8\n",
      "9\n"
     ]
    }
   ],
   "source": [
    "for i in range(3, 10):\n",
    "    print(i)"
   ]
  },
  {
   "cell_type": "code",
   "execution_count": 55,
   "metadata": {},
   "outputs": [
    {
     "name": "stdout",
     "output_type": "stream",
     "text": [
      "3\n",
      "7\n",
      "11\n"
     ]
    }
   ],
   "source": [
    "for i in range(3, 14, 4):\n",
    "    print(i)"
   ]
  },
  {
   "cell_type": "markdown",
   "metadata": {},
   "source": [
    "반복문이 진행되는 동안 원소의 인덱스를 추적해야 하는 경우 list 반복에서 `range` 를 사용합니다."
   ]
  },
  {
   "cell_type": "code",
   "execution_count": 56,
   "metadata": {},
   "outputs": [
    {
     "name": "stdout",
     "output_type": "stream",
     "text": [
      "The value at position 0 is Monday.\n",
      "The value at position 1 is Tuesday.\n",
      "The value at position 2 is Wednesday.\n",
      "The value at position 3 is Thursday.\n",
      "The value at position 4 is Friday.\n"
     ]
    }
   ],
   "source": [
    "a_list = ['Monday', 'Tuesday', 'Wednesday', 'Thursday', 'Friday']\n",
    "\n",
    "for i in range(len(a_list)):\n",
    "    print('The value at position {} is {}.'.format(i, a_list[i]))"
   ]
  },
  {
   "cell_type": "markdown",
   "metadata": {},
   "source": [
    "`enumerate`를 사용하여 아래와 같은 내용을 구현할 수 있습니다."
   ]
  },
  {
   "cell_type": "code",
   "execution_count": 57,
   "metadata": {},
   "outputs": [
    {
     "name": "stdout",
     "output_type": "stream",
     "text": [
      "The value at position 0 is Monday.\n",
      "The value at position 1 is Tuesday.\n",
      "The value at position 2 is Wednesday.\n",
      "The value at position 3 is Thursday.\n",
      "The value at position 4 is Friday.\n"
     ]
    }
   ],
   "source": [
    "for i, val in enumerate(a_list):\n",
    "    print('The value at position {} is {}.'.format(i, val))"
   ]
  },
  {
   "cell_type": "markdown",
   "metadata": {},
   "source": [
    "저번 시간에 언급한 `f-string`을 `enumerate`와 함께 사용하는 예제를 보여드리겠습니다."
   ]
  },
  {
   "cell_type": "code",
   "execution_count": null,
   "metadata": {},
   "outputs": [],
   "source": [
    "pantry = [\n",
    "    ('아보카도', 1.25),\n",
    "    ('바나나', 2.5),\n",
    "    ('체리', 15),\n",
    "]"
   ]
  },
  {
   "cell_type": "markdown",
   "metadata": {},
   "source": [
    "`enumerate` 메서드는 인자로 넘어온 목록을 기준으로 인덱스와 원소를 차례대로 접근하게 해주는 반복자(iterator) 객체를 반환해주는 함수입니다. 인덱스와 원소를 동시에 접근하며 루프를 돌릴 때 사용됩니다.  \n",
    "`round` 함수는 반올림한 값을 반환하는 함수입니다."
   ]
  },
  {
   "cell_type": "code",
   "execution_count": null,
   "metadata": {},
   "outputs": [
    {
     "name": "stdout",
     "output_type": "stream",
     "text": [
      "#1: 아보카도       = 1\n",
      "#2: 바나나        = 2\n",
      "#3: 체리         = 15\n"
     ]
    }
   ],
   "source": [
    "for i, (item, count) in enumerate(pantry):\n",
    "    print(f'#{i+1}: '\n",
    "    f'{item.title():<10s} = '\n",
    "    f'{round(count)}')"
   ]
  },
  {
   "cell_type": "markdown",
   "metadata": {},
   "source": [
    "### <span style='color:black; background-color:#f5f0ff;'>range 보다는 enumerate를 사용하라</span>\n",
    "\n",
    "위에서 `enumerate`를 간단하게 언급했지만, 실제로는 `range` 보다 `enumerate`를 사용하는 것을 권장합니다.\n",
    "리스트를 iteration하면서 리스트의 몇 번째 원소를 처리 중인지 알아야 할 때가 있습니다.   \n",
    "`range`를 사용하는 방법도 있지만, `enumerate`를 사용한 코드가 훨씬 깔끔합니다.\n",
    "\n",
    "아래 예제를 보면 무슨 의미인지 쉽게 이해할 수 있을 것입니다."
   ]
  },
  {
   "cell_type": "code",
   "execution_count": 2,
   "metadata": {},
   "outputs": [],
   "source": [
    "flavor_list = ['바닐라', '초콜릿', '피칸', '딸기']"
   ]
  },
  {
   "cell_type": "code",
   "execution_count": 4,
   "metadata": {},
   "outputs": [
    {
     "name": "stdout",
     "output_type": "stream",
     "text": [
      "1: 바닐라\n",
      "2: 초콜릿\n",
      "3: 피칸\n",
      "4: 딸기\n"
     ]
    }
   ],
   "source": [
    "for i in range(len(flavor_list)): # range 사용\n",
    "    flavor = flavor_list[i]\n",
    "    print(f'{i + 1}: {flavor}') "
   ]
  },
  {
   "cell_type": "markdown",
   "metadata": {},
   "source": [
    "`next` 내장함수를 사용해 다음 원소를 가져옵니다. 이로부터 `enumerate` 가 반환한 이터레이터가 어떻게 동작하는지 볼 수 있습니다."
   ]
  },
  {
   "cell_type": "code",
   "execution_count": 7,
   "metadata": {},
   "outputs": [
    {
     "name": "stdout",
     "output_type": "stream",
     "text": [
      "(0, '바닐라')\n",
      "(1, '초콜릿')\n"
     ]
    }
   ],
   "source": [
    "it = enumerate(flavor_list)\n",
    "print(next(it))\n",
    "print(next(it))"
   ]
  },
  {
   "cell_type": "code",
   "execution_count": 5,
   "metadata": {},
   "outputs": [
    {
     "name": "stdout",
     "output_type": "stream",
     "text": [
      "1: 바닐라\n",
      "2: 초콜릿\n",
      "3: 피칸\n",
      "4: 딸기\n"
     ]
    }
   ],
   "source": [
    "for i, flavor in enumerate(flavor_list):\n",
    "    print(f'{i + 1}: {flavor}')"
   ]
  },
  {
   "cell_type": "markdown",
   "metadata": {},
   "source": [
    "### <span style='color:black; background-color:#f5f0ff;'>여러 이터레이터에 대해 나란히 루프를 수행하려면 zip을 사용하라.</span>\n",
    "\n",
    "Python에서는 관련된 객체가 들어있는 리스트를 다수 다루는 경우가 자주 있습니다.  \n",
    "보다 깔끔한 코드 작성을 위해, 내장함수인 `zip`을 사용하는 것을 권장합니다."
   ]
  },
  {
   "cell_type": "code",
   "execution_count": 9,
   "metadata": {},
   "outputs": [
    {
     "name": "stdout",
     "output_type": "stream",
     "text": [
      "[7, 4, 3]\n"
     ]
    }
   ],
   "source": [
    "names = ['Cecilia', '남궁민수', '毛泽东']\n",
    "counts = [len(n) for n in names]\n",
    "print(counts)"
   ]
  },
  {
   "cell_type": "code",
   "execution_count": 10,
   "metadata": {},
   "outputs": [
    {
     "name": "stdout",
     "output_type": "stream",
     "text": [
      "Cecilia\n"
     ]
    }
   ],
   "source": [
    "longest_name = None\n",
    "max_count = 0\n",
    "\n",
    "for i, name in enumerate(names):\n",
    "    count = counts[i]\n",
    "    if count > max_count:\n",
    "        longest_name = name\n",
    "        max_count = count\n",
    "\n",
    "print(longest_name)"
   ]
  },
  {
   "cell_type": "markdown",
   "metadata": {},
   "source": [
    "`enumerate`를 사용해도 배열 인덱스로 접근하여 이상적인 코드는 아닙니다.  \n",
    "\n",
    "`zip`은 둘 이상의 이터레이터를 지연 계산 제너레이터를 사용해 묶어줍니다. `zip` 제너레이터는 각 이터레이터의 다음 값이 들어있는 튜플을 반환하고, 이 튜플을 for문에서 바로 언패킹 할 수 있습니다.  \n",
    "이렇게 만든 코드는 인덱스를 사용해 여러 리스트의 원소에 접근하는 코드보다 훨씬 깔끔합니다.\n",
    "\n",
    "따라서 `zip`을 사용해서 코드를 더 깔끔하게 만들어보겠습니다.  "
   ]
  },
  {
   "cell_type": "code",
   "execution_count": 11,
   "metadata": {},
   "outputs": [
    {
     "name": "stdout",
     "output_type": "stream",
     "text": [
      "Cecilia\n"
     ]
    }
   ],
   "source": [
    "longest_name = None\n",
    "max_count = 0\n",
    "\n",
    "for name, count in zip(names, counts):\n",
    "    if count > max_count:\n",
    "        longest_name = name\n",
    "        max_count = count\n",
    "\n",
    "print(longest_name)"
   ]
  },
  {
   "cell_type": "markdown",
   "metadata": {},
   "source": [
    "`zip`은 자신이 감싼 이터레이터 원소를 하나씩 소비합니다. 따라서 메모리를 다 소모해서 프로그램이 중단되는 위험 없이 아주 긴 입력도 처리할 수 있습니다.  \n",
    " 하지만, 입력 이터레이터의 길이가 서로 다를 때는 `zip`이 어떻게 동작하는지에 주의해야 합니다.\n",
    "\n",
    " `zip`은 자신이 감싼 이터레이터 중 어느 하나가 끝날 때까지 튜플을 내놓기 때문에, 출력은 가장 짧은 입력의 길이와 같습니다.  \n",
    " 예를 들어, names에 다른 원소를 추가하고 count를 갱신하는 것을 잊어버렸다고 가정해보겠습니다."
   ]
  },
  {
   "cell_type": "code",
   "execution_count": 12,
   "metadata": {},
   "outputs": [
    {
     "name": "stdout",
     "output_type": "stream",
     "text": [
      "Cecilia\n",
      "남궁민수\n",
      "毛泽东\n"
     ]
    }
   ],
   "source": [
    "names.append('Rosalind')\n",
    "for name, count in zip(names, counts):\n",
    "    print(name)"
   ]
  },
  {
   "cell_type": "markdown",
   "metadata": {},
   "source": [
    "예상과 달리, 새로 추가한 원소인 'Rosalind'에 대한 출력은 없습니다.  \n",
    "`zip`이 그렇게 동작하기 때문입니다. 만약, `zip`에 전달한 리스트의 길이가 같지 않을 것으로 예상한다면, `itertools` 내장 모듈에 들어있는 `zip_longest`를 대신 사용하는 것을 고려해보십시오."
   ]
  },
  {
   "cell_type": "code",
   "execution_count": 13,
   "metadata": {},
   "outputs": [
    {
     "name": "stdout",
     "output_type": "stream",
     "text": [
      "Cecilia: 7\n",
      "남궁민수: 4\n",
      "毛泽东: 3\n",
      "Rosalind: None\n"
     ]
    }
   ],
   "source": [
    "import itertools\n",
    "for name, count in itertools.zip_longest(names, counts):\n",
    "    print(f'{name}: {count}')"
   ]
  },
  {
   "cell_type": "markdown",
   "metadata": {},
   "source": [
    "### `break`, `continue` 과 `pass` 문\n",
    "`while`문에서와 같이, `for`의 반복문에서도  `break`,`continue`,`pass` 가 동일하게 동작합니다."
   ]
  },
  {
   "cell_type": "code",
   "execution_count": 8,
   "metadata": {},
   "outputs": [],
   "source": [
    "weekdays = ['Monday', 'Tuesday', 'Wednesday', 'Thursday', 'Friday']"
   ]
  },
  {
   "cell_type": "code",
   "execution_count": 9,
   "metadata": {},
   "outputs": [
    {
     "name": "stdout",
     "output_type": "stream",
     "text": [
      "Today is Monday\n",
      "Today is Tuesday\n",
      "Today is Wednesday\n",
      "I don't work beyond Wednesday!\n"
     ]
    }
   ],
   "source": [
    "for day in weekdays:\n",
    "    print('Today is {}'.format(day))\n",
    "    if (day == 'Wednesday'):\n",
    "        print(\"I don't work beyond Wednesday!\")\n",
    "        break"
   ]
  },
  {
   "cell_type": "code",
   "execution_count": 10,
   "metadata": {},
   "outputs": [
    {
     "name": "stdout",
     "output_type": "stream",
     "text": [
      "Today is Monday\n",
      "Today is Tuesday\n",
      "I don't work on Wednesday!\n",
      "Today is Thursday\n",
      "Today is Friday\n"
     ]
    }
   ],
   "source": [
    "for day in weekdays:\n",
    "    if (day == 'Wednesday'):\n",
    "        print(\"I don't work on Wednesday!\")\n",
    "        continue\n",
    "    print('Today is {}'.format(day))"
   ]
  },
  {
   "cell_type": "markdown",
   "metadata": {},
   "source": [
    "반복문 내에서 실행할 구문이 없다면 pass문을 사용하면 됩니다."
   ]
  },
  {
   "cell_type": "code",
   "execution_count": 61,
   "metadata": {},
   "outputs": [],
   "source": [
    "for day in weekdays:\n",
    "    pass"
   ]
  },
  {
   "cell_type": "markdown",
   "metadata": {},
   "source": [
    "<!--### Nested `for` and `while` loops-->\n",
    "### 중첩된 `for`와 `while` 루프\n",
    "\n",
    "조건문과 마찬가지로 반복문은 다른 반복문 내부에 선언될 수 있습니다. 이 기능은 lists, dictionaries등을 반복시킬 때 유용하게 사용됩니다."
   ]
  },
  {
   "cell_type": "code",
   "execution_count": 62,
   "metadata": {},
   "outputs": [
    {
     "name": "stdout",
     "output_type": "stream",
     "text": [
      "name : John\n",
      "sex : Male\n",
      " \n",
      "name : Jane\n",
      "sex : Female\n",
      " \n"
     ]
    }
   ],
   "source": [
    "persons = [{'name': 'John', 'sex': 'Male'}, {'name': 'Jane', 'sex': 'Female'}]\n",
    "\n",
    "for person in persons:\n",
    "    for key in person:\n",
    "        print(key, \":\", person[key])\n",
    "    print(\" \")"
   ]
  },
  {
   "cell_type": "code",
   "execution_count": 63,
   "metadata": {},
   "outputs": [
    {
     "name": "stdout",
     "output_type": "stream",
     "text": [
      "Monday apple\n",
      "Monday banana\n",
      "Monday guava\n",
      "Tuesday apple\n",
      "Tuesday banana\n",
      "Tuesday guava\n",
      "Wednesday apple\n",
      "Wednesday banana\n",
      "Wednesday guava\n"
     ]
    }
   ],
   "source": [
    "days = ['Monday', 'Tuesday', 'Wednesday']\n",
    "fruits = ['apple', 'banana', 'guava']\n",
    "\n",
    "for day in days:\n",
    "    for fruit in fruits:\n",
    "        print(day, fruit)"
   ]
  },
  {
   "cell_type": "markdown",
   "metadata": {},
   "source": [
    "# 아니 근데, 파이썬은 switch 문이 없나요?\n",
    "\n",
    "c++나 java에서 자주 볼 수 있는 조건문 중 하나가 switch case 문 입니다.\n",
    "\n",
    "if else.... if else.... if else... 로 다양한 분기를 다뤄야 할 때 switch case 1: case 2: .....로 간단하게 처리하기도 합니다."
   ]
  },
  {
   "cell_type": "markdown",
   "metadata": {},
   "source": [
    "하지만 아쉽게도 python은 switch 문이 없습니다.\n",
    "\n",
    "그렇다면 파이썬에서 수많은 분기들을 다뤄야 할 때에는 어떻게 해야할까요?"
   ]
  },
  {
   "cell_type": "markdown",
   "metadata": {},
   "source": [
    "## 방법 1. 그냥 if...elif...else 문을 이용한다.\n",
    "\n",
    "가장 간단한 방법입니다.\n",
    "\n",
    "각 분기마다 elif를 이용하여 일일이 처리하는 것입니다.\n",
    "\n",
    "아래 코드는 if...elif..else 문을 이용하여 파라미터로 a, b, c 를 입력 받았을 때 각각 다른 문장을 출력하는 함수를 보여줍니다."
   ]
  },
  {
   "cell_type": "code",
   "execution_count": 1,
   "metadata": {},
   "outputs": [
    {
     "name": "stdout",
     "output_type": "stream",
     "text": [
      "파이썬은 인터프리터 언어입니다.\n",
      "파이썬을 이용하여 웹 사이트 크롤링, 데이터 처리 등 다양한 작업을 쉽게 처리할 수 있습니다.\n",
      "우리 모두 파이썬을 열심히 배워 봅시다.\n",
      "k-sw bootcamp 화이팅!\n"
     ]
    }
   ],
   "source": [
    "def example_switch(character):\n",
    "    if character=='a':\n",
    "        print('파이썬은 인터프리터 언어입니다.')\n",
    "    elif character=='b':\n",
    "        print('파이썬을 이용하여 웹 사이트 크롤링, 데이터 처리 등 다양한 작업을 쉽게 처리할 수 있습니다.')\n",
    "    elif character=='c':\n",
    "        print('우리 모두 파이썬을 열심히 배워 봅시다.')\n",
    "    else:\n",
    "        print('k-sw bootcamp 화이팅!')\n",
    "        \n",
    "\n",
    "example_switch('a')\n",
    "example_switch('b')\n",
    "example_switch('c')\n",
    "example_switch('e')"
   ]
  },
  {
   "cell_type": "markdown",
   "metadata": {},
   "source": [
    "각각 a, b, c 그리고 다른 알파벳을 입력 받았을 때, 입력받은 문자에 맞는 분기로 들어가 작업이 진행되는 것을 볼 수 있습니다.  \n",
    "\n",
    "#\n",
    "\n",
    "\n",
    "## 방법 2. 딕셔너리의 get() 메서드를 이용하여 처리\n",
    "\n",
    "switch case문을 구현하는 두번째 방법은 딕셔너리 구조를 이용하는 것입니다.\n",
    "\n",
    "발생할 수 있는 모든 case를 가지고 있는 딕셔너리를 선언한 후에 get()함수를 이용하여 변수와 일치하는 키의 값을 검색합니다.\n",
    "\n",
    "아래 코드는 a, b, c 를 키로 가지고 그 키에 해당하는 출력 값을 value로 가지는 딕셔너리를 이용하여 switch case 문을 구현한 케이스입니다."
   ]
  },
  {
   "cell_type": "code",
   "execution_count": 3,
   "metadata": {},
   "outputs": [
    {
     "name": "stdout",
     "output_type": "stream",
     "text": [
      "코딩은 99%의 구글링과 1%의 영감으로 완성된다.\n",
      "백문이 불여일타, 책을 100번 보는 것보다 1번 코드를 쳐보는 것이 낫다.\n",
      "보기 좋은 코드가 디버깅 하기도 좋다.\n",
      "k-sw bootcamp 화이팅!\n"
     ]
    }
   ],
   "source": [
    "characters = {\n",
    "    \"a\" : \"코딩은 99%의 구글링과 1%의 영감으로 완성된다.\",\n",
    "    \"b\" : \"백문이 불여일타, 책을 100번 보는 것보다 1번 코드를 쳐보는 것이 낫다.\",\n",
    "    \"c\" : \"보기 좋은 코드가 디버깅 하기도 좋다.\",\n",
    "}\n",
    "\n",
    "def example_switch(character):\n",
    "    something = characters.get(character, \"k-sw bootcamp 화이팅!\")\n",
    "    print(something)\n",
    "    \n",
    "example_switch('a')\n",
    "example_switch('b')\n",
    "example_switch('c')\n",
    "example_switch('e')"
   ]
  },
  {
   "cell_type": "markdown",
   "metadata": {},
   "source": [
    "get 함수의 두번째 파라미터로 딕셔너리에 존재 하지 않는 케이스 (switch case 문에서는 default에 해당되는 부분)가 나올 경우 출력되어야 하는 문구를 넣습니다.\n",
    "\n",
    "## 방법 3. 먼저 변수의 존재 여부를 확인한 뒤 딕셔너리를 이용한다.\n",
    "\n",
    "3번째 방법은 2번째 방법과 비슷하지만 순서의 차이가 있습니다. 먼저 변수의 존재를 확인하고 나서 get()함수를 쓰지 않고 딕셔너리의 key 값을 대조합니다. 먼저 아래 코드를 보겠습니다."
   ]
  },
  {
   "cell_type": "code",
   "execution_count": 5,
   "metadata": {},
   "outputs": [
    {
     "name": "stdout",
     "output_type": "stream",
     "text": [
      "github 사용법을 익히자.\n",
      "git 블로그, 티스토리, velog, notion 등 플랫폼을 이용하여 기술블로그를 작성하자\n",
      "다른 사람의 코드를 따라 쳐보는 클론 코딩도 좋은 공부법이다.\n",
      "k-sw bootcamp 화이팅!\n"
     ]
    }
   ],
   "source": [
    "characters = {\n",
    "    \"a\" : \"github 사용법을 익히자.\",\n",
    "    \"b\" : \"git 블로그, 티스토리, velog, notion 등 플랫폼을 이용하여 기술블로그를 작성하자\",\n",
    "    \"c\" : \"다른 사람의 코드를 따라 쳐보는 클론 코딩도 좋은 공부법이다.\",\n",
    "}\n",
    "\n",
    "def example_switch(character):\n",
    "    if character in characters:\n",
    "        print(characters[character])\n",
    "    else:\n",
    "        print(\"k-sw bootcamp 화이팅!\")\n",
    "\n",
    "example_switch('a')\n",
    "example_switch('b')\n",
    "example_switch('c')\n",
    "example_switch('e')"
   ]
  },
  {
   "cell_type": "markdown",
   "metadata": {},
   "source": [
    "이전과 달리 get() 메서드를 사용하지 않고 if문을 이용하여 우선 입력받은 값이 딕셔너리 내부에 있는지 확인 후 있으면 딕셔너리의 key 값의 value를 출력하고 그렇지 않으면 거기에 맞는 출력을 하도록 구성되어 있습니다."
   ]
  },
  {
   "cell_type": "markdown",
   "metadata": {},
   "source": [
    "## 방법 4. collections 모듈의 defaultdict를 이용하라\n",
    "\n",
    "이전에도 배웠듯 defaultdict 클래스는 default 값을 설정하여 key가 없을 경우를 설정할 수 있습니다 아래 코드를 보겠습니다."
   ]
  },
  {
   "cell_type": "code",
   "execution_count": 8,
   "metadata": {},
   "outputs": [
    {
     "name": "stdout",
     "output_type": "stream",
     "text": [
      "네가 한 발짝 두 발짝 다가오면 난 그대로 서 있을게\n",
      "낮은 휘파람 소리 어디선가 나를 부르는 소리\n",
      "아주 살짝 감긴 나의 눈이 빛나고 있잖아\n",
      "k-sw bootcamp 화이팅!\n"
     ]
    }
   ],
   "source": [
    "from collections import defaultdict\n",
    "\n",
    "characters = {\n",
    "    \"a\" : \"네가 한 발짝 두 발짝 다가오면 난 그대로 서 있을게\",\n",
    "    \"b\" : \"낮은 휘파람 소리 어디선가 나를 부르는 소리\",\n",
    "    \"c\" : \"아주 살짝 감긴 나의 눈이 빛나고 있잖아\"\n",
    "}\n",
    "\n",
    "def example_switch(character):\n",
    "    defaultdic = defaultdict(lambda: \"k-sw bootcamp 화이팅!\", characters)\n",
    "    print(defaultdic[character])\n",
    "\n",
    "example_switch('a')\n",
    "example_switch('b')\n",
    "example_switch('c')\n",
    "example_switch('e')"
   ]
  },
  {
   "cell_type": "markdown",
   "metadata": {},
   "source": [
    "switch case 문을 구현하는 4가지 방법에 대해서 알아보았습니다.\n",
    "\n",
    "어떤 상황이냐에 따라 다르지만 주로 3번째 방법을 많이 사용 합니다.\n",
    "\n",
    "첫번째 방법은 가독성이 떨어지고 지나치게 많은 코딩을 요구합니다.\n",
    "\n",
    "두번째와 네번째 방법은 오래 걸리고 메모리 사용이 많이 요구됩니다.\n",
    "\n",
    "세 번째 방법은 가독성도 뛰어나며 코딩 난이도도 어렵지 않습니다. "
   ]
  },
  {
   "cell_type": "markdown",
   "metadata": {},
   "source": [
    "# 컴프리헨션과 제너레이터\n",
    "\n",
    "컴프리헨션은 리스트, 딕서녀리 등의 자료 구조에서 특정 조건을 만족하는 데이터를 좀 더 가독성 있고 쉽게 뽑아오기 위해 사용합니다.\n",
    "\n",
    "아래의 예에서 자세히 알아보겠습니다. 아래의 코드에서 `number_list` 리스트의 모든 원소의 제곱을 원소로 가지는 리스트를 만드려고 합니다"
   ]
  },
  {
   "cell_type": "code",
   "execution_count": 1,
   "metadata": {},
   "outputs": [
    {
     "name": "stdout",
     "output_type": "stream",
     "text": [
      "[1, 4, 9, 16, 25, 36, 49, 64, 81, 100]\n"
     ]
    }
   ],
   "source": [
    "number_list = [1, 2, 3, 4, 5, 6, 7, 8, 9, 10]\n",
    "\n",
    "squares = []\n",
    "\n",
    "for x in number_list:\n",
    "    squares.append(x**2) # **연산자는 제곱을 나타냅니다\n",
    "print(squares)"
   ]
  },
  {
   "cell_type": "markdown",
   "metadata": {},
   "source": [
    "위 for문을 컴프리헨션을 이용하여 나타내면 다음과 같습니다."
   ]
  },
  {
   "cell_type": "code",
   "execution_count": 2,
   "metadata": {},
   "outputs": [
    {
     "name": "stdout",
     "output_type": "stream",
     "text": [
      "[1, 4, 9, 16, 25, 36, 49, 64, 81, 100]\n"
     ]
    }
   ],
   "source": [
    "squares = [x**2 for x in number_list]\n",
    "\n",
    "print(squares)"
   ]
  },
  {
   "cell_type": "markdown",
   "metadata": {},
   "source": [
    "위 컴프리헨션에서 짝수의 원소의 제곱만을 나타내고 싶다면 if문을 이용하여 컴프리헨션을 나타낼 수 있습니다."
   ]
  },
  {
   "cell_type": "code",
   "execution_count": 3,
   "metadata": {},
   "outputs": [
    {
     "name": "stdout",
     "output_type": "stream",
     "text": [
      "[4, 16, 36, 64, 100]\n"
     ]
    }
   ],
   "source": [
    "squares = [x**2 for x in number_list if x % 2 == 0] # %는 나머지 연산자\n",
    "\n",
    "print(squares)"
   ]
  },
  {
   "cell_type": "markdown",
   "metadata": {},
   "source": [
    "### <span style='color:black; background-color:#f5f0ff;'>컴프리헨션 내부에 제어 하위 식을 세 개 이상 사용하지 말라</span>\n",
    "\n",
    "컴프리헨션 내부에 제어 하위 식을 너무 많이 쓰게 되면 컴프리헨션이 지나치게 길어지게 됩니다.\n",
    "\n",
    "이는 가독성과 편리성을 추구하기 위해 사용하는 컴프리헨션의 존재 의의에 위반됩니다.\n",
    "\n",
    "아래의 코드는 내부에 리스트가 있는 리스트 (즉 이차원 배열)을 리스트 (일차원 배열)로 만드는 코드입니다"
   ]
  },
  {
   "cell_type": "code",
   "execution_count": 4,
   "metadata": {},
   "outputs": [
    {
     "name": "stdout",
     "output_type": "stream",
     "text": [
      "[1, 2, 3, 4, 5, 6, 7, 8, 9]\n"
     ]
    }
   ],
   "source": [
    "matrix = [[1,2,3],[4,5,6],[7,8,9]]\n",
    "flat = [x for row in matrix for x in row]\n",
    "print(flat)"
   ]
  },
  {
   "cell_type": "markdown",
   "metadata": {},
   "source": [
    "위 코드는 `for row in matrix` 에서 각각 `[1,2,3]`, `[4,5,6]`, `[7,8,9]` 가 row에 입력되고,\n",
    "\n",
    "다시 `for x in row` 에서 각각의 row의 원소가 x에 입력이 되는 형식입니다.\n",
    "\n",
    "아직까지 가독성을 해치지 않지만 컴프리헨션 내에 제어문이 더 들어가게 되면 가독성을 해치게 됩니다. 이럴땐 차라리 for문을 이용하는 것이 더 깔끔합니다"
   ]
  },
  {
   "cell_type": "code",
   "execution_count": 5,
   "metadata": {},
   "outputs": [
    {
     "name": "stdout",
     "output_type": "stream",
     "text": [
      "[1, 2, 3, 4, 5, 6, 7, 8, 9, 10, 11, 12]\n",
      "[1, 2, 3, 4, 5, 6, 7, 8, 9, 10, 11, 12]\n"
     ]
    }
   ],
   "source": [
    "my_list = [[[1,2,3],[4,5,6]],[[7,8,9],[10,11,12]]]\n",
    "\n",
    "flat = [x for sublist1 in my_list \n",
    "        for sublist2 in sublist1\n",
    "        for x in sublist2]\n",
    "print(flat)\n",
    "\n",
    "################################\n",
    "\n",
    "flat = []\n",
    "for sublist1 in my_list:\n",
    "    for sublist2 in sublist1:\n",
    "        flat.extend(sublist2)\n",
    "\n",
    "print(flat)"
   ]
  },
  {
   "cell_type": "markdown",
   "metadata": {},
   "source": [
    "### <span style='color:black; background-color:#f5f0ff;'>제너레이터를 이용하라</span>\n",
    "\n",
    "함수에서 시퀀스를 반환해야 할 때 주로 원하는 원소를 모은 리스트를 선언 후 return 하는 방식을 사용합니다.\n",
    "\n",
    "아래의 함수는 문자열에서 찾은 단어의 인덱스를 반환하는 함수입니다. "
   ]
  },
  {
   "cell_type": "code",
   "execution_count": 6,
   "metadata": {},
   "outputs": [
    {
     "name": "stdout",
     "output_type": "stream",
     "text": [
      "[0, 15, 20, 24]\n"
     ]
    }
   ],
   "source": [
    "def index_words(text):\n",
    "    result = []\n",
    "    if text:\n",
    "        result.append(0)\n",
    "    for index, letter in enumerate(text):\n",
    "        if letter == ' ':\n",
    "            result.append(index+1)\n",
    "    return result\n",
    "\n",
    "address = '컴퓨터(computer)를 이용하여 코딩을 해봅시다'\n",
    "result = index_words(address)\n",
    "print(result)"
   ]
  },
  {
   "cell_type": "markdown",
   "metadata": {},
   "source": [
    "위 함수는 가독성이 떨어지고 append 메서드를 지나치게 자주호출하여 효율성이 떨어집니다.\n",
    "\n",
    "이러한 함수를 개선하기 위해 사용하는 것이 바로 **제너레이터** 입니다.\n",
    "\n",
    "제너레이터는 *yield* 식을 이용하는 함수에 의해 만들어집니다. 아래의 함수를 보겠습니다"
   ]
  },
  {
   "cell_type": "code",
   "execution_count": 7,
   "metadata": {},
   "outputs": [],
   "source": [
    "def index_words_iter(text):\n",
    "    if text:\n",
    "        yield 0\n",
    "    for index, letter in enumerate(text):\n",
    "        if letter == ' ':\n",
    "            yield index + 1"
   ]
  },
  {
   "cell_type": "markdown",
   "metadata": {},
   "source": [
    "위 함수가 호출되면 제너레이터 함수가 실제로 실행되지 않고 즉시 이터레이터를 반환하게 됩니다.\n",
    "\n",
    "이터레이터가 next 내장 함수를 호출할 때마다 이터레이터는 제너레이터 함수를 다음 yield 식까지 진행시키게 됩니다.\n",
    "\n",
    "제너레이터가 yield 에 전달하는 값은 이터레이터에 의해 호출하는 쪽에 반환하게 됩니다."
   ]
  },
  {
   "cell_type": "code",
   "execution_count": 8,
   "metadata": {},
   "outputs": [
    {
     "name": "stdout",
     "output_type": "stream",
     "text": [
      "0\n",
      "15\n"
     ]
    }
   ],
   "source": [
    "it = index_words_iter(address)\n",
    "print(next(it))\n",
    "print(next(it))"
   ]
  },
  {
   "cell_type": "markdown",
   "metadata": {},
   "source": [
    "반환하는 리스트를 생성하기 위해 쓰이는 append 메서드가 사라짐으로써 가독성과 효율성을 동시에 챙겼습니다.\n",
    "\n",
    "제너레이터가 반환하는 이터레이터를 리스트 내장 함수에 넘기면 필요할 때 제너레이터를 쉽게 리스트로 변환할 수 있습니다."
   ]
  },
  {
   "cell_type": "code",
   "execution_count": 11,
   "metadata": {},
   "outputs": [
    {
     "name": "stdout",
     "output_type": "stream",
     "text": [
      "[0, 15, 20, 24]\n"
     ]
    }
   ],
   "source": [
    "result = list(index_words_iter(address)) # index_words_iter의 반환형은 generator\n",
    "print(result)"
   ]
  },
  {
   "cell_type": "markdown",
   "metadata": {},
   "source": [
    "## 리스트 컴프리헨션의 문제점과 제너레이터의 강점\n",
    "\n",
    "* 입력이 크면 메모리를 너무 많이 사용하기 때문에 리스트 컴프리헨션은 문제를 일으킬 수 있습니다.\n",
    "* 제너레이터 식은 이터레이터처럼 한 번에 원소를 하나씩 출력 메모리 문제를 피할 수 있습니다.\n",
    "* 제너레이터 식이 반환한 이터레이터를 다른 제너레이터 식의 하위 식으로 사용하여 제너레이터 식을 합성하여 사용할 수 있습니다.\n",
    "* 서로 합성된 제너레이터 식은 매우 빠르게 실행되고 메모리도 효율적으로 사용합니다\n",
    "* ***"
   ]
  },
  {
   "cell_type": "markdown",
   "metadata": {},
   "source": [
    "### 이터레이터 및 제너레이터 다루기 위한 itertools 내장 모듈\n",
    "\n",
    "`itertools` 라이브러리에는 유용한 기능을 가지고 있는 다양한 함수가 들어 있습니다."
   ]
  },
  {
   "cell_type": "code",
   "execution_count": 1,
   "metadata": {},
   "outputs": [],
   "source": [
    "import itertools"
   ]
  },
  {
   "cell_type": "markdown",
   "metadata": {},
   "source": [
    "#### 여러 이터레이터 연결할 때 사용하는 함수\n",
    "\n",
    "**chain**\n",
    "\n",
    "여러 이터레이터를 하나의 순차적인 이터레이터로 합치고 싶을 때 사용합니다"
   ]
  },
  {
   "cell_type": "code",
   "execution_count": 13,
   "metadata": {},
   "outputs": [
    {
     "name": "stdout",
     "output_type": "stream",
     "text": [
      "[1, 2, 3, 4, 5, 6]\n"
     ]
    }
   ],
   "source": [
    "it = itertools.chain([1,2,3],[4,5,6])\n",
    "print(list(it))"
   ]
  },
  {
   "cell_type": "markdown",
   "metadata": {},
   "source": [
    "**repeat**\n",
    "\n",
    "한 값을 계속 반복해 내놓고 싶을 때 사용합니다. 두번째 인자를 통해 최대 횟수를 조절할 수 있습니다"
   ]
  },
  {
   "cell_type": "code",
   "execution_count": 14,
   "metadata": {},
   "outputs": [
    {
     "name": "stdout",
     "output_type": "stream",
     "text": [
      "['화이팅!', '화이팅!', '화이팅!']\n"
     ]
    }
   ],
   "source": [
    "it = itertools.repeat('화이팅!', 3)\n",
    "print(list(it))"
   ]
  },
  {
   "cell_type": "markdown",
   "metadata": {},
   "source": [
    "**cycle**\n",
    "\n",
    "이터레이터가 내놓는 우너소를 반복하고 싶을 때 사용합니다."
   ]
  },
  {
   "cell_type": "code",
   "execution_count": 15,
   "metadata": {},
   "outputs": [
    {
     "name": "stdout",
     "output_type": "stream",
     "text": [
      "[1, 2, 1, 2, 1, 2, 1, 2, 1, 2]\n"
     ]
    }
   ],
   "source": [
    "it = itertools.cycle([1,2])\n",
    "it = [next(it) for _ in range(10)]\n",
    "print(list(it))"
   ]
  },
  {
   "cell_type": "markdown",
   "metadata": {},
   "source": [
    "**tee**\n",
    "\n",
    "한 이터레이터를 병렬적으로 두 번째 인자로 지정된 개수의 이터레이터로 만들고 싶을 때 사용하는 함수입니다. 이 함수를 사용하여 만든 이터레이터들을 소비할 때 한 이터레이터가 남을 경우 원소를 큐에 담아두기 때문에 메모리 사용량이 증가하게 됩니다"
   ]
  },
  {
   "cell_type": "code",
   "execution_count": 2,
   "metadata": {},
   "outputs": [
    {
     "name": "stdout",
     "output_type": "stream",
     "text": [
      "['하낫', '들', '셋', '화이팅!']\n",
      "['하낫', '들', '셋', '화이팅!']\n",
      "['하낫', '들', '셋', '화이팅!']\n"
     ]
    }
   ],
   "source": [
    "it1, it2, it3 = itertools.tee(['하낫', '들', '셋', '화이팅!'], 3)\n",
    "print(list(it1))\n",
    "print(list(it2))\n",
    "print(list(it3))"
   ]
  },
  {
   "cell_type": "markdown",
   "metadata": {},
   "source": [
    "#### 이터레이터 내 원소를 거르는 함수\n",
    "\n",
    "이터레이터에서 원소를 필터링 할 때 사용하는 함수 또한 itertools 내장 라이브러리에 존재합니다.\n",
    "\n",
    "**islice**\n",
    "\n",
    "이터레이터를 복사하지 않으면서 슬라이싱을 하고 싶을 때 사용합니다."
   ]
  },
  {
   "cell_type": "code",
   "execution_count": 2,
   "metadata": {},
   "outputs": [
    {
     "name": "stdout",
     "output_type": "stream",
     "text": [
      "앞에서 다섯 개: [1, 2, 3, 4, 5]\n",
      "중간의 홀수들: [3, 5, 7]\n"
     ]
    }
   ],
   "source": [
    "values = [1,2,3,4,5,6,7,8,9,10]\n",
    "\n",
    "first_five = itertools.islice(values, 5) # == values[:5]\n",
    "print('앞에서 다섯 개:', list(first_five))\n",
    "\n",
    "middle_odds = itertools.islice(values, 2,8,2) # == values[2:8:2]\n",
    "print('중간의 홀수들:', list(middle_odds))"
   ]
  },
  {
   "cell_type": "markdown",
   "metadata": {},
   "source": [
    "**filterfalse**\n",
    "\n",
    "filter 함수의 반대격인 함수입니다. 주어진 이터레이터에서 false를 반환하는 모든 원소를 가지고 옵니다."
   ]
  },
  {
   "cell_type": "code",
   "execution_count": 7,
   "metadata": {},
   "outputs": [
    {
     "name": "stdout",
     "output_type": "stream",
     "text": [
      "Filter: [2, 4, 6, 8, 10]\n",
      "false Filter: [1, 3, 5, 7, 9]\n"
     ]
    }
   ],
   "source": [
    "values = [1,2,3,4,5,6,7,8,9,10]\n",
    "evens = lambda x: x % 2 == 0\n",
    "\n",
    "filter_result = filter(evens,values)\n",
    "print('Filter:', list(filter_result))\n",
    "\n",
    "filter_false_result = itertools.filterfalse(evens,values)\n",
    "print('false Filter:', list(filter_false_result))"
   ]
  },
  {
   "cell_type": "markdown",
   "metadata": {},
   "source": [
    "With this, we conclude our discussion of branching and loops in Python."
   ]
  },
  {
   "cell_type": "markdown",
   "metadata": {},
   "source": [
    "## Further Reading and References\n",
    "\n",
    "반복문에 대해 좀 더 자세히 알고 싶다면 아래 자료를 참조하길 바랍니다:\n",
    "\n",
    "* Python Tutorial at W3Schools: https://www.w3schools.com/python/\n",
    "* Practical Python Programming: https://dabeaz-course.github.io/practical-python/Notes/Contents.html\n",
    "* Python official documentation: https://docs.python.org/3/tutorial/index.html\n"
   ]
  }
 ],
 "metadata": {
  "kernelspec": {
   "display_name": "Python 3.7.13 ('test')",
   "language": "python",
   "name": "python3"
  },
  "language_info": {
   "codemirror_mode": {
    "name": "ipython",
    "version": 3
   },
   "file_extension": ".py",
   "mimetype": "text/x-python",
   "name": "python",
   "nbconvert_exporter": "python",
   "pygments_lexer": "ipython3",
   "version": "3.7.13"
  },
  "vscode": {
   "interpreter": {
    "hash": "cfe99ec1b02e5c008e5a6d5009e34d19dadc45b4a9f31d7dbbcfde9b74a6f07d"
   }
  }
 },
 "nbformat": 4,
 "nbformat_minor": 4
}
