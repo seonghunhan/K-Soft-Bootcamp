{
 "cells": [
  {
   "cell_type": "markdown",
   "metadata": {},
   "source": [
    "# Python과 Jupyter의 기초\n",
    "\n",
    "![](https://i.imgur.com/gvSnw4A.png)\n",
    "\n",
    "### Part 1 of \"Python을 사용한 데이터 분석: 0부터 Pandas까지\"\n",
    "\n",
    "본 튜토리얼 시리즈는 초보자를 위한 Python을 이용한 프로그래밍과 데이터 분석을 소개합니다.   \n",
    "이 튜토리얼은 실용적이고 코딩 중심적인 접근으로 진행됩니다.\n",
    "본 튜토리얼을 효율적으로 학습하는 가장 좋은 방법은 코드를 실행하고 직접 사용해 보는 것입니다.\n",
    "\n",
    "\n",
    "1. [Python과 Jupyter 기초]\n",
    "2. [변수 및 데이터 유형 요약 알아보기]\n",
    "3. [조건문 및 루프를 사용한 분기]\n",
    "4. [함수를 이용한 재사용 가능한 코드 작성]\n",
    "5. [파일 읽기 및 쓰기]\n",
    "6. [Python과 Numpy를 이용한 수치형 연산]\n",
    "7. [Pandas를 이용한 데이터 표 분석]\n",
    "8. [Matplotlib와 Seaborn을 사용한 데이터 시각화]\n",
    "9. [탐색적 데이터 분석 - 사례 연구]"
   ]
  },
  {
   "cell_type": "markdown",
   "metadata": {},
   "source": [
    "해당 튜토리얼에서는 다음 주제를 다룹니다.:\n",
    "\n",
    "* Python을 사용하여 산술 연산 수행\n",
    "* 변수를 사용한 multi-step 문제 해결\n",
    "* Python을 사용한 조건의 참/거짓 판단\n",
    "* 조건과 논리연산자의 결합\n",
    "* Markdown을 사용한 텍스트 스타일 추가\n"
   ]
  },
  {
   "cell_type": "markdown",
   "metadata": {},
   "source": [
    "### 코드 실행 방법\n",
    "\n",
    "### Option 1: 무료 온라인 리소스를 사용하여 실행\n",
    "\n",
    "무료로 제공되는 온라인 리소스를 사용하여 실행하는 방법입니다.  \n",
    "**Run** 버튼을 클릭한 뒤 **Run on Binder**를 선택하여 해당코드를 실행시킬수 있습니다.  \n",
    "\n",
    "\"Run on Colab\" 혹은 \"Run on Kaggle\"을 선택하여 [Google Colab](https://colab.research.google.com) 혹은[Kaggle](https://kaggle.com) 이 플랫폼에서도 해당코드를 실행시킬 수 있지만,  \n",
    "이러한 플랫폼을 사용하려면 [Google Colab](https://colab.research.google.com) 또는 [Kaggle](https://kaggle.com)에서 계정을 생성해야 합니다.\n",
    "\n",
    "<!--#### Option 2: Running on your computer locally-->\n",
    "### Option 2: 컴퓨터에서 로컬로 실행\n",
    "로컬 환경에서 해당코드를 실행시키려면 [Python](https://www.python.org)이 필요하고, Jupyter Notebooks을 다운로드 한 후 필요한 라이브러리를 설치해야 합니다.  \n",
    "Python 환경을 분리시켜 관리해주는 [Conda](https://docs.conda.io/projects/conda/en/latest/user-guide/install/)를 활용하여 환경설정을 하는 것을 추천합니다.\n",
    "\n",
    "\n",
    "> **Jypyter Notebooks** : 이 튜토리얼은 [Jupyter notebook](https://jupyter.org)으로 만들었습니다.\n",
    "각 셀은 Python으로 작성된 코드나 간단한 설명을 포함할 수 있습니다.\n",
    "코드 셀을 실행하고, 실행결과(숫자, 문자, 그래프, 테이블, 파일 등)를 Jupyter Notebook 내에서 즉시 볼 수 있습니다.\n",
    "Jupyter는 실험과 분석을 위한 플랫폼이므로, 코드가 지저분하게 작성되어있거나 여러 셀에 나뉘어진 상태에서 문제를 해결하는 것을 절대 두려워하지 마십시오.\n",
    "오류를 발견하고 수정하는 과정에서 많은 것을 배울 수 있으며, 상단의 \"모든 셀의 출력 지우기\" 옵션을 사용하여 모든 출력을 지우고 위에서부터 다시 시작할 수 있습니다.\n"
   ]
  },
  {
   "cell_type": "markdown",
   "metadata": {},
   "source": [
    "## <span style='color:black; background-color:#fff5b1;'>Python을 사용한 산술 연산 수행</span>\n",
    "\n",
    "먼저, Python을 계산기로 사용해보겠습니다. Jupyter 내에서 코드 셀을 사용하여 Python을 작성하고 실행할 수 있습니다.\n",
    "\n",
    "> **셀 작업** : Jupyter 내에 새로운 셀을 생성하려면 메뉴 모음에서 \"삽입 > 아래에 셀 삽입\"을 선택하거나, 도구 모음에서 \"+\" 버튼을 누르면 됩니다.  \n",
    "또한 단축키 Esc+B를 사용하여 새로운 셀을 생성할 수 있습니다.   \n",
    "셀이 만들어지면 셀을 클릭하여 선택하고, 그런 다음 \"셀 > 셀 유형\" 메뉴 선택사항을 사용하여 셀 유형을 코드 또는 Markdown(텍스트)로 변경할 수 있습니다.  \n",
    "또한 단축키인 Esc+Y와 Esc+M을 사용할 수 있으며, 셀을 두 번 클릭하여 셀 내의 내용을 편집할 수 있습니다.  \n",
    "변경사항을 적용하고 셀을 실행하려면 \"셀 > 셀 실행\" 메뉴 옵션을 사용하거나, 도구 모음에서 \"실행\" 단추를 클릭하거나 \"Shift+Enter\"를 사용하면 됩니다.\n",
    "\n",
    "\n",
    "아래의 코드 셀을 실행하여 계산을 수행하고, 결과를 확인하세요.  \n",
    "그런 다음, 본인의 생각에 따라 숫자를 변경하고 수정된 셀을 다시 실행하여 결과를 확인하세요.  \n",
    "'//', '%', '**' 연산자가 무엇에 쓰이는지 짐작할 수 있나요?\n",
    "\n",
    "\n",
    "\n"
   ]
  },
  {
   "cell_type": "code",
   "execution_count": 2,
   "metadata": {},
   "outputs": [
    {
     "data": {
      "text/plain": [
       "14"
      ]
     },
     "execution_count": 2,
     "metadata": {},
     "output_type": "execute_result"
    }
   ],
   "source": [
    "2 + 3 + 9"
   ]
  },
  {
   "cell_type": "code",
   "execution_count": 6,
   "metadata": {},
   "outputs": [
    {
     "data": {
      "text/plain": [
       "26"
      ]
     },
     "execution_count": 6,
     "metadata": {},
     "output_type": "execute_result"
    }
   ],
   "source": [
    "99 - 73"
   ]
  },
  {
   "cell_type": "code",
   "execution_count": 7,
   "metadata": {
    "scrolled": true
   },
   "outputs": [
    {
     "data": {
      "text/plain": [
       "-33709.28"
      ]
     },
     "execution_count": 7,
     "metadata": {},
     "output_type": "execute_result"
    }
   ],
   "source": [
    "23.54 * -1432"
   ]
  },
  {
   "cell_type": "code",
   "execution_count": 8,
   "metadata": {},
   "outputs": [
    {
     "data": {
      "text/plain": [
       "14.285714285714286"
      ]
     },
     "execution_count": 8,
     "metadata": {},
     "output_type": "execute_result"
    }
   ],
   "source": [
    "100 / 7"
   ]
  },
  {
   "cell_type": "code",
   "execution_count": 9,
   "metadata": {},
   "outputs": [
    {
     "data": {
      "text/plain": [
       "14"
      ]
     },
     "execution_count": 9,
     "metadata": {},
     "output_type": "execute_result"
    }
   ],
   "source": [
    "100 // 7"
   ]
  },
  {
   "cell_type": "code",
   "execution_count": 10,
   "metadata": {},
   "outputs": [
    {
     "data": {
      "text/plain": [
       "2"
      ]
     },
     "execution_count": 10,
     "metadata": {},
     "output_type": "execute_result"
    }
   ],
   "source": [
    "100 % 7"
   ]
  },
  {
   "cell_type": "code",
   "execution_count": 11,
   "metadata": {},
   "outputs": [
    {
     "data": {
      "text/plain": [
       "125"
      ]
     },
     "execution_count": 11,
     "metadata": {},
     "output_type": "execute_result"
    }
   ],
   "source": [
    "5 ** 3"
   ]
  },
  {
   "cell_type": "markdown",
   "metadata": {},
   "source": [
    "예상할 수 있듯이, `/`, `*`와 같은 연산자는 수학적 관례에 따라 `+`, `-`와 같은 다른 연산자보다 우선순위가 높습니다.  \n",
    "수학과 동일하게, 괄호 ()를 사용하여 작업 수행 순서를 지정할 수 있습니다.\n"
   ]
  },
  {
   "cell_type": "code",
   "execution_count": null,
   "metadata": {},
   "outputs": [],
   "source": [
    "((2 + 5) * (17 - 3)) / (4 ** 3)"
   ]
  },
  {
   "cell_type": "markdown",
   "metadata": {},
   "source": [
    "Python은 다음과 같은 산술 연산자를 지원합니다 :\n",
    "| 연산자      | 목적               | 예시        | 결과      |\n",
    "|------------|--------------------|-------------|-----------|\n",
    "| `+`        | 덧셈               | `2 + 3`     | `5`       |\n",
    "| `-`        | 뺄셈               | `3 - 2`     | `1`       |\n",
    "| `*`        | 곱셈               | `8 * 12`    | `96`      |\n",
    "| `/`        | 나눗셈             | `100 / 7`   | `14.28..` |\n",
    "| `//`       | 몫                 | `100 // 7`  | `14`      |    \n",
    "| `%`        | 나머지             | `100 % 7`   | `2`       |\n",
    "| `**`       | 제곱               | `5 ** 3`    | `125`     |\n"
   ]
  },
  {
   "cell_type": "markdown",
   "metadata": {},
   "source": [
    "### <span style='color:black; background-color:#f5f0ff;'>Python의 명명 규칙</span>\n",
    "Python에서는 PEP 8 스타일 가이드를 따라 작성하는 것이 좋습니다.\n",
    ">`PEP 8`: `PEP 8`이란 Python 코드를 어떤 형식으로 작성할지 알려주는 스타일 가이드로, Python 언어의 여러 부분에 사용하는 이름을 어떻게 붙일지에 대한 고유 스타일을 제공합니다.  \n",
    "이런 규칙에 따라 작성하면, 코드를 읽을 때 각 이름이 어떤 유형에 속하는지 쉽게 구분할 수 있습니다.\n",
    "\n",
    "- 함수, 변수, 애트리뷰트(attribute)는 lowercase_underscore처럼 소문자와 밑줄을 사용한다.\n",
    "- 보호돼야 하는 인스턴스 애트리뷰트는 일반적인 애트리뷰트 이름 규칙을 따르되, _leading_underscore처럼 밑줄로 시작한다.\n",
    "- 비공개(private)(한 클래스 안에서만 쓰이고 다른 곳에서는 쓰면 안되는 경우) 인스턴스 애트리뷰트는 일반적인 애트리뷰트 이름 규칙을 따르되, __leading_underscore처럼 밑줄 두 개로 시작한다.\n",
    "- 클래스(예외도 포함한다)는 CapitalizedWord처럼 여러 단어를 이어 붙이되, 각 단어의 첫 글자를 대문자로 만든다."
   ]
  },
  {
   "cell_type": "markdown",
   "metadata": {},
   "source": [
    "## <span style='color:black; background-color:#fff5b1;'>변수를 사용한 multi-step 문제 해결</span>\n",
    "\n",
    "Python을 사용하여 다음 문자 문제를 해결해보겠습니다.\n",
    "> 한 식료품점은 얼음 한 봉지를 1.25달러에 팔고, 20%의 수익을 올린다. 만약 얼음 500봉지를 판매한다면, 총 이익은 얼마나 될까?\n",
    "\n",
    "우리는 제공된 정보를 나열하고, 위 문제를 Python을 사용하여 수학적 표현으로 점진적으로 변환할 수 있습니다.  \n",
    "*얼음 봉지 비용($)* = 1.25  \n",
    "\n",
    "*이익률* = 20% = .2    \n",
    "\n",
    "*한 봉지당 이익($)* = 이익률 * 얼음봉지 비용 = .2 *1.25  \n",
    "\n",
    "*봉지 수* = 500  \n",
    "\n",
    "*총 이익* = 봉지 수 * 봉지당 이익 = \n",
    "500 * (.2 *1.25)\n"
   ]
  },
  {
   "cell_type": "code",
   "execution_count": null,
   "metadata": {},
   "outputs": [],
   "source": [
    "500 * (.2 * 1.25)"
   ]
  },
  {
   "cell_type": "markdown",
   "metadata": {},
   "source": [
    "위 과정에 의해, 식료품점은 총 125달러의 수익을 올립니다. 이것이 문제를 해결하는 합리적인 방법이지만, 코드 셀을 보면 숫자가 의미하는 것이 무엇인지 명확히 알 수 없습니다.  \n",
    "따라서 우리는 Python *변수*를 만들어 각각의 숫자에 이름을 붙일 것입니다.\n",
    "\n",
    "> *변수(Variables)* : Python과 같은 프로그래밍 언어로 작업하는 동안 정보가 *변수*에 저장됩니다.  \n",
    "변수는 데이터를 저장하기 위한 컨테이너라고 생각할 수 있으며, 변수 내에 저장된 데이터를 *값(value)* 라고 합니다.\n"
   ]
  },
  {
   "cell_type": "code",
   "execution_count": 13,
   "metadata": {},
   "outputs": [],
   "source": [
    "cost_of_ice_bag = 1.25"
   ]
  },
  {
   "cell_type": "code",
   "execution_count": 14,
   "metadata": {},
   "outputs": [],
   "source": [
    "profit_margin = .2"
   ]
  },
  {
   "cell_type": "code",
   "execution_count": 15,
   "metadata": {},
   "outputs": [],
   "source": [
    "number_of_bags = 500"
   ]
  },
  {
   "cell_type": "markdown",
   "metadata": {},
   "source": [
    "위 셀에서 볼 수 있듯이, cost_of_ice_bag, profit_margin, number_of_bags 변수에는 이제 문제에 제공된 정보가 포함됩니다.  \n",
    "셀에 변수 이름을 입력하여 변수 값을 확인할 수 있으며, 산술연산을 사용하여 변수를 결합하는 등 다른 변수를 만들 수 있습니다.\n",
    "\n",
    "> **코드 완성** : Jupyter 내의 코드 셀에 기존 변수의 이름을 입력할 때, 처음 몇 글자를 입력하고 `Tab`키를 누르면 변수 이름이 자동으로 완성됩니다.  \n",
    "아래의 코드 셀에 'pro'를 입력하고 `Tab`을 눌러 'profit_margin'으로 자동완성 해보세요.\n"
   ]
  },
  {
   "cell_type": "code",
   "execution_count": 16,
   "metadata": {},
   "outputs": [
    {
     "data": {
      "text/plain": [
       "0.2"
      ]
     },
     "execution_count": 16,
     "metadata": {},
     "output_type": "execute_result"
    }
   ],
   "source": [
    "profit_margin"
   ]
  },
  {
   "cell_type": "code",
   "execution_count": 17,
   "metadata": {},
   "outputs": [],
   "source": [
    "profit_per_bag = cost_of_ice_bag * profit_margin"
   ]
  },
  {
   "cell_type": "code",
   "execution_count": 18,
   "metadata": {},
   "outputs": [
    {
     "data": {
      "text/plain": [
       "0.25"
      ]
     },
     "execution_count": 18,
     "metadata": {},
     "output_type": "execute_result"
    }
   ],
   "source": [
    "profit_per_bag"
   ]
  },
  {
   "cell_type": "code",
   "execution_count": 19,
   "metadata": {},
   "outputs": [],
   "source": [
    "total_profit = number_of_bags * profit_per_bag"
   ]
  },
  {
   "cell_type": "code",
   "execution_count": 20,
   "metadata": {},
   "outputs": [
    {
     "data": {
      "text/plain": [
       "125.0"
      ]
     },
     "execution_count": 20,
     "metadata": {},
     "output_type": "execute_result"
    }
   ],
   "source": [
    "total_profit"
   ]
  },
  {
   "cell_type": "markdown",
   "metadata": {},
   "source": [
    "만약 *정의* 되지 않은 변수의 값을 보려고 하면, Python이 오류를 표시합니다.\n",
    "<!--If you try to view the value of a variable that has not been *defined*, i.e., given a value using the assignment statement `variable_name = value`, Python shows an error.-->"
   ]
  },
  {
   "cell_type": "code",
   "execution_count": 21,
   "metadata": {},
   "outputs": [
    {
     "ename": "NameError",
     "evalue": "name 'net_profit' is not defined",
     "output_type": "error",
     "traceback": [
      "\u001b[1;31m---------------------------------------------------------------------------\u001b[0m",
      "\u001b[1;31mNameError\u001b[0m                                 Traceback (most recent call last)",
      "\u001b[1;32m~\\AppData\\Local\\Temp\\ipykernel_26396\\2924770564.py\u001b[0m in \u001b[0;36m<module>\u001b[1;34m\u001b[0m\n\u001b[1;32m----> 1\u001b[1;33m \u001b[0mnet_profit\u001b[0m\u001b[1;33m\u001b[0m\u001b[1;33m\u001b[0m\u001b[0m\n\u001b[0m",
      "\u001b[1;31mNameError\u001b[0m: name 'net_profit' is not defined"
     ]
    }
   ],
   "source": [
    "net_profit"
   ]
  },
  {
   "cell_type": "markdown",
   "metadata": {},
   "source": [
    "적절한 이름의 변수를 사용하여 데이터를 저장하고 조작하는 것은 코드가 수행하는 작업을 설명할 수 있는 좋은 방법입니다.  \n",
    "메시지를 사용하여 문제의 결과를 표시해봅시다. 'print'*함수(function)* 를 사용하여 이 작업을 수행할 수 있습니다.  \n",
    "> **함수(Functions)** : 함수는 재사용 가능한 기능들의 집합입니다. 하나 이상의 입력을 사용하고, 특정 연산을 수행하며, 종종 출력을 반환합니다.  \n",
    "Python은 'print'와 같은 많은 내장 함수를 제공하며, 자체적으로 함수를 정의할 수도 있습니다.  \n"
   ]
  },
  {
   "cell_type": "code",
   "execution_count": null,
   "metadata": {},
   "outputs": [],
   "source": [
    "print(\"The grocery store makes a total profit of $\", total_profit)"
   ]
  },
  {
   "cell_type": "markdown",
   "metadata": {},
   "source": [
    "> **print** : `print` 함수는 정보를 출력하는 데 사용되며, 텍스트(\"안녕? 나는 텍스트야\"), 숫자, 변수, 수학식 등 하나 이상의 입력을 필요로 합니다.  \n",
    "다음 튜토리얼에서는 변수와 함수에 대해 자세히 알아보겠습니다.\n",
    "\n",
    "각 변수 또는 수학적 연산에 대한 코드 셀을 만드는 것이 지루할 수 있지만, 다행히 Jupyter를 사용하면 단일 코드 셀 내에 여러 줄의 코드를 작성할 수 있습니다.\n",
    "셀 내의 마지막 코드 라인의 결과가 출력으로 표시됩니다.\n",
    "\n",
    "하나의 셀 안에 문제에 대한 해결책을 다시 작성해보자.\n"
   ]
  },
  {
   "cell_type": "code",
   "execution_count": null,
   "metadata": {},
   "outputs": [],
   "source": [
    "# Store input data in variables\n",
    "cost_of_ice_bag = 1.25\n",
    "profit_margin = .2\n",
    "number_of_bags = 500\n",
    "\n",
    "# Perform the required calculations\n",
    "profit_per_bag = cost_of_ice_bag * profit_margin\n",
    "total_profit = number_of_bags * profit_per_bag\n",
    "\n",
    "# Display the result\n",
    "print(\"The grocery store makes a total profit of $\", total_profit)"
   ]
  },
  {
   "cell_type": "markdown",
   "metadata": {},
   "source": [
    "코드 내에 *주석(comments)* 을 추가하기 위해 `#` 문자를 사용합니다.\n",
    "> **주석(comments)** : 주석과 빈 줄은 실행에 영향을 끼치지 않지만, 코드가 수행하는 작업에 대한 정보를 사람에게 제공하는데 유용합니다.  \n",
    "주석은 inline(일부 코드의 끝), 별도의 줄에 있거나, 여러 줄에 걸쳐있을 수 있습니다.\n",
    "\n",
    "inline 및 단일 줄 주석은 `#` 로 시작하는 반면, 주석이 길어 여러 줄에 걸쳐있어야 할 경우 세 개의 따옴표로 시작하고 끝납니다. (\"\"\")\n",
    "\n",
    "아래는 주석의 예시입니다.\n"
   ]
  },
  {
   "cell_type": "code",
   "execution_count": null,
   "metadata": {},
   "outputs": [],
   "source": [
    "my_favorite_number = 1 # an inline comment"
   ]
  },
  {
   "cell_type": "code",
   "execution_count": null,
   "metadata": {},
   "outputs": [],
   "source": [
    "# This comment gets its own line\n",
    "my_least_favorite_number = 3"
   ]
  },
  {
   "cell_type": "code",
   "execution_count": null,
   "metadata": {},
   "outputs": [],
   "source": [
    "\"\"\"This is a multi-line comment.\n",
    "Write as little or as much as you'd like.\n",
    "\n",
    "Comments are really helpful for people reading\n",
    "your code, but try to keep them short & to-the-point.\n",
    "\n",
    "Also, if you use good variable names, then your code is\n",
    "often self explanatory, and you may not even need comments!\n",
    "\"\"\"\n",
    "a_neutral_number = 5"
   ]
  },
  {
   "cell_type": "markdown",
   "metadata": {},
   "source": [
    "## <span style='color:black; background-color:#fff5b1;'>Python을 사용한 피연산자 평가</span>\n",
    "\n",
    "Python은 산술 연산 외에도 숫자와 변수를 비교하기 위한 몇 가지 연산도 제공합니다.\n",
    "| 연산자      | 설명                                                     |\n",
    "|-------------|-----------------------------------------------------------------|\n",
    "| `==`        | 피연산자가 동일한지 확인                                     |\n",
    "| `!=`        | 피연산자가 동일하지 않은지 확인                                 |\n",
    "| `>`         | 좌측 피연산자가 우측 피연산보다 큰지 확인             |\n",
    "| `<`         | 좌측 피연산자가 우측 피연산자보다 작은지 확인                |\n",
    "| `>=`        | 좌측 피연산자가 우측 피연산자보다 크거나 같은지 확인 |\n",
    "| `<=`        | 우측 피연산자가 좌측 피연산자보다 크거나 같은지 확인    |\n",
    "\n",
    "비교 연산의 결과는 `참(True)` 또는 `거짓(False)` 입니다.(T/F)  \n",
    "이들은 Python의 특별한 키워드 입니다. 아래 셀에서 비교 연산자를 사용하여 몇 가지 실험을 진행해보겠습니다.\n"
   ]
  },
  {
   "cell_type": "code",
   "execution_count": null,
   "metadata": {},
   "outputs": [],
   "source": [
    "my_favorite_number = 1\n",
    "my_least_favorite_number = 5\n",
    "a_neutral_number = 3"
   ]
  },
  {
   "cell_type": "code",
   "execution_count": null,
   "metadata": {},
   "outputs": [],
   "source": [
    "# Equality check - True\n",
    "my_favorite_number == 1"
   ]
  },
  {
   "cell_type": "code",
   "execution_count": null,
   "metadata": {},
   "outputs": [],
   "source": [
    "# Equality check - False\n",
    "my_favorite_number == my_least_favorite_number"
   ]
  },
  {
   "cell_type": "code",
   "execution_count": null,
   "metadata": {},
   "outputs": [],
   "source": [
    "# Not equal check - True\n",
    "my_favorite_number != a_neutral_number"
   ]
  },
  {
   "cell_type": "code",
   "execution_count": null,
   "metadata": {},
   "outputs": [],
   "source": [
    "# Not equal check - False\n",
    "a_neutral_number != 3"
   ]
  },
  {
   "cell_type": "code",
   "execution_count": null,
   "metadata": {},
   "outputs": [],
   "source": [
    "# Greater than check - True\n",
    "my_least_favorite_number > a_neutral_number"
   ]
  },
  {
   "cell_type": "code",
   "execution_count": null,
   "metadata": {},
   "outputs": [],
   "source": [
    "# Greater than check - False\n",
    "my_favorite_number > my_least_favorite_number"
   ]
  },
  {
   "cell_type": "code",
   "execution_count": null,
   "metadata": {},
   "outputs": [],
   "source": [
    "# Less than check - True\n",
    "my_favorite_number < 10"
   ]
  },
  {
   "cell_type": "code",
   "execution_count": null,
   "metadata": {},
   "outputs": [],
   "source": [
    "# Less than check - False\n",
    "my_least_favorite_number < my_favorite_number"
   ]
  },
  {
   "cell_type": "code",
   "execution_count": null,
   "metadata": {},
   "outputs": [],
   "source": [
    "# Greater than or equal check - True\n",
    "my_favorite_number >= 1"
   ]
  },
  {
   "cell_type": "code",
   "execution_count": null,
   "metadata": {},
   "outputs": [],
   "source": [
    "# Greater than or equal check - False\n",
    "my_favorite_number >= 3"
   ]
  },
  {
   "cell_type": "code",
   "execution_count": null,
   "metadata": {},
   "outputs": [],
   "source": [
    "# Less than or equal check - True\n",
    "3 + 6 <= 9"
   ]
  },
  {
   "cell_type": "code",
   "execution_count": null,
   "metadata": {},
   "outputs": [],
   "source": [
    "# Less than or equal check - False\n",
    "my_favorite_number + a_neutral_number <= 3"
   ]
  },
  {
   "cell_type": "markdown",
   "metadata": {},
   "source": [
    "산술 연산과 마찬가지로 비교 연산 결과도 변수에 저장할 수 있습니다.\n"
   ]
  },
  {
   "cell_type": "code",
   "execution_count": null,
   "metadata": {},
   "outputs": [],
   "source": [
    "cost_of_ice_bag = 1.25\n",
    "is_ice_bag_expensive = cost_of_ice_bag >= 10\n",
    "print(\"Is the ice bag expensive?\", is_ice_bag_expensive)"
   ]
  },
  {
   "cell_type": "markdown",
   "metadata": {},
   "source": [
    "## <span style='color:black; background-color:#fff5b1;'>피연산자를 논리 연산자와 결합</span>\n",
    "논리 연산자인 `and`, `or`, `not`은 조건 및 `True`와 `False`값 (T/F값을 booleans 라고도 함)에 따라 동작합니다.  \n",
    "`and`와 `or`은 두 개의 피연산자에서 동작하는 반면, `not`은 한 개의 피연산자에서 동작합니다.\n",
    "\n",
    "`and` 연산자는 두 개의 피연산자가 모두 `True`로 평가될 때, `True`를 반환합니다. 그렇지 않으면 `False`가 반환됩니다.\n"
   ]
  },
  {
   "cell_type": "code",
   "execution_count": null,
   "metadata": {
    "scrolled": true
   },
   "outputs": [],
   "source": [
    "my_favorite_number"
   ]
  },
  {
   "cell_type": "code",
   "execution_count": null,
   "metadata": {},
   "outputs": [],
   "source": [
    "my_favorite_number > 0 and my_favorite_number <= 3"
   ]
  },
  {
   "cell_type": "code",
   "execution_count": null,
   "metadata": {},
   "outputs": [],
   "source": [
    "my_favorite_number < 0 and my_favorite_number <= 3"
   ]
  },
  {
   "cell_type": "code",
   "execution_count": null,
   "metadata": {},
   "outputs": [],
   "source": [
    "my_favorite_number > 0 and my_favorite_number >= 3"
   ]
  },
  {
   "cell_type": "code",
   "execution_count": null,
   "metadata": {},
   "outputs": [],
   "source": [
    "True and False"
   ]
  },
  {
   "cell_type": "code",
   "execution_count": null,
   "metadata": {},
   "outputs": [],
   "source": [
    "True and True"
   ]
  },
  {
   "cell_type": "markdown",
   "metadata": {},
   "source": [
    "`or` 연산자는 하나 이상의 피연산자가 `True`로 평가될 경우 `True`를 반환하고, 두 피연산자가 모두 `False`일 경우에만 `False`를 반환합니다.\n"
   ]
  },
  {
   "cell_type": "code",
   "execution_count": null,
   "metadata": {},
   "outputs": [],
   "source": [
    "a_neutral_number = 3"
   ]
  },
  {
   "cell_type": "code",
   "execution_count": null,
   "metadata": {},
   "outputs": [],
   "source": [
    "a_neutral_number == 3 or my_favorite_number < 0"
   ]
  },
  {
   "cell_type": "code",
   "execution_count": null,
   "metadata": {},
   "outputs": [],
   "source": [
    "a_neutral_number != 3 or my_favorite_number < 0"
   ]
  },
  {
   "cell_type": "code",
   "execution_count": null,
   "metadata": {},
   "outputs": [],
   "source": [
    "my_favorite_number < 0 or True"
   ]
  },
  {
   "cell_type": "code",
   "execution_count": null,
   "metadata": {},
   "outputs": [],
   "source": [
    "False or False"
   ]
  },
  {
   "cell_type": "markdown",
   "metadata": {},
   "source": [
    "`not` 연산자는 피연산자가 `True`이면 `False`를 반환하고, 피연산자가 `False`일 경우 `True`를 반환합니다.\n"
   ]
  },
  {
   "cell_type": "code",
   "execution_count": null,
   "metadata": {},
   "outputs": [],
   "source": [
    "not a_neutral_number == 3"
   ]
  },
  {
   "cell_type": "code",
   "execution_count": null,
   "metadata": {},
   "outputs": [],
   "source": [
    "not my_favorite_number < 0"
   ]
  },
  {
   "cell_type": "code",
   "execution_count": null,
   "metadata": {},
   "outputs": [],
   "source": [
    "not False"
   ]
  },
  {
   "cell_type": "code",
   "execution_count": null,
   "metadata": {},
   "outputs": [],
   "source": [
    "not True"
   ]
  },
  {
   "cell_type": "markdown",
   "metadata": {},
   "source": [
    "논리 연산자는 복잡한 연산식을 형성하기 위해 결합될 수 있습니다.  \n",
    "논리 연산자를 적용해야 하는 순서를 명확히 나타내려면, 괄호 ()를 사용합니다.\n"
   ]
  },
  {
   "cell_type": "code",
   "execution_count": null,
   "metadata": {},
   "outputs": [],
   "source": [
    "(2 > 3 and 4 <= 5) or not (my_favorite_number < 0 and True)"
   ]
  },
  {
   "cell_type": "code",
   "execution_count": null,
   "metadata": {},
   "outputs": [],
   "source": [
    "not (True and 0 < 1) or (False and True)"
   ]
  },
  {
   "cell_type": "markdown",
   "metadata": {},
   "source": [
    "괄호를 사용하지 않으면 논리 연산자의 계산 순서는 왼쪽에서 오른쪽으로 진행됩니다.\n",
    "<!--If parentheses are not used, logical operators are applied from left to right.-->"
   ]
  },
  {
   "cell_type": "code",
   "execution_count": null,
   "metadata": {},
   "outputs": [],
   "source": [
    "not True and 0 < 1 or False and True"
   ]
  },
  {
   "cell_type": "markdown",
   "metadata": {},
   "source": [
    "JupyterNotebook의 대화영 특성을 사용하여, Python의 산술, 조건부 및 논리 연산를 실험합니다.  \n",
    "이후 튜토리얼에서 변수와 함수에 대해 더 깊이 배우도록 하겠습니다.  \n"
   ]
  },
  {
   "cell_type": "markdown",
   "metadata": {},
   "source": [
    "## <span style='color:black; background-color:#fff5b1;'>Markdown을 사용한 텍스트 스타일 추가</span>\n",
    "\n",
    "텍스트 셀을 사용하여 설명을 추가하는 것은 본인을 포함한 다른 사용자에게 코드에 대한 유용한 정보를 제공하는 좋은 방법이며, 나중에 다시 참조해야 할 경우에도 유용하게 작용합니다.  \n",
    "Jupyter 내에서 텍스트 셀을 두 번 눌러 편집할 수 있으며, 편집 모드에서는 텍스트가 약간 다르게 나타납니다.(ex. 머리 글에 ## 접두사가 있음)  \n",
    "이 글 또한 텍스트에 스타일을 추가하는 간단한 방법인 Markdown을 사용하여 작성됩니다.  \n",
    "`##`와 같은 특수문자 없이 출력을 보기 위해서는, 이 셀을 실행하면 됩니다.  \n",
    "\n",
    "소스와 출력을 전환하며 Markdown을 이용한 특정 스타일을 적용해나갈 수 있습니다.  \n",
    "\n",
    "예를 들어, 행의 시작 부분에 하나 이상의 `#` 문자를 사용하여 크기가 다른 헤더를 만들 수 있습니다.  \n",
    "# 머리글 1\n",
    "## 머리글 2\n",
    "### 머리글 3\n",
    "#### 머리글 4\n",
    "\n",
    "글머리 기호 또는 번호 목록을 만드려면, `*` 또는 `1.x` 로 행을 시작합니다.  \n",
    "글머리 기호 목록 :\n",
    "* 내용 1\n",
    "* 내용 2\n",
    "* 내용 3\n",
    "\n",
    "번호 목록 :\n",
    "1. 사과\n",
    "2. 바나나\n",
    "3. 파인애플\n",
    "\n",
    "또한 굵은 글씨를 사용하기 위해서는, `**` 를 양 옆에 사용하면 됩니다.  (' ** 텍스트 ** ')  \n",
    "예를 들어, '**안녕 나는 굵은 글씨야**' 처럼요.  \n",
    "  \n",
    "혹은, 글씨에 기울임 효과를 적용하고 싶다면 `*`를 양 옆에 사용하면 됩니다.\n",
    "('* 텍스트 *')  \n",
    "예를 들어, *안녕 나는 기울어졌어* 처럼요.\n",
    "\n",
    "Markdown의 또 다른 좋은 특징은, 코드 블록을 포함하는 기능입니다.  \n",
    "**Markdown 셀 내부의 코드 블록은 실행할 수 없습니다.**\n",
    "\n",
    "### <span style='color:black; background-color:#dcffe4;'>필요한 계산 수행</span>\n",
    "profit_per_bag = cost_of_ice_bag * profit_margin\n",
    "total_profit = number_of_bags * profit_per_bag\n",
    "\n",
    "### <span style='color:black; background-color:#dcffe4;'>결과 표시</span>\n",
    "print(\"The grocery store makes a total profit of $\", total_profit)\n",
    "\n"
   ]
  }
 ],
 "metadata": {
  "interpreter": {
   "hash": "ecb7e032ea62903431d7aa566e61206a52e075194918ba5f5cb9487571a67931"
  },
  "kernelspec": {
   "display_name": "Python 3.7.13 64-bit ('test': conda)",
   "name": "python3"
  },
  "language_info": {
   "codemirror_mode": {
    "name": "ipython",
    "version": 3
   },
   "file_extension": ".py",
   "mimetype": "text/x-python",
   "name": "python",
   "nbconvert_exporter": "python",
   "pygments_lexer": "ipython3",
   "version": "3.7.13"
  },
  "vscode": {
   "interpreter": {
    "hash": "c585f91d3623973be3accc48b0d5e967ce904a396a0f0c8bda7b100d8b60333f"
   }
  }
 },
 "nbformat": 4,
 "nbformat_minor": 4
}
