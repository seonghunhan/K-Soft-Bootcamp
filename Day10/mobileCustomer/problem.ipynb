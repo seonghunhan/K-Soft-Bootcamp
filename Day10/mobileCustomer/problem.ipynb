{
 "cells": [
  {
   "cell_type": "markdown",
   "metadata": {},
   "source": [
    "## 팀별 실습\n",
    "\n",
    "통신사 고객에 대한 서로 다른 정보를 가지고 있는 3개의 데이터가 주어집니다.\n",
    "\n",
    "모든 데이터의 row는 한 손님에 대한 데이터를 의미하고, column은 각 손님들 개인의 속성을 포함합니다.\n",
    "\n",
    "자, 이제 데이터 분석과 조작에 대한 실습을 진행해봅시다!\n",
    "***"
   ]
  },
  {
   "cell_type": "markdown",
   "metadata": {},
   "source": [
    "### 데이터 Overview"
   ]
  },
  {
   "cell_type": "markdown",
   "metadata": {},
   "source": [
    "압축파일로 묶여져 있는 csv_files.zip 의 각 데이터셋을 봅시다.\n",
    "\n",
    "\n",
    "##### Charges dataset\n",
    "`Charges` 데이터는 다음과 같은 변수를 가지고 있습니다\n",
    "\n",
    "* *customerID* - 손님의 아이디\n",
    "* *tenure* - 손님이 회사에 머문 개월 수\n",
    "* *contract* - 손님의 계약 기간\n",
    "* *paperlessBilling* - 손님이 종이 없는 청구서를 가지고 있는지 없는지 여부\n",
    "* *paymentMethod* - 손님의 계산 방식\n",
    "* *monthlyCharges* - 손님이 달달이 계산한 값\n",
    "* *totalCharges* - 손님이 계산한 전체 값\n",
    "* *churn* - 고객이 이탈(탈퇴) 했는지 아닌지\n",
    "  \n",
    "\n",
    "##### Personal dataset\n",
    "`Personal` 데이터는 다음과 같은 변수를 가지고 있습니다\n",
    "\n",
    "* *customerID* - 손님의 아이디\n",
    "* *gender* - 손님의 성별\n",
    "* *partner* - 손님의 결혼 여부\n",
    "* *dependents* - 손님의 부양 가족 여부\n",
    "* *age* - 손님의 나이\n",
    "\n",
    "\n",
    "##### Plan dataset\n",
    "`Plan` 데이터는 다음과 같은 변수를 가지고 있습니다\n",
    "\n",
    "* *customerID* - 손님의 아이디\n",
    "* *phonServices* - 폰 서비스 여부\n",
    "* *multipleLines* - multipleLines 여부\n",
    "* *internetService* - 손님의 인터넷 서비스 제공자\n",
    "* *onlineSecurity* - 손님의 온라인 보안 여부\n",
    "* *onlineBackup* - 손님의 온라인 백업 여부\n",
    "* *deviceProtection* - 손님의 디바이스 보안 여부\n",
    "* *techSupport* - 기술 지원 여부\n",
    "* *streamingTv* - TV 스트리밍 서비스 여부\n",
    "* *streamingMovies* - 영화 스트리밍 서비스 여부\n",
    "* ***"
   ]
  },
  {
   "cell_type": "markdown",
   "metadata": {},
   "source": [
    "### 문제 details\n",
    "\n",
    "각 데이터를 처리하고 유효한 데이터값을 가져오기 위해 여러 함수들을 선언할 것입니다.\n",
    "\n",
    "우선 `explanaroty_analysis()` 함수를 선언해 봅시다. 아래 내용은 `explanaroty_analysis()` 함수의 세부 내용입니다.\n",
    "\n",
    "  1. argument로 charges_data_path, personal_data_path, plan_data_path를 가진다. 각 argument는 대치되는 데이터셋의 경로를 의미한다.\n",
    "   \n",
    "  2. 함수는 우선 세 데이터셋을 모두 읽어온다\n",
    "   \n",
    "  3. charges_data는 `MonthlyCharges`와 `totalCharges` column에서 빠진 값(null data)을 가진다.\n",
    "      *  `MonthlyCharges` 에서 빠진 값들은, 빠지지 않은 값들 중 상하위 10%를 제외한 값들의 평균 값으로 채워 넣어라. 이 때, 평균의 소수점은 버림하여 정수로 만든다.\n",
    "      *  이후, `totalCharges` 에서 빠진 값들은, `MonthlyCharges` 의 값과 `tenure` 값의 곱으로 채워넣어라\n",
    "\n",
    "  4. `tenure` 열을 참고하여 다음과 같은 조건을 만족하는 `tenureBinned` column을 새로 만들어라\n",
    "      *  `tenure`의 값이 각각 (0, 24], (24, 48], (48, 60],(60, Inf] 에 속할 때, `tenureBinned` 값은 각각 'group1','group2','group3','group4' 이 된다.\n",
    "      *  ex) tenure의 값이 33 => tenureBinned 값은 group2 가 된다\n",
    "  \n",
    "  5. `churn rate`를 도출해내보자. `churn rate`는 전체 손님 중 탈퇴 손님의 비율을 나타낸다. `churn rate`는 비율의 퍼센트 값을 가지며, 퍼센트 값은 반올림으로 도출된다.\n",
    "      * 예를 들어, 탈퇴 손님의 비율이 0.1234가 되면 `churn rate`는 12 가 되며, 0.4166 이 되면 반올림을 통해 `churn rate` 값은 42가 된다.\n",
    "  \n",
    "  6. 업데이트된 `charges_data`와 `personal_data`를 *customerID* column으로 Join해보자. 이때, 결과 데이터셋은 두 데이터셋이 공통적으로 가지고 있는 *customerID*의 row만을 가지고 있어야 한다. 이후, 그 결과 데이터셋과 `plan_data`를 *customerID* column으로 Join하되 이번에는 결과 데이터셋의 모든 row 값은 남겨야 한다.\n",
    "   \n",
    "  7. 6번에서 만들어진 데이터를 이용해서 60 세 이상인 손님의 비율을 계산해본다. (결과값은 위 `churn rate` 와 같은 방식으로 반환되어야 한다.)\n",
    "   \n",
    "  8. 6번에서 만들어진 데이터를 사용하여 `internetService` column에 고유한 값의 개수가 포함된 dictionary을 만듭니다. 여기서 키는 항목의 고유한 값과 해당 개수입니다.\n",
    "|\n",
    "\n",
    "#### return 값\n",
    "\n",
    "\n",
    "`explanaroty_analysis()` 함수의 리턴값은 다음을 포함한 dictionary 입니다.\n",
    "\n",
    "* *monthly_charges_analysis* - 3번 과정에서 `monthlyCharges` null 값을 채워넣은 평균값 (빠지지 않은 값들 중 상하위 10%를 제외한 값들의 평균 값)\n",
    "* *charges_data_updated* - 1 ~ 5번 과정을 거치며 업데이트된 `charges_data`를 반영하는 dataframe\n",
    "* *churn_pct* - 5번 과정을 진행하면 얻은 `churn rate`\n",
    "* *data_merged* - 6번 과정에서 모든 Join을 마친 데이터셋을 반영하는 dataframe\n",
    "* *pct_age_above_60* - 7번 과정에서 얻은 60세 이상인 손님의 비율\n",
    "* *internet_service_counts* - 8번 과정에서 얻은 `internetService` column에 고유한 값의 개수가 포함된 dictionary\n"
   ]
  },
  {
   "cell_type": "markdown",
   "metadata": {},
   "source": [
    "***\n",
    "이제 문제를 풀어봅시다!"
   ]
  },
  {
   "cell_type": "code",
   "execution_count": 1,
   "metadata": {},
   "outputs": [],
   "source": [
    "def explanaroty_analysis(charges_data_path, personal_data_path, plan_data_path):\n",
    "    ################\n",
    "    #코드 작성\n",
    "    ################\n",
    "    print(charges_data_path, personal_data_path, plan_data_path)\n",
    "    return \n",
    "    \n",
    "    \n"
   ]
  },
  {
   "cell_type": "code",
   "execution_count": 2,
   "metadata": {},
   "outputs": [
    {
     "name": "stdout",
     "output_type": "stream",
     "text": [
      "path/to/dir.csv path/to/dir.csv path/to/dir.csv\n"
     ]
    }
   ],
   "source": [
    "explanaroty_analysis(charges_data_path='path/to/dir.csv', \n",
    "                    personal_data_path='path/to/dir.csv',\n",
    "                    plan_data_path='path/to/dir.csv')"
   ]
  },
  {
   "cell_type": "code",
   "execution_count": null,
   "metadata": {},
   "outputs": [],
   "source": []
  }
 ],
 "metadata": {
  "kernelspec": {
   "display_name": "Python 3.7.13 ('test')",
   "language": "python",
   "name": "python3"
  },
  "language_info": {
   "codemirror_mode": {
    "name": "ipython",
    "version": 3
   },
   "file_extension": ".py",
   "mimetype": "text/x-python",
   "name": "python",
   "nbconvert_exporter": "python",
   "pygments_lexer": "ipython3",
   "version": "3.7.13"
  },
  "orig_nbformat": 4,
  "vscode": {
   "interpreter": {
    "hash": "cfe99ec1b02e5c008e5a6d5009e34d19dadc45b4a9f31d7dbbcfde9b74a6f07d"
   }
  }
 },
 "nbformat": 4,
 "nbformat_minor": 2
}
