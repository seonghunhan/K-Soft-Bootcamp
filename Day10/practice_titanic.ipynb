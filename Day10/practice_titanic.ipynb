{
 "cells": [
  {
   "cell_type": "markdown",
   "metadata": {},
   "source": [
    "## 연습문제# 0"
   ]
  },
  {
   "cell_type": "markdown",
   "metadata": {},
   "source": [
    "### Import Modules (모듈 import)"
   ]
  },
  {
   "cell_type": "code",
   "execution_count": null,
   "metadata": {},
   "outputs": [],
   "source": [
    "import pandas as pd\n",
    "import numpy as np\n",
    "import seaborn as sns\n",
    "import matplotlib.pyplot as plt"
   ]
  },
  {
   "cell_type": "markdown",
   "metadata": {},
   "source": [
    "### Titanic Dataset(타이타닉 데이터셋)"
   ]
  },
  {
   "cell_type": "markdown",
   "metadata": {},
   "source": [
    "타이타닉은 1912년 빙산과 충돌한 후 Maiden Voyage에 가라앉은 유명한 배이다.  \n",
    "그 사건으로 많은 사람이 죽었는데, 여러분은 레오나르도 디카프리오가 나오는 영화 '타이타닉'을 기억하고 있을지도 모르겠다.  \n",
    "영화 타이타닉에서 다룬 사건과 동일하며, 해당 데이터셋을 가지고 데이터 분석을 진행해볼 것이다.  \n",
    "\n",
    "자세한 사항은 https://www.kaggle.com/c/titanic/data 에서 data dictionary를 읽어보기 바란다.  \n",
    "\n",
    "**우리는 배에 탑승한 사람들에 대해 알아보기 위해, 탐색적 분석을 진행할 것이다.**"
   ]
  },
  {
   "cell_type": "markdown",
   "metadata": {},
   "source": [
    "#### Question 1: Seaborn을 사용하여 dataset을 읽고 변수에 할당한다.\n",
    "\n",
    "`hint`: `sns.load_dataset('titanic')` 을 사용하여 dataset을 읽을 수 있습니다."
   ]
  },
  {
   "cell_type": "code",
   "execution_count": null,
   "metadata": {},
   "outputs": [],
   "source": [
    "# code here"
   ]
  },
  {
   "cell_type": "markdown",
   "metadata": {},
   "source": [
    "#### Question 2: 이 변수에 할당된 데이터 구조 type은 무엇인가?\n",
    "\n",
    "`hint`: 내장 함수를 사용하여 확인할 수 있습니다.\n"
   ]
  },
  {
   "cell_type": "code",
   "execution_count": null,
   "metadata": {},
   "outputs": [],
   "source": [
    "# code here"
   ]
  },
  {
   "cell_type": "markdown",
   "metadata": {},
   "source": [
    "#### Question 3: 이 dataset의 첫 5행만을 미리 볼 수 있는 코드를 작성하라.\n"
   ]
  },
  {
   "cell_type": "code",
   "execution_count": null,
   "metadata": {},
   "outputs": [],
   "source": [
    "# code here"
   ]
  },
  {
   "cell_type": "markdown",
   "metadata": {},
   "source": [
    "#### Question 4: 이 dataset에는 몇 개의 행이 있는가?\n",
    "\n",
    "(코드로 작성하여 `print` 하세요)"
   ]
  },
  {
   "cell_type": "code",
   "execution_count": null,
   "metadata": {},
   "outputs": [],
   "source": [
    "# code here"
   ]
  },
  {
   "cell_type": "markdown",
   "metadata": {},
   "source": [
    "#### Question 5: 연령 분포를 box plot하기\n",
    "\n",
    "- x축은 age여야 한다.\n",
    "- 관련 제목을 포함하여 plot 하라.\n",
    "- plot 도형을 기본 style보다 약간 크게 만들어라.\n",
    "- 읽기 쉽도록 제목, x축 눈금과 라벨의 글꼴 크기를 기본 값보다 약간 크게 만들어라.\n",
    "\n",
    "특정 열을 기준으로 dataframe을 필터링 해야할 수도 있습니다. 방법을 모르면 오른쪽에서 예시를 볼 수 있습니다.: https://chrisalbon.com/python/data_wrangling/filter_dataframes/\n",
    "\n",
    "`Seaborn`의 boxplot 기능을 사용하는 것을 추천합니다. 하지만 null 값은 제외해야 합니다.: https://seaborn.pydata.org/generated/seaborn.boxplot.html"
   ]
  },
  {
   "cell_type": "code",
   "execution_count": null,
   "metadata": {},
   "outputs": [],
   "source": [
    "sns.set_context(\"talk\")\n",
    "sns.set(style=\"darkgrid\", font_scale=1.45)"
   ]
  },
  {
   "cell_type": "code",
   "execution_count": null,
   "metadata": {},
   "outputs": [],
   "source": [
    "# code here"
   ]
  },
  {
   "cell_type": "markdown",
   "metadata": {},
   "source": [
    "#### Question 6: 이상점이 있다면 그들은 어느 연령대의 사람인가?"
   ]
  },
  {
   "cell_type": "markdown",
   "metadata": {},
   "source": [
    "답변: 위 문제에 대한 답을 여기에 적으세요"
   ]
  },
  {
   "cell_type": "markdown",
   "metadata": {},
   "source": [
    "#### Question 7: 타이타닉호에 탑승한 50%의 사람이 전체 나이 25~75%의 백분위 수 사이에 해당하는가?\n",
    "\n",
    "`hint`: Pandas의 `quantile()` 메서드로 25~75%에 해당하는 백분위 수를 찾을 수 있습니다.  \n",
    "또는 Pandas의 `describe()` 메서드로 확인할 수 있습니다."
   ]
  },
  {
   "cell_type": "code",
   "execution_count": null,
   "metadata": {},
   "outputs": [],
   "source": [
    "# code here"
   ]
  },
  {
   "cell_type": "markdown",
   "metadata": {},
   "source": [
    "답변: 위 문제에 대한 답을 여기에 적으세요"
   ]
  },
  {
   "cell_type": "markdown",
   "metadata": {},
   "source": [
    "#### Question 8: 타이타닉호에 탑승한 사람들 중 가장 나이가 많은 사람은 몇 살인가?\n",
    "\n",
    "`hint`: `max()` 메서드를 사용하여 구할 수 있습니다.  \n",
    "(코드로 작성하여 `print` 하세요)"
   ]
  },
  {
   "cell_type": "code",
   "execution_count": null,
   "metadata": {},
   "outputs": [],
   "source": [
    "# code here"
   ]
  },
  {
   "cell_type": "markdown",
   "metadata": {},
   "source": [
    "#### Question 9: 타이타닉호에 탑승한 사람들 중 가장 나이가 적은 사람은 몇 살인가?\n",
    "\n",
    "(코드로 작성하여 `print` 하세요)"
   ]
  },
  {
   "cell_type": "code",
   "execution_count": null,
   "metadata": {},
   "outputs": [],
   "source": [
    "# code here"
   ]
  },
  {
   "cell_type": "markdown",
   "metadata": {},
   "source": [
    "#### Question 10: 타이타닉호에 탑승한 사람들의 나이를 나타내는 히스토그램을 그려라.\n",
    "\n",
    "히스토그램은 연속 변수의 분포를 시각화하는 데 사용되는 또 다른 유형의 시각화 방법입니다.  \n",
    "이 문제에서는, 타이타닉호에 탑승한 사람들의 나이를 plot 하는데 사용할 것입니다.  \n",
    "\n",
    "`hint`: Seaborn의 `distplot()` 메서드를 사용하는 것을 추천합니다. Seaborn 메서드는 최적의 상자 사이즈를 자동으로 계산하지만, Pandas의 plot은 그렇지 않기 때문입니다.  \n",
    "\n",
    "히스토그램에는 다음 항목이 포함되어야 합니다:  \n",
    "- 제목\n",
    "- x-label\n",
    "- y-label"
   ]
  },
  {
   "cell_type": "code",
   "execution_count": null,
   "metadata": {},
   "outputs": [],
   "source": [
    "# code here"
   ]
  },
  {
   "cell_type": "markdown",
   "metadata": {},
   "source": [
    "이 히스토그램은 위의 `box plot`과 유사한 정보가 표시됩니다.  \n",
    "우리는 타이타닉호에 탑승한 사람들의 다양한 성별의 나이차이에 대해 보다 자세히 알아보겠습니다."
   ]
  },
  {
   "cell_type": "markdown",
   "metadata": {},
   "source": [
    "#### Question 11: 동일한 축/plot에 두 개의 box plot 하여 남성과 여성의 나이를 비교하라.\n",
    "\n",
    "시각화 기준: \n",
    "- 두 boxplot의 방향은 수직이어야 한다.\n",
    "- x축과 y축에 적절한 라벨이 있는지 확인한다.\n",
    "- 자세한 제목을 포함해야 한다.\n",
    "- 그림 크기가 기본 값보다 약간 커야한다.\n",
    "- 레이블, 눈금 및 제목이 기본 값보다 커야한다."
   ]
  },
  {
   "cell_type": "code",
   "execution_count": null,
   "metadata": {},
   "outputs": [],
   "source": [
    "# code here"
   ]
  },
  {
   "cell_type": "markdown",
   "metadata": {},
   "source": [
    "#### Question 12: median 연령은 남성과 여성 중 어느 쪽이 더 높은가?"
   ]
  },
  {
   "cell_type": "markdown",
   "metadata": {},
   "source": [
    "답변: 위 문제에 대한 답을 여기에 적으세요"
   ]
  },
  {
   "cell_type": "markdown",
   "metadata": {},
   "source": [
    "#### Question 13: 남성 또는 여성 데이터에 이상점이 있는가? 있다면 어떤 것인가?"
   ]
  },
  {
   "cell_type": "markdown",
   "metadata": {},
   "source": [
    "답변: 위 문제에 대한 답을 여기에 적으세요"
   ]
  },
  {
   "cell_type": "markdown",
   "metadata": {},
   "source": [
    "#### Question 14: box plot을 생성해 요금 총액의 분포를 시각화 하라.\n",
    "\n",
    "box plot은 ticket을 위해 매우 많은 돈을 지불한 사람들의 이상점을 쉽게 볼 수 있어 이상적입니다.  \n",
    "\n",
    "시각화 조건: \n",
    "- x축은 운임 금액(미국 달러)여야 한다.\n",
    "- plot의 제목을 포함한다.\n",
    "- plot 크기를 기본 style보다 약간 크게 한다.\n",
    "- 읽기 쉽도록 제목, x축 눈금 및 라벨의 글꼴 크기를 기본 style보다 약간 크게 한다."
   ]
  },
  {
   "cell_type": "code",
   "execution_count": null,
   "metadata": {},
   "outputs": [],
   "source": [
    "# code here"
   ]
  },
  {
   "cell_type": "markdown",
   "metadata": {},
   "source": [
    "#### Question 15: ticket `class`별로 그룹화된 운임 금액의 box plot을 생성하라."
   ]
  },
  {
   "cell_type": "markdown",
   "metadata": {},
   "source": [
    "시각화 기준:\n",
    "- 두 box plot의 방향은 수평이어야 한다.\n",
    "- x축과 y축에 적절한 라벨이 있는지 확인한다.\n",
    "- plot의 자세한 제목을 포함한다.\n",
    "- 그림 크기를 기본 style보다 약간 크게 생성한다.\n",
    "- 레이블, 눈금 및 제목을 기본 style보다 약간 크게 생성한다."
   ]
  },
  {
   "cell_type": "code",
   "execution_count": null,
   "metadata": {},
   "outputs": [],
   "source": [
    "# code here"
   ]
  },
  {
   "cell_type": "markdown",
   "metadata": {},
   "source": [
    "#### Question 16: 어떤 ticket class 그룹이 median 요금이 가장 높은가?"
   ]
  },
  {
   "cell_type": "markdown",
   "metadata": {},
   "source": [
    "답변: 위 문제에 대한 답을 여기에 적으세요"
   ]
  },
  {
   "cell_type": "markdown",
   "metadata": {},
   "source": [
    "#### Question 17: 어떤 ticket class 그룹의 범위가 가장 큰가?\n",
    "\n",
    "`hint`: `range()` 사용하세요."
   ]
  },
  {
   "cell_type": "markdown",
   "metadata": {},
   "source": [
    "답변: 위 문제에 대한 답을 여기에 적으세요"
   ]
  },
  {
   "cell_type": "markdown",
   "metadata": {},
   "source": [
    "#### Question 18: `class`와 `survived`라는 두 가지 범주형 변수로 그룹화된 요금을 box plot 하라.\n",
    "\n",
    "시각화 조건: \n",
    "- box plot의 방향은 수평이어야 한다.\n",
    "- x축과 y축에 적절한 라벨이 있는지 확인한다.\n",
    "- box plot은 자세한 제목을 포함해야 한다.\n",
    "- 그림 크기를 기본 style보다 약간 크게 생성해야 한다.\n",
    "- 범례는 생존 범주를 보여줘야 한다."
   ]
  },
  {
   "cell_type": "code",
   "execution_count": null,
   "metadata": {},
   "outputs": [],
   "source": [
    "# code here"
   ]
  },
  {
   "cell_type": "markdown",
   "metadata": {},
   "source": [
    "#### Question 19: 어떤 ticket class에서 더 높은 요금을 지불한 사람들이 적은 요금을 지불한 사람보다 더 많이 살아남은 것으로 추정되는가?"
   ]
  },
  {
   "cell_type": "markdown",
   "metadata": {},
   "source": [
    "답변: 위 문제에 대한 답을 여기에 적으세요"
   ]
  },
  {
   "cell_type": "markdown",
   "metadata": {},
   "source": [
    "#### Question 20: 각 도시에서 승선한 사람들 수를 표시하는 수직 막대 plot을 생성하라.\n",
    "\n",
    "dataframe은 각 unique한 사람에 대한 행을 제공합니다.  \n",
    "본 문제에서는 막대 plot을 사용하여 각 마을 사람들의 수를 시각화하고자 합니다.  \n",
    "\n",
    "`hint`: Seaborn의 `countplot()`메서드를 사용하여 막대 그래프를 생성하는 것은 각 마을의 인구 수를 계산하는 데 도움이 될 것입니다.  \n",
    "본인이 원하는 시각화 자료를 생성하기 위해서는 `x`, `data` 및 `orient` 인수를 사용해야 합니다.  \n",
    "\n",
    "시각화 기준: \n",
    "- 수직 막대 그림이어야 한다.\n",
    "- x축과 y축에 적절한 라벨이 있는지 확인한다.\n",
    "- 생성된 plot의 크기가 기본 style보다 약간 커야 한다.\n",
    "- 레이블, 눈금 및 제목이 기본 style보다 약간 큰 글꼴 크기여야 한다."
   ]
  },
  {
   "cell_type": "code",
   "execution_count": null,
   "metadata": {},
   "outputs": [],
   "source": [
    "# code here"
   ]
  },
  {
   "cell_type": "markdown",
   "metadata": {},
   "source": [
    "#### Question 21: 각 도시에서 승선한 사람들 수를 표시하는 수평 막대 plot을 생성하라.\n",
    "\n",
    "`hint`: Seaborn의 `countplot()`메서드를 사용하여 막대 그래프를 생성하는 것은 각 마을의 인구 수를 계산하는 데 도움이 될 것입니다.  \n",
    "본인이 원하는 시각화 자료를 생성하기 위해서는 `y`, `data` 및 `orient` 인수를 사용해야 합니다.  \n",
    "\n",
    "시각화 기준: \n",
    "- 수평 막대 그림이어야 한다.\n",
    "- x축과 y축에 적절한 라벨이 있는지 확인한다.\n",
    "- 생성된 plot의 크기가 기본 style보다 약간 커야 한다.\n",
    "- 레이블, 눈금 및 제목이 기본 style보다 약간 큰 글꼴 크기여야 한다."
   ]
  },
  {
   "cell_type": "code",
   "execution_count": null,
   "metadata": {},
   "outputs": [],
   "source": [
    "# code here"
   ]
  },
  {
   "cell_type": "markdown",
   "metadata": {},
   "source": [
    "이 시각화는 가로 또는 세로 막대 차트로 잘 알려져 있습니다."
   ]
  },
  {
   "cell_type": "markdown",
   "metadata": {},
   "source": [
    "#### Question 22: 가장 많은 사람들이 승선한 도시는 어디인가?"
   ]
  },
  {
   "cell_type": "markdown",
   "metadata": {},
   "source": [
    "답변: 위 문제에 대한 답을 여기에 적으세요"
   ]
  },
  {
   "cell_type": "markdown",
   "metadata": {},
   "source": [
    "#### Question 23: `who` 필드로 그룹화된 각 `embark_town`에 대한 값의 수직 막대 plot을 생성하라.\n",
    "\n",
    "우리는 종종 이러한 그림을 막대 그래프라고 부르며, 이는 서로 다른 막대의 높이를 사용하여 여러 범주의 크기를 찾는데 이용됩니다.  \n",
    "\n",
    "이 시각화 자료는 각 도시에서 탑승한 승객들의 유형을 이해하는 데 도움이 될 것입니다.  \n",
    "\n",
    "`hint`: Seaborn의 `countplot()`을 사용하여 막대 그래프를 생성하는 것은 각 마을의 인구 수를 계산하는 데 도움이 될 것입니다.  \n",
    "\n",
    "본인이 원하는 시각화 자료를 생성하기 위해서는 `x`, `data`, `hue` 및 `orient` 인수를 사용해야 합니다.\n",
    "\n",
    "시각화 기준:\n",
    "- 그룹화된 수직 막대 plot이어야 한다.\n",
    "- x축과 y축에 적절한 라벨이 있는지 확인한다.\n",
    "- plot과 관련된 자세한 제목을 포함해야 한다.\n",
    "- 생성된 plot 크기가 기본 style보다 약간 커야 한다.\n",
    "- 레이블, 눈금 및 제목이 기본 style보다 큰 글꼴 크기여야 한다.\n",
    "- `who` 카테고리의 범례를 포함해야 한다."
   ]
  },
  {
   "cell_type": "code",
   "execution_count": null,
   "metadata": {},
   "outputs": [],
   "source": [
    "# code here"
   ]
  },
  {
   "cell_type": "markdown",
   "metadata": {},
   "source": [
    "#### Question 24: 가장 적은 수의 아이들이 탑승한 도시는 어디인가?"
   ]
  },
  {
   "cell_type": "markdown",
   "metadata": {},
   "source": [
    "답변: 위 문제에 대한 답을 여기에 적으세요"
   ]
  },
  {
   "cell_type": "markdown",
   "metadata": {},
   "source": [
    "#### Question 25: 거의 같은 수의 남성과 여성이 탑승한 도시는 어디인가?"
   ]
  },
  {
   "cell_type": "markdown",
   "metadata": {},
   "source": [
    "답변: 위 문제에 대한 답을 여기에 적으세요"
   ]
  },
  {
   "cell_type": "markdown",
   "metadata": {},
   "source": [
    "#### Question 26: Southhampton에서 더 많은 남성이나 여성이 생존했나?\n",
    "\n",
    "조금 복잡해서 아래 코드를 제공합니다.  \n",
    "`catplot()`은 범주형 변수의 다른 그룹에 대한 여러 시각화를 생성하는데 도움이 됩니다.  \n",
    "우리는 위의 그림을 또 다른 범주형 변수인 `survived` 필드로 구분하여 `who`와 `survived` 범주로 분류된 마을에서 탑승한 사람들의 수를 볼 수 있습니다.  \n",
    "`survival` 필드는 이항이므로 plot은 2개 뿐입니다. 만약 우리가 4개 이상의 plot을 해야한다면, 굉장히 이해하기 어려울 수 있습니다.  \n",
    "\n",
    "`height` 인수는 각 plot의 높이를 10 inch로 설정합니다.  \n",
    "`aspect` 인수는 각 plot의 가로 세로 비율을 정의하는 데 도움이 되는데, 이 경우 가로 세로 값이 작을수록 글꼴이 커져 읽기 쉬워집니다.  \n",
    "차이를 확인하고 싶다면, 값을 1로 설정해보세요."
   ]
  },
  {
   "cell_type": "code",
   "execution_count": null,
   "metadata": {},
   "outputs": [],
   "source": [
    "plt.figure(figsize=(12, 8))\n",
    "fig = sns.catplot(x=\"embark_town\", hue=\"who\", col=\"survived\", data=df, kind=\"count\", height=10, aspect=0.8)\n",
    "fig.fig.suptitle(\"Survival Counts by Person Type and Class\", y=1.03, fontsize=28);"
   ]
  },
  {
   "cell_type": "markdown",
   "metadata": {},
   "source": [
    "답변: 위 문제에 대한 답을 여기에 적으세요"
   ]
  },
  {
   "cell_type": "markdown",
   "metadata": {},
   "source": [
    "#### Question 27: Cherbourg 더 많은 여성이 생존했는가, 아니면 생존하지 못했는가?"
   ]
  },
  {
   "cell_type": "markdown",
   "metadata": {},
   "source": [
    "답변: 위 문제에 대한 답을 여기에 적으세요"
   ]
  },
  {
   "cell_type": "markdown",
   "metadata": {},
   "source": [
    "#### Question 28: Pandas plot을 사용하여 각 도시에서 탑승한 인원 수를 표시하는 세로 막대 plot을 생성하라.\n",
    "\n",
    "우리는 막대 그래프를 이용해서 각 도시의 인구 수를 plot할 것입니다.   \n",
    "\n",
    "이전까지 우리는 `embark_town` 필드에서 groupby 연산을 수행한 뒤 각 그룹의 크기를 계산하는 Seaborn의 `countplot()`을 사용했습니다.  \n",
    "우리 데이터를 plot 하기 전에 `size()` 메서드를 사용하여 Pandas의 첫 단계를 수행합니다.  \n",
    "\n",
    "일단 이 그룹화 작업을 마치면, 간단합니다.  \n",
    "\n",
    "시각화 기준:\n",
    "- 수직 막대 plot이어야 한다.\n",
    "- x축과 y축에 적절한 라벨이 있는지 확인한다.\n",
    "- plot과 관련된 자세한 제목을 포함한다.\n",
    "- 그림 크기가 기본 style보다 약간 커야한다.\n",
    "- 레이블, 눈금 및 제목이 기본값보다 큰 글꼴 크기여야 한다."
   ]
  },
  {
   "cell_type": "markdown",
   "metadata": {},
   "source": [
    "##### 여기서 작업별로 그룹화하고 결과를 출력합니다."
   ]
  },
  {
   "cell_type": "code",
   "execution_count": null,
   "metadata": {},
   "outputs": [],
   "source": [
    "# groupby operation here"
   ]
  },
  {
   "cell_type": "markdown",
   "metadata": {},
   "source": [
    "##### 기본 plot 생성하기\n",
    "\n",
    "**위 결과에 대해 `plot()` 메서드를 호출하고 `kind` 인수에 대해 `bar` 값을 전달합니다.**"
   ]
  },
  {
   "cell_type": "code",
   "execution_count": null,
   "metadata": {},
   "outputs": [],
   "source": [
    "# code to build first plot here"
   ]
  },
  {
   "cell_type": "markdown",
   "metadata": {},
   "source": [
    "##### 시각화 스타일 지정\n",
    "\n",
    "**`plot()` 메서드에서 인수 `rot`을 사용하여 필요한 경우 x축을 회전하고 `figsize()` 인수를 사용하여 더 큰 plot을 만듭니다.**  \n",
    "**또한 `title` 인수를 사용하여 제목을 설정합니다.**  \n"
   ]
  },
  {
   "cell_type": "code",
   "execution_count": null,
   "metadata": {},
   "outputs": [],
   "source": [
    "# code here"
   ]
  },
  {
   "cell_type": "markdown",
   "metadata": {},
   "source": [
    "#### Question 29: Pandas plot을 사용하여 각 도시에서 승선한 사람들의 수를 나타내는 수평 막대 plot을 생성하라."
   ]
  },
  {
   "cell_type": "markdown",
   "metadata": {},
   "source": [
    "위의 Question에서 모든 코드를 붙여넣을 수 있지만, 이번에는 `bar`대신 `barh` 값을 전달합니다.  \n",
    "사람 수에따라 적절한 'x-label' 값을 추가해야 할 수도 있습니다."
   ]
  },
  {
   "cell_type": "code",
   "execution_count": null,
   "metadata": {},
   "outputs": [],
   "source": [
    "# code here"
   ]
  },
  {
   "cell_type": "markdown",
   "metadata": {},
   "source": [
    "#### Question 30: 가장 적은 인원이 탑승한 마을은 어디인가?"
   ]
  },
  {
   "cell_type": "markdown",
   "metadata": {},
   "source": [
    "답변: 위 문제에 대한 답을 여기에 적으세요"
   ]
  }
 ],
 "metadata": {
  "kernelspec": {
   "display_name": "Python 3.7.13 ('test')",
   "language": "python",
   "name": "python3"
  },
  "language_info": {
   "codemirror_mode": {
    "name": "ipython",
    "version": 3
   },
   "file_extension": ".py",
   "mimetype": "text/x-python",
   "name": "python",
   "nbconvert_exporter": "python",
   "pygments_lexer": "ipython3",
   "version": "3.7.13"
  },
  "vscode": {
   "interpreter": {
    "hash": "cfe99ec1b02e5c008e5a6d5009e34d19dadc45b4a9f31d7dbbcfde9b74a6f07d"
   }
  }
 },
 "nbformat": 4,
 "nbformat_minor": 2
}
