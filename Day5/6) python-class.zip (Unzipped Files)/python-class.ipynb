{
 "cells": [
  {
   "cell_type": "markdown",
   "metadata": {},
   "source": [
    "# Python Class\n",
    "![](https://i.imgur.com/6cg2E9Q.png)\n",
    "\n",
    "## Part 8: Python을 사용한 데이터 분석: 0부터 Pandas까지\n",
    "\n",
    "본 튜토리얼 시리즈는 초보자를 위한 Python을 이용한 프로그래밍과 데이터 분석을 소개합니다.   \n",
    "이 튜토리얼은 실용적이고 코딩 중심적인 접근으로 진행됩니다.\n",
    "본 튜토리얼을 효율적으로 학습하는 가장 좋은 방법은 코드를 실행하고 직접 사용해 보는 것입니다.\n",
    "\n",
    "<!--# A Quick Tour of Variables and Data Types in Python\n",
    "\n",
    "![](https://i.imgur.com/6cg2E9Q.png)\n",
    "\n",
    "### Part 2 of \"Data Analysis with Python: Zero to Pandas\"\n",
    "\n",
    "이 튜토리얼 시리즈는 Python 프로그래밍 언어를 사용한 프로그래밍 및 데이터 분석에 대한 초보자 친화적인 소개입니다.\n",
    "이러한 튜토리얼은 실용적이고 코딩 중심의 접근 방식을 취합니다. 자료를 배우는 가장 좋은 방법은 코드를 실행하고 직접 사용해 보는 것입니다.-->"
   ]
  },
  {
   "cell_type": "markdown",
   "metadata": {},
   "source": [
    "이 장은 다음과 같은 주제를 다룹니다:\n",
    "- `class`를 이용한 객체지향 프로그래밍\n",
    "- `class`의 특징"
   ]
  },
  {
   "cell_type": "markdown",
   "metadata": {},
   "source": [
    "## <span style='color:black; background-color:#fff5b1;'>Class란</span>\n",
    "Python은 객체지향 프로그래밍(OOP, Object Oriented programming)을 기본적으로 지원하고 있습니다.  \n",
    "Python에서 객체지향 프로그래밍의 기본 단위인 클래스를 만들기 위해서는, 아래와 같이 <span style = \"color:yellow\">**class 클래스명**</span> 을 사용하여 정의합니다.  \n",
    "클래스명은 PEP 8 Coding Convention에 가이드된 대로 각 단어의 첫 문자를 대문자로 하는 CapWords 방식으로 명명합니다.\n"
   ]
  },
  {
   "cell_type": "code",
   "execution_count": 2,
   "metadata": {},
   "outputs": [],
   "source": [
    "class MyClass: # 별도의 클래스 멤버를 정의하지 않은 가장 간단한 빈 클래스\n",
    "    pass"
   ]
  },
  {
   "cell_type": "markdown",
   "metadata": {},
   "source": [
    "`class`는 데이터를 포함하는 속성(attribute)과 행위를 표현하는 메서드(method)를 포함하는 논리적인 컨테이너입니다.  \n",
    "`class`는 세부적으로 아래와 같은 다양한 종류의 멤버들로 구분할 수 있습니다.\n",
    "- 메서드(method) \n",
    "- 프로퍼티(property) \n",
    "- 클래스 변수(class variable)\n",
    "- 인스턴스 변수(instance variable)\n",
    "- 초기자(initializer)\n",
    "- 소멸자(destructor) \n",
    "\n",
    "Python에서 `class`는 전통적으로 크게 속성(attribute)과 메서드(method)를 갖는 논리적 단위이지만,   \n",
    "메서드를 특히 Callable attribute로 볼 수도 있기 때문에 속성과 메서드 그 모두를 그 클래스의 attribute라고 생각할 수도 있습니다.\n",
    "\n",
    "또한, 다른 OOP 언어와 달리 Python은 동적 언어(Dynamic Language)로서 새로운 attribute를 실행 중 동적으로 추가할 수 있습니다."
   ]
  },
  {
   "cell_type": "markdown",
   "metadata": {},
   "source": [
    "> `메서드(Method)`: 클래스의 행위를 표현하는 것으로, 클래스 내의 함수로 볼 수 있습니다. Python에서 메서드는 크게 인스턴스 메서드(instance method), 클래스 메서드(class method), 정적 메서드(static method)가 있습니다.\n",
    "\n",
    "가장 흔히 쓰이는 instance method는 인스턴스 변수에 액세스 할 수 있도록 메서드의 첫번째 파라미터에 항상 객체 자신을 의미하는 \"self\" 라는 파라미터를 갖습니다.   \n",
    "아래 예제에서 calcArea()가 인스턴스 메서드에 해당됩니다. 인스턴스 메서드는 여러 파라미터를 가질 수 있지만, 첫번째 파라미터는 항상 \"self\"를 갖습니다.\n",
    "\n",
    "> `클래스 변수(Class Variable)`: 클래스 정의에서 메서드 밖에 존재하는 변수를 클래스 변수라고 하는데, 이는 해당 클래스를 사용하는 모두에게 공용으로 사용되는 변수입니다.\n",
    "\n",
    "클래스 변수는 **클래스 내외부에서 \"클래스명.변수명\"으로 액세스** 할 수 있습니다. 아래 예제의 \"Rectangle.count\"에 해당합니다.\n",
    "\n",
    "> `클래스 인스턴스 변수(Class Instance Variable)`:클래스 정의에서 메서드 안에서 사용되면서 \"self.변수명\"처럼 사용되는 변수를 인스턴스 변수라고 하는데, 이는 각 객체별로 서로 다른 값을 갖는 변수입니다.\n",
    "\n",
    " 하나의 클래스로부터 여러 객체 인스턴스를 생성해서 사용할 수 있습니다. 클래스 변수가 하나의 클래스에만 존재하는 반면, 인스턴스 변수는 각 객체 인스턴스마다 별도로 존재합니다.  \n",
    " 인스턴스 변수는 클래스 내부에서는 self.width와 같이 \"self.\"를 사용하여 액세스하고, 클래스 밖에서는 \"객체변수.인스턴스변수\"와 같이 액세스 합니다."
   ]
  },
  {
   "cell_type": "code",
   "execution_count": 4,
   "metadata": {},
   "outputs": [],
   "source": [
    "class Rectangle:\n",
    "    count = 0 # 클래스 변수\n",
    "\n",
    "    #초기자(initializer)\n",
    "    def __init__(self, width, height):\n",
    "        # self.*: 인스턴스 변수\n",
    "        self.width = width\n",
    "        self. height = height\n",
    "        Rectangle.count += 1\n",
    "\n",
    "    # 메서드 (method)\n",
    "    def calcArea(self):\n",
    "        area = self.width * self.height\n",
    "        return area    "
   ]
  },
  {
   "cell_type": "markdown",
   "metadata": {},
   "source": [
    "## <span style='color:black; background-color:#fff5b1;'>캡슐화와 Class</span>\n",
    "사람의 몸은 피부로 덮여있습니다. 몸 외부의 물질로부터 몸 내부를 지키기 위해서 최소한의 입구와 출구만을 남겨두고 모두 피부로 꽁꽁 싸여 있죠.  \n",
    "파이썬의 `class` 또한 이와 같은 개념이 있습니다 바로 **캡슐화** 입니다.\n",
    "\n",
    "캡슐화는 class 내부와 외부를 구분지어주는 개념입니다. class 외부의 함수나 코드가 class 내부의 변수와 메서드를 함부로 바꿀 수 없게끔 막아두고, 최소한의 메서드만 일부 허용시켜 주는 것이지요.\n",
    "\n",
    "파이썬에는 이런 캡슐화를 구현할 수 있게끔 다양한 기능을 제공하고 있습니다."
   ]
  },
  {
   "cell_type": "markdown",
   "metadata": {},
   "source": [
    "### <span style='color:black; background-color:#dcffe4;'>Public/Private/Protection</sapn>\n",
    "Python은 다른 언어에서 흔히 사용하는 *public, protected, private 등의 접근 제한자 (Access Modifier)를 갖지 않습니다.*  \n",
    "Python 클래스는 기본적으로 모든 멤버가 public이라고 할 수 있습니다.  \n",
    "만약 특정 변수명이나 메서드를 private로 만들어야 한다면, 두 개의 밑줄 (__)을 이름 앞에 붙이면 되고, protection은 한 개의 밑줄(_)을 붙이면 됩니다."
   ]
  },
  {
   "cell_type": "code",
   "execution_count": 5,
   "metadata": {},
   "outputs": [],
   "source": [
    "def __init__(self, width, height):\n",
    "    self.width = width\n",
    "    self.height = height\n",
    "\n",
    "    # private 변수 __area\n",
    "    self.__area = width * height\n",
    "\n",
    "# private 메서드\n",
    "def __internalRun(self):\n",
    "    pass    "
   ]
  },
  {
   "cell_type": "markdown",
   "metadata": {},
   "source": [
    "> `Initializer(초기자)`: 클래스로부터 새 객체를 생성할 때마다 실행되는 특별한 메서드로 __init__()이라는 메서드가 있는데, 이를 흔히 클래스 Initializer라 부릅니다.  \n",
    "Initializer는 클래스로부터 객체를 만들 때, 인스턴스 변수를 초기화하거나 객체의 초기상태를 만들기 위한 문장들을 실행하는 곳입니다.\n",
    "\n",
    "위의 __init__() 예제를 보면, width와 height라는 입력 파라미터들을 각각 self.width와 self.height라는 인스턴스 변수에 할당하여 객체 내에서 계속 사용할 수 있도록 준비하고 있는 것입니다."
   ]
  },
  {
   "cell_type": "markdown",
   "metadata": {},
   "source": [
    "### <span style='color:black; background-color:#dcffe4;'>정적 메서드와 클래스 메서드</sapn>\n",
    "\n",
    "> `정적 메서드`: 인스턴스 메서드가 객체의 인스턴스 필드를 self를 통해 액세스할 수 있는 반면, `정적 메서드`는 이러한 self 파라미터를 갖지 않고 인스턴스 변수에 액세스할 수 없습니다.  \n",
    "따라서, 정적 메서드는 보통 객체 필드와 독립적이지만 로직상 클래스 내에 포함되는 메서드에 사용되며, 메서드 앞에 `@staticmethod`라는 Decorator를 표시하여 해당 메서드가 정적 메서드임을 표시합니다. \n",
    "\n",
    "> `클래스 메서드`: 클래스 메서드는 메서드 앞에 `@classmethod`라는 Decorator를 표시하여 해당 메서드가 클래스 메서드임을 표시합니다.  \n",
    "클래스 메서드는 정적 메서드와 비슷한데, 객체 인스턴스를 의미하는 self 대신 cls라는 클래스를 의미하는 파라미터를 전달받습니다.  \n",
    "정적 메서드는 이러한 cls 파라미터를 전달받지 않고, 클래스 메서드는 이렇게 전달받은 cls 파라미터를 통해 클래스 변수 등에 액세스할 수 있습니다."
   ]
  },
  {
   "cell_type": "code",
   "execution_count": 11,
   "metadata": {},
   "outputs": [],
   "source": [
    "class Rectangle:\n",
    "    count = 0 #클래스 변수\n",
    "    \n",
    "    def __init__(self, width, height):\n",
    "        self.width = width\n",
    "        self.height = height\n",
    "        Rectangle.count += 1\n",
    "\n",
    "    # 인스턴스 메서드\n",
    "    def calcArea(self):\n",
    "        area = self.width * self.height\n",
    "        return area\n",
    "    \n",
    "    # 정적 메서드\n",
    "    @staticmethod\n",
    "    def isSquare(rectWidth, rectHeight):\n",
    "        return rectWidth == rectHeight\n",
    "\n",
    "    # 클래스 메서드\n",
    "    @classmethod    \n",
    "    def printCount(cls):\n",
    "        print(cls.count)\n",
    "    "
   ]
  },
  {
   "cell_type": "markdown",
   "metadata": {},
   "source": [
    "일반적으로 인스턴스 데이터에 액세스 할 필요가 없는 경우, 클래스 메서드나 정적 메스드를 사용합니다.  \n",
    "이 때, 보통 클래스 변수를 액세스할 필요가 있을 때는 클래스 메서드를, 이를 액세스할 필요가 없을 때는 정적 메스드를 이용합니다.\n",
    "\n",
    "위 예제에서 isSquare() 메서드는 정적 메서드로 cls 파라미터를 전달받지 않고 메서드 내에서 클래스 변수를 사용하지 않고 있습니다.  \n",
    "반면, printCount() 메서드는 클래스 메서드로 cls 파라미터를 전달받고 메서드 내에서 클래스 변수 count를 사용하고 있습니다."
   ]
  },
  {
   "cell_type": "code",
   "execution_count": 12,
   "metadata": {},
   "outputs": [
    {
     "name": "stdout",
     "output_type": "stream",
     "text": [
      "True\n",
      "2\n"
     ]
    }
   ],
   "source": [
    "# 테스트\n",
    "square = Rectangle.isSquare(5,5)\n",
    "print(square) # True\n",
    "\n",
    "rect1 = Rectangle(5,5)\n",
    "rect2 = Rectangle(2,5)\n",
    "rect1.printCount() # 2"
   ]
  },
  {
   "cell_type": "markdown",
   "metadata": {},
   "source": [
    "### <span style='color:black; background-color:#dcffe4;'>클래스 인스턴스의 생성과 사용</sapn>\n",
    "\n",
    "**클래스를 사용하기 위해서는 먼저 클래스로부터 인스턴스(객체)를 생성해야 합니다.**  \n",
    "Python에서 인스턴스를 생성하기 위해서는 \"객체변수명 = 클래스명()\"과 같이 클래스명을 함수 호출하는 것처럼 사용하면 됩니다.  \n",
    "만약 __init__() 함수가 있고, 그곳에 입력 파라미터들이 지정되어 있다면, \"클래스명(입력파라미터들)\"과 같이 파라미터를 괄호 안에 전달합니다.  \n",
    "이렇게 전달된 파라미터들은 Initializer 에서 사용됩니다.  \n",
    "\n",
    "아래 예제를 보면, Rectangle 클래스로부터 r이라는 클래스 인스턴스를 생성하고 있는데, Rectangle(2,3)과 같이 2개의 파라미터를 전달하고 있습니다.  \n",
    "이는 Rectangle 초기자에서 각각 width와 height 인스턴스 변수를 초기화 하는데 사용됩니다."
   ]
  },
  {
   "cell_type": "code",
   "execution_count": 26,
   "metadata": {},
   "outputs": [
    {
     "name": "stdout",
     "output_type": "stream",
     "text": [
      "area =  6\n",
      "width =  10\n",
      "4\n",
      "4\n"
     ]
    }
   ],
   "source": [
    "# 인스턴스 생성\n",
    "r = Rectangle(2,3)\n",
    "\n",
    "# 메서드 호출\n",
    "area = r.calcArea()\n",
    "print(\"area = \", area)\n",
    "\n",
    "# 인스턴스 변수 액세스\n",
    "r.width = 10\n",
    "print(\"width = \", r.width)\n",
    "\n",
    "# 클래스 변수 액세스\n",
    "print(Rectangle.count)\n",
    "print(r.count)"
   ]
  },
  {
   "cell_type": "markdown",
   "metadata": {},
   "source": [
    "||`클래스 변수`|`인스턴스 변수`|\n",
    "|:---:|:---:|:---:|\n",
    "|무엇인가?|클래스 내부에 선언된 변수|self가 붙어있는 변수. 클래스의 인스턴스가 생성될 때 생성|\n",
    "|변수의 존재 위치|class의 namespace에 위치|instance의 namespace에 위치|\n",
    "|언제 사용?|인스턴스 간에 서로 공유해야 하는 값. 클래스 변수는 모든 인스턴스에 공유된다.<br>(e.g. 현재 은행에 총 개설된 계좌의 개수)|인스턴스 간 고유한 값. 다른 인스턴스에 공유되면 안 되는 값<br>(e.g.이름)|"
   ]
  },
  {
   "cell_type": "markdown",
   "metadata": {},
   "source": [
    "### <span style='color:black; background-color:#dcffe4;'>Special Method(Magic Mathod) </sapn>\n",
    "\n",
    "Python에는 Initializer 이외에도 많은 특별한 용도의 메서드들이 있는데, 이러한 메서드들을 Special Method 혹은 매직메서드(Magic Method)라고 부릅니다.  \n",
    "\n",
    "이 때, `__get__`, `__set__`, `__delete__` 매직메서드 중 한 개 이상 구현되어 있는 객체를 디스크립터(discriptor)라고 합니다.\n",
    "\n",
    "- `__del__`: 객체가 소멸될 때(Garbage Colleciton 될 때) 실행되는 소멸자 메서드\n",
    "- `__get__`: 클래스의 프로퍼티 또는 클래스 인스턴스의 프로퍼티를 얻기 위해 호출하는 메서드\n",
    "- `__set__`: 인스턴스의 어트리뷰트를 새 값으로 설정할 때 호출 됩니다.\n",
    "- `__add__`: 두 개의 객체를 (+ 기호로) 더하는 메서드\n",
    "- `__sub__`: 두 개의 객체를 (- 기호로) 빼는 메서드\n",
    "- `__cmp__`: 두 개의 객체를 비교하는 메서드\n",
    "- `__str__`: 문자열로 객체를 표현할 때 사용하는 메서드  \n",
    "- `__call__`: 객체를 함수처럼 호출할 수 있도록 만드는 메서드, 이렇게 이 메서드를 이용하여 호출 가능한 모든 객체를 포함하여 호출 가능한 메서드나 함수를 모두 통틀어 **callable**이라고 합니다.\n",
    "\n",
    "등이 있습니다.  \n",
    "\n",
    "아래는 이 중 `__add__()` 메서드에 대한 예입니다."
   ]
  },
  {
   "cell_type": "code",
   "execution_count": 24,
   "metadata": {},
   "outputs": [],
   "source": [
    "class Rectangle:\n",
    "    count = 0 #클래스 변수\n",
    "    \n",
    "    def __init__(self, width, height):\n",
    "        self.width = width\n",
    "        self.height = height\n",
    "        Rectangle.count += 1\n",
    "\n",
    "    # 인스턴스 메서드\n",
    "    def calcArea(self):\n",
    "        area = self.width * self.height\n",
    "        return area\n",
    "    \n",
    "    # 정적 메서드\n",
    "    @staticmethod\n",
    "    def isSquare(rectWidth, rectHeight):\n",
    "        return rectWidth == rectHeight\n",
    "\n",
    "    # 클래스 메서드\n",
    "    @classmethod    \n",
    "    def printCount(cls):\n",
    "        print(cls.count)\n",
    "    \n",
    "    # __add__() Magic Method 추가\n",
    "    def __add__(self, other):\n",
    "        obj = Rectangle(self.width + other.width, self.height + other.height)\n",
    "        return obj"
   ]
  },
  {
   "cell_type": "code",
   "execution_count": 25,
   "metadata": {},
   "outputs": [],
   "source": [
    "# 사용 예\n",
    "r1 = Rectangle(10,5)\n",
    "r2 = Rectangle(20,15)\n",
    "r3 = r1 + r2 # __add__()가 호출됨"
   ]
  },
  {
   "cell_type": "markdown",
   "metadata": {},
   "source": [
    "다음은 `__call__` 메서드와 **callable** 객체에 대한 예시입니다"
   ]
  },
  {
   "cell_type": "code",
   "execution_count": 6,
   "metadata": {},
   "outputs": [],
   "source": [
    "class BetterCountMissing:\n",
    "    def __init__(self):\n",
    "        self.added = 0\n",
    "    \n",
    "    def __call__(self):\n",
    "        self.added += 1\n",
    "        return 0\n",
    "    \n",
    "counter = BetterCountMissing()\n",
    "assert counter() == 0\n",
    "assert callable(counter)"
   ]
  },
  {
   "cell_type": "markdown",
   "metadata": {},
   "source": [
    "다음 코드는 위 인스턴스를 defaultdict의 디폴트 값의  hook으로 사용해서 존재하지 않는 키에 접근한 횟수를 추적하는 코드입니다."
   ]
  },
  {
   "cell_type": "code",
   "execution_count": 12,
   "metadata": {},
   "outputs": [
    {
     "name": "stdout",
     "output_type": "stream",
     "text": [
      "defaultdict(<__main__.BetterCountMissing object at 0x0000016192093A90>, {'초록': 12, '파랑': 13})\n",
      "key, amount: 빨강 5\n",
      "defaultdict(<__main__.BetterCountMissing object at 0x0000016192093A90>, {'초록': 12, '파랑': 13, '빨강': 5})\n",
      "key, amount: 파랑 17\n",
      "defaultdict(<__main__.BetterCountMissing object at 0x0000016192093A90>, {'초록': 12, '파랑': 30, '빨강': 5})\n",
      "key, amount: 주황 9\n",
      "defaultdict(<__main__.BetterCountMissing object at 0x0000016192093A90>, {'초록': 12, '파랑': 30, '빨강': 5, '주황': 9})\n"
     ]
    }
   ],
   "source": [
    "from collections import defaultdict\n",
    "\n",
    "current= {'초록': 12, '파랑': 13}\n",
    "increments = [\n",
    "    ('빨강', 5),\n",
    "    ('파랑', 17),\n",
    "    ('주황', 9)\n",
    "]\n",
    "counter = BetterCountMissing()\n",
    "result = defaultdict(counter, current)\n",
    "\n",
    "for key, amount in increments:\n",
    "    result[key] += amount\n",
    "assert counter.added == 2"
   ]
  },
  {
   "cell_type": "markdown",
   "metadata": {},
   "source": [
    "존재하지 않는 키에 접근했을 경우, BetterCountMissing 클래스의 인스턴스인 `counter` 가 호출이 되고 이 때 call 메서드가 호출되어 `added` 멤버 변수가 1 증가합니다."
   ]
  },
  {
   "cell_type": "markdown",
   "metadata": {},
   "source": [
    "### <span style='color:black; background-color:#dcffe4;'>클래스 상속과 다형성</sapn>\n",
    "\n",
    "Python은 객체지향 프로그래밍의 상속(Inheritance)를 지원하고 있습니다.  \n",
    "클래스를 상속받기 위해서는 파생 클래스(자식 클래스)에서 클래스명 뒤에 베이스 클래스(부모 클래스) 이름을 괄호와 함께 넣어주면 됩니다.  \n",
    "즉, 아래 예제에서 Dog 클래스는 Animal 클래스로부터 파생된 파생 클래스이며, Duck 클래스도 역시 Animal 베이스 클래스로부터 파생되고 있음을 알 수 있습니다.\n",
    "\n",
    "Python은 복수의 부모 클래스로부터 상속 받을 수 있는 Multiple Inheritance를 지원하고 있습니다."
   ]
  },
  {
   "cell_type": "code",
   "execution_count": 7,
   "metadata": {},
   "outputs": [],
   "source": [
    "class Animal:\n",
    "    def __init__(self, name):\n",
    "        self.name = name\n",
    "    def move(self):\n",
    "        print(\"move\")\n",
    "    def speak(self):\n",
    "        pass\n",
    "\n",
    "class Dog(Animal):\n",
    "    def speak(self):\n",
    "        print(\"bark\")\n",
    "\n",
    "class Duck(Animal):\n",
    "    def speak(self):\n",
    "        print(\"quack\")"
   ]
  },
  {
   "cell_type": "markdown",
   "metadata": {},
   "source": [
    "파생 클래스는 베이스 클래스의 멤버들을 호출하거나 사용할 수 있으며, 물론 파생클래스 자신의 멤버들을 사용할 수 있습니다."
   ]
  },
  {
   "cell_type": "code",
   "execution_count": 8,
   "metadata": {},
   "outputs": [
    {
     "name": "stdout",
     "output_type": "stream",
     "text": [
      "move\n",
      "bark\n"
     ]
    }
   ],
   "source": [
    "dog = Dog(\"Doggy\") # 부모 클래스의 생성자\n",
    "n = dog.name # 부모 클래스의 인스턴스 변수\n",
    "dog.move() # 부모 클래스의 메서드\n",
    "dog.speak() # 파생 클래스의 멤버\n"
   ]
  },
  {
   "cell_type": "markdown",
   "metadata": {},
   "source": [
    "Python은 객체지향 프로그래밍의 다형성(Polymorphism)을 또한 지원하고 있습니다.  \n",
    "아래 예제는 animals라는 리스트에 Dog 객체와 Duck 객체를 넣고 이들의 speak() 메서드를 호출한 예시입니다.  \n",
    "코드 실행 결과를 보면 **객체의 타입에 따라 서로 다른 speak() 메서드가 호출됨**을 알 수 있습니다."
   ]
  },
  {
   "cell_type": "code",
   "execution_count": 9,
   "metadata": {},
   "outputs": [
    {
     "name": "stdout",
     "output_type": "stream",
     "text": [
      "bark\n",
      "quack\n"
     ]
    }
   ],
   "source": [
    "animals = [Dog('doggy'), Duck('duck')]\n",
    "\n",
    "for a in animals:\n",
    "    a.speak()"
   ]
  },
  {
   "cell_type": "markdown",
   "metadata": {},
   "source": [
    "### <span style='color:black; background-color:#f5f0ff;'>super로 부모 클래스를 초기화하라</sapn>\n",
    "\n",
    "자식 클래스에서 부모 클래스를 초기화 하는 기본적인 방법은 부모 클래스의 `__init__` 메서드를 직접 호출하는 것입니다.\n",
    "\n",
    "하지만 상속에 상속을 하는 다중 상속의 경우 위 방법이 잘못될 수도 있습니다.\n",
    "\n",
    "다중 상속이 되어있는 클래스의 모든 하위 클래스에서 `__init__` 메서드의 호출 순서가 정해져 있지 않아 결과를 예측할 수 없기 때문입니다.\n",
    "\n",
    "아래 코드는 다중 상속의 초기화를 보여줍니다."
   ]
  },
  {
   "cell_type": "code",
   "execution_count": 3,
   "metadata": {},
   "outputs": [],
   "source": [
    "class MyBaseClass:\n",
    "    def __init__(self, value):\n",
    "        self.value = value\n",
    "\n",
    "class TimesTwo:\n",
    "    def __init__(self):\n",
    "        self.value *= 2\n",
    "\n",
    "class PlusFive:\n",
    "    def __init__(self):\n",
    "        self.value += 5"
   ]
  },
  {
   "cell_type": "markdown",
   "metadata": {},
   "source": [
    "아래 코드는 부모 클래스를 MyBaseClass, TimesTwo, PlusFive 순서로 정의합니다."
   ]
  },
  {
   "cell_type": "code",
   "execution_count": 4,
   "metadata": {},
   "outputs": [],
   "source": [
    "class OneWay(MyBaseClass, TimesTwo, PlusFive):\n",
    "    def __init__(self, value):\n",
    "        MyBaseClass.__init__(self, value)\n",
    "        TimesTwo.__init__(self)\n",
    "        PlusFive.__init__(self)"
   ]
  },
  {
   "cell_type": "markdown",
   "metadata": {},
   "source": [
    "이 클래스의 인스턴스를 만들면 부모 클래스의 순서에 따라 초기화가 실행된 결과를 볼 수 있습니다."
   ]
  },
  {
   "cell_type": "code",
   "execution_count": 5,
   "metadata": {},
   "outputs": [
    {
     "name": "stdout",
     "output_type": "stream",
     "text": [
      "첫 번째 부모 클래스 순서에 따른 값은 (5 * 2) + 5 = 15\n"
     ]
    }
   ],
   "source": [
    "foo = OneWay(5)\n",
    "print('첫 번째 부모 클래스 순서에 따른 값은 (5 * 2) + 5 =', foo.value)"
   ]
  },
  {
   "cell_type": "markdown",
   "metadata": {},
   "source": [
    "이제, 같은 부모 클래스를 상속받지만 나열한 순서를 다르게 하여 인스턴스를 만들어 보겠습니다."
   ]
  },
  {
   "cell_type": "code",
   "execution_count": 6,
   "metadata": {},
   "outputs": [
    {
     "name": "stdout",
     "output_type": "stream",
     "text": [
      "이번 클래스에 대한 값은 = 20\n",
      "또 다른 클래스에 대한 값은 = 15\n"
     ]
    }
   ],
   "source": [
    "class OtherWay(MyBaseClass, PlusFive, TimesTwo):\n",
    "    def __init__(self, value):\n",
    "        MyBaseClass.__init__(self, value)\n",
    "        PlusFive.__init__(self)\n",
    "        TimesTwo.__init__(self)\n",
    "        \n",
    "foo = OtherWay(5)\n",
    "print('이번 클래스에 대한 값은 =', foo.value)\n",
    "\n",
    "class AnotherWay(MyBaseClass, PlusFive, TimesTwo):\n",
    "    def __init__(self, value):\n",
    "        MyBaseClass.__init__(self, value)\n",
    "        TimesTwo.__init__(self)\n",
    "        PlusFive.__init__(self)\n",
    "        \n",
    "foo2 = AnotherWay(5)\n",
    "print('또 다른 클래스에 대한 값은 =', foo2.value)"
   ]
  },
  {
   "cell_type": "markdown",
   "metadata": {},
   "source": [
    "보시다시피, 상속을 진행하는 순서가 달라지더라도 `__init__` 함수 내에 어떤 부모 클래스의 `__init__` 메서드를 불러오느냐에 따라 결과가 달라지며 이는 가독성을 해치게 되고 실수를 불러일으킵니다.\n",
    "\n",
    "또한 **다이아몬드 상속**으로 인한 문제가 생길 수도 있습니다.\n",
    "\n",
    "> 다이아몬드 상속: 다이아몬드 상속이란 어떤 클래스가 두 가지 서로 다른 클래스를 상속하는데, 두 상위 클래스가 같은 조상 클래스를 상속하고 있는 경우를 말한다.\n",
    "\n",
    "아래 코드는 다이아몬드 상속 관계를 가지는 클래스들을 나타내며 코드 밑의 사진은 각 클래스의 상속 관계를 나타냅니다."
   ]
  },
  {
   "cell_type": "code",
   "execution_count": 32,
   "metadata": {},
   "outputs": [
    {
     "name": "stdout",
     "output_type": "stream",
     "text": [
      "MyBaseClass 초기화\n",
      "MyBaseClass 초기화\n",
      "(5 * 7) + 9 = 44가 나와야 하지만 실제로는 14\n"
     ]
    }
   ],
   "source": [
    "class TimesSeven(MyBaseClass):\n",
    "    def __init__(self,value):\n",
    "        MyBaseClass.__init__(self,value)\n",
    "        self.value *= 7\n",
    "\n",
    "class PlusNine(MyBaseClass):\n",
    "    def __init__(self, value):\n",
    "        MyBaseClass.__init__(self,value)\n",
    "        self.value += 9\n",
    "        \n",
    "class ThisWay(TimesSeven, PlusNine):\n",
    "    def __init__(self,value):\n",
    "        TimesSeven.__init__(self,value)\n",
    "        PlusNine.__init__(self,value)\n",
    "\n",
    "foo = ThisWay(5)\n",
    "\n",
    "print('(5 * 7) + 9 = 44가 나와야 하지만 실제로는', foo.value)"
   ]
  },
  {
   "cell_type": "markdown",
   "metadata": {},
   "source": [
    "![diamond](images.png)"
   ]
  },
  {
   "cell_type": "markdown",
   "metadata": {},
   "source": [
    "위 코드에서 두번째 부모 클래스의 생성자 `PlusNine.__init__`을 호출하면 `MyBaseClass.__init__`이 다시 호출되면서 self.value가 다시 5로 돌아가는 문제가 생깁니다.\n",
    "\n",
    "이런 경우는 오류로 걸러지지도 않기 때문에 디버깅을 하더라도 찾기가 매우 어렵습니다. \n",
    "\n",
    "이러한 문제 때문에 파이썬은 다중 상속의 문제점을 해결하기 위해 `super`라는 내장 함수를 제공합니다.\n",
    "\n",
    "`super` 메서드는 표준 메서드 결정 순서(MRO)에 따라 상속 순서를 자동으로 결정해주며 중복 초기화가 되지 않도록 합니다."
   ]
  },
  {
   "cell_type": "code",
   "execution_count": 4,
   "metadata": {},
   "outputs": [
    {
     "name": "stdout",
     "output_type": "stream",
     "text": [
      "7 * (5 * 9) = 98이 나와야 하고 실제로도 98\n"
     ]
    }
   ],
   "source": [
    "class TimesSeven(MyBaseClass):\n",
    "    def __init__(self,value):\n",
    "        super().__init__(value)\n",
    "        self.value *= 7\n",
    "\n",
    "class PlusNine(MyBaseClass):\n",
    "    def __init__(self, value):\n",
    "        super().__init__(value)\n",
    "        self.value += 9\n",
    "        \n",
    "class ThisWay(TimesSeven, PlusNine):\n",
    "    def __init__(self,value):\n",
    "        super().__init__(value)\n",
    "\n",
    "\n",
    "foo = ThisWay(5)\n",
    "\n",
    "print('7 * (5 * 9) = 98이 나와야 하고 실제로도', foo.value)"
   ]
  },
  {
   "cell_type": "markdown",
   "metadata": {},
   "source": [
    "표준 메서드 결정 순서(MRO)는 `__init__` 메서드가 호출된 순서의 역순으로 초기화를 진행하도록 합니다.\n",
    "\n",
    "따라서 `PlusNine` 클래스가 초기화 되어 5 + 9 = 14가 되고, 이후 `TimesSeven` 클래스가 초기화 되어 14 * 7 = 98이 나오는 것입니다.\n",
    "\n",
    "`super` 메소드를 이용하여 이후 MyBaseClass나, 또 다른 부모 클래스의 이름을 바꾸더라도 따로 추가적으로 바꿀 필요가 없는 등 유지보수성 쪽으로도 이점을 가집니다.\n",
    "***"
   ]
  },
  {
   "cell_type": "markdown",
   "metadata": {},
   "source": [
    "### <span style='color:black; background-color:#f5f0ff;'>파이썬의 getter / setter 함수</sapn>\n",
    "\n",
    "Java와 C++에는 캡슐화를 위해 getter / setter 함수를 사용합니다.\n",
    "\n",
    "하지만 파이썬에서는 명시적인 setter 및 getter 메서드를 구현하지 않고 단순히 공개 애트리뷰트를 이용하여 구현합니다.\n",
    "\n",
    "아래 코드는 애트리뷰트의 예시를 보여줍니다."
   ]
  },
  {
   "cell_type": "code",
   "execution_count": 6,
   "metadata": {},
   "outputs": [
    {
     "name": "stdout",
     "output_type": "stream",
     "text": [
      "15000.0\n"
     ]
    }
   ],
   "source": [
    "class Resistor:\n",
    "    def __init__(self, ohms):\n",
    "        self.ohms = ohms\n",
    "        self.voltage = 0\n",
    "        self.current = 0\n",
    "        \n",
    "r1 = Resistor(50e3)\n",
    "r1.ohms = 10e3\n",
    "\n",
    "r1.ohms += 5e3\n",
    "\n",
    "print(r1.ohms)"
   ]
  },
  {
   "cell_type": "markdown",
   "metadata": {},
   "source": [
    "나중에 애트리뷰트가 설정될 때 특별한 기능을 수행해야 한다면, 애트리뷰트를 `@property` 데코레이터와 대응하는 setter 애트리뷰트로 옮겨갈 수 있습니다.\n",
    "\n",
    "아래 코드는 `VoltageRegistance` 클래스에서 voltage 프로퍼터에 값을 대입하면 current 값이 바뀌는 코드입니다.\n",
    "\n",
    "아래 코드가 제대로 작동하기 위해서는 setter 및 getter 이름이 개발자가 의도한 프로퍼티 이름과 일치해야 합니다."
   ]
  },
  {
   "cell_type": "code",
   "execution_count": 7,
   "metadata": {},
   "outputs": [],
   "source": [
    "class VoltageRegistance(Resistor):\n",
    "    def __init__(self, ohms):\n",
    "        super().__init__(ohms)\n",
    "        self._voltage = 0\n",
    "        \n",
    "    @property\n",
    "    def voltage(self):\n",
    "        return self._voltage\n",
    "    \n",
    "    @voltage.setter\n",
    "    def voltage(self, voltage):\n",
    "        self._voltage = voltage\n",
    "        self.current = self.voltage / self.ohms"
   ]
  },
  {
   "cell_type": "markdown",
   "metadata": {},
   "source": [
    "이렇게 프로퍼티를 이용하여 코딩을 하면 `voltage` 프로퍼티에 대입 시 `voltage` setter 메서드가 호출되고, 이 메서드는 객체의 current 애트리뷰트를 변경된 전압 값에 맞춰 갱신하게 됩니다.\n",
    "\n",
    "이렇듯 프로퍼티를 이용하여 손쉽고 직관적인 setter / getter을 만들 수 있으며 setter 함수에서 호출 시 경고 메시지가 출력되도록 설정하여 불변 변수를 만들수도 있습니다."
   ]
  },
  {
   "cell_type": "code",
   "execution_count": 8,
   "metadata": {},
   "outputs": [
    {
     "ename": "AttributeError",
     "evalue": "불변 객체입니다.",
     "output_type": "error",
     "traceback": [
      "\u001b[1;31m---------------------------------------------------------------------------\u001b[0m",
      "\u001b[1;31mAttributeError\u001b[0m                            Traceback (most recent call last)",
      "\u001b[1;32m~\\AppData\\Local\\Temp/ipykernel_2780/1884490033.py\u001b[0m in \u001b[0;36m<module>\u001b[1;34m\u001b[0m\n\u001b[0;32m     15\u001b[0m \u001b[1;33m\u001b[0m\u001b[0m\n\u001b[0;32m     16\u001b[0m \u001b[0msample\u001b[0m \u001b[1;33m=\u001b[0m \u001b[0mVoltageRegistance\u001b[0m\u001b[1;33m(\u001b[0m\u001b[1;36m5\u001b[0m\u001b[1;33m)\u001b[0m\u001b[1;33m\u001b[0m\u001b[1;33m\u001b[0m\u001b[0m\n\u001b[1;32m---> 17\u001b[1;33m \u001b[0msample\u001b[0m\u001b[1;33m.\u001b[0m\u001b[0mvoltage\u001b[0m \u001b[1;33m=\u001b[0m \u001b[1;36m20\u001b[0m\u001b[1;33m\u001b[0m\u001b[1;33m\u001b[0m\u001b[0m\n\u001b[0m",
      "\u001b[1;32m~\\AppData\\Local\\Temp/ipykernel_2780/1884490033.py\u001b[0m in \u001b[0;36mvoltage\u001b[1;34m(self, voltage)\u001b[0m\n\u001b[0;32m     11\u001b[0m     \u001b[1;32mdef\u001b[0m \u001b[0mvoltage\u001b[0m\u001b[1;33m(\u001b[0m\u001b[0mself\u001b[0m\u001b[1;33m,\u001b[0m \u001b[0mvoltage\u001b[0m\u001b[1;33m)\u001b[0m\u001b[1;33m:\u001b[0m\u001b[1;33m\u001b[0m\u001b[1;33m\u001b[0m\u001b[0m\n\u001b[0;32m     12\u001b[0m         \u001b[1;32mif\u001b[0m \u001b[0mhasattr\u001b[0m\u001b[1;33m(\u001b[0m\u001b[0mself\u001b[0m\u001b[1;33m,\u001b[0m\u001b[1;34m'_voltage'\u001b[0m\u001b[1;33m)\u001b[0m\u001b[1;33m:\u001b[0m\u001b[1;33m\u001b[0m\u001b[1;33m\u001b[0m\u001b[0m\n\u001b[1;32m---> 13\u001b[1;33m             \u001b[1;32mraise\u001b[0m \u001b[0mAttributeError\u001b[0m\u001b[1;33m(\u001b[0m\u001b[1;34m\"불변 객체입니다.\"\u001b[0m\u001b[1;33m)\u001b[0m\u001b[1;33m\u001b[0m\u001b[1;33m\u001b[0m\u001b[0m\n\u001b[0m\u001b[0;32m     14\u001b[0m         \u001b[0mself_voltage\u001b[0m \u001b[1;33m=\u001b[0m \u001b[0mvoltage\u001b[0m\u001b[1;33m\u001b[0m\u001b[1;33m\u001b[0m\u001b[0m\n\u001b[0;32m     15\u001b[0m \u001b[1;33m\u001b[0m\u001b[0m\n",
      "\u001b[1;31mAttributeError\u001b[0m: 불변 객체입니다."
     ]
    }
   ],
   "source": [
    "class VoltageRegistance(Resistor):\n",
    "    def __init__(self, ohms):\n",
    "        super().__init__(ohms)\n",
    "        self._voltage = 0\n",
    "        \n",
    "    @property\n",
    "    def voltage(self):\n",
    "        return self._voltage\n",
    "    \n",
    "    @voltage.setter\n",
    "    def voltage(self, voltage):\n",
    "        if hasattr(self,'_voltage'):\n",
    "            raise AttributeError(\"불변 객체입니다.\")\n",
    "        self_voltage = voltage\n",
    "\n",
    "sample = VoltageRegistance(5)\n",
    "sample.voltage = 20"
   ]
  },
  {
   "cell_type": "markdown",
   "metadata": {},
   "source": [
    "### <span style='color:black; background-color:#dcffe4;'>추상 클래스(Abstract Class)</sapn>\n",
    "\n",
    "추상 클래스란 미구현 추상 메서드를 한 개 이상 가지며, 자식 크래스에서 해당 추상 메서드를 반드시 구현하도록 요구합니다.  \n",
    "상속받은 클래스는 추상 메서드를 구현하지 않아도 에러가 발생하지 않으나, 객체를 생성할 시 에러가 발생합니다.  \n",
    "추상 클래스를 만들기 위한 형식은 <span style = \"color:yellow\">**반드시 abc 모듈을 import**</span>하는 것 입니다.  \n",
    "추상 메서드는 생략하면 기본적인 클래스 기능은 동작하지만, 추상 메서드를 추가한 후에는 객체 생성 시 에러가 발생합니다."
   ]
  },
  {
   "cell_type": "code",
   "execution_count": 34,
   "metadata": {},
   "outputs": [
    {
     "name": "stdout",
     "output_type": "stream",
     "text": [
      "국가 이름은: 한국, \n",
      "국가 인구는: 50000000,\n",
      "국가 수도는 : 서울\n"
     ]
    }
   ],
   "source": [
    "from abc import ABCMeta, abstractclassmethod\n",
    "\n",
    "class AbstractCountry(metaclass=ABCMeta):\n",
    "    name = '국가명'\n",
    "    population = '인구'\n",
    "    capital = '수도'\n",
    "\n",
    "    #abstractmethod\n",
    "    def show(self):\n",
    "        print('국가 클래스의 메서드 입니다.')\n",
    "\n",
    "class Korea(AbstractCountry):\n",
    "    def __init__(self, name:str, population:int, capital:str):\n",
    "        \"\"\"[Korea Class]\n",
    "        Args:\n",
    "            name (str): [국가 이름]\n",
    "            population (int): [인구]\n",
    "            capital (str): [수도]\n",
    "        \"\"\"\n",
    "\n",
    "        self.name = name\n",
    "        self.population = population\n",
    "        self.capital = capital\n",
    "\n",
    "    def __repr__(self):\n",
    "        return f'국가 이름은: {self.name}, \\n국가 인구는: {self.population},\\n국가 수도는 : {self.capital}'\n",
    "\n",
    "if __name__ == '__main__':\n",
    "    ko = Korea('한국', 50000000, '서울')\n",
    "    print(ko)\n"
   ]
  },
  {
   "cell_type": "markdown",
   "metadata": {},
   "source": [
    "### <span style = \"color:pink\">Quiz</span>\n",
    "- 다음 구현이 가능한 클래스를 구현하세요.\n",
    "- 클래스명: Calculator\n",
    "- 아래 Magic Method를 이용하여 아래의 기능이 가능하고, Calculator 연산자 기능이 가능한 클래스를 구현하세요.\n",
    "- 덧셈(+), 뺄셈(-), 곱셉(*), 나눗셈(/)\n",
    "- Python3: `__div__` -> `__truediv__` \n",
    "- Magic manager context manager를 이용하여 저장이 가능하도록 구현(파일명은 myfile.txt)\n",
    "\n",
    "<p align=\"center\"><img src=\"Quiz1.png\"></p>\n",
    "\n",
    "<!--![Quiz#1](./Quiz1.png)-->"
   ]
  },
  {
   "cell_type": "code",
   "execution_count": 10,
   "metadata": {},
   "outputs": [],
   "source": [
    "# 실습 코드 작성(부족할 경우 추가, 남을 경우 삭제)\n",
    "from abc import ABCMeta, abstractmethod"
   ]
  },
  {
   "cell_type": "code",
   "execution_count": 13,
   "metadata": {},
   "outputs": [],
   "source": [
    "# 실습 코드 작성(부족할 경우 추가, 남을 경우 삭제)\n",
    "class Clac(metaclass=ABCMeta):\n",
    "    \n",
    "    @abstractmethod\n",
    "    def __add__(self):\n",
    "        pass\n",
    "    \n",
    "    @abstractmethod\n",
    "    def __sub__(self):\n",
    "        pass\n",
    "    \n",
    "    @abstractmethod\n",
    "    def __mul__(self):\n",
    "        pass\n",
    "    \n",
    "    @abstractmethod\n",
    "    def __truediv__(self):\n",
    "        pass\n",
    "    \n",
    "    @abstractmethod\n",
    "    def __repr__(self):\n",
    "        pass"
   ]
  },
  {
   "cell_type": "code",
   "execution_count": 14,
   "metadata": {},
   "outputs": [],
   "source": [
    "class Calculator(Clac):\n",
    "    def __init__(self, num):\n",
    "        self.num = num\n",
    "        self.f = None\n",
    "    \n",
    "    def __add__(self, other:Clac):\n",
    "        self.num = self.num+other.num\n",
    "        return self.num\n",
    "    \n",
    "    def __sub__(self, other:Clac):\n",
    "        self.num = self.num-other.num\n",
    "        return self.num\n",
    "    \n",
    "    def __mul__(self, other:Clac):\n",
    "        self.num = self.num*other.num\n",
    "        return self.num\n",
    "    \n",
    "    def __truediv__(self, other:Clac):\n",
    "        self.num = self.num/other.num\n",
    "        return self.num\n",
    "    \n",
    "    def __repr__(self):\n",
    "        return self.num"
   ]
  },
  {
   "cell_type": "code",
   "execution_count": 15,
   "metadata": {},
   "outputs": [],
   "source": [
    "class Log:\n",
    "    def __init__(self,filename):\n",
    "        self.filename=filename\n",
    "        self.fp=None\n",
    "        \n",
    "    def logging(self,text):\n",
    "        self.fp.write(text+'\\n')\n",
    "        \n",
    "    def __enter__(self):\n",
    "        self.fp=open(self.filename,\"a+\")\n",
    "        return self\n",
    "    \n",
    "    def __exit__(self, *args):\n",
    "        print(\"나가기\")\n",
    "        self.fp.close()"
   ]
  },
  {
   "cell_type": "code",
   "execution_count": 18,
   "metadata": {},
   "outputs": [
    {
     "name": "stdout",
     "output_type": "stream",
     "text": [
      "나가기\n"
     ]
    },
    {
     "ename": "ValueError",
     "evalue": "could not convert string to float: ''",
     "output_type": "error",
     "traceback": [
      "\u001b[1;31m---------------------------------------------------------------------------\u001b[0m",
      "\u001b[1;31mValueError\u001b[0m                                Traceback (most recent call last)",
      "\u001b[1;32mc:\\HCI\\K-SW_BootCamp2022\\python\\6) python-class\\python-class.ipynb 셀 60\u001b[0m in \u001b[0;36m<cell line: 1>\u001b[1;34m()\u001b[0m\n\u001b[0;32m      <a href='vscode-notebook-cell:/c%3A/HCI/K-SW_BootCamp2022/python/6%29%20python-class/python-class.ipynb#ch0000063?line=6'>7</a>\u001b[0m     \u001b[39mbreak\u001b[39;00m\n\u001b[0;32m      <a href='vscode-notebook-cell:/c%3A/HCI/K-SW_BootCamp2022/python/6%29%20python-class/python-class.ipynb#ch0000063?line=8'>9</a>\u001b[0m input1 \u001b[39m=\u001b[39m \u001b[39minput\u001b[39m(\u001b[39m\"\u001b[39m\u001b[39m계산기 1 입력\u001b[39m\u001b[39m\"\u001b[39m)\n\u001b[1;32m---> <a href='vscode-notebook-cell:/c%3A/HCI/K-SW_BootCamp2022/python/6%29%20python-class/python-class.ipynb#ch0000063?line=9'>10</a>\u001b[0m cal1 \u001b[39m=\u001b[39m Calculator(\u001b[39mfloat\u001b[39;49m(input1))\n\u001b[0;32m     <a href='vscode-notebook-cell:/c%3A/HCI/K-SW_BootCamp2022/python/6%29%20python-class/python-class.ipynb#ch0000063?line=11'>12</a>\u001b[0m input2 \u001b[39m=\u001b[39m \u001b[39minput\u001b[39m(\u001b[39m\"\u001b[39m\u001b[39m계산기 2 입력\u001b[39m\u001b[39m\"\u001b[39m)\n\u001b[0;32m     <a href='vscode-notebook-cell:/c%3A/HCI/K-SW_BootCamp2022/python/6%29%20python-class/python-class.ipynb#ch0000063?line=12'>13</a>\u001b[0m cal2 \u001b[39m=\u001b[39m Calculator(\u001b[39mfloat\u001b[39m(input2))\n",
      "\u001b[1;31mValueError\u001b[0m: could not convert string to float: ''"
     ]
    }
   ],
   "source": [
    "if __name__ == \"__main__\":\n",
    "    \n",
    "    with Log(\"myfile.txt\") as logfile:\n",
    "        while(True):\n",
    "            cal = input(\"연산자 입력(*,/,+,-, 나가기 'q'): \")\n",
    "            if cal =='q':\n",
    "                break\n",
    "            \n",
    "            input1 = input(\"계산기 1 입력\")\n",
    "            cal1 = Calculator(float(input1))\n",
    "            \n",
    "            input2 = input(\"계산기 2 입력\")\n",
    "            cal2 = Calculator(float(input2))\n",
    "            \n",
    "            if cal== '*':\n",
    "                res = cal1*cal2\n",
    "            elif cal == '/':\n",
    "                res = cal1/cal2\n",
    "            elif cal == '+':\n",
    "                res = cal1+cal2\n",
    "            elif cal == '-':\n",
    "                res = cal1-cal2\n",
    "            else:\n",
    "                print(\"잘못된 입력을 하셨습니다.\")\n",
    "                continue\n",
    "            \n",
    "            logfile.logging(str(res))"
   ]
  },
  {
   "cell_type": "markdown",
   "metadata": {},
   "source": [
    "<p align=\"center\"><img src=\"Quiz2.png\"></p>\n",
    "\n",
    "* 다음 위의 그림의 결과를 적어보시고 그 이유를 설명해 보세요!"
   ]
  },
  {
   "cell_type": "code",
   "execution_count": null,
   "metadata": {},
   "outputs": [],
   "source": [
    "if __name__ == '__main__' :"
   ]
  }
 ],
 "metadata": {
  "kernelspec": {
   "display_name": "Python 3.9.7 64-bit ('nongjin')",
   "language": "python",
   "name": "python3"
  },
  "language_info": {
   "codemirror_mode": {
    "name": "ipython",
    "version": 3
   },
   "file_extension": ".py",
   "mimetype": "text/x-python",
   "name": "python",
   "nbconvert_exporter": "python",
   "pygments_lexer": "ipython3",
   "version": "3.9.7"
  },
  "orig_nbformat": 4,
  "vscode": {
   "interpreter": {
    "hash": "7442a401097dfc4f2829d053a6a19b900543c729177e70de1f7f0272165bfe52"
   }
  }
 },
 "nbformat": 4,
 "nbformat_minor": 2
}
