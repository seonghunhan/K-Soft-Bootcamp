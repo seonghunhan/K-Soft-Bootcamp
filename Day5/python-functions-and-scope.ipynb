{
 "cells": [
  {
   "cell_type": "markdown",
   "metadata": {},
   "source": [
    "# Python 함수를 이용한 코드 재사용\n",
    "![](https://i.imgur.com/TvNf5Jp.png)\n",
    "Part 4: Python을 사용한 데이터 분석: 0부터 Pandas까지\n",
    "\n"
   ]
  },
  {
   "cell_type": "markdown",
   "metadata": {},
   "source": [
    "다음은 이번 강의에서 다룰 주제입니다:\n",
    "\n",
    "* 함수를 생성 및 사용하는 법\n",
    "* 하나 이상의 인수를 사용하는 함수\n",
    "* 지역 변수 및 범주\n",
    "* `return`을 사용하여 값을 반환\n",
    "* 기능을 유용하게 만들기 위하여 기본 인자 사용\n",
    "* 함수를 호출할 때. 이름지어진 인자 사용\n",
    "* 모듈 가져오기 및 라이브러리 사용\n",
    "* 새로운 활용 사례 처리를 위한 기능 재사용 및 개선\n",
    "* `try`- `exception`으로 예외 처리\n",
    "* Docstring 을 이용한 함수 문서 명세"
   ]
  },
  {
   "cell_type": "markdown",
   "metadata": {},
   "source": [
    "## <span style='color:black; background-color:#fff5b1;'>함수란?</sapn>\n",
    "프로그래머들이 Python에서 처음으로 사용하는 정리 도구는 함수(function)입니다.  \n",
    "다른 프로그래밍 언어와 마찬가지로 함수를 사용하면 큰 프로그램을 더 작고 간단한 조각으로 나누고, 각 조각이 어떤 일을 하는지 알려주는 이름을 붙일 수 있습니다.  \n",
    "함수를 사용하면 가독성이 좋아지고 코드에 더 쉽게 접근할 수 있으며, 재사용과 리팩토링도 쉬워집니다.  \n",
    "\n",
    "Python 함수에는 프로그래머가 더 편하게 프로그래밍할 수 있도록 해주는 여러가지 추가 기능이 들어있으며, 일부는 다른 프로그래밍 언어에 있는 기능과 비슷하지만 Python에만 해당하는 기능도 많습니다.  \n",
    "이런 추가 기능을 사용하면 함수의 목적을 더 분명하게 표현할 수 있고, 코드의 잡음을 줄여서 함수 호출의 의도를 더 명확히 드러낼 수 있으며, 찾기 어려운 미묘한 버그를 현저히 줄일 수 있습니다."
   ]
  },
  {
   "cell_type": "markdown",
   "metadata": {},
   "source": [
    "## <span style='color:black; background-color:#fff5b1;'>Creating and using functions(함수의 생성과 사용)</sapn>\n",
    "함수는 하나 이상의 입력을 사용하고, 작업을 수행하며, 출력을 반환하는 재사용 가능한 명령의 집합이라고 말할 수 있습니다.  \n",
    "Python은 `print`,`len` 등과 같은 많은 내장 기능을 포함하며, 새로운 기능을 정의할 수도 있습니다."
   ]
  },
  {
   "cell_type": "code",
   "execution_count": 1,
   "metadata": {},
   "outputs": [
    {
     "name": "stdout",
     "output_type": "stream",
     "text": [
      "Today is Saturday\n"
     ]
    }
   ],
   "source": [
    "today = \"Saturday\"\n",
    "print(\"Today is\", today)"
   ]
  },
  {
   "cell_type": "markdown",
   "metadata": {},
   "source": [
    "\n",
    "`def` 를 사용하여 새로운 함수를 정의할 수 있습니다."
   ]
  },
  {
   "cell_type": "code",
   "execution_count": 2,
   "metadata": {},
   "outputs": [],
   "source": [
    "def say_hello():\n",
    "    print('Hello there!')\n",
    "    print('How are you?')"
   ]
  },
  {
   "cell_type": "markdown",
   "metadata": {},
   "source": [
    "\n",
    "함수 이름 뒤에 대괄호 또는 `()`과 `:`을 붙입니다.  함수의 본문은 들여쓰기로 구분합니다.  \n",
    "기능이 정의 될 때는 기능의 본문 내부에 있는 내용이 실행되지 않습니다. 함수가 호출되게 되면, 해당 내용이 실행됩니다."
   ]
  },
  {
   "cell_type": "code",
   "execution_count": 3,
   "metadata": {},
   "outputs": [
    {
     "name": "stdout",
     "output_type": "stream",
     "text": [
      "Hello there!\n",
      "How are you?\n"
     ]
    }
   ],
   "source": [
    "say_hello()"
   ]
  },
  {
   "cell_type": "markdown",
   "metadata": {},
   "source": [
    "### <span style='color:black; background-color:#dcffe4;'>Function arguments</sapn>\n",
    "함수는 0개 이상의 값을 입력으로 받을 수 있습니다.(`인자` 혹은 `매개 변수`라고 불립니다.) 인자값은 변수의 값의 따라 다른 연산을 하도록 하는 함수를 작성할수 있게 해줍니다.  \n",
    "함수는 변수의 값을 저장하거나 또 다른 다양한 방식으로 결과를 반환합니다.  \n",
    "\n",
    " 다음 함수는 list에서 짝수를 걸러내고 `return` 를 통하여 새로운 만들어진 list를 반환합니다.\n"
   ]
  },
  {
   "cell_type": "code",
   "execution_count": 4,
   "metadata": {},
   "outputs": [],
   "source": [
    "def filter_even(number_list):\n",
    "    result_list = []\n",
    "    for number in number_list:\n",
    "        if number % 2 == 0:\n",
    "            result_list.append(number)\n",
    "    return result_list"
   ]
  },
  {
   "cell_type": "code",
   "execution_count": 5,
   "metadata": {},
   "outputs": [],
   "source": [
    "even_list = filter_even([1, 2, 3, 4, 5, 6, 7])"
   ]
  },
  {
   "cell_type": "code",
   "execution_count": 6,
   "metadata": {},
   "outputs": [
    {
     "data": {
      "text/plain": [
       "[2, 4, 6]"
      ]
     },
     "execution_count": 6,
     "metadata": {},
     "output_type": "execute_result"
    }
   ],
   "source": [
    "even_list"
   ]
  },
  {
   "cell_type": "markdown",
   "metadata": {},
   "source": [
    "## <span style='color:black; background-color:#fff5b1;'>Python의 유용한 함수 작성</sapn>\n",
    "\n",
    "\n",
    "Python은 다양한 함수를 강력하고 유연하게 해주는 기능들을 제공합니다.  \n",
    "몇 가지 문제를 해결하며 자세히 살펴보겠습니다.  \n",
    "\n",
    "\n",
    "> 라다씨는 `$1,260,000`짜리 집을 살 계획이다. 그녀는 구매 자금을 조달하기 위해 두 가지 Option을 고려하고 있다.:\n",
    "\n",
    "> * Option 1: 즉시, 계약금 30만 달러를 내고 나머지 금액에 대해서는 월 10%의 이자율로 8년 만기 대출을 받는다.\n",
    "> * Option 2: 10년 만기 대출은 전체 금액에 대해 이자율 8%(매월 합산)로 받는다.\n",
    ">\n",
    "> 이 두 대출 모두 동일한 월부금 일 때, 둘 중 월부금의 총합이 낮은 대출은 무엇인가?\n",
    "\n",
    "\n",
    "두 가지 대출 옵션에 대한 월부금를 비교할 필요가 있으므로 대출에 대한 월부금를 계산하는 기능을 정의하는 것이 좋을 것입니다.  \n",
    "함수의 입력은 주택 비용, 계약금, 대출 기간, 이자율 등이 될 것입니다.  \n",
    "위 문제를 단계적으로 해결해보도록 하겠습니다.\n",
    "\n",
    "먼저, 대출금을 1년 안에 갚아야 이자나 계약금은 없다고 가정하여 주택 전체 비용에 대한 월 할부금을 계산하는 간단한 함수를 작성해봅시다."
   ]
  },
  {
   "cell_type": "code",
   "execution_count": 7,
   "metadata": {},
   "outputs": [],
   "source": [
    "def loan_emi(amount):\n",
    "    emi = amount / 12\n",
    "    print('The EMI is ${}'.format(emi))"
   ]
  },
  {
   "cell_type": "code",
   "execution_count": 8,
   "metadata": {},
   "outputs": [
    {
     "name": "stdout",
     "output_type": "stream",
     "text": [
      "The EMI is $105000.0\n"
     ]
    }
   ],
   "source": [
    "loan_emi(1260000)"
   ]
  },
  {
   "cell_type": "markdown",
   "metadata": {},
   "source": [
    "### <span style='color:black; background-color:#dcffe4;'>지역변수 및 볌위</sapn>\n",
    "\n",
    "대출기간을 고려하기 위해 2번째 인자값을 추가해 봅시다."
   ]
  },
  {
   "cell_type": "code",
   "execution_count": 9,
   "metadata": {},
   "outputs": [],
   "source": [
    "def loan_emi(amount, duration):\n",
    "    emi = amount / duration\n",
    "    print('The EMI is ${}'.format(emi))"
   ]
  },
  {
   "cell_type": "markdown",
   "metadata": {},
   "source": [
    "\n",
    "함수 내부에 정의된 변수 'emi'는 함수의 지역변수이므로 외부에서 액세스할 수 없습니다. 다른 `amount` ,`duration` 매개 변수도 마찬가지입니다.  \n",
    "이러한 모든 `지역변수`는 함수 범위에 존재합니다.\n",
    "\n",
    "> **범위**: 범위는 코드 내에서 특정 변수가 표시되는 영역을 나타냅니다. 모든 함수(혹은 클래스 정의)는 Python 내에서 범위를 정의합니다.  \n",
    "> 이 범위에서 정의된 변수를 `지역변수(Local Variable)`라고 하고, 어디서나 사용할 수 있는 변수를 `전역변수(Global Variable)` 라고 합니다.  \n",
    "범위 규칙에 맞춰 변수를 사용하면, 값을 서로 공유하지 않고 서로 다른 기능에서 동일한 변수의 이름을 사용할 수 있습니다."
   ]
  },
  {
   "cell_type": "code",
   "execution_count": 10,
   "metadata": {},
   "outputs": [
    {
     "ename": "NameError",
     "evalue": "name 'emi' is not defined",
     "output_type": "error",
     "traceback": [
      "\u001b[1;31m---------------------------------------------------------------------------\u001b[0m",
      "\u001b[1;31mNameError\u001b[0m                                 Traceback (most recent call last)",
      "\u001b[1;32m~\\AppData\\Local\\Temp/ipykernel_11752/1358411353.py\u001b[0m in \u001b[0;36m<module>\u001b[1;34m\u001b[0m\n\u001b[1;32m----> 1\u001b[1;33m \u001b[0memi\u001b[0m\u001b[1;33m\u001b[0m\u001b[1;33m\u001b[0m\u001b[0m\n\u001b[0m",
      "\u001b[1;31mNameError\u001b[0m: name 'emi' is not defined"
     ]
    }
   ],
   "source": [
    "emi"
   ]
  },
  {
   "cell_type": "code",
   "execution_count": null,
   "metadata": {},
   "outputs": [
    {
     "ename": "NameError",
     "evalue": "name 'amount' is not defined",
     "output_type": "error",
     "traceback": [
      "\u001b[1;31m---------------------------------------------------------------------------\u001b[0m",
      "\u001b[1;31mNameError\u001b[0m                                 Traceback (most recent call last)",
      "\u001b[1;32mc:\\HCI\\K-SW_BootCamp2022\\python\\4) python-functions-and-scope\\python-functions-and-scope.ipynb 셀 20\u001b[0m in \u001b[0;36m<cell line: 1>\u001b[1;34m()\u001b[0m\n\u001b[1;32m----> <a href='vscode-notebook-cell:/c%3A/HCI/K-SW_BootCamp2022/python/4%29%20python-functions-and-scope/python-functions-and-scope.ipynb#ch0000019?line=0'>1</a>\u001b[0m amount\n",
      "\u001b[1;31mNameError\u001b[0m: name 'amount' is not defined"
     ]
    }
   ],
   "source": [
    "amount"
   ]
  },
  {
   "cell_type": "code",
   "execution_count": null,
   "metadata": {},
   "outputs": [
    {
     "ename": "NameError",
     "evalue": "name 'duration' is not defined",
     "output_type": "error",
     "traceback": [
      "\u001b[1;31m---------------------------------------------------------------------------\u001b[0m",
      "\u001b[1;31mNameError\u001b[0m                                 Traceback (most recent call last)",
      "\u001b[1;32mc:\\HCI\\K-SW_BootCamp2022\\python\\4) python-functions-and-scope\\python-functions-and-scope.ipynb 셀 21\u001b[0m in \u001b[0;36m<cell line: 1>\u001b[1;34m()\u001b[0m\n\u001b[1;32m----> <a href='vscode-notebook-cell:/c%3A/HCI/K-SW_BootCamp2022/python/4%29%20python-functions-and-scope/python-functions-and-scope.ipynb#ch0000020?line=0'>1</a>\u001b[0m duration\n",
      "\u001b[1;31mNameError\u001b[0m: name 'duration' is not defined"
     ]
    }
   ],
   "source": [
    "duration"
   ]
  },
  {
   "cell_type": "markdown",
   "metadata": {},
   "source": [
    "이제 6년 만기 대출과 10년 만기 대출을 비교할 수 있습니다."
   ]
  },
  {
   "cell_type": "code",
   "execution_count": null,
   "metadata": {},
   "outputs": [
    {
     "name": "stdout",
     "output_type": "stream",
     "text": [
      "The EMI is $13125.0\n"
     ]
    }
   ],
   "source": [
    "loan_emi(1260000, 8*12)"
   ]
  },
  {
   "cell_type": "code",
   "execution_count": null,
   "metadata": {
    "scrolled": true
   },
   "outputs": [
    {
     "name": "stdout",
     "output_type": "stream",
     "text": [
      "The EMI is $10500.0\n"
     ]
    }
   ],
   "source": [
    "loan_emi(1260000, 10*12)"
   ]
  },
  {
   "cell_type": "markdown",
   "metadata": {},
   "source": [
    "### <span style='color:black; background-color:#dcffe4;'>Return값(반환값)</sapn>\n",
    "\n",
    "예상할 수 있듯이, 6년 대출의 월 할부금은 10년 대출에 비해 높습니다. \n",
    "비교하기 쉽도록 반환하고 결과를 변수에 저장하는 것이 좋습니다.   \n",
    "`return` 구문를 사용하여 이 작업을 수행할 수 있습니다.\n"
   ]
  },
  {
   "cell_type": "code",
   "execution_count": null,
   "metadata": {},
   "outputs": [],
   "source": [
    "def loan_emi(amount, duration):\n",
    "    emi = amount / duration\n",
    "    return emi"
   ]
  },
  {
   "cell_type": "code",
   "execution_count": null,
   "metadata": {},
   "outputs": [],
   "source": [
    "emi1 = loan_emi(1260000, 8*12) "
   ]
  },
  {
   "cell_type": "code",
   "execution_count": null,
   "metadata": {},
   "outputs": [],
   "source": [
    "emi2 = loan_emi(1260000, 10*12)"
   ]
  },
  {
   "cell_type": "code",
   "execution_count": null,
   "metadata": {
    "scrolled": true
   },
   "outputs": [
    {
     "data": {
      "text/plain": [
       "13125.0"
      ]
     },
     "execution_count": 18,
     "metadata": {},
     "output_type": "execute_result"
    }
   ],
   "source": [
    "emi1"
   ]
  },
  {
   "cell_type": "code",
   "execution_count": null,
   "metadata": {},
   "outputs": [
    {
     "data": {
      "text/plain": [
       "10500.0"
      ]
     },
     "execution_count": 19,
     "metadata": {},
     "output_type": "execute_result"
    }
   ],
   "source": [
    "emi2"
   ]
  },
  {
   "cell_type": "markdown",
   "metadata": {},
   "source": [
    "### <span style='color:black; background-color:#f5f0ff;'>None을 반환하기보다는 예외를 발생시켜라</sapn>\n",
    "함수가 반환한 결과를 if문 등의 조건에서 평가할 때 0값이 문제가 될 수 있습니다.  \n",
    "이 때 None인지 검사하는 대신, 실수로 빈 값을 False로 취급하는 검사를 실행할 수 있습니다.  "
   ]
  },
  {
   "cell_type": "markdown",
   "metadata": {},
   "source": [
    "### <span style='color:black; background-color:#dcffe4;'>선택적 인자값</sapn>\n",
    "\n",
    "다음으로, 계약금을 고려하기 위해 다른 인자값을 추가해봅시다. 해당 인자값의 초기값은 `0`인 `선택적 인자값`로 정의합니다."
   ]
  },
  {
   "cell_type": "code",
   "execution_count": null,
   "metadata": {},
   "outputs": [],
   "source": [
    "def loan_emi(amount, duration, down_payment=0):\n",
    "    loan_amount = amount - down_payment\n",
    "    emi = loan_amount / duration\n",
    "    return emi"
   ]
  },
  {
   "cell_type": "code",
   "execution_count": null,
   "metadata": {},
   "outputs": [],
   "source": [
    "emi1 = loan_emi(1260000, 8*12, 3e5)"
   ]
  },
  {
   "cell_type": "code",
   "execution_count": null,
   "metadata": {},
   "outputs": [
    {
     "data": {
      "text/plain": [
       "10000.0"
      ]
     },
     "execution_count": 22,
     "metadata": {},
     "output_type": "execute_result"
    }
   ],
   "source": [
    "emi1"
   ]
  },
  {
   "cell_type": "code",
   "execution_count": null,
   "metadata": {},
   "outputs": [],
   "source": [
    "emi2 = loan_emi(1260000, 10*12)"
   ]
  },
  {
   "cell_type": "code",
   "execution_count": null,
   "metadata": {},
   "outputs": [
    {
     "data": {
      "text/plain": [
       "10500.0"
      ]
     },
     "execution_count": 24,
     "metadata": {},
     "output_type": "execute_result"
    }
   ],
   "source": [
    "emi2"
   ]
  },
  {
   "cell_type": "markdown",
   "metadata": {},
   "source": [
    "다음으로, 함수에 아래 수식을 추가하려고 합니다. 이 수식은 대출에 대한 월부금을 계산하는데 사용됩니다.\n",
    "\n",
    "<img src=\"https://i.imgur.com/iKujHGK.png\" style=\"width:240px\">\n",
    "\n",
    "* `P` 는 대출금의 총합\n",
    "* `n` 는 개월 수\n",
    "* `r` 는 월 이율"
   ]
  },
  {
   "cell_type": "code",
   "execution_count": null,
   "metadata": {},
   "outputs": [],
   "source": [
    "def loan_emi(amount, duration, rate, down_payment=0):\n",
    "    loan_amount = amount - down_payment\n",
    "    emi = loan_amount * rate * ((1+rate)**duration) / (((1+rate)**duration)-1)\n",
    "    return emi"
   ]
  },
  {
   "cell_type": "markdown",
   "metadata": {},
   "source": [
    "<!--Note that while defining the function, required arguments like `cost`, `duration` and `rate` must appear before optional arguments like `down_payment`.-->\n",
    "\n",
    "함수를 정의할 때, `cost`, `duration`, `rate` 와 같은 필수적인 인자들은 `down_payment`와 같은 선택적 인자보다 앞에 나타나야합니다.\n",
    "\n",
    "Option 1에 대한 월이율을 계산해보겠습니다."
   ]
  },
  {
   "cell_type": "code",
   "execution_count": null,
   "metadata": {
    "scrolled": true
   },
   "outputs": [
    {
     "data": {
      "text/plain": [
       "14567.19753389219"
      ]
     },
     "execution_count": 26,
     "metadata": {},
     "output_type": "execute_result"
    }
   ],
   "source": [
    "loan_emi(1260000, 8*12, 0.1/12, 3e5)"
   ]
  },
  {
   "cell_type": "markdown",
   "metadata": {},
   "source": [
    "Option 2에 대한 EMI를 계산할 때, `down_payment` 인자를 포함할 필요가 없기 때문에 함수 호출 시 매개변수로 전달하지 않습니다.\n",
    "<!--While calculating the EMI for Option 2, we need not include the `down_payment` argument.-->"
   ]
  },
  {
   "cell_type": "code",
   "execution_count": null,
   "metadata": {},
   "outputs": [
    {
     "data": {
      "text/plain": [
       "15287.276888775077"
      ]
     },
     "execution_count": 27,
     "metadata": {},
     "output_type": "execute_result"
    }
   ],
   "source": [
    "loan_emi(1260000, 10*12, 0.08/12)"
   ]
  },
  {
   "cell_type": "markdown",
   "metadata": {},
   "source": [
    "### <span style='color:black; background-color:#dcffe4;'>Named arguments</sapn>\n",
    "\n",
    "많은 인자값이 필요한 함수는 종종 혼란스러울 수 있습니다. 이 때문에 Python은 명확한 인자의 구별을 위해 **named** 인자를 사용하여 함수를 호출하는 옵션을 제공합니다.  \n",
    "함수 호출은 여러 줄로 분할할 수도 있습니다.\n"
   ]
  },
  {
   "cell_type": "code",
   "execution_count": null,
   "metadata": {},
   "outputs": [],
   "source": [
    "emi1 = loan_emi(\n",
    "    amount=1260000, \n",
    "    duration=8*12, \n",
    "    rate=0.1/12, \n",
    "    down_payment=3e5\n",
    ")\n",
    "#emi1에 loan_emi 함수 호출 결과 저장"
   ]
  },
  {
   "cell_type": "code",
   "execution_count": null,
   "metadata": {},
   "outputs": [
    {
     "data": {
      "text/plain": [
       "14567.19753389219"
      ]
     },
     "execution_count": 29,
     "metadata": {},
     "output_type": "execute_result"
    }
   ],
   "source": [
    "emi1"
   ]
  },
  {
   "cell_type": "code",
   "execution_count": null,
   "metadata": {},
   "outputs": [],
   "source": [
    "emi2 = loan_emi(amount=1260000, duration=10*12, rate=0.08/12)"
   ]
  },
  {
   "cell_type": "code",
   "execution_count": null,
   "metadata": {},
   "outputs": [
    {
     "data": {
      "text/plain": [
       "15287.276888775077"
      ]
     },
     "execution_count": 31,
     "metadata": {},
     "output_type": "execute_result"
    }
   ],
   "source": [
    "emi2"
   ]
  },
  {
   "cell_type": "markdown",
   "metadata": {},
   "source": [
    "### <span style='color:black; background-color:#f5f0ff;'>변수 위치 인자를 사용해 시각적인 잡음을 줄여라(*args)</sapn>\n",
    "위치 인자(positional argument)를 가변적으로 받을 수 있으면 함수 호출이 더 깔끔해지고 시각적 잡음도 줄어듭니다.  \n",
    "이런 위치 인자를 가변 인자(varargs)나 스타 인자(star args)라고 부르기도 합니다.(스타 인자라는 이름은 관례적으로 가변 인자의 이름을 *args라고 붙이는 것에서 유래했습니다.)  \n",
    "\n",
    "예를 들어, 디버깅 정보를 로그에 남기고 싶다고 가정했을 때, 인자 수가 고정돼있으면 메시지와 값의 list를 받는 함수가 필요합니다.\n"
   ]
  },
  {
   "cell_type": "code",
   "execution_count": null,
   "metadata": {},
   "outputs": [
    {
     "name": "stdout",
     "output_type": "stream",
     "text": [
      "내 숫자는 : 1, 2\n",
      "안녕 \n"
     ]
    }
   ],
   "source": [
    "def log(message, values):\n",
    "    if not values:\n",
    "        print(message)\n",
    "    else:\n",
    "        values_str = ', '.join(str(x) for x in values)\n",
    "        print(f'{message}: {values_str}')\n",
    "\n",
    "log('내 숫자는 ', [1, 2])\n",
    "log('안녕 ', [])"
   ]
  },
  {
   "cell_type": "markdown",
   "metadata": {},
   "source": [
    "로그에 남길 값이 없을 때도 위처럼 빈 리스트를 넘겨야 한다면 귀찮을 뿐 아니라 코드 잡음도 많아집니다.  \n",
    "이럴 때 두 번째 인자를 완전히 생략하기 위해, 마지막 위치 인자 앞에 *를 붙여줍니다.  \n",
    "로그 메시지의 첫번째 파라미터는 반드시 필요하지만, 그 이후의 모든 위치 인자는 선택사항임을 의미합니다.  \n",
    "**가변 인자를 써도 함수 본문은 바뀌지 않으며, 아래와 같이 단지 호출하는 코드만 바뀝니다.**"
   ]
  },
  {
   "cell_type": "code",
   "execution_count": 2,
   "metadata": {},
   "outputs": [
    {
     "name": "stdout",
     "output_type": "stream",
     "text": [
      "내 숫자는 : 1, 2\n",
      "안녕\n"
     ]
    }
   ],
   "source": [
    "def log(message, *values): # *values로 변환\n",
    "    if not values:\n",
    "        print(message)\n",
    "    else:\n",
    "        values_str = ', '.join(str(x) for x in values)\n",
    "        print(f'{message}: {values_str}')\n",
    "\n",
    "log('내 숫자는 ', 1, 2)\n",
    "log('안녕')  "
   ]
  },
  {
   "cell_type": "markdown",
   "metadata": {},
   "source": [
    "만약 이미 시퀀스(리스트 등)가 있는데 log와 같은 가변 인자 함수에 시퀀스를 사용하고 싶다면 `*` 연산자를 사용하면 됩니다.  \n",
    "`*` 연산자는 Python이 시퀀스의 원소들을 함수의 위치 인자로 넘길 것을 명령합니다. "
   ]
  },
  {
   "cell_type": "code",
   "execution_count": 3,
   "metadata": {},
   "outputs": [
    {
     "name": "stdout",
     "output_type": "stream",
     "text": [
      "좋아하는 숫자는: 7, 33, 99\n"
     ]
    }
   ],
   "source": [
    "favorites = [7, 33, 99]\n",
    "log('좋아하는 숫자는', *favorites)"
   ]
  },
  {
   "cell_type": "markdown",
   "metadata": {},
   "source": [
    "하지만, 이렇게 가변적인 위치 인자를 받는 데는 두 가지 문제점이 있습니다.  \n",
    "- 선택적인 위치 인자가 함수에 전달되기 전 항상 튜플로 변환된다\n",
    "- 함수에 새로운 위치 인자를 추가하면 해당 함수를 호출하는 모든 코드를 변경해야만 한다.\n",
    "\n",
    "각 문제점을 차례로 살펴보겠습니다."
   ]
  },
  {
   "cell_type": "code",
   "execution_count": null,
   "metadata": {},
   "outputs": [
    {
     "name": "stdout",
     "output_type": "stream",
     "text": [
      "(0, 1, 2, 3, 4, 5, 6, 7, 8, 9)\n"
     ]
    }
   ],
   "source": [
    "def my_generator():\n",
    "    for i in range(10):\n",
    "        yield i\n",
    "\n",
    "def my_func(*args):\n",
    "    print(args)\n",
    "\n",
    "it = my_generator()\n",
    "my_func(*it)"
   ]
  },
  {
   "cell_type": "markdown",
   "metadata": {},
   "source": [
    "첫 번째 문제점은 함수를 호출하는 쪽에서 제너레이터 앞에 `*` 연산자를 사용하면 제너레이터의 모든 원소를 얻기 위해 반복한다는 뜻입니다.  \n",
    "이렇게 만들어진 튜플은 제너레이터가 만들어낸 모든 값을 포함하며, 이로 인해 메모리를 아주 많이 소비하거나 프로그램이 중단돼버릴 수 있습니다.\n",
    "\n",
    "따라서, `*args` 를 받는 함수는 인자 목록에서 가변적인 부분에 들어가는 인자의 개수가 처리하기 좋을 정도로 충분히 작다는 사실을 이미 알고 있는 경우에 가장 적합합니다.  \n",
    "**여러 리터럴이나 변수 이름을 함께 전달하는 함수 호출에 이상적이라고 말할 수 있습니다.**"
   ]
  },
  {
   "cell_type": "code",
   "execution_count": null,
   "metadata": {},
   "outputs": [
    {
     "name": "stdout",
     "output_type": "stream",
     "text": [
      "1 - 좋아하는 숫자는: 7, 33\n",
      "1 - 안녕\n",
      "좋아하는 숫자는 - 7: 33\n"
     ]
    }
   ],
   "source": [
    "def log(sequence, message, *values):\n",
    "    if not values:\n",
    "        print(f'{sequence} - {message}')\n",
    "    else:\n",
    "        values_str = ', '.join(str(x) for x in values)\n",
    "        print(f'{sequence} - {message}: {values_str}')\n",
    "\n",
    "log(1, '좋아하는 숫자는', 7, 33)   # 새 코드에서 가변 인자를 사용. 문제 없음\n",
    "log(1, '안녕')                   # 새 코드에서 가변 인자 없이 메시지만 사용. 문제 없음\n",
    "log('좋아하는 숫자는', 7, 33)      # 예전 방식 코드는 깨짐"
   ]
  },
  {
   "cell_type": "markdown",
   "metadata": {},
   "source": [
    "위 예제에서는 sequence가 주어지지 않았기 때문에 7을 message 파라미터로 사용한다는 점이 문제가 됩니다.  \n",
    "예외가 발생하지 않고 코드가 작동할 수도 있기 때문에 이런 버그는 추적하기가 어렵습니다. 따라서 이런 가능성을 완전히 없애려면, `*args`를 받아들이는 함수를 확장할 때는 키워드 기반의 인자만을 사용해야 합니다.  \n",
    "\n",
    "위 내용을 정리하자면 아래와 같습니다.: \n",
    "- def 문에서 *args를 사용하면 함수가 가변 위치 기반 인자를 받을 수 있다.\n",
    "- `*` 연산자를 사용하면 가변 인자를 받는 함수에게 시퀀스 내의 원소들을 전달할 수 있다.\n",
    "- 제너레이터에 * 연산자를 사용하면 프로그램이 메모리를 모두 소진하고 중단될 수 있다.\n",
    "- `*args`를 받는 함수에 새로운 위치 기반 인자를 넣으면 감지하기 힘든 버그가 생길 수 있다."
   ]
  },
  {
   "cell_type": "markdown",
   "metadata": {},
   "source": [
    "<span style = \"color:black; background-color:#ffdce0\">추가적으로, log function에 대해 조금 더 알아보겠습니다.</span>  \n",
    "예를 들어, 로그 메시지와 시간을 함께 출력하고 싶다고 가정했을 때, 기본적으로 함수 호출 시간을 포함하길 원합니다.  \n",
    "함수가 호출될 때마다 디폴트 인자가 재계산된다고 가정하면, 다음과 같은 접근 방법을 사용할 수 있습니다."
   ]
  },
  {
   "cell_type": "code",
   "execution_count": null,
   "metadata": {},
   "outputs": [],
   "source": [
    "from time import sleep\n",
    "from datetime import datetime"
   ]
  },
  {
   "cell_type": "code",
   "execution_count": null,
   "metadata": {},
   "outputs": [
    {
     "name": "stdout",
     "output_type": "stream",
     "text": [
      "2022-07-20 14:24:14.207584: 안녕!\n",
      "2022-07-20 14:24:14.207584: 다시 안녕!\n"
     ]
    }
   ],
   "source": [
    "def log(message, when=datetime.now()):\n",
    "    print(f'{when}: {message}')\n",
    "\n",
    "log('안녕!')\n",
    "sleep(0.1)\n",
    "log('다시 안녕!')"
   ]
  },
  {
   "cell_type": "markdown",
   "metadata": {},
   "source": [
    "하지만 디폴트 인자는 위와 같은 방식으로 작동하지 않습니다.  \n",
    "함수가 정의되는 시점에 `datetime.now`가 단 한 번만 호출되기 때문에 타임스탬프가 항상 같습니다.  \n",
    "디폴트 인자의 값은 모듈이 로드(load)될 때 단 한 번만 평가되는데, 보통 프로그램이 시작할 때 모듈을 로드하는 경우가 많습니다.  \n",
    "\n",
    "**이런 경우, Python의 일반적인 관럐는 디폴트 값으로 None을 지정하고 실제 동작을 독스트링에 문서화하는 것입니다.**  \n",
    "코드에서 인자가 None인 경우에는 적절한 디폴트 값을 할당해야 합니다."
   ]
  },
  {
   "cell_type": "code",
   "execution_count": null,
   "metadata": {},
   "outputs": [
    {
     "name": "stdout",
     "output_type": "stream",
     "text": [
      "2022-07-20 14:37:48.412484: 안녕!\n",
      "2022-07-20 14:37:48.527811: 다시 안녕!\n"
     ]
    }
   ],
   "source": [
    "def log(message, when=None):\n",
    "    \"\"\"메시지와 타임스탬프를 로그에 남긴다.\n",
    "\n",
    "    Args:\n",
    "        message: 출력할 메시지.\n",
    "        when: 메시지가 발생한 시각(datetime).\n",
    "            디폴트 값은 현재 시간이다.\n",
    "    \"\"\"\n",
    "    if when is None:\n",
    "        when = datetime.now()\n",
    "    print(f'{when}: {message}')\n",
    "\n",
    "log('안녕!')\n",
    "sleep(0.1)\n",
    "log('다시 안녕!')"
   ]
  },
  {
   "cell_type": "markdown",
   "metadata": {},
   "source": [
    "아래에서 이제 타임스탬프가 달라진 것을 확인할 수 있습니다."
   ]
  },
  {
   "cell_type": "code",
   "execution_count": null,
   "metadata": {},
   "outputs": [
    {
     "name": "stdout",
     "output_type": "stream",
     "text": [
      "2022-07-20 14:42:10.559325: 안녕!\n",
      "2022-07-20 14:42:10.672224: 다시 안녕!\n"
     ]
    }
   ],
   "source": [
    "def log(message, when=None):\n",
    "    \"\"\"메시지와 타임스탬프를 로그에 남긴다.\n",
    "\n",
    "    Args:\n",
    "        message: 출력할 메시지.\n",
    "        when: 메시지가 발생한 시각(datetime).\n",
    "            디폴트 값은 현재 시간이다.\n",
    "    \"\"\"\n",
    "    if when is None:\n",
    "        when = datetime.now()\n",
    "    print(f'{when}: {message}')\n",
    "\n",
    "log('안녕!')\n",
    "sleep(0.1)\n",
    "log('다시 안녕!')"
   ]
  },
  {
   "cell_type": "markdown",
   "metadata": {},
   "source": [
    "* * *"
   ]
  },
  {
   "cell_type": "markdown",
   "metadata": {},
   "source": [
    "### <span style='color:black; background-color:#f5f0ff;'>키워드 인자로 선택적인 기능을 제공하라(*kwargs)</sapn>\n",
    "다른 대부분의 프로그래밍 언어와 마찬가지로 Pytohn에서도 함수를 호출할 때 위치에 따라 인자를 넘길 수 있습니다.\n",
    "\n",
    "`kwargs`는 Keyword argument의 줄임말로 키워드를 제공합니다.  \n",
    "필요한 위치 기반 인자가 모두 제공되는 한, 키워드 인자를 넘기는 순서는 관계 없습니다. 키워드와 위치 인자를 필요에 따라 섞어 쓸 수도 있고, 아래는 모두 같은 코드 입니다.\n"
   ]
  },
  {
   "cell_type": "code",
   "execution_count": null,
   "metadata": {},
   "outputs": [],
   "source": [
    "def remainder(number, divisor):\n",
    "    return number % divisor\n",
    "\n",
    "assert remainder(20, 7) == 6"
   ]
  },
  {
   "cell_type": "code",
   "execution_count": null,
   "metadata": {},
   "outputs": [
    {
     "data": {
      "text/plain": [
       "6"
      ]
     },
     "execution_count": 11,
     "metadata": {},
     "output_type": "execute_result"
    }
   ],
   "source": [
    "remainder(20, 7)\n",
    "remainder(20, divisor=7)\n",
    "remainder(number=20, divisor=7)\n",
    "remainder(divisor=7, number=20)"
   ]
  },
  {
   "cell_type": "markdown",
   "metadata": {},
   "source": [
    "단, 위치 기반 인자를 지정하려면 키워드 인자보다 앞에 지정해야 합니다. 그렇지 않으면, 아래처럼 오류가 발생합니다.  \n",
    "또한 각 인자는 단 한 번만 지정해야 합니다."
   ]
  },
  {
   "cell_type": "code",
   "execution_count": null,
   "metadata": {},
   "outputs": [
    {
     "ename": "SyntaxError",
     "evalue": "positional argument follows keyword argument (1302034930.py, line 1)",
     "output_type": "error",
     "traceback": [
      "\u001b[1;36m  Input \u001b[1;32mIn [12]\u001b[1;36m\u001b[0m\n\u001b[1;33m    remainder(number=20, 7)\u001b[0m\n\u001b[1;37m                          ^\u001b[0m\n\u001b[1;31mSyntaxError\u001b[0m\u001b[1;31m:\u001b[0m positional argument follows keyword argument\n"
     ]
    }
   ],
   "source": [
    "remainder(number=20, 7)"
   ]
  },
  {
   "cell_type": "markdown",
   "metadata": {},
   "source": [
    "Dictionary의 내용물을 사용해 `remainder`와 같은 함수를 호출하고 싶다면 `**` 연산자를 사용할 수 있습니다.  \n",
    "`**` 연산자는 Python이 딕셔너리에 들어있는 값을 함수에 전달하되 각 값에 대응하는 키를 키워드로 사용하도록 명령합니다.  \n",
    "또한, `**` 연산자를 위치 인자나 키워드 인자와 섞어서 함수를 호출할 수 있으나, 중복되는 인자가 없어야 합니다."
   ]
  },
  {
   "cell_type": "code",
   "execution_count": null,
   "metadata": {},
   "outputs": [],
   "source": [
    "my_kwargs = {\n",
    "    'divisor': 7,\n",
    "}\n",
    "\n",
    "assert remainder(number=20, **my_kwargs) == 6"
   ]
  },
  {
   "cell_type": "markdown",
   "metadata": {},
   "source": [
    "`**` 연산자를 여러 번 사용할 수도 있으나, 여러 딕셔너리에 겹치는 키가 없어야 합니다."
   ]
  },
  {
   "cell_type": "code",
   "execution_count": null,
   "metadata": {},
   "outputs": [],
   "source": [
    "my_kwargs = {\n",
    "    'number': 20,\n",
    "}\n",
    "\n",
    "other_kwargs = {\n",
    "    'divisor': 7,\n",
    "}\n",
    "\n",
    "assert remainder(**my_kwargs, **other_kwargs) == 6"
   ]
  },
  {
   "cell_type": "markdown",
   "metadata": {},
   "source": [
    "아무 키워드 인자나 받는 함수를 만들고 싶다면, 모든 키워드 인자를 dict에 모아주는 `**kwargs` 라는 파라미터를 사용합니다.  \n",
    "함수 본문에서는 이 `dict`를 사용하여 필요한 처리를 할 수 있습니다."
   ]
  },
  {
   "cell_type": "code",
   "execution_count": null,
   "metadata": {},
   "outputs": [
    {
     "name": "stdout",
     "output_type": "stream",
     "text": [
      "alpha = 1.5\n",
      "beta = 9\n",
      "감마 = 4\n"
     ]
    }
   ],
   "source": [
    "def print_parameters(**kwargs):\n",
    "    for key, value in kwargs.items():\n",
    "        print(f'{key} = {value}')\n",
    "\n",
    "print_parameters(alpha=1.5, beta=9, 감마=4)"
   ]
  },
  {
   "cell_type": "markdown",
   "metadata": {},
   "source": [
    "**키워드 인자가 제공하는 유연성을 활용하면 얻을 수 있는 세 가지 이점**\n",
    "- 코드를 처음 보는 사람들에게 함수 호출의 의미를 명확히 알려줄 수 있다.\n",
    "- 함수 정의에서 디폴트 값을 지정할 수 있어 코드 중복과 잡음이 줄어든다.\n",
    "- 어떤 함수를 사용하던 기존 호출자에게는 하위 호완성을 제공하면서 함수 파라미터를 확장할 수 있는 방법을 제공한다.  \n",
    "이로 인해 기존 코드를 별도로 마이그레이션(migration)하지 않아도 기능을 추가할 수 있다. 이는 새로운 버그가 생길 여지가 줄어든다는 의미이다."
   ]
  },
  {
   "cell_type": "markdown",
   "metadata": {},
   "source": [
    "위 내용을 정리하자면, 다음과 같습니다.\n",
    "- 함수 인자를 위치에 따라 지정할 수도 있고, 키워드를 사용해 지정할 수도 있다.\n",
    "- 키워드를 사용하면 위치 인자만 사용할 때는 혼동할 수 있는 여러 인자의 목적을 명확히 할 수 있다.\n",
    "- 키워드 인자와 디폴트 값을 함께 사용하면 기본 호출 코드를 마이그레이션하지 않고도 새로운 기능을 쉽게 추가할 수 있다.\n",
    "- 선택적 키워드 인자는 항상 위치가 아니라 키워드를 사용해 전달돼야 한다.\n",
    "* * *"
   ]
  },
  {
   "cell_type": "markdown",
   "metadata": {},
   "source": [
    "### <span style='color:black; background-color:#dcffe4;'> Modules and library functions(모듈과 라이브러리 함수)</sapn>\n",
    "<!--### Modules and library functions-->\n",
    "\n",
    "옵션 1의 월 할부금이 옵션 2의 월 할부금보다 낮다는 것을 알 수 있습니다.  \n",
    "다만 소수점 이하 자릿수보다는 달러화하여 반올림하면 좋을 것 같아, 이를 위해 숫자를 받아 올림할 수 있는 함수를 작성할 것입니다.(예: 1.2는 2까지 올림).\n",
    "\n",
    "Python에서는 올림 기능을 라이브러리 함수로 제공합니다. [Python Standard Library](https://docs.python.org/3/library/).  \n",
    "함수들은 **Modules(모듈)**안에 구성되어있으며 필요할 경우 호출하여 사용할 수 있습니다.\n",
    "\n",
    "> **Modules**: 모듈이란 Python 코드가 있는 파일로, Python 프로젝트의 코드를 파일과 폴더로 구성하는 방법을 제공합니다.  \n",
    "> Python 스크립트 또는 notebook에서 모듈의 함수를 사용하려면 모듈을 import 해야합니다.  \n",
    "> 모듈의 강점은 _namespaces_로, 캡슐화를 통해 코드와 모듈 또는 모듈 간의 이름 충돌을 방지합니다.\n",
    "\n",
    "`math` 모듈을 import하고, `math` 모듈의 `ceil` 함수를 사용하여 올림 기능을 사용할 수 있습니다."
   ]
  },
  {
   "cell_type": "code",
   "execution_count": null,
   "metadata": {},
   "outputs": [],
   "source": [
    "import math"
   ]
  },
  {
   "cell_type": "code",
   "execution_count": null,
   "metadata": {},
   "outputs": [
    {
     "name": "stdout",
     "output_type": "stream",
     "text": [
      "Help on built-in function ceil in module math:\n",
      "\n",
      "ceil(x, /)\n",
      "    Return the ceiling of x as an Integral.\n",
      "    \n",
      "    This is the smallest integer >= x.\n",
      "\n"
     ]
    }
   ],
   "source": [
    "help(math.ceil)"
   ]
  },
  {
   "cell_type": "code",
   "execution_count": null,
   "metadata": {},
   "outputs": [
    {
     "data": {
      "text/plain": [
       "2"
      ]
     },
     "execution_count": 22,
     "metadata": {},
     "output_type": "execute_result"
    }
   ],
   "source": [
    "# 올림 결과\n",
    "math.ceil(1.2)"
   ]
  },
  {
   "cell_type": "markdown",
   "metadata": {},
   "source": [
    "이제 `math.ceil`함수를 사용하여 `home_loan_emi` 함수의 총 EMI값을 올림하는 기능을 완성해봅시다.\n",
    "\n",
    "> 함수를 사용하여 다른 기능을 구축하면 코드를 재사용할 수 있고, 복잡한 논리를 관략하게 구현하고 간편하게 관리 할 수 있습니다.  \n",
    "> 한 개의 함수는 한가지 기능만을 수행하는 것이 이상적입니다. "
   ]
  },
  {
   "cell_type": "code",
   "execution_count": null,
   "metadata": {},
   "outputs": [],
   "source": [
    "def loan_emi(amount, duration, rate, down_payment=0):\n",
    "    loan_amount = amount - down_payment\n",
    "    emi = loan_amount * rate * ((1+rate)**duration) / (((1+rate)**duration)-1)\n",
    "    emi = math.ceil(emi)\n",
    "    return emi"
   ]
  },
  {
   "cell_type": "code",
   "execution_count": null,
   "metadata": {},
   "outputs": [],
   "source": [
    "emi1 = loan_emi(\n",
    "    amount=1260000, \n",
    "    duration=8*12, \n",
    "    rate=0.1/12, \n",
    "    down_payment=3e5\n",
    ")"
   ]
  },
  {
   "cell_type": "code",
   "execution_count": null,
   "metadata": {},
   "outputs": [
    {
     "data": {
      "text/plain": [
       "14568"
      ]
     },
     "execution_count": 25,
     "metadata": {},
     "output_type": "execute_result"
    }
   ],
   "source": [
    "emi1"
   ]
  },
  {
   "cell_type": "code",
   "execution_count": null,
   "metadata": {},
   "outputs": [],
   "source": [
    "emi2 = loan_emi(amount=1260000, duration=10*12, rate=0.08/12)"
   ]
  },
  {
   "cell_type": "code",
   "execution_count": null,
   "metadata": {},
   "outputs": [
    {
     "data": {
      "text/plain": [
       "15288"
      ]
     },
     "execution_count": 27,
     "metadata": {},
     "output_type": "execute_result"
    }
   ],
   "source": [
    "emi2"
   ]
  },
  {
   "cell_type": "markdown",
   "metadata": {},
   "source": [
    "\n",
    "EMI 값을 비교하여, 낮은 EMI 값을 가지는 옵션을 메세지로 출력해보겠습니다."
   ]
  },
  {
   "cell_type": "code",
   "execution_count": null,
   "metadata": {},
   "outputs": [
    {
     "name": "stdout",
     "output_type": "stream",
     "text": [
      "Option 1 has the lower EMI: $14568\n"
     ]
    }
   ],
   "source": [
    "if emi1 < emi2:\n",
    "    print(\"Option 1 has the lower EMI: ${}\".format(emi1))\n",
    "else:\n",
    "    print(\"Option 2 has the lower EMI: ${}\".format(emi2))"
   ]
  },
  {
   "cell_type": "markdown",
   "metadata": {},
   "source": [
    "### <span style='color:black; background-color:#dcffe4;'> 함수의 개선과 재사용성</sapn>\n",
    "\n",
    "이제 `Option 1`이 두 옵션 중 낮은 EMI를 가지고 있는 것을 알았습니다.  \n",
    "하지만 더 좋은 것은 이제 우리가 단 몇 줄의 코드만으로 비슷한 문제들을 해결할 수 있는 편리한 함수인 `loan_emi`를 가지고 있다는 것 입니다.   \n",
    "\n",
    "아래에 추가적인 질문에 답해봅시다."
   ]
  },
  {
   "cell_type": "markdown",
   "metadata": {},
   "source": [
    "> **Q**: 숀은 현재 몇 년 전에 구입한 집을 위해 주택 융자를 갚고 있다. 집값은 80만 달러였고 숀은 25%의 계약금을 냈다.  \n",
    "나머지 금액은 연 7%(매월 합산)의 6년 만기 대출로 조달했다. 숀은 연 12%의 금리로 1년 만기 대출을 받아 6만 달러 상당의 자동차를 구입하고 있고, 두 대출 모두 EMI로 상환된다.  \n",
    "숀이 대출 상환을 위해 매달 지불하는 총 금액은 얼마인가?\n",
    "> \n",
    "이제 미리 작성해둔 `loan_emi` 함수를 통해 해당 질문을 해결할 수 있습니다. "
   ]
  },
  {
   "cell_type": "code",
   "execution_count": null,
   "metadata": {},
   "outputs": [
    {
     "data": {
      "text/plain": [
       "10230"
      ]
     },
     "execution_count": 28,
     "metadata": {},
     "output_type": "execute_result"
    }
   ],
   "source": [
    "cost_of_house = 800000\n",
    "home_loan_duration = 6*12 # months\n",
    "home_loan_rate = 0.07/12 # monthly\n",
    "home_down_payment = .25 * 800000\n",
    "\n",
    "emi_house = loan_emi(amount=cost_of_house,\n",
    "                     duration=home_loan_duration,\n",
    "                     rate=home_loan_rate, \n",
    "                     down_payment=home_down_payment)\n",
    "\n",
    "emi_house"
   ]
  },
  {
   "cell_type": "code",
   "execution_count": null,
   "metadata": {},
   "outputs": [
    {
     "data": {
      "text/plain": [
       "5331"
      ]
     },
     "execution_count": 29,
     "metadata": {},
     "output_type": "execute_result"
    }
   ],
   "source": [
    "cost_of_car = 60000\n",
    "car_loan_duration = 1*12 # months\n",
    "car_loan_rate = .12/12 # monthly\n",
    "\n",
    "emi_car = loan_emi(amount=cost_of_car, \n",
    "                   duration=car_loan_duration, \n",
    "                   rate=car_loan_rate)\n",
    "\n",
    "emi_car"
   ]
  },
  {
   "cell_type": "code",
   "execution_count": null,
   "metadata": {},
   "outputs": [
    {
     "name": "stdout",
     "output_type": "stream",
     "text": [
      "Shaun makes a total monthly payment of $15561 towards loan repayments.\n"
     ]
    }
   ],
   "source": [
    "print(\"Shaun makes a total monthly payment of ${} towards loan repayments.\".format(emi_house+emi_car))"
   ]
  },
  {
   "cell_type": "markdown",
   "metadata": {},
   "source": [
    "### <span style='color:black; background-color:#f5f0ff;'>커뮤니티에서 만든 모듈을 어디서 찾을 수 있는지 알아두라</sapn>\n",
    "Python에는 프로그램에 설치하고 사용할 수 있는 모듈을 모아둔 중앙 저장소가 있습니다. (https://pypi.org)  \n",
    "이런 모듈은 여러분과 같은 사람들도 이뤄진 Python 커뮤니티에 의해 만들어지고 유지보수 됩니다.  \n",
    "낯선 문제에 직면했을 때는, 문제를 해결하는 데 필요한 코드를 Python 패키지 인덱스(PyPI)에서 찾아보면 좋습니다.\n",
    "\n",
    "**패키지 인덱스를 사용하려면 `pip`라는 명령줄 도구를 사용해야 합니다.**(pip는  'pip installs packages'라는 재귀적인 문장의 약자입니다)  \n",
    "`pip`를 사용하면 새로운 모듈을 쉽게 설치할 수 있으며, `python3 -m pip`를 사용해 `pip`를 호출하면 패키지가 시스템에 설치된 Python 버전에 맞게 설치되도록 보장할 수 있습니다.\n",
    "\n",
    "\n",
    "PyPI 패키지에 들어있는 각 모듈은 서로 다른 라이선스로 제공되는데 대부분의 패키지, 특히 유명한 패키지들은 보통 자유로운 오픈소스 라이선스로 제공됩니다.  \n",
    "대부분의 경우 이런 라이선스는 여러분이 프로그램에 모듈을 복사해 포함시킬 수 있도록 허용하지만, 확실히 알아보고 사용하는 것이 좋습니다.  \n",
    "\n",
    "정리하자면, 아래와 같습니다.:  \n",
    "- Python 패키지 인덱스(PyPI)에는 Python 커뮤니티가 개발하고 유지하는 풍부한 공통 패키지가 들어있다.\n",
    "- `pip`는 PyPI에 있는 패키지를 설치하고 사용할 때 쓸 수 있는 명령줄 도구다.\n",
    "- PyPI 모듈의 대다수는 자유 소프트웨어이거나 오픈 소스 소프트웨어이다.\n"
   ]
  },
  {
   "cell_type": "markdown",
   "metadata": {},
   "source": [
    "* * *"
   ]
  },
  {
   "cell_type": "markdown",
   "metadata": {},
   "source": [
    "### <span style='color:black; background-color:#f5f0ff;'>가상 환경을 사용해 의존 관계를 격리하고 반복 생성할 수 있게 하라</sapn>\n",
    "크고 복잡한 프로그램을 만들다보면, 위에서 설명한 Python 커뮤니티가 제공하는 다양한 패키지에 의존하게 되는 경우가 많습니다.  \n",
    "`python3 -m pip` 명령줄 도구를 사용해 `pytz`, `numpy` 등의 다양한 패키지를 자주 설치할 것입니다.  \n",
    "\n",
    "**문제는 `pip`가 새로운 패키지를 기본적으로 모든 Python 인터프리터가 볼 수 있는 전역 위치에 저장한다는 데 있습니다.**  \n",
    "이로 인해 여러분의 시스템에서 실행되는 모든 Python 프로그램이 설치한 모듈의 영향을 받게 되는데, 이론적으로는 이런 일이 문제가 되면 안 됩니다.  \n",
    "어떤 패키지를 설치했다고 하더라도, `import`하지 않는다면 이 패키지가 어떻게 여러분의 프로그램에 영향을 미칠 수 있을까요?  \n",
    "\n",
    "**하지만, 추이적(transitive) 의존 관계에 의해 문제가 발생할 수 있습니다.**\n",
    "> 추이적 의존 관계: 설치한 패키지가 다른 패키지에 의존하는(그리고 그 패키지가 또 다른 패키지에 의존하는) 경우를 말한다.\n",
    "\n",
    "이러한 문제를 해결하기 위해, `venv`를 사용합니다.  \n",
    "`venv`를 사용하면 특정 버전의 Python 환경을 독립적으로 구성할 수 있고, 한 시스템 안에 같은 패키지의 다양한 버전을 서로 충돌 없이 설치할 수 있습니다.  \n",
    "즉,  <span style = \"color:yellow\">`venv`는 가상 환경(virtual environment)을 제공합니다.</span> \n",
    "\n"
   ]
  },
  {
   "cell_type": "markdown",
   "metadata": {},
   "source": [
    "가상 환경 안에 있다면 필요할 때마다 `pip`를 사용해 계속 패키지를 설치할 수 있습니다.  \n",
    "언젠가는 작업 환경을 다른 곳으로 복사하고 싶은 일이 생길 것입니다.  \n",
    "예를 들어, 내 개발 컴퓨터에서 사용하던 환경을 데이터 센터의 서버에 똑같이 생성하고 싶거나 다른 사람의 디버깅을 도와주기 위해 이 사람의 환경을 내 컴퓨터로 가져오고 싶을 수도 있을 것입니다.  \n",
    "\n",
    "이 때, `venv`를 사용하면 쉽게 작업 환경의 복사가 가능합니다.  \n",
    "`python3 -m pip freeze` 명령을 사용해 현재 명시적으로 의존하는 모든 의존 관계를 파일에 저장할 수 있습니다.  \n",
    "`python3 -m pip freeze > requirements.txt` 과 같이 실행하면 되는데, 이 때 파일 이름은 관례적으로 `requirements.txt` 입니다."
   ]
  },
  {
   "cell_type": "markdown",
   "metadata": {},
   "source": [
    "### <span style='color:black; background-color:#dcffe4;'> 예외처리와 try-except</sapn>\n",
    "\n",
    "> Q: 연리 9%의 10년 만기 대출로 10만 달러를 빌린다면 이자는 얼마가 됩니까?\n",
    "\n",
    "이 문제를 해결하는 방법은 두 대출에 대한 EMI를 비교해보는 것입니다. 하나는 주어진 이자율이고 다른 하나는 0% 이자율이고, 총 이자는 단순히 대출기간 동안의 월 차이의 합계입니다."
   ]
  },
  {
   "cell_type": "code",
   "execution_count": null,
   "metadata": {},
   "outputs": [
    {
     "data": {
      "text/plain": [
       "1267"
      ]
     },
     "execution_count": 31,
     "metadata": {},
     "output_type": "execute_result"
    }
   ],
   "source": [
    "emi_with_interest = loan_emi(amount=100000, duration=10*12, rate=0.09/12)\n",
    "emi_with_interest"
   ]
  },
  {
   "cell_type": "code",
   "execution_count": null,
   "metadata": {},
   "outputs": [
    {
     "ename": "ZeroDivisionError",
     "evalue": "float division by zero",
     "output_type": "error",
     "traceback": [
      "\u001b[1;31m---------------------------------------------------------------------------\u001b[0m",
      "\u001b[1;31mZeroDivisionError\u001b[0m                         Traceback (most recent call last)",
      "\u001b[1;32mc:\\HCI\\K-SW_BootCamp2022\\python\\4) python-functions-and-scope\\python-functions-and-scope.ipynb 셀 67\u001b[0m in \u001b[0;36m<cell line: 1>\u001b[1;34m()\u001b[0m\n\u001b[1;32m----> <a href='vscode-notebook-cell:/c%3A/HCI/K-SW_BootCamp2022/python/4%29%20python-functions-and-scope/python-functions-and-scope.ipynb#ch0000068?line=0'>1</a>\u001b[0m emi_without_interest \u001b[39m=\u001b[39m loan_emi(amount\u001b[39m=\u001b[39;49m\u001b[39m100000\u001b[39;49m, duration\u001b[39m=\u001b[39;49m\u001b[39m10\u001b[39;49m\u001b[39m*\u001b[39;49m\u001b[39m12\u001b[39;49m, rate\u001b[39m=\u001b[39;49m\u001b[39m0.\u001b[39;49m\u001b[39m/\u001b[39;49m\u001b[39m12\u001b[39;49m)\n\u001b[0;32m      <a href='vscode-notebook-cell:/c%3A/HCI/K-SW_BootCamp2022/python/4%29%20python-functions-and-scope/python-functions-and-scope.ipynb#ch0000068?line=1'>2</a>\u001b[0m emi_without_interest\n",
      "\u001b[1;32mc:\\HCI\\K-SW_BootCamp2022\\python\\4) python-functions-and-scope\\python-functions-and-scope.ipynb 셀 67\u001b[0m in \u001b[0;36mloan_emi\u001b[1;34m(amount, duration, rate, down_payment)\u001b[0m\n\u001b[0;32m      <a href='vscode-notebook-cell:/c%3A/HCI/K-SW_BootCamp2022/python/4%29%20python-functions-and-scope/python-functions-and-scope.ipynb#ch0000068?line=0'>1</a>\u001b[0m \u001b[39mdef\u001b[39;00m \u001b[39mloan_emi\u001b[39m(amount, duration, rate, down_payment\u001b[39m=\u001b[39m\u001b[39m0\u001b[39m):\n\u001b[0;32m      <a href='vscode-notebook-cell:/c%3A/HCI/K-SW_BootCamp2022/python/4%29%20python-functions-and-scope/python-functions-and-scope.ipynb#ch0000068?line=1'>2</a>\u001b[0m     loan_amount \u001b[39m=\u001b[39m amount \u001b[39m-\u001b[39m down_payment\n\u001b[1;32m----> <a href='vscode-notebook-cell:/c%3A/HCI/K-SW_BootCamp2022/python/4%29%20python-functions-and-scope/python-functions-and-scope.ipynb#ch0000068?line=2'>3</a>\u001b[0m     emi \u001b[39m=\u001b[39m loan_amount \u001b[39m*\u001b[39;49m rate \u001b[39m*\u001b[39;49m ((\u001b[39m1\u001b[39;49m\u001b[39m+\u001b[39;49mrate)\u001b[39m*\u001b[39;49m\u001b[39m*\u001b[39;49mduration) \u001b[39m/\u001b[39;49m (((\u001b[39m1\u001b[39;49m\u001b[39m+\u001b[39;49mrate)\u001b[39m*\u001b[39;49m\u001b[39m*\u001b[39;49mduration)\u001b[39m-\u001b[39;49m\u001b[39m1\u001b[39;49m)\n\u001b[0;32m      <a href='vscode-notebook-cell:/c%3A/HCI/K-SW_BootCamp2022/python/4%29%20python-functions-and-scope/python-functions-and-scope.ipynb#ch0000068?line=3'>4</a>\u001b[0m     emi \u001b[39m=\u001b[39m math\u001b[39m.\u001b[39mceil(emi)\n\u001b[0;32m      <a href='vscode-notebook-cell:/c%3A/HCI/K-SW_BootCamp2022/python/4%29%20python-functions-and-scope/python-functions-and-scope.ipynb#ch0000068?line=4'>5</a>\u001b[0m     \u001b[39mreturn\u001b[39;00m emi\n",
      "\u001b[1;31mZeroDivisionError\u001b[0m: float division by zero"
     ]
    }
   ],
   "source": [
    "emi_without_interest = loan_emi(amount=100000, duration=10*12, rate=0./12)\n",
    "emi_without_interest"
   ]
  },
  {
   "cell_type": "markdown",
   "metadata": {},
   "source": [
    "이따금 `wrong!` 에러메세지가 뜨는데, 주의 깊게 보시면 파이썬이 정확히 어떤 문제가 있는지 알려줍니다.  \n",
    "Python은 숫자를 `0`으로 나누려고 하면 `ZeroDiveisionError`메세지를 띄웁니다. 해당 에러는 프로그램의 추가 실행을 중지시키는 `예외` 입니다.\n",
    "\n",
    "> **Exception**: 문법이나 식이 올바르더라도 Python 인터프리터가 실행하려고 할 때 오류가 발생할 수 있습니다.  \n",
    "> 예외는 일반적으로 프로그램 내에서 `try`- `except` 구문을 제외하고 처리하지 않는 한 프로그램 실행을 중단합니다.\n",
    "\n",
    "Python은 기본 연산자, 함수 또는 메서드가 잘못 사용될 때를 위한 기본 예외 처리를 제공합니다.https://docs.python.org/3/library/exceptions.html#built-in-exceptions.  \n",
    "또한 사용자가 자체적으로 커스텀 `예외처리`클래스를 정의 할 수도 있습니다.\n",
    "\n",
    "`try` -  `except`문을 사용하여 예외처리를 할 수 있습니다. 예제는 다음과 같습니다."
   ]
  },
  {
   "cell_type": "code",
   "execution_count": null,
   "metadata": {},
   "outputs": [
    {
     "name": "stdout",
     "output_type": "stream",
     "text": [
      "Now computing the result..\n",
      "Failed to compute result because you were trying to divide by zero\n",
      "None\n"
     ]
    }
   ],
   "source": [
    "try:\n",
    "    print(\"Now computing the result..\")\n",
    "    result = 5 / 0\n",
    "    print(\"Computation was completed successfully\")\n",
    "except ZeroDivisionError:\n",
    "    print(\"Failed to compute result because you were trying to divide by zero\")\n",
    "    result = None\n",
    "\n",
    "print(result)"
   ]
  },
  {
   "cell_type": "markdown",
   "metadata": {},
   "source": [
    "`try`문에서 예외가 발생하면 해당 블럭의 나머지 내용은 건너뜁니다. `except`문은 작성해둔 예외가 코드 실행 중 발생했을 때 실행됩니다.  \n",
    "`except`문이 실행된 후 프로그렘은 다시 정상적으로 실행됩니다.\n",
    "\n",
    "여러 개의 `except`문을 사용하여 여러 개의 예외 유형을 처리할 수 있습니다.  예외처리는 다음을 참고하시기 바랍니다.  https://www.w3schools.com/python/python_try_except.asp \n",
    "\n",
    "\n",
    "금리가 0%인 조건에서 `try` - `except`문이 실행될 수 있도록 `loan_emi` 함수를 수정 및 개선합니다.  \n",
    "\n",
    "새로운 시나리오와 사용사례가 발생할 경우 함수를 수정 및 개선하는 것이 일반적입니다."
   ]
  },
  {
   "cell_type": "code",
   "execution_count": null,
   "metadata": {},
   "outputs": [],
   "source": [
    "def loan_emi(amount, duration, rate, down_payment=0):\n",
    "    loan_amount = amount - down_payment\n",
    "    try:\n",
    "        emi = loan_amount * rate * ((1+rate)**duration) / (((1+rate)**duration)-1)\n",
    "    except ZeroDivisionError:\n",
    "        emi = loan_amount / duration\n",
    "    emi = math.ceil(emi)\n",
    "    return emi"
   ]
  },
  {
   "cell_type": "markdown",
   "metadata": {},
   "source": [
    "\n",
    "> **Q**: 연리 9%의 10년 만기 대출로 10만 달러를 빌린다면 이자는 얼마가 되는가?"
   ]
  },
  {
   "cell_type": "code",
   "execution_count": null,
   "metadata": {},
   "outputs": [
    {
     "data": {
      "text/plain": [
       "1267"
      ]
     },
     "execution_count": 35,
     "metadata": {},
     "output_type": "execute_result"
    }
   ],
   "source": [
    "emi_with_interest = loan_emi(amount=100000, duration=10*12, rate=0.09/12)\n",
    "emi_with_interest"
   ]
  },
  {
   "cell_type": "code",
   "execution_count": null,
   "metadata": {},
   "outputs": [
    {
     "data": {
      "text/plain": [
       "834"
      ]
     },
     "execution_count": 36,
     "metadata": {},
     "output_type": "execute_result"
    }
   ],
   "source": [
    "emi_without_interest = loan_emi(amount=100000, duration=10*12, rate=0)\n",
    "emi_without_interest"
   ]
  },
  {
   "cell_type": "code",
   "execution_count": null,
   "metadata": {},
   "outputs": [],
   "source": [
    "total_interest = (emi_with_interest - emi_without_interest) * 10*12"
   ]
  },
  {
   "cell_type": "code",
   "execution_count": null,
   "metadata": {},
   "outputs": [
    {
     "name": "stdout",
     "output_type": "stream",
     "text": [
      "The total interest paid is $51960.\n"
     ]
    }
   ],
   "source": [
    "print(\"The total interest paid is ${}.\".format(total_interest))"
   ]
  },
  {
   "cell_type": "markdown",
   "metadata": {},
   "source": [
    "### <span style='color:black; background-color:#dcffe4;'>try/except/else/finally의 각 블록을 잘 활용하라</sapn>\n",
    "Python에서 예외를 처리하는 과정에서는 특정 도작을 수행하고 싶은 네 가지 경우가 있으며, 각각 `try`, `except`, `else`, `finally`라는 네 블록에 해당합니다.  \n",
    "전체 복합문에서 각 블록은 서로 다른 목적에 쓰이며, 다양하게 조합하면 유용하게 사용할 수 있습니다.  "
   ]
  },
  {
   "cell_type": "markdown",
   "metadata": {},
   "source": [
    "**`finally 블록`**  \n",
    "예외를 호출 스택의 위(호출 함수 쪽)로 전달해야 하지만, 예외가 발생하더라도 정리 코드를 실행해야 한다면 `try/finally`를 사용하십시오.  \n",
    "파일 핸들을 안전하게 닫기 위해 `try/finally`를 사용하는 경우가 자주 있습니다. "
   ]
  },
  {
   "cell_type": "code",
   "execution_count": null,
   "metadata": {},
   "outputs": [],
   "source": [
    "def try_finally_example(filename):\n",
    "    print('* 파일 열기')\n",
    "    handle = open(filename, encoding='utf-8') # OSError 발생할 수 있음\n",
    "    try:\n",
    "        print('* 데이터 읽기')\n",
    "        return handle.read()      # UnicodeDecodeError 발생할 수 있음\n",
    "    finally:\n",
    "        print('* close() 호출')\n",
    "        handle.close()            # try 블록이 실행된 다음에는 항상 이 블록이 실행됨"
   ]
  },
  {
   "cell_type": "markdown",
   "metadata": {},
   "source": [
    "**`else 블록`**  \n",
    "코드에서 처리할 예외와 호출 스택을 거슬러 올라가며 전달할 예외를 명확히 구분하기 위해, `try/catch/else`를 하용하십시오.  \n",
    "`try` 블록이 예외를 발생시키지 않으면 `else` 블록이 실행되고, `else` 블록을 사용하면  `try` 블록 안에 들어갈 코드를 최소화 할 수 있습니다.  \n",
    "`try` 블록에 들어가는 코드가 줄어들면 발생할 여지가 있는 예외를 서로 구분할 수 있으므로 가독성이 좋아집니다.\n",
    "\n",
    "예를 들어, 문자열에서 JSON 딕셔너리 데이터를 읽어온 후 어떤 키에 해당하는 값을 반환하고 싶다고 가정해봅시다."
   ]
  },
  {
   "cell_type": "code",
   "execution_count": 5,
   "metadata": {},
   "outputs": [],
   "source": [
    "import json\n",
    "\n",
    "def load_json_key(data, key):\n",
    "    try:\n",
    "        print('* JSON 데이터 읽기')\n",
    "        result_dict = json.loads(data)     # ValueError가 발생할 수 있음\n",
    "    except ValueError as e:\n",
    "        print('* ValueError 처리')\n",
    "        raise KeyError(key) from e\n",
    "    else:\n",
    "        print('* 키 검색')\n",
    "        return result_dict[key]            # KeyError가 발생할 수 있음"
   ]
  },
  {
   "cell_type": "markdown",
   "metadata": {},
   "source": [
    "성공적으로 실행되는 경우, JSON 데이터가 `try` 블록 안에서 디코딩된 다음 `else` 블록 안에서 키 검색이 일어납니다. "
   ]
  },
  {
   "cell_type": "code",
   "execution_count": null,
   "metadata": {},
   "outputs": [
    {
     "name": "stdout",
     "output_type": "stream",
     "text": [
      "* JSON 데이터 읽기\n",
      "* 키 검색\n"
     ]
    }
   ],
   "source": [
    "assert load_json_key('{\"foo\": \"bar\"}', 'foo') == 'bar'"
   ]
  },
  {
   "cell_type": "markdown",
   "metadata": {},
   "source": [
    "만약, 입력이 올바른 JSON이 아니라면 json.loads가 디코딩하는 중간에 ValueError를 발생시킬 것입니다.  \n",
    "이 예외는 `except` 블록에 의해 처리됩니다."
   ]
  },
  {
   "cell_type": "code",
   "execution_count": 4,
   "metadata": {},
   "outputs": [
    {
     "ename": "NameError",
     "evalue": "name 'load_json_key' is not defined",
     "output_type": "error",
     "traceback": [
      "\u001b[1;31m---------------------------------------------------------------------------\u001b[0m",
      "\u001b[1;31mNameError\u001b[0m                                 Traceback (most recent call last)",
      "\u001b[1;32m~\\AppData\\Local\\Temp\\ipykernel_13784\\2603976680.py\u001b[0m in \u001b[0;36m<module>\u001b[1;34m\u001b[0m\n\u001b[1;32m----> 1\u001b[1;33m \u001b[0mload_json_key\u001b[0m\u001b[1;33m(\u001b[0m\u001b[1;34m'{\"foo\": bad payload'\u001b[0m\u001b[1;33m,\u001b[0m \u001b[1;34m'foo'\u001b[0m\u001b[1;33m)\u001b[0m\u001b[1;33m\u001b[0m\u001b[1;33m\u001b[0m\u001b[0m\n\u001b[0m",
      "\u001b[1;31mNameError\u001b[0m: name 'load_json_key' is not defined"
     ]
    }
   ],
   "source": [
    "load_json_key('{\"foo\": bad payload', 'foo')"
   ]
  },
  {
   "cell_type": "markdown",
   "metadata": {},
   "source": [
    "키 검색에서 예외가 발생하면, `try` 블록 외부이므로 호출자에게 이 예외가 전달됩니다.  \n",
    "`else` 절은 `try/except` 뒤에 따라오는 코드를 `except` 블록과 시각적으로 구분해줍니다.  \n",
    "이렇게 하면 예외가 전파되는 방식을 소스코드에서 더 명확히 볼 수 있습니다."
   ]
  },
  {
   "cell_type": "code",
   "execution_count": null,
   "metadata": {},
   "outputs": [
    {
     "name": "stdout",
     "output_type": "stream",
     "text": [
      "* JSON 데이터 읽기\n",
      "* 키 검색\n"
     ]
    },
    {
     "ename": "KeyError",
     "evalue": "'존재하지 않음'",
     "output_type": "error",
     "traceback": [
      "\u001b[1;31m---------------------------------------------------------------------------\u001b[0m",
      "\u001b[1;31mKeyError\u001b[0m                                  Traceback (most recent call last)",
      "\u001b[1;32mc:\\HCI\\K-SW_BootCamp2022\\python\\4) python-functions-and-scope\\python-functions-and-scope.ipynb 셀 121\u001b[0m in \u001b[0;36m<cell line: 1>\u001b[1;34m()\u001b[0m\n\u001b[1;32m----> <a href='vscode-notebook-cell:/c%3A/HCI/K-SW_BootCamp2022/python/4%29%20python-functions-and-scope/python-functions-and-scope.ipynb#ch0000138?line=0'>1</a>\u001b[0m load_json_key(\u001b[39m'\u001b[39;49m\u001b[39m{\u001b[39;49m\u001b[39m\"\u001b[39;49m\u001b[39mfoo\u001b[39;49m\u001b[39m\"\u001b[39;49m\u001b[39m: \u001b[39;49m\u001b[39m\"\u001b[39;49m\u001b[39mbar\u001b[39;49m\u001b[39m\"\u001b[39;49m\u001b[39m}\u001b[39;49m\u001b[39m'\u001b[39;49m, \u001b[39m'\u001b[39;49m\u001b[39m존재하지 않음\u001b[39;49m\u001b[39m'\u001b[39;49m)\n",
      "\u001b[1;32mc:\\HCI\\K-SW_BootCamp2022\\python\\4) python-functions-and-scope\\python-functions-and-scope.ipynb 셀 121\u001b[0m in \u001b[0;36mload_json_key\u001b[1;34m(data, key)\u001b[0m\n\u001b[0;32m     <a href='vscode-notebook-cell:/c%3A/HCI/K-SW_BootCamp2022/python/4%29%20python-functions-and-scope/python-functions-and-scope.ipynb#ch0000138?line=9'>10</a>\u001b[0m \u001b[39melse\u001b[39;00m:\n\u001b[0;32m     <a href='vscode-notebook-cell:/c%3A/HCI/K-SW_BootCamp2022/python/4%29%20python-functions-and-scope/python-functions-and-scope.ipynb#ch0000138?line=10'>11</a>\u001b[0m     \u001b[39mprint\u001b[39m(\u001b[39m'\u001b[39m\u001b[39m* 키 검색\u001b[39m\u001b[39m'\u001b[39m)\n\u001b[1;32m---> <a href='vscode-notebook-cell:/c%3A/HCI/K-SW_BootCamp2022/python/4%29%20python-functions-and-scope/python-functions-and-scope.ipynb#ch0000138?line=11'>12</a>\u001b[0m     \u001b[39mreturn\u001b[39;00m result_dict[key]\n",
      "\u001b[1;31mKeyError\u001b[0m: '존재하지 않음'"
     ]
    }
   ],
   "source": [
    "load_json_key('{\"foo\": \"bar\"}', '존재하지 않음')"
   ]
  },
  {
   "cell_type": "markdown",
   "metadata": {},
   "source": [
    "위 내용들을 정리하자면, 아래와 같습니다.:\n",
    "- `try/finally` 복합문을 사용하면 `try` 블록이 실행되는 동안 예외가 발생하든 발생하지 않든 정리 코드를 실행할 수 있다.\n",
    "- `else` 블록을 사용하면 `try` 블록 안에 넣을 코드를 최소화하고, `try/except` 블록과 성공적인 경우에 수행해야 할 코드를 시각적으로 구분할 수 있다.\n",
    "-  `try` 블록이 성공적으로 처리되고 `finally` 블록이 공통적인 정리 작업을 수행하기 전에 실행해야 하는 동작이 있는 경우 `else` 블록을 사용할 수 있다.\n",
    "\n",
    "* * *"
   ]
  },
  {
   "cell_type": "markdown",
   "metadata": {},
   "source": [
    "### <span style='color:black; background-color:#dcffe4;'> Docstring을 사용한 함수의 문서화</sapn>\n",
    "\n",
    "**docstring**을 사용하여 함수 내에 일부 문서를 추가할 수 있습니다.   \n",
    "Docstring은 단순히 기능 본문 내에서 첫 번째 문장으로 나타나는 문자열이며, '도움말' 기능으로 사용됩니다.  \n",
    "좋은 docstring은 함수가 수행하는 작업을 설명하고 인수에 대한 설명을 제공합니다."
   ]
  },
  {
   "cell_type": "code",
   "execution_count": null,
   "metadata": {},
   "outputs": [],
   "source": [
    "def loan_emi(amount, duration, rate, down_payment=0):\n",
    "    \"\"\"Calculates the equal montly installment (EMI) for a loan.\n",
    "    \n",
    "    Arguments:\n",
    "        amount - Total amount to be spent (loan + down payment)\n",
    "        duration - Duration of the loan (in months)\n",
    "        rate - Rate of interest (monthly)\n",
    "        down_payment (optional) - Optional intial payment (deducted from amount)\n",
    "    \"\"\"\n",
    "    loan_amount = amount - down_payment\n",
    "    try:\n",
    "        emi = loan_amount * rate * ((1+rate)**duration) / (((1+rate)**duration)-1)\n",
    "    except ZeroDivisionError:\n",
    "        emi = loan_amount / duration\n",
    "    emi = math.ceil(emi)\n",
    "    return emi"
   ]
  },
  {
   "cell_type": "markdown",
   "metadata": {},
   "source": [
    "위의 Docstring에서 `duration`과 `rate` 이 몇개월 담위로 측정되는 것인지 몇 가지 추가적인 정보를 제공했습니다.  \n",
    "혼동을 방지하기 위해, `duration_months` `rate_monthly`라 이름을 변경하는 것도 고려해볼 수 있습니다.  \n",
    "함수를 개선할 수 있는 또 다른 방법은 뭐가 있을까요?"
   ]
  },
  {
   "cell_type": "code",
   "execution_count": null,
   "metadata": {},
   "outputs": [
    {
     "name": "stdout",
     "output_type": "stream",
     "text": [
      "Help on function loan_emi in module __main__:\n",
      "\n",
      "loan_emi(amount, duration, rate, down_payment=0)\n",
      "    Calculates the equal montly installment (EMI) for a loan.\n",
      "    \n",
      "    Arguments:\n",
      "        amount - Total amount to be spent (loan + down payment)\n",
      "        duration - Duration of the loan (in months)\n",
      "        rate - Rate of interest (monthly)\n",
      "        down_payment (optional) - Optional intial payment (deducted from amount)\n",
      "\n"
     ]
    }
   ],
   "source": [
    "help(loan_emi)"
   ]
  },
  {
   "cell_type": "markdown",
   "metadata": {},
   "source": [
    "### <span style='color:black; background-color:#f5f0ff;'>모든 함수, 클래스, 모듈에 Docstring을 작성하라</sapn>\n",
    "Python은 언어 자체의 동적인 특성으로 인해 문서화가 특히 중요합니다. Python은 코드 블록에 문서를 첨부하는 기능을 기본으로 제공합니다.  \n",
    "다른 여러 언어와 달리 Python에서는 프로그램을 실행하는 중에 프로그램 소스 코드의 문서에 직접 접근할 수 있습니다.  \n",
    "\n",
    "Docstring을 함수, 클래스, 모듈에 첨부할 수 있으며 첨부하는 작업은 Python 프로그램을 컴파일하고 실행하는 과정의 일부분 입니다.  \n",
    "Python의 Docstring과 `__doc__` 애트리뷰트 지원은 다음과 같은 효과를 가져옵니다.:  \n",
    "- 문서에 항상 접근할 수 있으므로 대화식 개발이 쉬워진다.\n",
    "- 코드 문서화를 저으이하는 표준이 있으므로 문서 본문을 더 보기 좋은 형태(HTML 등)로 바꿔주는 도구를 쉽게 만들 수 있다.\n",
    "- Python이 제공하는 훌륭하고, 접근하기 쉽고, 보기 좋은 문서들로 인해 사람들이 자극을 받고 더 많은 문서를 작성하게 된다.\n",
    "\n",
    "다음은 문서화 문화에 동참하기 위해 Docstring을 작성할 때 따라야 할 몇 가지 사례입니다."
   ]
  },
  {
   "cell_type": "markdown",
   "metadata": {},
   "source": [
    "#### **모듈 문서화하기**  \n",
    "각 모듈에는 최상위 Docstring이 있어야 합니다.  \n",
    "이 최상위 문자열은 세 개의 큰따옴표(\"\"\")로 시작하며, 모듈과 모듈 내용을 소개하는 것을 목적으로 합니다.  \n",
    "또한 Docstring의 첫 줄은 모듈의 목적을 설명하는 한 문장이어야 하며, 다음에 오는 단락에는 모듈 사용자들이 모듈의 동작에 대해 알아둬야 하는 세부 사항을 적어야 합니다.  \n",
    "모듈 Docstring은 모듈에서 찾을 수 있는 중요한 클래스와 함수를 강조해 알려주는 모듈 소개이기도 합니다.  \n",
    "아래는 그 예시입니다."
   ]
  },
  {
   "cell_type": "code",
   "execution_count": null,
   "metadata": {},
   "outputs": [],
   "source": [
    "# words.py\n",
    "#!/usr/bin/env python3\n",
    "\"\"\"단어의 언어 패턴을 찾을 때 쓸 수 있는 라이브러리.\n",
    "\n",
    "여러 단어가 서로 어떤 연관 관계에 있는지 검사하는 것이 어려울 때가 있다!\n",
    "이 모듈은 단어가 가지는 특별한 특성을 쉽게 결정할 수 있게 해준다.\n",
    "\n",
    "사용 가능 함수 :\n",
    "- palindrome: 주어진 단어가 회문인지 결정한다.\n",
    "- check_anagram: 주어진 단어가 어구전철(똑같은 글자들로 순서만 바뀐 경우)인지 결정한다.\n",
    "...\n",
    "\"\"\";"
   ]
  },
  {
   "cell_type": "markdown",
   "metadata": {},
   "source": [
    "#### **클래스 문서화하기**  \n",
    "각 클래스는 클래스 수준의 Docstring을 포함해야 합니다.  \n",
    "클래스 수준 Docstring은 모듈 수준 Docstring과 거의 비슷한 패턴을 따르고, 첫 줄은 클래스 목적을 알려주는 한 문장입니다.  \n",
    "뒤에 오는 단락들은 클래스의 동작 세부 사항 중 중요한 부분을 설명합니다.  \n",
    "\n",
    "Docsting은 클래스에서 중요한 공개 애트리뷰트와 메서드를 강조해 표시해줘야하고, 이 클래스를 상위 클래스로 상속하는 하위 클래스가 보호 애트리뷰트나 메서드와 상호작용하는 방법을 안내해야 합니다.  \n",
    "아래는 그 예시입니다."
   ]
  },
  {
   "cell_type": "code",
   "execution_count": 11,
   "metadata": {},
   "outputs": [],
   "source": [
    "class player:\n",
    "    \"\"\"게임 플레이어를 표현한다.\n",
    "    \n",
    "    하위 클래스는 `tick` 메서드를 오버라이드해서 플레이어의 파워 레벨 등에 맞는\n",
    "    움직임 애니메이션을 제공할 수 있다.\n",
    "    \n",
    "    공개 애트리뷰트:\n",
    "    - power: 사용하지 않은 파워업들(0과 1 사이의 float).\n",
    "    - coins: 현재 레벨에서 발견한 코인 개수(integer).\n",
    "    \"\"\""
   ]
  },
  {
   "cell_type": "markdown",
   "metadata": {},
   "source": [
    "#### **함수 문서화하기**  \n",
    "모든 공개 함수와 메서드에는 Docstirng을 포함시켜야 합니다.  \n",
    "함수나 메서드의 Docstring도 모듈이나 클래스 Docstring과 같은 패턴을 따릅니다.  \n",
    "첫 줄은 함수가 하는 일을 설명하고, 다음 단락부터는 함수 인자나 동작에 대해 구체적으로 설명하는데 만약 반환값이 있으면 이에 대해서도 설명해야 합니다.  \n",
    "또한 함수의 인터페이스에 속해 있으며 함수를 호출하는 쪽에서 꼭 처리해야 하는 예외도 설명해야 합니다.  \n",
    "아래는 그 예시입니다."
   ]
  },
  {
   "cell_type": "code",
   "execution_count": 12,
   "metadata": {},
   "outputs": [],
   "source": [
    "def find_anagrams(word, dictionary):\n",
    "    \"\"\"주어진 단어의 모든 어구전철을 찾는다.\n",
    "    \n",
    "    이 함수는 '딕셔너리' 컨테이너의 원소 검사만큼 빠른 속도로 실행된다.\n",
    "    \n",
    "    Args: \n",
    "        word: 대상 단어. 문자열.\n",
    "        dictionary: 모든 단어가 들어 있는 collections.abc.Container 컬렉션.\n",
    "        \n",
    "    Returns:\n",
    "        찾은 어구전철들로 이뤄진 리스트. 아무것도 찾지 못한 경우 Empty.\n",
    "    \"\"\""
   ]
  },
  {
   "cell_type": "markdown",
   "metadata": {},
   "source": [
    "### <span style = \"color:pink\">Quiz-휴가 계획을 위한 데이터 분석</span>\n",
    "<!--## Exercise - Data Analysis for Vacation Planning-->\n",
    "\n",
    "여러분은 휴가를 계획하고 있고, 어느 도시를 방문하고 싶은지 결정해야 합니다.  \n",
    "여러분은 고민 끝에 4개 도시를 최종 선정했으며 회항 항공편 비용, 일일 호텔 비용 및 주간 렌터카 비용을 확인했습니다.   \n",
    "차를 빌리는 동안, 차를 더 빨리 반납하더라도 일주일 내내 돈을 내야 합니다.\n",
    "\n",
    "\n",
    "| City | Return Flight (`$`) | Hotel per day (`$`) | Weekly Car Rental  (`$`) | \n",
    "|------|--------------------------|------------------|------------------------|\n",
    "| Paris|       200                |       20         |          200           |\n",
    "| London|      250                |       30         |          120           |\n",
    "| Dubai|       370                |       15         |          80           |\n",
    "| Mumbai|      450                |       10         |          70           |         \n",
    "\n",
    "\n",
    "위의 데이터를 보고 질문에 대답하시기 바랍니다.:\n",
    "\n",
    "1. 여러분이 1주일의 긴 여행을 계획하고 있다고 가정했을 때, 돈을 적게 쓰려면 어느 도시를 방문해야 할까요?\n",
    "2. 여행 기간을 4일, 10일 또는 2주로 변경하면 이전 질문에 대한 답변이 어떻게 변경되나요?\n",
    "3. 여행의 총 예산이 1000달러라면 여행 기간을 최대화 하기 위해서 어느 도시를 방문해야 하나요? 반대로 기간을 최소화하려면 어느 도시를 방문해야 하나요?\n",
    "4. 예산이 '600달러', '2000달러', '1500달러'라면 이전 질문에 대한 답은 어떻게 달라집니까?\n",
    "\n",
    "*Hint: 항공료, 호텔 요금, 렌터카 요금, 여행 기간 등 관련 정보를 포함한 `cost of trip` 함수를 정의하는 것이 도움이 될 것이다. math.ceil 함수는 렌터카 총비용을 계산하는 데 유용할 수 있다.*"
   ]
  },
  {
   "cell_type": "code",
   "execution_count": 10,
   "metadata": {},
   "outputs": [
    {
     "name": "stdout",
     "output_type": "stream",
     "text": [
      "[540, 580, 555, 590]\n",
      "540\n"
     ]
    }
   ],
   "source": [
    "# 단계별로 실습 코드 작성\n",
    "\n",
    "tour_list = [[200, 20, 200],[250, 30, 120],[370, 15, 80],[450, 10, 70]]\n",
    "# list_paris = [200, 20, 200]\n",
    "# list_London = [250, 30, 120]\n",
    "# list_Dubai = [370, 15, 80]\n",
    "# list_Mumbai = [450, 10, 70]\n",
    "\n",
    "result = []\n",
    "\n",
    "def count (list, period) :\n",
    "    temp = 0\n",
    "    temp += list[0] * 1\n",
    "    temp += list[1] * period\n",
    "    temp += list[2] * 1 \n",
    "    return temp  \n",
    "\n",
    "for i in range (4) :\n",
    "    result.append(count(tour_list[i], 7))\n",
    "\n",
    "print(result)\n",
    "print(min(result))"
   ]
  },
  {
   "cell_type": "code",
   "execution_count": 16,
   "metadata": {},
   "outputs": [
    {
     "name": "stdout",
     "output_type": "stream",
     "text": [
      "[[480, 800, 880], [490, 790, 910], [510, 680, 740], [560, 690, 730]]\n"
     ]
    }
   ],
   "source": [
    "import math\n",
    "\n",
    "# 단계별로 실습 코드 작성\n",
    "tour_list = [[200, 20, 200],[250, 30, 120],[370, 15, 80],[450, 10, 70]]\n",
    "# list_paris = [200, 20, 200]\n",
    "# list_London = [250, 30, 120]\n",
    "# list_Dubai = [370, 15, 80]\n",
    "# list_Mumbai = [450, 10, 70]\n",
    "\n",
    "result = [[] for _ in range(4)]\n",
    "period = [4,10,14]\n",
    "\n",
    "def count (list, period) :\n",
    "    temp = 0\n",
    "    temp += list[0] * 1\n",
    "    temp += list[1] * period \n",
    "    temp += list[2] * math.ceil(period / 7)\n",
    "    return temp  \n",
    "for i in range(4) :\n",
    "    for j in period :\n",
    "        result[i].append(count(tour_list[i],j))\n",
    "\n",
    "print(result)\n"
   ]
  },
  {
   "cell_type": "code",
   "execution_count": 22,
   "metadata": {},
   "outputs": [
    {
     "name": "stdout",
     "output_type": "stream",
     "text": [
      "1000달러 여행 기간 : [14, 14, 21, 27]\n"
     ]
    }
   ],
   "source": [
    "# 단계별로 실습 코드 작성\n",
    "# 여행의 총 예산이 1000달러라면 여행 기간을 최대화 하기 위해서 어느 도시를 방문해야 하나요? 반대로 기간을 최소화하려면 어느 도시를 방문해야 하나요?\n",
    "\n",
    "import math\n",
    "\n",
    "tour_list = [[200, 20, 200],[250, 30, 120],[370, 15, 80],[450, 10, 70]]\n",
    "# list_paris = [200, 20, 200]\n",
    "# list_London = [250, 30, 120]\n",
    "# list_Dubai = [370, 15, 80]\n",
    "# list_Mumbai = [450, 10, 70]\n",
    "\n",
    "tour_cost_list = [[] for _ in range(4)]\n",
    "\n",
    "for i in range (4) :\n",
    "    tour_cost_list[i].append(tour_list[i][0])\n",
    "\n",
    "result = []\n",
    "\n",
    "def count (list, period) :\n",
    "    temp = 0\n",
    "    temp += list[0] * 1\n",
    "    temp += list[1] * period \n",
    "    temp += list[2] * math.ceil(period / 7)\n",
    "    return temp \n",
    "\n",
    "for i in range (4) :\n",
    "    x = 0\n",
    "    while True :\n",
    "        x += 1\n",
    "        temp = count(tour_list[i], x)\n",
    "        \n",
    "        if temp >= 1001 :\n",
    "            result.append(x-1)\n",
    "            break\n",
    "print(\"1000달러 여행 기간 : \" + str(result))\n",
    "\n",
    "        "
   ]
  },
  {
   "cell_type": "code",
   "execution_count": 16,
   "metadata": {},
   "outputs": [],
   "source": [
    "# 단계별로 실습 코드 작성"
   ]
  },
  {
   "cell_type": "markdown",
   "metadata": {},
   "source": [
    "<p align=\"center\"><img src=\"Quiz.png\"></p>\n",
    "위의 결과값이 무엇이고 그 이유를 서술해 보세요!"
   ]
  },
  {
   "cell_type": "code",
   "execution_count": null,
   "metadata": {},
   "outputs": [],
   "source": []
  },
  {
   "cell_type": "markdown",
   "metadata": {},
   "source": [
    "## Summary and Further Reading\n",
    "\n",
    "이것으로 Python의 함수에 대한 설명을 마칩니다. 본 튜토리얼에서는 다음 주제를 다뤘습니다.:\n",
    "\n",
    "* 함수를 생성 및 사용하는 법\n",
    "* 하나 이상의 인수를 사욯하는 함수\n",
    "* 지역 변수 및 범주\n",
    "* `return`을 사용하여 값을 반환\n",
    "* 기능을 유용하게 만들기 위하여 기본 인자 사용\n",
    "* 함수를 호출할 때 명명된 인자 사용\n",
    "* 모듈 import 및 라이브러리 사용\n",
    "* 새로운 활용 사례 처리를 위한 기능 재사용 및 개선\n",
    "* `try`- `exception`으로 예외 처리\n",
    "* Docstring 을 이용한 함수 문서 명세\n",
    "\n",
    "\n",
    "Python 함수에 대해 좀 더 알고 싶다면 아래 사이트를 참고하기를 바랍니다.:\n",
    "\n",
    "* Python Tutorial at W3Schools: https://www.w3schools.com/python/\n",
    "* Practical Python Programming: https://dabeaz-course.github.io/practical-python/Notes/Contents.html\n",
    "* Python official documentation: https://docs.python.org/3/tutorial/index.html\n"
   ]
  }
 ],
 "metadata": {
  "interpreter": {
   "hash": "ecb7e032ea62903431d7aa566e61206a52e075194918ba5f5cb9487571a67931"
  },
  "kernelspec": {
   "display_name": "Python 3.7.13 64-bit ('test': conda)",
   "name": "python3"
  },
  "language_info": {
   "codemirror_mode": {
    "name": "ipython",
    "version": 3
   },
   "file_extension": ".py",
   "mimetype": "text/x-python",
   "name": "python",
   "nbconvert_exporter": "python",
   "pygments_lexer": "ipython3",
   "version": "3.7.13"
  },
  "vscode": {
   "interpreter": {
    "hash": "25a19fbe0a9132dfb9279d48d161753c6352f8f9478c2e74383d340069b907c3"
   }
  }
 },
 "nbformat": 4,
 "nbformat_minor": 4
}
