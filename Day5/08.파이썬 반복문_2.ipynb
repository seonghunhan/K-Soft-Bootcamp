{
 "cells": [
  {
   "cell_type": "markdown",
   "metadata": {},
   "source": [
    "### 151\n",
    "##### 리스트에는 네 개의 정수가 저장돼 있다.\n",
    "##### for문을 사용해서 리스트의 음수를 출력하라."
   ]
  },
  {
   "cell_type": "code",
   "execution_count": 1,
   "metadata": {},
   "outputs": [
    {
     "name": "stdout",
     "output_type": "stream",
     "text": [
      "-20\n",
      "-3\n"
     ]
    }
   ],
   "source": [
    "리스트 = [3, -20, -3, 44]\n",
    "\n",
    "##############\n",
    "#코드를 적어주세요\n",
    "\n",
    "\n",
    "##############"
   ]
  },
  {
   "cell_type": "markdown",
   "metadata": {},
   "source": [
    "### 152\n",
    "##### for문을 사용해서 3의 배수만을 출력하라."
   ]
  },
  {
   "cell_type": "code",
   "execution_count": 3,
   "metadata": {},
   "outputs": [
    {
     "name": "stdout",
     "output_type": "stream",
     "text": [
      "3\n"
     ]
    }
   ],
   "source": [
    "리스트 = [3, 100, 23, 44]\n",
    "\n",
    "##############\n",
    "#코드를 적어주세요\n",
    "\n",
    "\n",
    "##############"
   ]
  },
  {
   "cell_type": "markdown",
   "metadata": {},
   "source": [
    "### 153\n",
    "##### 리스트에서 20 보다 작은 3의 배수를 출력하라"
   ]
  },
  {
   "cell_type": "code",
   "execution_count": 4,
   "metadata": {},
   "outputs": [
    {
     "name": "stdout",
     "output_type": "stream",
     "text": [
      "12\n",
      "18\n"
     ]
    }
   ],
   "source": [
    "리스트 = [13, 21, 12, 14, 30, 18]\n",
    "\n",
    "##############\n",
    "#코드를 적어주세요\n",
    "\n",
    "\n",
    "##############"
   ]
  },
  {
   "cell_type": "markdown",
   "metadata": {},
   "source": [
    "### 154\n",
    "##### 리스트에서 세 글자 이상의 문자를 화면에 출력하라"
   ]
  },
  {
   "cell_type": "code",
   "execution_count": 5,
   "metadata": {},
   "outputs": [
    {
     "name": "stdout",
     "output_type": "stream",
     "text": [
      "study\n",
      "python\n",
      "language\n"
     ]
    }
   ],
   "source": [
    "리스트 = [\"I\", \"study\", \"python\", \"language\", \"!\"]\n",
    "\n",
    "##############\n",
    "#코드를 적어주세요\n",
    "\n",
    "\n",
    "##############"
   ]
  },
  {
   "cell_type": "markdown",
   "metadata": {},
   "source": [
    "### 155\n",
    "##### 리스트에서 대문자만 화면에 출력하라."
   ]
  },
  {
   "cell_type": "code",
   "execution_count": 8,
   "metadata": {},
   "outputs": [
    {
     "name": "stdout",
     "output_type": "stream",
     "text": [
      "A\n",
      "D\n"
     ]
    }
   ],
   "source": [
    "리스트 = [\"A\", \"b\", \"c\", \"D\"]\n",
    "##############\n",
    "#코드를 적어주세요\n",
    "\n",
    "\n",
    "##############"
   ]
  },
  {
   "cell_type": "markdown",
   "metadata": {},
   "source": [
    "### 156\n",
    "##### 리스트에서 소문자만 화면에 출력하라."
   ]
  },
  {
   "cell_type": "code",
   "execution_count": 9,
   "metadata": {},
   "outputs": [
    {
     "name": "stdout",
     "output_type": "stream",
     "text": [
      "b\n",
      "c\n"
     ]
    }
   ],
   "source": [
    "리스트 = [\"A\", \"b\", \"c\", \"D\"]\n",
    "\n",
    "##############\n",
    "#코드를 적어주세요\n",
    "\n",
    "\n",
    "##############"
   ]
  },
  {
   "cell_type": "markdown",
   "metadata": {},
   "source": [
    "### 157\n",
    "##### 이름의 첫 글자를 대문자로 변경해서 출력하라."
   ]
  },
  {
   "cell_type": "code",
   "execution_count": 12,
   "metadata": {},
   "outputs": [
    {
     "name": "stdout",
     "output_type": "stream",
     "text": [
      "Dog\n",
      "Cat\n",
      "Parrot\n"
     ]
    }
   ],
   "source": [
    "리스트 = ['dog', 'cat', 'parrot']\n",
    "\n",
    "##############\n",
    "#코드를 적어주세요\n",
    "\n",
    "\n",
    "##############"
   ]
  },
  {
   "cell_type": "markdown",
   "metadata": {},
   "source": [
    "### 158\n",
    "##### 파일 이름이 저장된 리스트에서 확장자를 제거하고 파일 이름만 화면에 출력하라. "
   ]
  },
  {
   "cell_type": "code",
   "execution_count": 17,
   "metadata": {},
   "outputs": [
    {
     "name": "stdout",
     "output_type": "stream",
     "text": [
      "hello\n",
      "ex01\n",
      "intro\n"
     ]
    }
   ],
   "source": [
    "리스트 = ['hello.py', 'ex01.py', 'intro.hwp']\n",
    "\n",
    "##############\n",
    "#코드를 적어주세요\n",
    "\n",
    "\n",
    "##############"
   ]
  },
  {
   "cell_type": "markdown",
   "metadata": {},
   "source": [
    "### 159\n",
    "##### 파일 이름이 저장된 리스트에서 확장자가 .h인 파일 이름을 출력하라."
   ]
  },
  {
   "cell_type": "code",
   "execution_count": 19,
   "metadata": {},
   "outputs": [
    {
     "name": "stdout",
     "output_type": "stream",
     "text": [
      "intra.h\n",
      "define.h\n"
     ]
    }
   ],
   "source": [
    "리스트 = ['intra.h', 'intra.c', 'define.h', 'run.py']\n",
    "\n",
    "##############\n",
    "#코드를 적어주세요\n",
    "\n",
    "\n",
    "##############"
   ]
  },
  {
   "cell_type": "markdown",
   "metadata": {},
   "source": [
    "### 160\n",
    "##### 파일 이름이 저장된 리스트에서 확장자가 .h나 .c인 파일을 화면에 출력하라."
   ]
  },
  {
   "cell_type": "code",
   "execution_count": 20,
   "metadata": {},
   "outputs": [
    {
     "name": "stdout",
     "output_type": "stream",
     "text": [
      "intra.h\n",
      "intra.c\n",
      "define.h\n"
     ]
    }
   ],
   "source": [
    "리스트 = ['intra.h', 'intra.c', 'define.h', 'run.py']\n",
    "\n",
    "##############\n",
    "#코드를 적어주세요\n",
    "\n",
    "\n",
    "##############"
   ]
  },
  {
   "cell_type": "markdown",
   "metadata": {},
   "source": [
    "### 161\n",
    "##### for문과 range 구문을 사용해서 0~99까지 한 라인에 하나씩 순차적으로 출력하는 프로그램을 작성하라."
   ]
  },
  {
   "cell_type": "code",
   "execution_count": 23,
   "metadata": {},
   "outputs": [
    {
     "name": "stdout",
     "output_type": "stream",
     "text": [
      "0 1 2 3 4 5 6 7 8 9 10 11 12 13 14 15 16 17 18 19 20 21 22 23 24 25 26 27 28 29 30 31 32 33 34 35 36 37 38 39 40 41 42 43 44 45 46 47 48 49 50 51 52 53 54 55 56 57 58 59 60 61 62 63 64 65 66 67 68 69 70 71 72 73 74 75 76 77 78 79 80 81 82 83 84 85 86 87 88 89 90 91 92 93 94 95 96 97 98 99 "
     ]
    }
   ],
   "source": []
  },
  {
   "cell_type": "markdown",
   "metadata": {},
   "source": [
    "### 162\n",
    "##### 월드컵은 4년에 한 번 개최된다. range()를 사용하여 2002~2050년까지 중 월드컵이 개최되는 연도를 출력하라."
   ]
  },
  {
   "cell_type": "code",
   "execution_count": 26,
   "metadata": {},
   "outputs": [
    {
     "name": "stdout",
     "output_type": "stream",
     "text": [
      "2002 2006 2010 2014 2018 2022 2026 2030 2034 2038 2042 2046 2050 "
     ]
    }
   ],
   "source": []
  },
  {
   "cell_type": "markdown",
   "metadata": {},
   "source": [
    "### 163\n",
    "##### 1부터 30까지의 숫자 중 3의 배수를 출력하라."
   ]
  },
  {
   "cell_type": "code",
   "execution_count": 28,
   "metadata": {},
   "outputs": [
    {
     "name": "stdout",
     "output_type": "stream",
     "text": [
      "3 6 9 12 15 18 21 24 27 30 "
     ]
    }
   ],
   "source": []
  },
  {
   "cell_type": "markdown",
   "metadata": {},
   "source": [
    "### 164\n",
    "##### 99부터 0까지 1씩 감소하는 숫자들을, 한 라인에 하나씩 출력하라."
   ]
  },
  {
   "cell_type": "code",
   "execution_count": 34,
   "metadata": {},
   "outputs": [
    {
     "name": "stdout",
     "output_type": "stream",
     "text": [
      "99 98 97 96 95 94 93 92 91 90 89 88 87 86 85 84 83 82 81 80 79 78 77 76 75 74 73 72 71 70 69 68 67 66 65 64 63 62 61 60 59 58 57 56 55 54 53 52 51 50 49 48 47 46 45 44 43 42 41 40 39 38 37 36 35 34 33 32 31 30 29 28 27 26 25 24 23 22 21 20 19 18 17 16 15 14 13 12 11 10 9 8 7 6 5 4 3 2 1 0 "
     ]
    }
   ],
   "source": []
  },
  {
   "cell_type": "markdown",
   "metadata": {},
   "source": [
    "### 165\n",
    "##### for문을 사용해서 아래와 같이 출력하라.\n",
    "\n",
    "0.0\n",
    "\n",
    "0.1\n",
    "\n",
    "0.2\n",
    "\n",
    "0.3\n",
    "\n",
    "0.4\n",
    "\n",
    "0.5\n",
    "\n",
    "...\n",
    "\n",
    "0.9"
   ]
  },
  {
   "cell_type": "code",
   "execution_count": 37,
   "metadata": {},
   "outputs": [
    {
     "name": "stdout",
     "output_type": "stream",
     "text": [
      "0.0 0.1 0.2 0.3 0.4 0.5 0.6 0.7 0.8 0.9 "
     ]
    }
   ],
   "source": []
  },
  {
   "cell_type": "markdown",
   "metadata": {},
   "source": [
    "### 166\n",
    "##### 구구단 3단을 출력하라.\n",
    "\n",
    "3x1 = 3\n",
    "\n",
    "3x2 = 6\n",
    "\n",
    "3x3 = 9\n",
    "\n",
    "3x4 = 12\n",
    "\n",
    "3x5 = 15\n",
    "\n",
    "3x6 = 18\n",
    "\n",
    "3x7 = 21\n",
    "\n",
    "3x8 = 24\n",
    "\n",
    "3x9 = 27"
   ]
  },
  {
   "cell_type": "code",
   "execution_count": 38,
   "metadata": {},
   "outputs": [
    {
     "name": "stdout",
     "output_type": "stream",
     "text": [
      "3 x 1 =  3\n",
      "3 x 2 =  6\n",
      "3 x 3 =  9\n",
      "3 x 4 =  12\n",
      "3 x 5 =  15\n",
      "3 x 6 =  18\n",
      "3 x 7 =  21\n",
      "3 x 8 =  24\n",
      "3 x 9 =  27\n"
     ]
    }
   ],
   "source": []
  },
  {
   "cell_type": "markdown",
   "metadata": {},
   "source": [
    "### 167\n",
    "##### 구구단 3단을 출력하라. 단 홀수 번째만 출력한다.\n",
    "\n",
    "3x1 = 3\n",
    "\n",
    "3x3 = 9\n",
    "\n",
    "3x5 = 15\n",
    "\n",
    "3x7 = 21\n",
    "\n",
    "3x9 = 27"
   ]
  },
  {
   "cell_type": "code",
   "execution_count": 39,
   "metadata": {},
   "outputs": [
    {
     "name": "stdout",
     "output_type": "stream",
     "text": [
      "3 x 1 =  3\n",
      "3 x 3 =  9\n",
      "3 x 5 =  15\n",
      "3 x 7 =  21\n",
      "3 x 9 =  27\n"
     ]
    }
   ],
   "source": []
  },
  {
   "cell_type": "markdown",
   "metadata": {},
   "source": [
    "### 168\n",
    "##### 1~10까지의 숫자에 대해 모두 더한 값을 출력하는 프로그램을 for 문을 사용하여 작성하라."
   ]
  },
  {
   "cell_type": "code",
   "execution_count": 43,
   "metadata": {},
   "outputs": [
    {
     "name": "stdout",
     "output_type": "stream",
     "text": [
      "55\n"
     ]
    }
   ],
   "source": []
  },
  {
   "cell_type": "markdown",
   "metadata": {},
   "source": [
    "### 169\n",
    "##### 1~10까지의 숫자 중 모든 홀수의 합을 출력하는 프로그램을 for 문을 사용하여 작성하라"
   ]
  },
  {
   "cell_type": "code",
   "execution_count": 46,
   "metadata": {},
   "outputs": [
    {
     "name": "stdout",
     "output_type": "stream",
     "text": [
      "25\n"
     ]
    }
   ],
   "source": []
  },
  {
   "cell_type": "markdown",
   "metadata": {},
   "source": [
    "### 170\n",
    "##### 1~10까지의 숫자를 모두 곱한 값을 출력하는 프로그램을 for 문을 사용하여 작성하라."
   ]
  },
  {
   "cell_type": "code",
   "execution_count": 47,
   "metadata": {},
   "outputs": [
    {
     "name": "stdout",
     "output_type": "stream",
     "text": [
      "3628800\n"
     ]
    }
   ],
   "source": []
  }
 ],
 "metadata": {
  "kernelspec": {
   "display_name": "Python 3.9.7 64-bit ('nongjin')",
   "language": "python",
   "name": "python3"
  },
  "language_info": {
   "codemirror_mode": {
    "name": "ipython",
    "version": 3
   },
   "file_extension": ".py",
   "mimetype": "text/x-python",
   "name": "python",
   "nbconvert_exporter": "python",
   "pygments_lexer": "ipython3",
   "version": "3.9.7"
  },
  "vscode": {
   "interpreter": {
    "hash": "7442a401097dfc4f2829d053a6a19b900543c729177e70de1f7f0272165bfe52"
   }
  }
 },
 "nbformat": 4,
 "nbformat_minor": 4
}
