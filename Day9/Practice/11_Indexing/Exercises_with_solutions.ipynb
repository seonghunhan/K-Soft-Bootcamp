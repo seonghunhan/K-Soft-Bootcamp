{
 "cells": [
  {
   "cell_type": "markdown",
   "metadata": {},
   "source": [
    "# 특정 위치의 값을 획득하거나 바꿀 때 사용하는 `loc`, `iloc`, `iat`, `at`"
   ]
  },
  {
   "cell_type": "markdown",
   "metadata": {},
   "source": [
    "pandas.DataFrame 임의의 위치 데이터를 획득하거나 변경(대입)하는 경우에 pandas.DataFrame의 속성인 loc, iloc, at, iat을 사용할 수 있습니다.  \n",
    "먼저 네 가지는 아래와 같은 차이점이 있습니다.\n",
    "\n",
    "<style type=\"text/css\">\n",
    ".tg  {border-collapse:collapse;border-spacing:0;}\n",
    ".tg td{border-color:black;border-style:solid;border-width:1px;font-family:Arial, sans-serif;font-size:14px;\n",
    "  overflow:hidden;padding:10px 5px;word-break:normal;}\n",
    ".tg th{border-color:black;border-style:solid;border-width:1px;font-family:Arial, sans-serif;font-size:14px;\n",
    "  font-weight:normal;overflow:hidden;padding:10px 5px;word-break:normal;}\n",
    ".tg .tg-c3ow{border-color:inherit;text-align:center;vertical-align:top}\n",
    "</style>\n",
    "<table class=\"tg\" style=\"undefined;table-layout: fixed; width: 418px\">\n",
    "<colgroup>\n",
    "<col style=\"width: 146px\">\n",
    "<col style=\"width: 68px\">\n",
    "<col style=\"width: 68px\">\n",
    "<col style=\"width: 68px\">\n",
    "<col style=\"width: 68px\">\n",
    "</colgroup>\n",
    "<thead>\n",
    "  <tr>\n",
    "    <th class=\"tg-c3ow\"></th>\n",
    "    <th class=\"tg-c3ow\">loc</th>\n",
    "    <th class=\"tg-c3ow\">iloc</th>\n",
    "    <th class=\"tg-c3ow\">at</th>\n",
    "    <th class=\"tg-c3ow\">iat</th>\n",
    "  </tr>\n",
    "</thead>\n",
    "<tbody>\n",
    "  <tr>\n",
    "    <td class=\"tg-c3ow\">절대 좌표(위치) 지정</td>\n",
    "    <td class=\"tg-c3ow\">x</td>\n",
    "    <td class=\"tg-c3ow\">o</td>\n",
    "    <td class=\"tg-c3ow\">x</td>\n",
    "    <td class=\"tg-c3ow\">o</td>\n",
    "  </tr>\n",
    "  <tr>\n",
    "    <td class=\"tg-c3ow\">라벨명 지정</td>\n",
    "    <td class=\"tg-c3ow\">o</td>\n",
    "    <td class=\"tg-c3ow\">x</td>\n",
    "    <td class=\"tg-c3ow\">o</td>\n",
    "    <td class=\"tg-c3ow\">x</td>\n",
    "  </tr>\n",
    "  <tr>\n",
    "    <td class=\"tg-c3ow\">여러개의 요소 지정</td>\n",
    "    <td class=\"tg-c3ow\">o</td>\n",
    "    <td class=\"tg-c3ow\">o</td>\n",
    "    <td class=\"tg-c3ow\">x</td>\n",
    "    <td class=\"tg-c3ow\">x</td>\n",
    "  </tr>\n",
    "  <tr>\n",
    "    <td class=\"tg-c3ow\">슬라이스 표기</td>\n",
    "    <td class=\"tg-c3ow\">o</td>\n",
    "    <td class=\"tg-c3ow\">o</td>\n",
    "    <td class=\"tg-c3ow\">x</td>\n",
    "    <td class=\"tg-c3ow\">x</td>\n",
    "  </tr>\n",
    "</tbody>\n",
    "</table>"
   ]
  },
  {
   "cell_type": "markdown",
   "metadata": {},
   "source": [
    "**1) 좌표(위치)의 지정 방법**\n",
    "\n",
    "- at, loc : 행 명(행 라벨), 열 명(열 라벨)\n",
    "- iat, iloc : 행 번호, 열 번호(절대 좌표(위치)지정)\n",
    "\n",
    "**2) 선택하여 확인, 변경할 수 있는 데이터**\n",
    "\n",
    "- at, iat : 하나의 요소 값\n",
    "- loc, iloc : 하나 혹은 여러 개의 요소 값\n",
    "- 리스트, 슬라이스로 범위를 지정할 수 있다.\n",
    "- 행, 열을 선택하여 값을 획득하고 변경할 수 있다.\n",
    "\n",
    "**3) 그 외의 차이점**\n",
    "\n",
    "- 처리 속도는 at 과 iat의 경우가 loc과 iloc보다 빠르다\n",
    "- 라벨과 번호를 합쳐서 위치를 지정하고 싶은 경우는 at 혹은 loc과 index나 column을 조합한다.\n",
    "\n",
    "이번 포스팅에서는 다음의 내용에 대해 다룰 것이다.\n",
    "\n",
    "- at, iat : 하나의 요소 값을 선택, 획득, 변경\n",
    "- loc, iloc : 하나 혹은 여러 개의 요소 값을 선택, 획득, 변경\n",
    "- 하나의 요소 값을 선택\n",
    "- 여러 개의 요소 값을 선택\n",
    "- 행, 열을 선택\n",
    "- 행 명, 열 명이 중복된 값을 가진 경우\n",
    "- 번호와 라벨 단위를 지정\n",
    "- 행을 pandas.Series로 선택할 때 묵시적형 변환\n",
    "\n",
    "참고로 pandas.DataFrame의 행, 열, pandas.Series의 요소 값을 선택, 획득하는 경우는 인덱스 참고 df[]도 사용할 수 있다. 또한 DataFrame.get_value(), DataFrame.ix[]도 있지만, 둘 다 최신 버전에서는 추천하지 않습니다.  \n",
    "\n",
    "이번 샘플 코드에서는 아래의 csv 데이터를 read_csv로 읽어들여 사용하며, 인수 index_col로 맨 처음의 행을 index로 사용하고 있습니다."
   ]
  },
  {
   "cell_type": "code",
   "execution_count": 2,
   "metadata": {},
   "outputs": [],
   "source": [
    "import pandas as pd"
   ]
  },
  {
   "cell_type": "code",
   "execution_count": 3,
   "metadata": {},
   "outputs": [
    {
     "name": "stdout",
     "output_type": "stream",
     "text": [
      "         age state  point\n",
      "name                     \n",
      "Alice     24    NY     64\n",
      "Bob       42    CA     92\n",
      "Charlie   18    CA     70\n",
      "Dave      68    TX     70\n",
      "Ellen     24    CA     88\n",
      "Frank     30    NY     57\n"
     ]
    }
   ],
   "source": [
    "df = pd.read_csv('./sample_pandas_normal.csv', index_col=0)\n",
    "print(df)"
   ]
  },
  {
   "cell_type": "code",
   "execution_count": null,
   "metadata": {},
   "outputs": [],
   "source": [
    "print(df.index.values)"
   ]
  },
  {
   "cell_type": "code",
   "execution_count": null,
   "metadata": {},
   "outputs": [],
   "source": [
    "print(df.columns.values)"
   ]
  },
  {
   "cell_type": "markdown",
   "metadata": {},
   "source": [
    "### `at`, `iat`: 하나의 요소 값을 선택, 획득, 변경\n",
    "at은 행 명과 열 명으로 위치를 지정합니다. 데이터를 획득하기 위할 뿐만 아니라, 그 위치에 새로운 값을 설정(대입)하는 것도 가능합니다."
   ]
  },
  {
   "cell_type": "code",
   "execution_count": null,
   "metadata": {},
   "outputs": [],
   "source": [
    "print(df.at['Bob', 'age'])\n",
    "print(df.at['Dave', 'state'])"
   ]
  },
  {
   "cell_type": "code",
   "execution_count": null,
   "metadata": {},
   "outputs": [],
   "source": [
    "df.at['Bob', 'age'] = 60\n",
    "print(df.at['Bob', 'age'])"
   ]
  },
  {
   "cell_type": "markdown",
   "metadata": {},
   "source": [
    "iat은 행 번호와 열 번호로 위치를 지정하며, 행 번호, 열 번호는 0부터 시작합니.  \n",
    "iat도 at과 동일하게, 데이터를 획득할 뿐 아니라 그 위치에 새로운 값을 설정(대입)할 수 있습니다."
   ]
  },
  {
   "cell_type": "code",
   "execution_count": null,
   "metadata": {},
   "outputs": [],
   "source": [
    "print(df.iat[1, 0])\n",
    "print(df.iat[3, 1])"
   ]
  },
  {
   "cell_type": "code",
   "execution_count": null,
   "metadata": {},
   "outputs": [],
   "source": [
    "df.iat[1, 0] = 42\n",
    "print(df.iat[1, 0])"
   ]
  },
  {
   "cell_type": "markdown",
   "metadata": {},
   "source": [
    "### `loc`, `iloc` : 하나 혹은 여러 개의 요소 값을 선택, 획득, 변경\n",
    "loc과 iloc은 하나의 값뿐 아니라, 범위를 지정하여 여러 개의 데이터를 선택할 수 있습니다.  \n",
    "loc은 행 명과 열 명으로 위치를 지정하고, iloc은 행 번호와 열 번호로 위치를 지정합니다."
   ]
  },
  {
   "cell_type": "markdown",
   "metadata": {},
   "source": [
    "#### 하나의 요소 값을 선택\n",
    "하나의 값에 액세스할 경우 at, iat와 동일하지만, 처리 속도는 앞에서 말했듯 at, iat의 쪽이 빠릅니다."
   ]
  },
  {
   "cell_type": "code",
   "execution_count": null,
   "metadata": {},
   "outputs": [],
   "source": [
    "print(df.loc['Bob', 'age'])\n",
    "print(df.iloc[3, 1])"
   ]
  },
  {
   "cell_type": "markdown",
   "metadata": {},
   "source": [
    "데이터를 참고할 뿐만 아니라, 그 위치에 새로운 값을 설정(대입)하는 것도 가능합니다."
   ]
  },
  {
   "cell_type": "code",
   "execution_count": null,
   "metadata": {},
   "outputs": [],
   "source": [
    "df.loc['Bob', 'age'] = 60\n",
    "print(df.loc['Bob', 'age'])"
   ]
  },
  {
   "cell_type": "code",
   "execution_count": null,
   "metadata": {},
   "outputs": [],
   "source": [
    "df.iloc[1, 0] = 42\n",
    "print(df.iloc[1, 0])"
   ]
  },
  {
   "cell_type": "markdown",
   "metadata": {},
   "source": [
    "#### 여러 개의 요소 값을 선택\n",
    "여러 개의 값에 액세스할 경우는 리스트[a, b, c, ...]나 슬라이스 start:stop:step으로 데이터의 범위, 위치를 지정할 수 있습니다. pandas.Series 혹은 pandas.DataFrame가 반환됩니다.  \n",
    "\n",
    "슬라이스는 보통의 슬라이스 작성법과 같고, step은 생략 가능합니다.\n",
    "\n",
    "슬라이스 start:stop:step으로 지정할 때, iloc으로 행 번호, 열 번호를 사용하는 경우 일반적인 슬라이스와 동일하게 stop의 한 단계 전까지이지만, loc으로 행 명, 열 명을 사용하는 경우는 stop의 값도 포함되므로 주의가 필요합니다."
   ]
  },
  {
   "cell_type": "code",
   "execution_count": null,
   "metadata": {},
   "outputs": [],
   "source": [
    "print(df.loc['Bob':'Dave', 'age'])\n",
    "print(type(df.loc['Bob':'Dave', 'age']))"
   ]
  },
  {
   "cell_type": "code",
   "execution_count": null,
   "metadata": {},
   "outputs": [],
   "source": [
    "print(df.loc[:'Dave', ['age', 'point']])\n",
    "print(type(df.loc[:'Dave', 'age':'point']))"
   ]
  },
  {
   "cell_type": "code",
   "execution_count": null,
   "metadata": {},
   "outputs": [],
   "source": [
    "print(df.iloc[:3, [0, 2]])\n",
    "print(type(df.iloc[:3, [0, 2]]))"
   ]
  },
  {
   "cell_type": "markdown",
   "metadata": {},
   "source": [
    "step을 지정하면, 홀수행 혹은 짝수행을 추출하여 획득하는 것도 가능합니다."
   ]
  },
  {
   "cell_type": "code",
   "execution_count": null,
   "metadata": {},
   "outputs": [],
   "source": [
    "print(df.iloc[::2, 0])\n",
    "print(type(df.iloc[::2, 0]))"
   ]
  },
  {
   "cell_type": "code",
   "execution_count": null,
   "metadata": {},
   "outputs": [],
   "source": [
    "print(df.iloc[1::2, 0])\n",
    "print(type(df.iloc[1::2, 0]))"
   ]
  },
  {
   "cell_type": "markdown",
   "metadata": {},
   "source": [
    "여러 개의 값을 일괄로 변경하는 것도 가능하다."
   ]
  },
  {
   "cell_type": "code",
   "execution_count": null,
   "metadata": {},
   "outputs": [],
   "source": [
    "df.loc['Bob':'Dave', 'age'] = [20, 30, 40]\n",
    "print(df.loc['Bob':'Dave', 'age'])"
   ]
  },
  {
   "cell_type": "markdown",
   "metadata": {},
   "source": [
    "#### 행, 열을 선택\n",
    "인덱스 참조 df[]로 행, 열을 선택할 수 있지만, 아래의 지정 방법에 한정됩니다.\n",
    "\n",
    "- 행의 선택 : 행 이름, 행 번호의 인덱스\n",
    "- 열의 선택 : 열 이름, 혹은 열 이름의 리스트"
   ]
  },
  {
   "cell_type": "code",
   "execution_count": null,
   "metadata": {},
   "outputs": [],
   "source": [
    "print(df['Bob':'Ellen'])"
   ]
  },
  {
   "cell_type": "code",
   "execution_count": null,
   "metadata": {},
   "outputs": [],
   "source": [
    "print(df[:3])"
   ]
  },
  {
   "cell_type": "code",
   "execution_count": null,
   "metadata": {},
   "outputs": [],
   "source": [
    "print(df['age'])"
   ]
  },
  {
   "cell_type": "code",
   "execution_count": null,
   "metadata": {},
   "outputs": [],
   "source": [
    "print(df[['age', 'point']])"
   ]
  },
  {
   "cell_type": "markdown",
   "metadata": {},
   "source": [
    "loc, iloc으로 행, 열을 선택할 경우는 인덱스 참고 df[]보다 유연하게 지정할 수 있습니다.\n",
    "\n",
    "loc, iloc에서 열의 지정을 생략하면 열 참조가 된다. 인덱스 참조에서는 할 수 없는 행 이름, 열 번호 단독 지정이나 리스트에 의한 지정도 가능합니다."
   ]
  },
  {
   "cell_type": "code",
   "execution_count": null,
   "metadata": {},
   "outputs": [],
   "source": [
    "print(df.loc['Bob'])\n",
    "print(type(df.loc['Bob']))"
   ]
  },
  {
   "cell_type": "code",
   "execution_count": null,
   "metadata": {},
   "outputs": [],
   "source": [
    "print(df.iloc[[1, 4]])\n",
    "print(type(df.iloc[[1, 4]]))"
   ]
  },
  {
   "cell_type": "markdown",
   "metadata": {},
   "source": [
    "loc, iloc으로 행의 지정을 : (전체의 슬라이스)로 하면 열을 참조할 수 있습니다.  \n",
    "인덱스 참조에서는 할 수 없는 슬라이스에 의한 지정도 가능하고, iloc으로 열 번호를 사용하는 것도 가능합니다."
   ]
  },
  {
   "cell_type": "code",
   "execution_count": null,
   "metadata": {},
   "outputs": [],
   "source": [
    "print(df.loc[:, 'age':'point'])\n",
    "print(type(df.loc[:, 'age':'point']))"
   ]
  },
  {
   "cell_type": "code",
   "execution_count": null,
   "metadata": {},
   "outputs": [],
   "source": [
    "print(df.iloc[:, [0, 2]])\n",
    "print(type(df.iloc[:, [0, 2]]))"
   ]
  },
  {
   "cell_type": "markdown",
   "metadata": {},
   "source": [
    "행 이름-행 번호, 열 이름-열 번호를 하나로 지정하여 하나의 행-하나의 열을 선택하는 경우는 pandas.Series가 반환되지만, 동일한 하나의 행 - 하나의 열을 선택하는 경우에도 슬라이스나 리스트로 지정한 경우는 pandas.DataFrame이 됩니다."
   ]
  },
  {
   "cell_type": "code",
   "execution_count": null,
   "metadata": {},
   "outputs": [],
   "source": [
    "print(df.loc['Bob'])\n",
    "print(type(df.loc['Bob']))"
   ]
  },
  {
   "cell_type": "code",
   "execution_count": null,
   "metadata": {},
   "outputs": [],
   "source": [
    "print(df.loc['Bob':'Bob'])\n",
    "print(type(df.loc['Bob':'Bob']))"
   ]
  },
  {
   "cell_type": "code",
   "execution_count": null,
   "metadata": {},
   "outputs": [],
   "source": [
    "print(df.loc[['Bob']])\n",
    "print(type(df.loc[['Bob']]))"
   ]
  },
  {
   "cell_type": "markdown",
   "metadata": {},
   "source": [
    "* * *"
   ]
  },
  {
   "cell_type": "code",
   "execution_count": null,
   "metadata": {},
   "outputs": [],
   "source": [
    "print(df.iloc[:, 1])\n",
    "print(type(df.iloc[:, 1]))"
   ]
  },
  {
   "cell_type": "code",
   "execution_count": null,
   "metadata": {},
   "outputs": [],
   "source": [
    "print(df.iloc[:, 1:2])\n",
    "print(type(df.iloc[:, 1:2]))"
   ]
  },
  {
   "cell_type": "code",
   "execution_count": null,
   "metadata": {},
   "outputs": [],
   "source": [
    "print(df.iloc[:, [1]])\n",
    "print(type(df.iloc[:, [1]]))"
   ]
  },
  {
   "cell_type": "markdown",
   "metadata": {},
   "source": [
    "특히, 행을 pandas.Series로 선택하면 암묵적 형변환이 이뤄질 가능성이 있으므로 주의할 필요가 있습니다."
   ]
  },
  {
   "cell_type": "markdown",
   "metadata": {},
   "source": [
    "#### 행 명과 열 명이 중복된 값을 가지고 있는 경우"
   ]
  },
  {
   "cell_type": "markdown",
   "metadata": {},
   "source": [
    "행 명(행 라벨) index, 열 명(열 라벨) columns에 중복된 값이 포함되어 있어도 에러가 발생하지 않습니다.\n",
    "\n",
    "중복된 값을 가진 열을 index에 지정한 경우 다음과 같은 예가 됩니다."
   ]
  },
  {
   "cell_type": "code",
   "execution_count": null,
   "metadata": {},
   "outputs": [],
   "source": [
    "df_state = pd.read_csv('./sample_pandas_normal.csv', index_col=2)\n",
    "print(df_state)"
   ]
  },
  {
   "cell_type": "code",
   "execution_count": null,
   "metadata": {},
   "outputs": [],
   "source": [
    "print(df_state.index.values)"
   ]
  },
  {
   "cell_type": "markdown",
   "metadata": {},
   "source": [
    "at으로 중복된 열 이름을 지정하면, numpy.ndarray로 여러 개의 값이 반환되어 옵니다."
   ]
  },
  {
   "cell_type": "code",
   "execution_count": null,
   "metadata": {},
   "outputs": [],
   "source": [
    "print(df_state.at['NY', 'age'])\n",
    "print(type(df_state.at['NY', 'age']))"
   ]
  },
  {
   "cell_type": "markdown",
   "metadata": {},
   "source": [
    "loc으로 중복된 행 명을 지정하면, pandas.DataFrame 혹은 pandas.Series가 반환됩니다."
   ]
  },
  {
   "cell_type": "code",
   "execution_count": null,
   "metadata": {},
   "outputs": [],
   "source": [
    "print(df_state.loc['NY', 'age'])\n",
    "print(type(df_state.loc['NY', 'age']))"
   ]
  },
  {
   "cell_type": "code",
   "execution_count": null,
   "metadata": {},
   "outputs": [],
   "source": [
    "print(df_state.loc['NY', ['age', 'point']])\n",
    "print(type(df_state.loc['NY', ['age', 'point']]))"
   ]
  },
  {
   "cell_type": "markdown",
   "metadata": {},
   "source": [
    "iat이나 iloc에서 행 번호으로 지정하는 경우는 행 번호가 중복되어 있어도 특히 문제가 없습니다."
   ]
  },
  {
   "cell_type": "code",
   "execution_count": null,
   "metadata": {},
   "outputs": [],
   "source": [
    "print(df_state.iat[0, 1])"
   ]
  },
  {
   "cell_type": "markdown",
   "metadata": {},
   "source": [
    "혼란의 근원이되므로, 강력한 이유가 없다면 지정할 때, 행 이름-열 이름은 임의의 값으로 하는 편이 좋습니다.\n",
    "\n",
    "행 이름 - 열 이름이 임의의 값으로 되어 있는지 아닌지(중복되는지 아닌지)는 index.is_unique, columns.is_unique로 확인할 수 있습니다."
   ]
  },
  {
   "cell_type": "code",
   "execution_count": null,
   "metadata": {},
   "outputs": [],
   "source": [
    "print(df_state.index.is_unique)"
   ]
  },
  {
   "cell_type": "code",
   "execution_count": null,
   "metadata": {},
   "outputs": [],
   "source": [
    "print(df_state.columns.is_unique)"
   ]
  },
  {
   "cell_type": "markdown",
   "metadata": {},
   "source": [
    "#### 번호와 라벨로 위치를 지정하기\n",
    "행 번호와 열 라벨과 같이 번호와 라벨의 조합으로 위치를 지정하고 싶은 경우, at 혹은 loc과 index나 columns를 사용하는 방법이 있습니다.\n",
    "\n",
    "index나 columns로 행 번호 혹은 열 변호로부터 그 행 라벨, 열 라벨을 획득할 수 있습니다."
   ]
  },
  {
   "cell_type": "code",
   "execution_count": null,
   "metadata": {},
   "outputs": [],
   "source": [
    "print(df)"
   ]
  },
  {
   "cell_type": "code",
   "execution_count": null,
   "metadata": {},
   "outputs": [],
   "source": [
    "print(df.index[2])"
   ]
  },
  {
   "cell_type": "code",
   "execution_count": null,
   "metadata": {},
   "outputs": [],
   "source": [
    "print(df.columns[1])"
   ]
  },
  {
   "cell_type": "markdown",
   "metadata": {},
   "source": [
    "이것과 at 혹은 loc를 사용하여, 번호와 라벨의 조합으로 위치를 지정할 수 있다."
   ]
  },
  {
   "cell_type": "code",
   "execution_count": null,
   "metadata": {},
   "outputs": [],
   "source": [
    "print(df.at[df.index[2], 'age'])"
   ]
  },
  {
   "cell_type": "code",
   "execution_count": null,
   "metadata": {},
   "outputs": [],
   "source": [
    "print(df.loc[['Alice', 'Dave'], df.columns[1]])"
   ]
  },
  {
   "cell_type": "markdown",
   "metadata": {},
   "source": [
    "위에서 서술했듯이, 슬라이스로 지정할 때, loc으로 행 라벨, 열 라벨을 사용하는 경우는 stop까지 포함되지만, iloc에서 행 번호, 열 번호를 사용하는 경우는 stop의 하나 앞까지가 됩니다.  \n",
    "stop의 값을 번호로부터 라벨으로 변환하는 경우 index[n-1]로 할 필요가 있으므로 주의하세요.\n",
    "\n",
    "아래와 같이 []나 loc, iloc을 반복해 작성할 수 있지만, 이것은 chained indexing이라는 것으로 SettingWithCopyWarning이라는 경고의 원인이 됩니다. \n",
    "\n",
    "또한, 다음에 설명하는 것과 같이, 하나의 행을 선택할 경우는 암묵적 형변환이 일어나는 경우가 있습니다.  \n",
    "앞에서 표시된 index나 column을 사용하여 하나의 at이나 loc으로 묶어서 사용하는 편이 좋습니다."
   ]
  },
  {
   "cell_type": "code",
   "execution_count": null,
   "metadata": {},
   "outputs": [],
   "source": [
    "print(df['age'][2])"
   ]
  },
  {
   "cell_type": "code",
   "execution_count": null,
   "metadata": {},
   "outputs": [],
   "source": [
    "print(df.age[2])"
   ]
  },
  {
   "cell_type": "code",
   "execution_count": null,
   "metadata": {},
   "outputs": [],
   "source": [
    "print(df.loc[['Alice', 'Dave']].iloc[:, 1])"
   ]
  },
  {
   "cell_type": "markdown",
   "metadata": {},
   "source": [
    "#### 행을 pandas.Series로 선택할 때의 묵시적 형변환\n",
    "loc이나 iloc으로 하나의 행을 pandas.Series로 선택해 획득할 경우, 데이터형 dtype으로 통일되므로, 원래의 pandas.DataFrame 행 데이터 형이 달라지는 묵시적 형 변환이 일어납니다.\n",
    "\n",
    "정수 int의 열와 부동 소수점 수 float을 가진 pandas.DataFrame을 통해 살펴보겠습니다."
   ]
  },
  {
   "cell_type": "code",
   "execution_count": null,
   "metadata": {},
   "outputs": [],
   "source": [
    "df_mix = pd.DataFrame({'col_int': [0, 1, 2], 'col_float': [0.1, 0.2, 0.3]}, index=['A', 'B', 'C'])\n",
    "print(df_mix)"
   ]
  },
  {
   "cell_type": "code",
   "execution_count": null,
   "metadata": {},
   "outputs": [],
   "source": [
    "print(df_mix.dtypes)"
   ]
  },
  {
   "cell_type": "markdown",
   "metadata": {},
   "source": [
    "loc이나 iloc으로 1행을 획득하면, float의 pandas.Series가 됩니다. int의 열에 있던 데이터는 float로 변환된다는 것입니다."
   ]
  },
  {
   "cell_type": "code",
   "execution_count": null,
   "metadata": {},
   "outputs": [],
   "source": [
    "print(df_mix.loc['B'])"
   ]
  },
  {
   "cell_type": "code",
   "execution_count": null,
   "metadata": {},
   "outputs": [],
   "source": [
    "print(type(df_mix.loc['B']))"
   ]
  },
  {
   "cell_type": "markdown",
   "metadata": {},
   "source": [
    "다음과 같이 []을 연속해서 작성하면, float로 변환된 pandas.Series의 요소가 획득되게 됩니다. 원래 데이터형과 다른 데이터형으로 변환된 데이터 값을 얻게 되므로 주의해야합니다."
   ]
  },
  {
   "cell_type": "code",
   "execution_count": null,
   "metadata": {},
   "outputs": [],
   "source": [
    "print(df_mix.loc['B']['col_int'])"
   ]
  },
  {
   "cell_type": "code",
   "execution_count": null,
   "metadata": {},
   "outputs": [],
   "source": [
    "print(type(df_mix.loc['B']['col_int']))"
   ]
  },
  {
   "cell_type": "markdown",
   "metadata": {},
   "source": [
    "따라서 이러한 현상을 피하려면, at이나 iat을 사용하는 편이 좋습니다. at이나 iat이면 원래 데이터형 그대로 값을 취득할 수 있습니다."
   ]
  },
  {
   "cell_type": "code",
   "execution_count": null,
   "metadata": {},
   "outputs": [],
   "source": [
    "print(df_mix.at['B', 'col_int'])"
   ]
  },
  {
   "cell_type": "code",
   "execution_count": null,
   "metadata": {},
   "outputs": [],
   "source": [
    "print(type(df_mix.at['B', 'col_int']))"
   ]
  },
  {
   "cell_type": "markdown",
   "metadata": {},
   "source": [
    "loc이나 iloc으로 1개의 리스트로 지정하는 경우, pandas.Series가 아닌 하나의 pandas.DataFrame행이 됩니다.  \n",
    "당연하지만, 이 경우는 원래 데이터형 dtype이 유지됩니다."
   ]
  },
  {
   "cell_type": "code",
   "execution_count": null,
   "metadata": {},
   "outputs": [],
   "source": [
    "print(df_mix.loc[['B']])"
   ]
  },
  {
   "cell_type": "code",
   "execution_count": null,
   "metadata": {},
   "outputs": [],
   "source": [
    "print(type(df_mix.loc[['B']]))"
   ]
  },
  {
   "cell_type": "code",
   "execution_count": null,
   "metadata": {},
   "outputs": [],
   "source": [
    "print(df_mix.loc[['B']].dtypes)"
   ]
  }
 ],
 "metadata": {
  "anaconda-cloud": {},
  "kernelspec": {
   "display_name": "Python 3.7.13 ('KBCpython')",
   "language": "python",
   "name": "python3"
  },
  "language_info": {
   "codemirror_mode": {
    "name": "ipython",
    "version": 3
   },
   "file_extension": ".py",
   "mimetype": "text/x-python",
   "name": "python",
   "nbconvert_exporter": "python",
   "pygments_lexer": "ipython3",
   "version": "3.7.13"
  },
  "vscode": {
   "interpreter": {
    "hash": "e6626e53992fefd2d23d0b118dc162ae70169b6a4148a15fdaeac1e464747513"
   }
  }
 },
 "nbformat": 4,
 "nbformat_minor": 0
}
