{
 "cells": [
  {
   "cell_type": "markdown",
   "metadata": {},
   "source": [
    "# Python을 이용한 파일 입출력\n",
    "\n",
    "![](https://i.imgur.com/rv8wZ7l.png)"
   ]
  },
  {
   "cell_type": "markdown",
   "metadata": {},
   "source": [
    "이 장은 다음과 같은 주제를 다룹니다:\n",
    "- `os` 라이브러리를 이용한 파일 입출력\n",
    "- `urllib` 라이브러리를 이용해서 웹에서 파일 다운로드 받기\n",
    "- 텍스트 파일에서 데이터 읽고 처리하기\n",
    "- CSV 파일로부터 데이터를 딕셔너리와 리스트 자료형으로 가져오기\n",
    "- 텍스트 파일로 데이터 저장하기"
   ]
  },
  {
   "cell_type": "markdown",
   "metadata": {},
   "source": [
    "## <span style='color:black; background-color:#fff5b1;'>OS 라이브러리를 이용한 파일 입출력</span>\n",
    "Python의 `os` 라이브러리의 함수들을 이용해서 컴퓨터의 OS 환경와 상호작용할 수 있습니다.  \n",
    "`os` 모듈은 생성, 삭제 및 수정과 같은 파일 및 디렉토리 작업을 위한 다양한 기능을 제공합니다.  \n",
    "라이브러리를 import하고 몇 가지 예제들을 풀어보도록 하겠습니다.  "
   ]
  },
  {
   "cell_type": "code",
   "execution_count": null,
   "metadata": {},
   "outputs": [],
   "source": [
    "import os"
   ]
  },
  {
   "cell_type": "markdown",
   "metadata": {},
   "source": [
    "`dir` 함수를 이용하여 명령어 리스트를 확인할 수 있습니다."
   ]
  },
  {
   "cell_type": "code",
   "execution_count": null,
   "metadata": {},
   "outputs": [],
   "source": [
    "print(dir(os))"
   ]
  },
  {
   "cell_type": "markdown",
   "metadata": {},
   "source": [
    "#### **현재 작업중인 디렉토리 위치**\n",
    "`os.getcwd` 함수를 통해서 현재 작업 폴더가 어딘지 확인할 수 있습니다."
   ]
  },
  {
   "cell_type": "code",
   "execution_count": null,
   "metadata": {},
   "outputs": [],
   "source": [
    "os.getcwd()"
   ]
  },
  {
   "cell_type": "markdown",
   "metadata": {},
   "source": [
    "#### **파일과 디렉토리 모두 출력**\n",
    "`os.listdir` 함수를 이용하면, 폴더 내 파일들의 목록을 구할 수 있습니다.<br>\n",
    "`os.listdir('path')` 형식으로 사용하며, 원하는 경로의 파일과 폴더를 모두 출력하고 싶을 때 사용합니다.  \n",
    "\n",
    "함수에 __절대경로__ 또는 __상대경로__ 를 인수로 넣어서 시작 폴더를 설정할 수 있습니다.  "
   ]
  },
  {
   "cell_type": "code",
   "execution_count": null,
   "metadata": {},
   "outputs": [],
   "source": [
    "help(os.listdir)"
   ]
  },
  {
   "cell_type": "code",
   "execution_count": null,
   "metadata": {},
   "outputs": [],
   "source": [
    "os.listdir('.') # 상대 경로"
   ]
  },
  {
   "cell_type": "code",
   "execution_count": null,
   "metadata": {},
   "outputs": [],
   "source": [
    "os.listdir(os.getcwd()) # 절대 경로"
   ]
  },
  {
   "cell_type": "markdown",
   "metadata": {},
   "source": [
    "#### **작업 디렉토리 변경**  \n",
    "`os.chdir('path')`로 작업 디렉토리를 변경할 수 있습니다.  \n",
    "현재 프로그램이 실행중인 위치를 변경하고자 할 때 사용합니다.  "
   ]
  },
  {
   "cell_type": "code",
   "execution_count": null,
   "metadata": {},
   "outputs": [],
   "source": [
    "os.chdir('.')"
   ]
  },
  {
   "cell_type": "markdown",
   "metadata": {},
   "source": [
    "#### **빈 디렉토리 생성**\n",
    "디렉토리를 생성하고자 할 때에는 `mkdir` 메서드를 사용합니다.  \n",
    "`os.mkdir(\"sub1\")` 처럼 사용할 수 있습니다."
   ]
  },
  {
   "cell_type": "markdown",
   "metadata": {},
   "source": [
    "#### **다수의 디렉토리를 재귀적으로 생성**  \n",
    "다양한 층을 이루고 있는 디렉토리 구조를 생성할 때는 `makedirs` 메서드를 사용합니다.  \n",
    "`os.makedirs(\"sub2/sub3\")` 처럼 사용하여 새로운 폴더를 생성할 수 있습니다.  "
   ]
  },
  {
   "cell_type": "code",
   "execution_count": null,
   "metadata": {},
   "outputs": [],
   "source": [
    "os.makedirs('./test/test2', exist_ok=True)"
   ]
  },
  {
   "cell_type": "markdown",
   "metadata": {},
   "source": [
    "`exist_ok`라는 파라미터는 해당 폴더가 만들어질 수 있는지의 여부를 확인하는 역할을 합니다.<br>\n",
    "자세한 내용은 다음 웹페이지를 통해 확인할 수 있습니다. [read the documentation](https://docs.python.org/3/library/os.html#os.makedirs).<br>"
   ]
  },
  {
   "cell_type": "markdown",
   "metadata": {},
   "source": [
    "#### **디렉토리 제거**\n",
    "디렉토리를 생성했다면, 제거할 수도 있어야 합니다.  \n",
    "디렉토리를 제거할 때는 `rmdir` 메서드를 사용하는데, `os.rmdir(\"sub1\")` 처럼 사용할 수 있습니다.\n",
    "\n",
    "아래 빈 셀에서 하나의 폴더를 생성하고, 제거해보세요."
   ]
  },
  {
   "cell_type": "code",
   "execution_count": null,
   "metadata": {},
   "outputs": [],
   "source": [
    "# 실습 코드 작성\n"
   ]
  },
  {
   "cell_type": "code",
   "execution_count": null,
   "metadata": {},
   "outputs": [],
   "source": [
    "# 실습 코드 작성"
   ]
  },
  {
   "cell_type": "markdown",
   "metadata": {},
   "source": [
    "#### **다수의 디렉토리를 재귀적으로 제거**\n",
    "다양한 층을 이루고 있는 디렉토리 구조를 삭제할 때에는 `removedirs` 메서드를 사용합니다.  \n",
    "`os.removedirs(\"sub2/sub3\")` 처럼 사용할 수 있습니다."
   ]
  },
  {
   "cell_type": "markdown",
   "metadata": {},
   "source": [
    "이제 위에서 생성한 test/test2 디렉토리를 제거하는 코드를 작성해보세요. \n",
    "좌측의 탐색기에서 확인해도 되지만, 이해하기 어렵다면 파일 탐색기에서 확인해보면 한 눈에 확인하고 이해할 수 있을 것입니다."
   ]
  },
  {
   "cell_type": "code",
   "execution_count": null,
   "metadata": {},
   "outputs": [],
   "source": [
    "# 실습 코드 작성\n",
    "os.removedirs('./test/test2')"
   ]
  },
  {
   "cell_type": "markdown",
   "metadata": {},
   "source": [
    "#### **파일 생성**\n",
    "Python에서 빈 파일을 생성할 수 있습니다.  \n",
    "`f = open('empty.txt','w')`   \n",
    "위 코드를 실행하면 파일이 생성되는 것을 알 수 있는데, 'w(write)' 모드로 열어달라는 의미입니다.  \n",
    "없다면, 새로 만들어주는 역할을 합니다."
   ]
  },
  {
   "cell_type": "code",
   "execution_count": null,
   "metadata": {},
   "outputs": [],
   "source": [
    "f = open('./data.txt','w')\n",
    "f.close()"
   ]
  },
  {
   "cell_type": "markdown",
   "metadata": {},
   "source": [
    "`f.close()`는 연 파일을 닫아주는 역할을 하는데, 파일을 닫지 않으면 컴퓨터의 어딘가에서는 파일이 계속해서 열려있기 때문에 꼭 파일을 열었다면 닫아줘야 합니다."
   ]
  },
  {
   "cell_type": "markdown",
   "metadata": {},
   "source": [
    "#### **현재 파일 혹은 디렉토리 위치 확인**\n",
    "\"sub1/sample.txt\" 위치의 파일 혹은 디렉토리가 있는지 확인할 때에는 다음과 같은 메서드를 사용합니다.  \n",
    "`os.path.isfile(\"sub1/sample.txt\")`   \n",
    "`os.path.exists('files')`  \n",
    " or  \n",
    "`os.path.isdir('sub1')`"
   ]
  },
  {
   "cell_type": "code",
   "execution_count": null,
   "metadata": {},
   "outputs": [],
   "source": [
    "os.path.isfile(\"data.txt\")"
   ]
  },
  {
   "cell_type": "code",
   "execution_count": null,
   "metadata": {},
   "outputs": [],
   "source": [
    "os.path.exists('./data.txt')"
   ]
  },
  {
   "cell_type": "code",
   "execution_count": null,
   "metadata": {},
   "outputs": [],
   "source": [
    "# 디렉토리 확인\n",
    "os.path.isdir('data')"
   ]
  },
  {
   "cell_type": "markdown",
   "metadata": {},
   "source": [
    "#### **파일명 변경**\n",
    "현재 존재하는 \"data.txt\" 파일을 \"info.txt\" 파일로 바꾸고 싶을 때에는 `rename` 메서드를 사용합니다.  \n",
    "`os.rename(\"data.txt\",\"info.txt\")`  \n",
    "만약 위에서 f.close()를 하지 않았다면, 다른 프로세스에서 사용중이라는 오류가 발생할 것입니다. 궁금하면 해보세요."
   ]
  },
  {
   "cell_type": "code",
   "execution_count": null,
   "metadata": {},
   "outputs": [],
   "source": [
    "os.rename(\"data.txt\",\"info.txt\")"
   ]
  },
  {
   "cell_type": "markdown",
   "metadata": {},
   "source": [
    "#### **파일 제거**\n",
    "파일을 제거하고 싶을 때에는 `remove` 메서드를 사용합니다.  \n",
    "`os.remove(\"sub1/sample.txt\")`"
   ]
  },
  {
   "cell_type": "code",
   "execution_count": null,
   "metadata": {},
   "outputs": [],
   "source": [
    "os.remove('./info.txt')"
   ]
  },
  {
   "cell_type": "markdown",
   "metadata": {},
   "source": [
    "### <span style='color:black; background-color:#f5f0ff;'>파일 및 디렉토리 관리(shutil)</span>\n",
    "`shutil`은 파일 및 디렉토리 작업을 수행하는데 사용할 모듈의 이름입니다.  \n",
    "해당 모듈을 사용하기 위해서는 다음과 같이 모듈을 `import` 하면 됩니다. "
   ]
  },
  {
   "cell_type": "code",
   "execution_count": null,
   "metadata": {},
   "outputs": [],
   "source": [
    "import shutil"
   ]
  },
  {
   "cell_type": "markdown",
   "metadata": {},
   "source": [
    "#### **파일 복사하기**\n",
    "파일 복사는 `copy()` 메서드를 이용하여 복사합니다.   \n",
    "복사 예제를 실행하기 위해, 다른 폴더와 파일을 한 번 생성하고 진행하겠습니다."
   ]
  },
  {
   "cell_type": "code",
   "execution_count": null,
   "metadata": {},
   "outputs": [],
   "source": [
    "os.makedirs('./shutiltest',exist_ok=True)"
   ]
  },
  {
   "cell_type": "code",
   "execution_count": null,
   "metadata": {},
   "outputs": [],
   "source": [
    "f = open('./shutiltest/shutil.txt','w')\n",
    "f.close()"
   ]
  },
  {
   "cell_type": "code",
   "execution_count": null,
   "metadata": {},
   "outputs": [],
   "source": [
    "shutil.copy('./shutiltest/shutil.txt','./shutiltest2.txt')"
   ]
  },
  {
   "cell_type": "markdown",
   "metadata": {},
   "source": [
    "만약 위치가 동일하다면, 에러를 발생시킵니다."
   ]
  },
  {
   "cell_type": "code",
   "execution_count": null,
   "metadata": {},
   "outputs": [],
   "source": [
    "#shutil.copy('./shutiltest/shutil.txt','./shutiltest')"
   ]
  },
  {
   "cell_type": "markdown",
   "metadata": {},
   "source": [
    "나중에 다시 실습해볼 때 원활하게 진행하기 위해, 앞서 생성한 파일과 디렉터리들을 삭제합니다."
   ]
  },
  {
   "cell_type": "code",
   "execution_count": null,
   "metadata": {},
   "outputs": [],
   "source": [
    "os.remove('./shutiltest/shutil.txt')"
   ]
  },
  {
   "cell_type": "code",
   "execution_count": null,
   "metadata": {},
   "outputs": [],
   "source": [
    "os.remove('./shutiltest2.txt')"
   ]
  },
  {
   "cell_type": "code",
   "execution_count": null,
   "metadata": {},
   "outputs": [],
   "source": [
    "os.removedirs('./shutiltest')"
   ]
  },
  {
   "cell_type": "markdown",
   "metadata": {},
   "source": [
    "#### **디렉토리 복사하기**\n",
    "아래 그림과 같이 파일 구조가 있을 때, Original 디렉토리와 안의 모든 내용을 새로운 디렉토리에 만들어서 넣고자 할 때에는 `copytree()` 메서드를 사용합니다.  \n",
    "<img src=\"./DirectoryCopy.png\">  \n",
    "`shutil.copytree('Original','Original-copy')`  \n",
    "\n",
    "아래 예제에서 실제로 실행해보도록 하겠습니다."
   ]
  },
  {
   "cell_type": "code",
   "execution_count": null,
   "metadata": {},
   "outputs": [],
   "source": [
    "shutil.copytree('./Original','Original-copy')"
   ]
  },
  {
   "cell_type": "markdown",
   "metadata": {},
   "source": [
    "위 코드를 실행하면, `Original-copy`라는 디렉토리가 생성되고, 원래 `Original` 안에 있던 파일들이 모두 복사된 것을 확인할 수 있습니다."
   ]
  },
  {
   "cell_type": "markdown",
   "metadata": {},
   "source": [
    "#### **파일 이동하기**\n",
    "파일 이동은 파일을 대상으로 잘라서 붙여넣는 작업을 수행하는 것과 같습니다.  \n",
    "파일을 원래 위치에서 제거함과 동시에 파일을 새 위치로 옮기는(잘라내기) 방법을 살펴보겠습니다.  \n",
    "이 작업은 다음과 같이 `move()` 함수를 이용해 간단히 수행됩니다.  "
   ]
  },
  {
   "cell_type": "code",
   "execution_count": null,
   "metadata": {},
   "outputs": [],
   "source": [
    "f=open('./Sample.txt','w')\n",
    "f.close()"
   ]
  },
  {
   "cell_type": "code",
   "execution_count": null,
   "metadata": {},
   "outputs": [],
   "source": [
    "# Sample.txt를 Original-copy 폴더로 이동\n",
    "shutil.move('./Sample.txt','Original-copy')"
   ]
  },
  {
   "cell_type": "markdown",
   "metadata": {},
   "source": [
    "그렇다면, 아래와 같이 Sample.txt를 새 파일인 New-txt로 옮기면 어떻게 될까요?  \n",
    "이 경우 Sample.txt와 동일한 내용의 New-Sample.txt가 만들어지고 Sample.txt는 더는 존재하지 않습니다."
   ]
  },
  {
   "cell_type": "code",
   "execution_count": null,
   "metadata": {},
   "outputs": [],
   "source": [
    "shutil.move('./Original-copy/Sample.txt','New-Sample.txt')"
   ]
  },
  {
   "cell_type": "markdown",
   "metadata": {},
   "source": [
    "#### **파일과 디렉터리의 이름 바꾸기**\n",
    "파일이나 디렉터리의 이름을 바꾸는 데도 `move()` 메서드를 사용할 수 있습니다.  \n",
    "그렇다면 위의 New-Sample.txt의 이름을 ChangeName-Sample.txt로 바꿔보세요."
   ]
  },
  {
   "cell_type": "code",
   "execution_count": null,
   "metadata": {},
   "outputs": [],
   "source": [
    "# 실습 코드 작성\n",
    "shutil.move('./New-Sample.txt','./ChangeName-Sample.txt')"
   ]
  },
  {
   "cell_type": "markdown",
   "metadata": {},
   "source": [
    "#### **파일과 디렉터리 삭제하기**\n",
    "디렉터리를 삭제하는 함수인 `rmtree()` 메서드를 사용합니다.  \n",
    "그리고 편의를 위해 다시 ChangeName-Sample.txt 파일을 Original-copy 폴더로 옮기고, 삭제하겠습니다.  \n",
    "휴지통에서 찾을 수 없을테니 주의하세요!!"
   ]
  },
  {
   "cell_type": "code",
   "execution_count": null,
   "metadata": {},
   "outputs": [],
   "source": [
    "shutil.move('./ChangeName-Sample.txt','./Original-copy')"
   ]
  },
  {
   "cell_type": "code",
   "execution_count": null,
   "metadata": {},
   "outputs": [],
   "source": [
    "# 디렉터리 및 하위 파일 삭제\n",
    "shutil.rmtree('./Original-Copy')"
   ]
  },
  {
   "cell_type": "markdown",
   "metadata": {},
   "source": [
    "* * *\n",
    "기초 설명은 이쯤 해두고, 예제 실습을 진행해보도록 하겠습니다.  \n",
    "본 예제에서는 간단하게 `data` 라는 폴더를 만들고 몇 가지 파일들을 다운받아보겠습니다.  \n",
    "(본 예제에서는 `data` 폴더 하나만을 생성하기 때문에, 위에서 언급한 `mkdir`로도 생성할 수 있습니다.)\n",
    "\n",
    "**하지만**, 경로 내에 같은 이름의 폴더가 존재할 경우의 예외처리를 위해 `makedirs` 메서드 내 `exist_ok` 옵션을 활용하여 작성하는 것이 좋습니다."
   ]
  },
  {
   "cell_type": "code",
   "execution_count": null,
   "metadata": {},
   "outputs": [],
   "source": [
    "# os.mkdir('./data')"
   ]
  },
  {
   "cell_type": "code",
   "execution_count": null,
   "metadata": {},
   "outputs": [],
   "source": [
    "os.makedirs('./data',exist_ok=True)"
   ]
  },
  {
   "cell_type": "code",
   "execution_count": null,
   "metadata": {},
   "outputs": [],
   "source": [
    "'data' in os.listdir('.')"
   ]
  },
  {
   "cell_type": "code",
   "execution_count": null,
   "metadata": {},
   "outputs": [],
   "source": [
    "os.listdir('./data')"
   ]
  },
  {
   "cell_type": "markdown",
   "metadata": {},
   "source": [
    "`data`폴더 내로 몇가지 파일들을 `urllib`라이브러리를 통해 다운로드 받아보도록 하겠습니다."
   ]
  },
  {
   "cell_type": "code",
   "execution_count": null,
   "metadata": {},
   "outputs": [],
   "source": [
    "url1 = 'https://gist.githubusercontent.com/aakashns/257f6e6c8719c17d0e498ea287d1a386/raw/7def9ef4234ddf0bc82f855ad67dac8b971852ef/loans1.txt'\n",
    "url2 = 'https://gist.githubusercontent.com/aakashns/257f6e6c8719c17d0e498ea287d1a386/raw/7def9ef4234ddf0bc82f855ad67dac8b971852ef/loans2.txt'\n",
    "url3 = 'https://gist.githubusercontent.com/aakashns/257f6e6c8719c17d0e498ea287d1a386/raw/7def9ef4234ddf0bc82f855ad67dac8b971852ef/loans3.txt'"
   ]
  },
  {
   "cell_type": "code",
   "execution_count": null,
   "metadata": {},
   "outputs": [],
   "source": [
    "import urllib.request"
   ]
  },
  {
   "cell_type": "code",
   "execution_count": null,
   "metadata": {},
   "outputs": [],
   "source": [
    "urllib.request.urlretrieve(url1, './data/loans1.txt')"
   ]
  },
  {
   "cell_type": "code",
   "execution_count": null,
   "metadata": {},
   "outputs": [],
   "source": [
    "urllib.request.urlretrieve(url2, './data/loans2.txt')"
   ]
  },
  {
   "cell_type": "code",
   "execution_count": null,
   "metadata": {},
   "outputs": [],
   "source": [
    "urllib.request.urlretrieve(url3, './data/loans3.txt')"
   ]
  },
  {
   "cell_type": "markdown",
   "metadata": {},
   "source": [
    "파일이 제대로 다운로드 되었는지 확인해보겠습니다."
   ]
  },
  {
   "cell_type": "code",
   "execution_count": null,
   "metadata": {},
   "outputs": [],
   "source": [
    "os.listdir('./data')"
   ]
  },
  {
   "cell_type": "markdown",
   "metadata": {},
   "source": [
    "### <span style='color:black; background-color:#dcffe4;'>파일로부터 읽어오기</span>\n",
    "\n",
    "파일의 내용을 읽기 위해서, 내장함수인 `open`을 사용해야합니다.<br>\n",
    "`open`함수는 파일 내용을 반환하고 내용에 사용할 수 있는 함수들을 제공합니다."
   ]
  },
  {
   "cell_type": "code",
   "execution_count": null,
   "metadata": {},
   "outputs": [],
   "source": [
    "file1 = open('./data/loans1.txt', mode='r')"
   ]
  },
  {
   "cell_type": "markdown",
   "metadata": {},
   "source": [
    "`open` 함수는 `mode` 파라미터는 파일에 접근하는 방식을 명시해줍니다.<Kbr>\n",
    "다음과 같은 선택지를 지원합니다:\n",
    "\n",
    "```\n",
    "    ========= ===============================================================\n",
    "    Character Meaning\n",
    "    --------- ---------------------------------------------------------------\n",
    "    'r'       읽기 모드 (default)\n",
    "    'w'       쓰기 모드, 기존 데이터 지우고 새로 쓰기\n",
    "    'x'       새로운 파일을 만들고 쓰기 모드로 열기\n",
    "    'a'       쓰기 모드, 기존 파일 뒤에 이어서 쓰기\n",
    "    'b'       이진(binary) 모드\n",
    "    't'       텍스트 모드 (default)\n",
    "    '+'       읽고 쓰기 모드 \n",
    "    ========= ===============================================================\n",
    "```\n",
    "\n"
   ]
  },
  {
   "cell_type": "code",
   "execution_count": null,
   "metadata": {},
   "outputs": [],
   "source": [
    "file1_contents = file1.read()"
   ]
  },
  {
   "cell_type": "code",
   "execution_count": null,
   "metadata": {},
   "outputs": [],
   "source": [
    "print(file1_contents)"
   ]
  },
  {
   "cell_type": "markdown",
   "metadata": {},
   "source": [
    "파일은 이자와 관련한 정보를 담고 있으며, CSV 형태로 구성되어 있습니다.\n",
    "\n",
    "파일의 가장 첫번째 줄에는, 각 열들이 어떤 값들을 의미하는지에 대한 정보가 기입되어 있습니다.<br>\n",
    "각각의 남아있는 줄들은 대출과 관련한 정보를 담고 있습니다.<br>\n",
    "따라서 두번째 줄 `10000,36,0.08,20000` 은 다음과 같은 내용을 담고 있습니다.\n",
    "\n",
    "* 대출금 :  `$10000`, \n",
    "* 대출기간 : `36` 개월, \n",
    "* 이자율 `8%`  \n",
    "* 계약금 : `$20000`\n",
    "\n",
    "__CSV는 데이터 분석과 시각화에서 사용하는 공시적인 자료 저장 형태입니다.__<br>\n",
    "대부분의 Python에서 다루는 파일들은 CSV 파일로 구성되어 있고 본 튜토리얼 전반에 걸쳐서도 CSV 파일을 다루도록 할 것입니다.<br>\n",
    "파일 작업을 마친후 해당 파일과의 연결을 종료하기 위해서는 `close`함수를 사용합니다.<br>\n",
    "<font color=red>그렇지 않으면 RAM안에 Python에서 열어둔 파일 데이터가 계속 남아있을 것입니다.</font>"
   ]
  },
  {
   "cell_type": "code",
   "execution_count": null,
   "metadata": {},
   "outputs": [],
   "source": [
    "file1.close()"
   ]
  },
  {
   "cell_type": "markdown",
   "metadata": {},
   "source": [
    "파일이 한번 닫히면 해당 변수를 통해 파일에 다시 접근할 수 없습니다."
   ]
  },
  {
   "cell_type": "code",
   "execution_count": null,
   "metadata": {},
   "outputs": [],
   "source": [
    "#file1.read()"
   ]
  },
  {
   "cell_type": "markdown",
   "metadata": {},
   "source": [
    "### <span style='color:black; background-color:#dcffe4;'>with 를 활용해 자동으로 파일 닫기</span>\n",
    "\n",
    "파일을 내용 처리를 마친후 자동으로 닫기 위해 `with` 문을 활용할 수도 있습니다."
   ]
  },
  {
   "cell_type": "code",
   "execution_count": null,
   "metadata": {},
   "outputs": [],
   "source": [
    "with open('./data/loans2.txt') as file2:\n",
    "    file2_contents = file2.read()\n",
    "    print(file2_contents)"
   ]
  },
  {
   "cell_type": "markdown",
   "metadata": {},
   "source": [
    " `with` 를 통해 파일을 열게 되면 해당 문을 탈출하면서, `.close`함수가 자동으로 호출됩니다.<br>\n",
    " 따라서 위와 같은 경우, 자동으로 `.close`함수가 호출되었으므로, `file2`에 다시 접근할 수 없습니다."
   ]
  },
  {
   "cell_type": "code",
   "execution_count": null,
   "metadata": {},
   "outputs": [],
   "source": [
    "try:\n",
    "    file2.read()\n",
    "except ValueError:\n",
    "    pass"
   ]
  },
  {
   "cell_type": "markdown",
   "metadata": {},
   "source": [
    "### <span style='color:black; background-color:#dcffe4;'>파일을 줄단위로 읽어오기</span>\n",
    "파일 객체는 `readlines` 함수를 통해 한 줄씩 읽어 올 수 있습니다."
   ]
  },
  {
   "cell_type": "code",
   "execution_count": null,
   "metadata": {},
   "outputs": [],
   "source": [
    "with open('./data/loans3.txt', 'r') as file3:\n",
    "    file3_lines = file3.readlines()"
   ]
  },
  {
   "cell_type": "code",
   "execution_count": null,
   "metadata": {},
   "outputs": [],
   "source": [
    "file3_lines"
   ]
  },
  {
   "cell_type": "markdown",
   "metadata": {},
   "source": [
    "### <span style='color:black; background-color:#dcffe4;'>파일로부터 읽은 데이터의 처리</span>\n",
    "\n",
    "\n",
    "파일에 저장된 데이터에 대한 연산을 수행하기 전에, 파일 내용을 Python 기본 자료형인 `sting`보다 큰 자료구조로 저장할 필요가 있습니다.<br>\n",
    "따라서 다음과 같은 작업을 통해 파일에 접근합니다:\n",
    "\n",
    "* 파일을 줄단위로 읽어오기\n",
    "* 첫번째 줄을 읽어와서 데이터 열의 이름을 가져오기\n",
    "* 남은 줄들은 float자료형으로 변환하여 나누어 저장하기\n",
    "* 데이터 열 이름을 기준으로 각각의 데이터들을 딕셔너리 자료형으로 저장하기\n",
    "* 딕셔너리 자료형들의 리스트를 만들어 모든 대출 데이터에 접근하기\n",
    "\n",
    "우리가 다양한 파일들에 대해 비슷한 작업을 수행할 것이기 때문에, `read_csv` 함수를 정의 하는 것이 좋습니다.<br>\n",
    "`read_csv`함수는 여러가지 함수를 순차적으로 작동시키는 함수로 만들어서 파일에 접근하기 용이하게 만들어 줍니다.<br><br>\n",
    "\n",
    "파일의 첫 번째 줄을 읽어오는 `parse_header`함수를 먼저 정의 하는 것으로 시작해보도록 하겠습니다."
   ]
  },
  {
   "cell_type": "code",
   "execution_count": null,
   "metadata": {},
   "outputs": [],
   "source": [
    "def parse_headers(header_line):\n",
    "    return header_line.strip().split(',')"
   ]
  },
  {
   "cell_type": "markdown",
   "metadata": {},
   "source": [
    "`strip` 는 `\\n`와 같이 뒤의 빈 공간들을 제거해주는 역할을 수행합니다.<br>\n",
    "`split` 함수는 주어진 인자를 기준으로 데이터들을 나누어 리스트 형태로 저장합니다. (위의 경우 `,`를 사용합니다)."
   ]
  },
  {
   "cell_type": "code",
   "execution_count": null,
   "metadata": {},
   "outputs": [],
   "source": [
    "file3_lines[0]"
   ]
  },
  {
   "cell_type": "code",
   "execution_count": null,
   "metadata": {},
   "outputs": [],
   "source": [
    "headers = parse_headers(file3_lines[0])"
   ]
  },
  {
   "cell_type": "code",
   "execution_count": null,
   "metadata": {},
   "outputs": [],
   "source": [
    "headers"
   ]
  },
  {
   "cell_type": "markdown",
   "metadata": {},
   "source": [
    "다음은 `parse_values` 함수를 만들어서 데이터를 가지고 있는 줄들을 받아 실수 리스트로 만들어 내는 작업을 수행합니다."
   ]
  },
  {
   "cell_type": "code",
   "execution_count": null,
   "metadata": {},
   "outputs": [],
   "source": [
    "def parse_values(data_line):\n",
    "    values = []\n",
    "    for item in data_line.strip().split(','):\n",
    "        values.append(float(item))\n",
    "    return values"
   ]
  },
  {
   "cell_type": "code",
   "execution_count": null,
   "metadata": {},
   "outputs": [],
   "source": [
    "file3_lines[1]"
   ]
  },
  {
   "cell_type": "code",
   "execution_count": null,
   "metadata": {},
   "outputs": [],
   "source": [
    "parse_values(file3_lines[1])"
   ]
  },
  {
   "cell_type": "markdown",
   "metadata": {},
   "source": [
    "기대했던 대로, 파일 내 데이터들이 읽어진 후 실수 형태로 저장되었습니다.<br>\n",
    "계약금 Column이 없는 다른 데이터를 읽어오는 작업을 해보겠습니다."
   ]
  },
  {
   "cell_type": "code",
   "execution_count": null,
   "metadata": {},
   "outputs": [],
   "source": [
    "file3_lines[2]"
   ]
  },
  {
   "cell_type": "code",
   "execution_count": null,
   "metadata": {},
   "outputs": [],
   "source": [
    "try:\n",
    "    parse_values(file3_lines[2])\n",
    "except ValueError as v:\n",
    "    print(v)"
   ]
  },
  {
   "cell_type": "markdown",
   "metadata": {},
   "source": [
    "위 예제 코드는 `ValueError` 를 야기합니다.<br>\n",
    "왜냐하면 비어있는 값 `''` 이 실수형태로 변환될 수 없기 때문입니다.<br>\n",
    "이러한 문제을 __edge case__ 라고 하는데 이를 해결하고자 `parse_values` 를 수정할 필요가 있습니다."
   ]
  },
  {
   "cell_type": "code",
   "execution_count": null,
   "metadata": {},
   "outputs": [],
   "source": [
    "def parse_values(data_line):\n",
    "    values = []\n",
    "    for item in data_line.strip().split(','):\n",
    "        if item == '':\n",
    "            values.append(0.0)\n",
    "        else:\n",
    "            values.append(float(item))\n",
    "    return values"
   ]
  },
  {
   "cell_type": "code",
   "execution_count": null,
   "metadata": {},
   "outputs": [],
   "source": [
    "file3_lines[2]"
   ]
  },
  {
   "cell_type": "code",
   "execution_count": null,
   "metadata": {},
   "outputs": [],
   "source": [
    "parse_values(file3_lines[2])"
   ]
  },
  {
   "cell_type": "markdown",
   "metadata": {},
   "source": [
    "다음으로는 열 정보를 가진 첫줄의 리스트와 데이터 정보를 가진 나머지 줄의 리스트를 입력받아 하나의 Dictionary로 만들어주는 `create_item_dict`를 만들어야 합니다.\n"
   ]
  },
  {
   "cell_type": "code",
   "execution_count": null,
   "metadata": {},
   "outputs": [],
   "source": [
    "def create_item_dict(values, headers):\n",
    "    result = {}\n",
    "    for value, header in zip(values, headers):\n",
    "        result[header] = value\n",
    "    return result"
   ]
  },
  {
   "cell_type": "markdown",
   "metadata": {},
   "source": [
    "`zip` 은 파이썬의 내장 함수입니다. <br>\n",
    "이에 대한 자세한 내용은 우측 링크를 확인하십시오. [read the documentation](https://docs.python.org/3.3/library/functions.html#zip)."
   ]
  },
  {
   "cell_type": "code",
   "execution_count": null,
   "metadata": {},
   "outputs": [],
   "source": [
    "for item in zip([1,2,3], ['a', 'b', 'c']):\n",
    "    print(item)"
   ]
  },
  {
   "cell_type": "markdown",
   "metadata": {},
   "source": [
    "`create_item_dict`를 몇 번 더 테스트 해보도록 하겠습니다."
   ]
  },
  {
   "cell_type": "code",
   "execution_count": null,
   "metadata": {},
   "outputs": [],
   "source": [
    "file3_lines[1]"
   ]
  },
  {
   "cell_type": "code",
   "execution_count": null,
   "metadata": {},
   "outputs": [],
   "source": [
    "values1 = parse_values(file3_lines[1])\n",
    "create_item_dict(values1, headers)"
   ]
  },
  {
   "cell_type": "code",
   "execution_count": null,
   "metadata": {},
   "outputs": [],
   "source": [
    "file3_lines[2]"
   ]
  },
  {
   "cell_type": "code",
   "execution_count": null,
   "metadata": {},
   "outputs": [],
   "source": [
    "values2 = parse_values(file3_lines[2])\n",
    "create_item_dict(values2, headers)"
   ]
  },
  {
   "cell_type": "markdown",
   "metadata": {},
   "source": [
    "기대했던 대로, 열정보와 값정보가 쌍으로 이어진 형태로 파일의 데이터가 저장되었습니다.<br>\n",
    "\n",
    "이제 우리는 이 데이터 추출 함수들을 모아서 `read_csv` 함수를 만들면 됩니다!"
   ]
  },
  {
   "cell_type": "code",
   "execution_count": null,
   "metadata": {},
   "outputs": [],
   "source": [
    "def read_csv(path):\n",
    "    result = []\n",
    "    # Open the file in read mode\n",
    "    with open(path, 'r') as f:\n",
    "        # Get a list of lines\n",
    "        lines = f.readlines()\n",
    "        # Parse the header\n",
    "        headers = parse_headers(lines[0])\n",
    "        # Loop over the remaining lines\n",
    "        for data_line in lines[1:]:\n",
    "            # Parse the values\n",
    "            values = parse_values(data_line)\n",
    "            # Create a dictionary using values & headers\n",
    "            item_dict = create_item_dict(values, headers)\n",
    "            # Add the dictionary to the result\n",
    "            result.append(item_dict)\n",
    "    return result"
   ]
  },
  {
   "cell_type": "markdown",
   "metadata": {},
   "source": [
    "만들어진 함수를 사용해보도록 하겠습니다."
   ]
  },
  {
   "cell_type": "code",
   "execution_count": null,
   "metadata": {},
   "outputs": [],
   "source": [
    "with open('./data/loans2.txt') as file2:\n",
    "    print(file2.read())"
   ]
  },
  {
   "cell_type": "code",
   "execution_count": null,
   "metadata": {},
   "outputs": [],
   "source": [
    "read_csv('./data/loans2.txt')"
   ]
  },
  {
   "cell_type": "markdown",
   "metadata": {},
   "source": [
    "의도했던대로 파일을 읽어와서 각 데이터들을 딕셔너리에 저장하는 것을 확인할 수 있습니다.<br> \n",
    "`read_csv` 는 이제 행과 열의 개수에 구애받지 않고 어떠한 CSV파일이라도 읽을 수 있는 함수가 되었습니다."
   ]
  },
  {
   "cell_type": "code",
   "execution_count": null,
   "metadata": {},
   "outputs": [],
   "source": [
    "def parse_headers(header_line):\n",
    "    return header_line.strip().split(',')\n",
    "\n",
    "def parse_values(data_line):\n",
    "    values = []\n",
    "    for item in data_line.strip().split(','):\n",
    "        if item == '':\n",
    "            values.append(0.0)\n",
    "        else:\n",
    "            values.append(float(item))\n",
    "    return values\n",
    "\n",
    "def create_item_dict(values, headers):\n",
    "    result = {}\n",
    "    for value, header in zip(values, headers):\n",
    "        result[header] = value\n",
    "    return result\n",
    "\n",
    "def read_csv(path):\n",
    "    result = []\n",
    "    # Open the file in read mode\n",
    "    with open(path, 'r') as f:\n",
    "        # Get a list of lines\n",
    "        lines = f.readlines()\n",
    "        # Parse the header\n",
    "        headers = parse_headers(lines[0])\n",
    "        # Loop over the remaining lines\n",
    "        for data_line in lines[1:]:\n",
    "            # Parse the values\n",
    "            values = parse_values(data_line)\n",
    "            # Create a dictionary using values & headers\n",
    "            item_dict = create_item_dict(values, headers)\n",
    "            # Add the dictionary to the result\n",
    "            result.append(item_dict)\n",
    "    return result"
   ]
  },
  {
   "cell_type": "markdown",
   "metadata": {},
   "source": [
    "**작고, 일반화 가능하고, 재사용가능한 함수**는 언제든지 만들어 두는 것이 좋습니다.<br>\n",
    "만들어진 함수들은 미래의 학우의 노력과 시간을 대폭 줄여줄 수 있을 것 입니다.<br>\n",
    "아래는 이전 강의에서 만들었던 함수들입니다."
   ]
  },
  {
   "cell_type": "code",
   "execution_count": null,
   "metadata": {},
   "outputs": [],
   "source": [
    "import math\n",
    "\n",
    "def loan_emi(amount, duration, rate, down_payment=0):\n",
    "    \"\"\"Calculates the equal montly installment (EMI) for a loan.\n",
    "    \n",
    "    Arguments:\n",
    "        amount - Total amount to be spent (loan + down payment)\n",
    "        duration - Duration of the loan (in months)\n",
    "        rate - Rate of interest (monthly)\n",
    "        down_payment (optional) - Optional intial payment (deducted from amount)\n",
    "    \"\"\"\n",
    "    loan_amount = amount - down_payment\n",
    "    try:\n",
    "        emi = loan_amount * rate * ((1+rate)**duration) / (((1+rate)**duration)-1)\n",
    "    except ZeroDivisionError:\n",
    "        emi = loan_amount / duration\n",
    "    emi = math.ceil(emi)\n",
    "    return emi"
   ]
  },
  {
   "cell_type": "markdown",
   "metadata": {},
   "source": [
    "각각의 대출 정보들에 대한 emi를 구하기 위해 이 함수를 사용할 수 있습니다.\n"
   ]
  },
  {
   "cell_type": "code",
   "execution_count": null,
   "metadata": {},
   "outputs": [],
   "source": [
    "loans2 = read_csv('./data/loans2.txt')"
   ]
  },
  {
   "cell_type": "code",
   "execution_count": null,
   "metadata": {},
   "outputs": [],
   "source": [
    "loans2"
   ]
  },
  {
   "cell_type": "code",
   "execution_count": null,
   "metadata": {},
   "outputs": [],
   "source": [
    "for loan in loans2:\n",
    "    loan['emi'] = loan_emi(loan['amount'], \n",
    "                           loan['duration'], \n",
    "                           loan['rate']/12, # the CSV contains yearly rates\n",
    "                           loan['down_payment'])"
   ]
  },
  {
   "cell_type": "code",
   "execution_count": null,
   "metadata": {},
   "outputs": [],
   "source": [
    "loans2"
   ]
  },
  {
   "cell_type": "markdown",
   "metadata": {},
   "source": [
    "이제 각각의 대출정보에는 대출에 대한 EMI정보를 가지고 있는 `emi`라는 새로운 열이 존재하게 됩니다.<br>\n",
    "앞으로 위의 함수를 이용해 추가적으로 모든 대출 정보를 가진 파일에 대한 `emi`를 만들어서 추가할 수 있습니다."
   ]
  },
  {
   "cell_type": "code",
   "execution_count": null,
   "metadata": {},
   "outputs": [],
   "source": [
    "def compute_emis(loans):\n",
    "    for loan in loans:\n",
    "        loan['emi'] = loan_emi(\n",
    "            loan['amount'], \n",
    "            loan['duration'], \n",
    "            loan['rate']/12, # the CSV contains yearly rates\n",
    "            loan['down_payment'])"
   ]
  },
  {
   "cell_type": "markdown",
   "metadata": {},
   "source": [
    "### <span style='color:black; background-color:#dcffe4;'>파일에 쓰기</span>\n",
    "파일 내 데이터에 접근하고 몇가지 처리를 해보는 과정을 해보았습니다.<br>\n",
    "파일에 대한 처리가 완료되었다면 이제 다시 CSV 파일로 저장해주는 것이 좋습니다.<br>\n",
    "우리는 `w` 모드로 파일을 `open`하여 파일에 데이터를 쓸 수 있습니다.<br>\n"
   ]
  },
  {
   "cell_type": "code",
   "execution_count": null,
   "metadata": {},
   "outputs": [],
   "source": [
    "loans2 = read_csv('./data/loans2.txt')"
   ]
  },
  {
   "cell_type": "code",
   "execution_count": null,
   "metadata": {},
   "outputs": [],
   "source": [
    "compute_emis(loans2)"
   ]
  },
  {
   "cell_type": "code",
   "execution_count": null,
   "metadata": {},
   "outputs": [],
   "source": [
    "loans2"
   ]
  },
  {
   "cell_type": "code",
   "execution_count": null,
   "metadata": {},
   "outputs": [],
   "source": [
    "with open('./data/emis2.txt', 'w') as f:\n",
    "    for loan in loans2:\n",
    "        f.write('{},{},{},{},{}\\n'.format(\n",
    "            loan['amount'], \n",
    "            loan['duration'], \n",
    "            loan['rate'], \n",
    "            loan['down_payment'], \n",
    "            loan['emi']))"
   ]
  },
  {
   "cell_type": "markdown",
   "metadata": {},
   "source": [
    "파일이 잘 만들어졌는지 확인해보겠습니다."
   ]
  },
  {
   "cell_type": "code",
   "execution_count": null,
   "metadata": {},
   "outputs": [],
   "source": [
    "os.listdir('data')"
   ]
  },
  {
   "cell_type": "code",
   "execution_count": null,
   "metadata": {},
   "outputs": [],
   "source": [
    "with open('./data/emis2.txt', 'r') as f:\n",
    "    print(f.read())"
   ]
  },
  {
   "cell_type": "markdown",
   "metadata": {},
   "source": [
    "대출정보가 포함되어있는 딕셔너리로 구성된 리스트데이터를 CSV파일로 저장하는 기능을 하는 `write_csv` 함수를 만들어보도록 하겠습니다.<br>\n",
    "Column 정보도 파일에 함께 넣어보도록 하겠습니다."
   ]
  },
  {
   "cell_type": "code",
   "execution_count": null,
   "metadata": {},
   "outputs": [],
   "source": [
    "def write_csv(items, path):\n",
    "    # Open the file in write mode\n",
    "    with open(path, 'w') as f:\n",
    "        # Return if there's nothing to write\n",
    "        if len(items) == 0:\n",
    "            return\n",
    "        \n",
    "        # Write the headers in the first line\n",
    "        headers = list(items[0].keys())\n",
    "        f.write(','.join(headers) + '\\n')\n",
    "        \n",
    "        # Write one item per line\n",
    "        for item in items:\n",
    "            values = []\n",
    "            for header in headers:\n",
    "                values.append(str(item.get(header, \"\")))\n",
    "            f.write(','.join(values) + \"\\n\")"
   ]
  },
  {
   "cell_type": "markdown",
   "metadata": {},
   "source": [
    "함수의 동작을 이해할 수 있겠습니까?<br>\n",
    "아직 잘 모르겠다면 각각의 기능 단위로 출력을 확인하면서 만들어보십시오. "
   ]
  },
  {
   "cell_type": "code",
   "execution_count": null,
   "metadata": {},
   "outputs": [],
   "source": [
    "loans3 = read_csv('./data/loans3.txt')"
   ]
  },
  {
   "cell_type": "code",
   "execution_count": null,
   "metadata": {},
   "outputs": [],
   "source": [
    "compute_emis(loans3)"
   ]
  },
  {
   "cell_type": "code",
   "execution_count": null,
   "metadata": {},
   "outputs": [],
   "source": [
    "write_csv(loans3, './data/emis3.txt')"
   ]
  },
  {
   "cell_type": "code",
   "execution_count": null,
   "metadata": {},
   "outputs": [],
   "source": [
    "with open('./data/emis3.txt', 'r') as f:\n",
    "    print(f.read())"
   ]
  },
  {
   "cell_type": "markdown",
   "metadata": {},
   "source": [
    "이제 우리는 단지 4줄만 코딩을 해도 <br>\n",
    "- 파일을 다운로드하고 <br>\n",
    "- EMIs를 계산하고\n",
    "- 데이터를 다시 파일로 만들어 낼 수 있습니다."
   ]
  },
  {
   "cell_type": "code",
   "execution_count": null,
   "metadata": {},
   "outputs": [],
   "source": [
    "for i in range(1,4):\n",
    "    loans = read_csv('./data/loans{}.txt'.format(i))\n",
    "    compute_emis(loans)\n",
    "    write_csv(loans, './data/emis{}.txt'.format(i))"
   ]
  },
  {
   "cell_type": "code",
   "execution_count": null,
   "metadata": {},
   "outputs": [],
   "source": [
    "os.listdir('./data')"
   ]
  },
  {
   "cell_type": "markdown",
   "metadata": {},
   "source": [
    "## Summary and Further Reading\n",
    "\n",
    "본 튜토리얼에서는 다음 주제를 다뤘습니다.:\n",
    "\n",
    "- `os` 라이브러리를 이용한 파일 입출력<br>\n",
    "- `urllib` 라이브러리를 이용해서 웹에서 파일 다운로드 받기<br>\n",
    "- 내장함수 `open`를 사용해서 파일 읽기<br>\n",
    "- `with`문을 이용해서 파일을 자동으로 닫기<br>\n",
    "- 텍스트 파일에서 `readlines`를 이용해 데이터 읽고 처리하기<br>\n",
    "- CSV 파일로부터 데이터를 딕셔너리와 리스트 자료형으로 가져오기<br>\n",
    "- 텍스트 파일로 데이터 저장하기<br>"
   ]
  }
 ],
 "metadata": {
  "kernelspec": {
   "display_name": "Python 3.9.12 ('base')",
   "language": "python",
   "name": "python3"
  },
  "language_info": {
   "codemirror_mode": {
    "name": "ipython",
    "version": 3
   },
   "file_extension": ".py",
   "mimetype": "text/x-python",
   "name": "python",
   "nbconvert_exporter": "python",
   "pygments_lexer": "ipython3",
   "version": "3.9.12"
  },
  "vscode": {
   "interpreter": {
    "hash": "5a356e9517e14dc2ad259a2123438b15b3972e1e2b3dbfde245c14a47e88b3a8"
   }
  }
 },
 "nbformat": 4,
 "nbformat_minor": 4
}
